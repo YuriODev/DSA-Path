{
  "cells": [
    {
      "cell_type": "markdown",
      "id": "title",
      "metadata": {},
      "source": [
        "# Day 2: Algorithm Complexity, Execution Time, & Spatial Complexity – Extended Edition 🚀"
      ]
    },
    {
      "cell_type": "markdown",
      "id": "toc-header",
      "metadata": {},
      "source": [
        "## Table of Contents 📖"
      ]
    },
    {
      "cell_type": "markdown",
      "id": "toc-list",
      "metadata": {},
      "source": [
        "- [Objectives](#objectives)\n",
        "- [Algorithm Complexity](#algorithm-complexity)\n",
        "  - [Asymptotic Notation and Growth Rates](#asymptotic-notation-and-growth-rates)\n",
        "  - [Big O Notation in Practice](#big-o-notation-in-practice)\n",
        "  - [Key Point](#key-point)\n",
        "  - [Real-World Examples & Quiz Questions](#real-world-examples-quiz-questions)\n",
        "    - [Example 1: Cupboard Notebook Run](#example-1-cupboard-notebook-run)\n",
        "    - [Example 2: Elevator Meetings](#example-2-elevator-meetings)\n",
        "    - [Example 3: Brute Force Conversion](#example-3-brute-force-conversion)\n",
        "    - [Example 4: Simple Python Programme Complexity](#example-4-simple-python-programme-complexity)\n",
        "    - [Example 5: Clothes Selection](#example-5-clothes-selection)\n",
        "    - [Example 6: Binary Search](#example-6-binary-search)\n",
        "  - [Comparing Complexities](#comparing-complexities)\n",
        "  - [Key Takeaways](#key-takeaways)\n",
        "- [Estimating Execution Time](#estimating-execution-time)\n",
        "  - [Measuring with the `time` Module](#measuring-with-the-time-module)\n",
        "  - [Using the `timeit` Module](#using-the-timeit-module)\n",
        "  - [Practical Benchmarking Considerations](#practical-benchmarking-considerations)\n",
        "  - [Profiling: Beyond Timeit](#profiling-beyond-timeit)\n",
        "- [Spatial Complexity](#spatial-complexity)\n",
        "  - [Memory Usage and Trade-Offs](#memory-usage-and-trade-offs)\n",
        "  - [Detailed Example: DNA Sequence Analysis](#detailed-example-dna-sequence-analysis)\n",
        "  - [Comparing Data Structures](#comparing-data-structures)\n",
        "- [Solving Algorithmic Problems](#solving-algorithmic-problems)\n",
        "  - [A Systematic Approach to Problem Solving](#a-systematic-approach-to-problem-solving)\n",
        "  - [Tips, Strategies, and Common Pitfalls](#tips-strategies-and-common-pitfalls)\n",
        "- [Input/Output Optimisation](#inputoutput-optimisation)\n",
        "- [How to Test Your Program](#how-to-test-your-program)\n",
        "  - [Unit Testing](#unit-testing)\n",
        "- [Reflection Questions](#reflection-questions)\n",
        "- [Additional Resources](#additional-resources)"
      ]
    },
    {
      "cell_type": "markdown",
      "id": "objectives-header",
      "metadata": {},
      "source": [
        "## Objectives"
      ]
    },
    {
      "cell_type": "markdown",
      "id": "objectives-list",
      "metadata": {},
      "source": [
        "- **Master Asymptotic Analysis:** Deepen your understanding of how algorithm efficiency is measured, and explore Big O, Θ (Theta), and Ω (Omega) notations. 🤓\n",
        "- **Compare Growth Rates:** Learn to contrast different complexities (O(1), O(n), O(n²), O(2^n), O(n³)) through concrete examples and visualisations. 📈\n",
        "- **Measure Execution Time:** Acquire practical skills using Python’s `time` and `timeit` modules, and understand profiling for performance optimisation. ⏱️\n",
        "- **Analyse Spatial Complexity:** Understand memory consumption, evaluate trade-offs between time and space, and learn strategies for memory optimisation. 💾\n",
        "- **Develop Problem-Solving Strategies:** Adopt a systematic approach to designing, testing, and refining algorithmic solutions while avoiding common pitfalls. 🔍"
      ]
    },
    {
      "cell_type": "markdown",
      "id": "algocomplexity-header",
      "metadata": {},
      "source": [
        "## Algorithm Complexity"
      ]
    },
    {
      "cell_type": "markdown",
      "id": "asymptotic-text",
      "metadata": {},
      "source": [
        "### 1. Asymptotic Notation and Growth Rates 📈\n"
      ]
    },
    {
      "cell_type": "markdown",
      "id": "b705bc08",
      "metadata": {},
      "source": [
        "\n",
        "From the previous lessons, you’ve learned that different algorithms can have different running times. You might wonder why we need to know this. After all, “everyone calculates algorithm complexity” might sound like just another topic from the realm of abstract and convoluted programming stuff. But don’t jump to conclusions! Repeat this mantra a few times to absorb its essence:\n",
        "\n",
        "```\n",
        "O(n) — linear dependence\n",
        "O(log n) — logarithmic dependence\n",
        "```\n",
        "\n",
        "Look closely—the meaning becomes clear: it’s about how the algorithm’s running time changes as the input size grows, and whether it can handle that growth at all. In theory, this is called asymptotics and is written as `O(n)` (read as “big O of n”). Sometimes people say **Big O notation**.\n",
        "\n",
        "When you design an algorithm, knowing how its running time scales is essential—especially if `n` becomes very large. 😊"
      ]
    },
    {
      "cell_type": "markdown",
      "id": "e632ab03",
      "metadata": {},
      "source": [
        "### 2. Big O Notation in Practice 🤔"
      ]
    },
    {
      "cell_type": "markdown",
      "id": "big-o-notation",
      "metadata": {},
      "source": [
        "\n",
        "\n",
        "Such abbreviations are referred to as **O-notation** (from the English “Big O notation”).\n",
        "\n",
        "In **O-notation**, we do not account for constants and coefficients. For instance, if an algorithm performs $5 \\times n + 3$ operations, its complexity is $O(n)$. In asymptotic analysis, constant values become negligible as $n$ grows. We cannot say that constants are entirely unimportant—after all, in practical scenarios, they can affect performance for smaller inputs. However, they **do not** fundamentally alter whether the algorithm remains feasible for large $n$.\n",
        "\n",
        "To illustrate, consider the running times of several algorithms:\n",
        "\n",
        "1. **First algorithm:** performs $2n + 3$ operations.  \n",
        "2. **Second algorithm:** performs $3n$ operations.  \n",
        "3. **Third algorithm:** performs $\\log(n+2)$ operations.  \n",
        "4. **Fourth algorithm:** performs $\\log(n+1)+1$ operations.\n",
        "\n",
        "If you plot the number of operations against $n$, you will see that, as $n$ becomes very large, these expressions differ only by their constant factors or linear coefficients—yet they all grow **linearly** with $n$. In Big O notation, each one is described as $O(n)$."
      ]
    },
    {
      "cell_type": "markdown",
      "id": "key-point",
      "metadata": {},
      "source": [
        "### 3. Key Point 🧠\n"
      ]
    },
    {
      "cell_type": "markdown",
      "id": "835f6214",
      "metadata": {},
      "source": [
        "\n",
        "Although constants and lower-order terms can matter for small inputs, they **cannot** transform a linear algorithm into a quadratic or exponential one, and vice versa. That is why Big O notation focuses on the **dominant term** as $n$ tends to infinity, giving us a clear picture of how an algorithm’s complexity scales in the long run."
      ]
    },
    {
      "cell_type": "code",
      "execution_count": null,
      "id": "big-o-graph",
      "metadata": {},
      "outputs": [],
      "source": [
        "import numpy as np\n",
        "import matplotlib.pyplot as plt\n",
        "\n",
        "# Create a range of input sizes\n",
        "n = np.linspace(1, 5, 5)\n",
        "\n",
        "# Define several example functions\n",
        "f1 = 2*n + 3           # First algorithm: 2n + 3\n",
        "f2 = 3*n               # Second algorithm: 3n\n",
        "f3 = np.log(n + 2)     # Third algorithm: log(n+2)\n",
        "f4 = np.log(n + 1) + 1 # Fourth algorithm: log(n+1) + 1\n",
        "\n",
        "plt.figure(figsize=(10, 6))\n",
        "plt.plot(n, f1, label='2n + 3', linestyle='-')\n",
        "plt.plot(n, f2, label='3n', linestyle='--')\n",
        "plt.plot(n, f3, label='log(n+2)', linestyle='-.')\n",
        "plt.plot(n, f4, label='log(n+1)+1', linestyle=':')\n",
        "plt.xlabel('Input Size $n$')\n",
        "plt.ylabel('Number of Operations')\n",
        "plt.title('Number of Operations vs. Input Size')\n",
        "plt.legend()\n",
        "plt.grid(True)\n",
        "plt.show()"
      ]
    },
    {
      "cell_type": "markdown",
      "id": "c980409e",
      "metadata": {},
      "source": [
        "The first and second algorithms are similar to each other, just as the third and fourth algorithms resemble one another. However, the first two differ significantly from the last two. This happens because, for large $n$, the **type** of dependence (i.e., linear, logarithmic, quadratic, etc.) is more important than any specific coefficients or additional terms. That is why, in Big O notation, we focus solely on the **form** of the dependence.\n",
        "\n",
        "Aside from linear and logarithmic complexity, you will often encounter other common forms when analysing an algorithm’s running time:\n",
        "\n",
        "- **Quadratic dependence** — $O(n^2)$  \n",
        "- **Cubic dependence** — $O(n^3)$  \n",
        "- **Exponential dependence** — $O(2^n)$  \n",
        "- **Factorial dependence** — $O(n!)$\n",
        "\n",
        "Sometimes, an algorithm’s running time does not depend on the size of the input data at all; in other words, it always performs a fixed number of operations. In Big O notation, we call this **$O(1)$**, or **constant time**."
      ]
    },
    {
      "cell_type": "markdown",
      "id": "additional-notations",
      "metadata": {},
      "source": [
        "### 4. Additional Notations: Θ and Ω 🤓\n"
      ]
    },
    {
      "cell_type": "markdown",
      "id": "5439c9b8",
      "metadata": {},
      "source": [
        "\n",
        "- **Θ (Theta) Notation:** Represents a tight bound on the algorithm's running time. If an algorithm’s runtime is Θ(f(n)), its growth rate is exactly f(n) for large n.\n",
        "- **Ω (Omega) Notation:** Provides a lower bound on the runtime. If an algorithm is Ω(f(n)), it takes at least f(n) time to run.\n",
        "\n",
        "These notations help further refine the analysis by distinguishing between best-case, average-case, and worst-case scenarios. 🤓"
      ]
    },
    {
      "cell_type": "markdown",
      "id": "real-world-examples-header",
      "metadata": {},
      "source": [
        "### 5. Real-World Examples & Quiz Questions 🧐"
      ]
    },
    {
      "cell_type": "markdown",
      "id": "f4f298ad",
      "metadata": {},
      "source": [
        "#### **Example 1: Cupboard Notebook Run 📚** "
      ]
    },
    {
      "cell_type": "markdown",
      "id": "example1",
      "metadata": {},
      "source": [
        "In the hospital George usually visits, there is Dr James Thompson on duty. He is not especially sociable, spending all his time in his office, with the door only slightly ajar.\n",
        "\n",
        "We need to determine how many times per day the door to Dr Thompson's office is opened, under the assumption that each patient enters, leaves, and closes the door behind them:\n",
        "\n",
        "- Each visitor opens the door twice: once upon entering and once upon leaving.  \n",
        "- If there are $n$ visitors, then naively you might think the door is opened $2n$ times.  \n",
        "- However, because the door was already ajar at the start of the day, the very first opening does not require a \"full\" door-opening motion. Thus, the total number of **complete** openings is $2n - 1$.\n",
        "\n",
        "Since $(2n - 1)$ grows in direct proportion to $n$, we say the number of door openings is **$O(n)$**. The important point is that subtracting a constant (in this case, 1) does not alter the fundamental growth rate of the function."
      ]
    },
    {
      "cell_type": "markdown",
      "id": "example2",
      "metadata": {},
      "source": [
        "#### **Example 2: Elevator Meetings** 🏢\n"
      ]
    },
    {
      "cell_type": "markdown",
      "id": "86a1d4fc",
      "metadata": {},
      "source": [
        "\n",
        "In a camp, there was a rumor that Tim shook hands three times with his father and even gave him a soda by hand. Later, he greeted everyone in the ward (20 times, never repeating himself) and challenged the idea of “squaring.”\n",
        "\n",
        "Suppose there are $n$ people in total. Each person greets every other person exactly once, resulting in $(n - 1)$ handshakes per person. Since a handshake between A and B is the same as between B and A, the total number is given by:\n",
        "\n",
        "$$\\frac{n(n - 1)}{2} = \\frac{n^2}{2} - \\frac{n}{2}$$\n",
        "\n",
        "For large $n$, this behaves like $n^2$ (ignoring lower-order terms and constants), i.e. $O(n^2)$. \n",
        "\n",
        "Pay attention to the fact that the number of handshakes grows quadratically with the number of people. This is a common pattern in problems involving pairs of elements, such as comparing all pairs of elements in a list.\n",
        "\n",
        "We can get rid of the fraction by multiplying the result by 2, which does not change the growth rate. This is a common trick in Big O analysis. It happens because the fraction is a constant factor, and Big O notation ignores constants.\n",
        "💡"
      ]
    },
    {
      "cell_type": "markdown",
      "id": "example3",
      "metadata": {},
      "source": [
        "#### **Example 3: Brute Force Conversion (Decimal to Binary)** 🧮\n"
      ]
    },
    {
      "cell_type": "markdown",
      "id": "714c0f9f",
      "metadata": {},
      "source": [
        "\n",
        "Suppose we need to iterate through all binary strings of length $n$. For $n = 3$, the strings are: 000, 001, 010, 011, 100, 101, 110, and 111.\n",
        "\n"
      ]
    },
    {
      "cell_type": "markdown",
      "id": "41fe9d7e",
      "metadata": {},
      "source": [
        "##### Quiz Question:\n"
      ]
    },
    {
      "cell_type": "markdown",
      "id": "490608ef",
      "metadata": {},
      "source": [
        "> Which time complexity does this exhaustive search have?\n",
        "> \n",
        "> - $O(N^2)$\n",
        "> - $O(2^N)$\n",
        "> - $O(N^3)$\n",
        "> - $O(\\log N)$\n",
        "> "
      ]
    },
    {
      "cell_type": "markdown",
      "id": "67ba5ba2",
      "metadata": {},
      "source": [
        "\n",
        "The **correct answer** is **$O(2^N)$** because exponential complexity is only practical for very small $N$. 🔥"
      ]
    },
    {
      "cell_type": "markdown",
      "id": "example4",
      "metadata": {},
      "source": [
        "#### **Example 4: Simple Python Programme Complexity** 🐍\n"
      ]
    },
    {
      "cell_type": "markdown",
      "id": "4871c942",
      "metadata": {},
      "source": [
        "> You receive a single integer $n$ as input and need to compute $42 \\times n + 15$. Consider this Python programme:\n",
        "> \n",
        "> ```python\n",
        "> n = int(input())\n",
        "> print(42 * n + 15)\n",
        "> ```\n",
        "> \n",
        "> What is the computational complexity of this programme?\n",
        "> \n",
        "> - $O(n)$\n",
        "> - $O(1)$\n",
        "> - $O(\\log n)$\n",
        "> - $O(n^2)$\n",
        "> "
      ]
    },
    {
      "cell_type": "markdown",
      "id": "f3ea904e",
      "metadata": {},
      "source": [
        "The **correct answer** is **$O(1)$** because it performs a fixed number of operations regardless of $n$."
      ]
    },
    {
      "cell_type": "markdown",
      "id": "af88e3ea",
      "metadata": {},
      "source": [
        "#### **Example 5: Clothes Selection** 👗\n"
      ]
    },
    {
      "cell_type": "markdown",
      "id": "22a67bcb",
      "metadata": {},
      "source": [
        "> Every day, **George** decides what to wear by running a programme on his computer. The algorithm goes through all combinations of **trousers** and **T-shirts**, shows each combination to George, and asks him to rate it on a scale of 1 to 10. After that, the programme reviews all these ratings, selects the highest-rated outfit, and tells George what to wear.\n",
        "> \n",
        "> George has $n$ pairs of trousers and $m$ T-shirts. What is the complexity of the algorithm?\n",
        "> \n",
        "> - $O(n)$  \n",
        "> - $O(m)$  \n",
        "> - $O(n^2)$  \n",
        "> - $O(m^2)$  \n",
        "> - **$O(nm)$**  \n",
        "> - $O(n + m)$"
      ]
    },
    {
      "cell_type": "markdown",
      "id": "1e035249",
      "metadata": {},
      "source": [
        "The **correct answer** is **$O(nm)$** because the algorithm must consider all possible combinations of trousers and T-shirts. 🤔"
      ]
    },
    {
      "cell_type": "markdown",
      "id": "searching-for-bottle",
      "metadata": {},
      "source": [
        "#### **Example 6: Binary Search** 🔍\n"
      ]
    },
    {
      "cell_type": "markdown",
      "id": "388051bc",
      "metadata": {},
      "source": [
        "\n",
        "> **Alice** wrote an algorithm to find a particular bottle among $n$ shops. The shops are recorded in alphabetical order, and her algorithm uses **binary search**. What is the complexity of her algorithm?\n",
        "> \n",
        "> - $O(n)$\n",
        "> - $O(n^2)$\n",
        "> - $O(\\log n)$\n",
        "> - $O(1)$\n",
        "> "
      ]
    },
    {
      "cell_type": "markdown",
      "id": "972cadfb",
      "metadata": {},
      "source": [
        "Since binary search halves the search space with each step, its running time grows **logarithmically**: $O(\\log n)$. 🔍"
      ]
    },
    {
      "cell_type": "markdown",
      "id": "comparing-complexities",
      "metadata": {},
      "source": [
        "#### **Comparing Complexities** 📊\n"
      ]
    },
    {
      "cell_type": "markdown",
      "id": "78839df5",
      "metadata": {},
      "source": [
        "\n",
        "George initially thought Alice’s algorithm was $O(n^2)$. However, **Timothy** argued that since $\\log n$ grows much more slowly than $n^2$, the binary search is far more efficient.\n",
        "\n",
        "In fact, if binary search is used correctly, its complexity is $O(\\log n)$, which is significantly better than $O(n^2)$. 👍"
      ]
    },
    {
      "cell_type": "markdown",
      "id": "key-takeaways",
      "metadata": {},
      "source": [
        "#### **Key Takeaways 🚀**\n"
      ]
    },
    {
      "cell_type": "markdown",
      "id": "2b3c0736",
      "metadata": {},
      "source": [
        "\n",
        "1. **Exponential Complexity ($O(2^n)$)**: Practical only for very small $n$. 🚫\n",
        "2. **Constant Complexity ($O(1)$)**: The work remains unchanged regardless of $n$. 🔒\n",
        "3. **Logarithmic Complexity ($O(\\log n)$)**: Efficiently halves the problem size (e.g., binary search). ⚡\n",
        "4. **Polynomial Complexities ($O(n), O(n^2), O(n^3)$, etc.)**: Manageable in many cases, but may become heavy as $n$ increases. 📊"
      ]
    },
    {
      "cell_type": "markdown",
      "id": "estimating-execution-time",
      "metadata": {},
      "source": [
        "## Estimating Execution Time"
      ]
    },
    {
      "cell_type": "markdown",
      "id": "0f5dbe98",
      "metadata": {},
      "source": [
        "In previous part, we explored how an algorithm’s running time behaves as the size of the input data grows. You now know that an $O(n)$ algorithm typically runs around three times faster than an $O(n^2)$ algorithm, for large $n$. But how can you tell if it’s sufficiently efficient for your specific task—or whether it will remain efficient enough in practice?\n"
      ]
    },
    {
      "cell_type": "markdown",
      "id": "bbc6ef04",
      "metadata": {},
      "source": [
        "### 1. Practical Testing 🧪"
      ]
    },
    {
      "cell_type": "markdown",
      "id": "b3bf92e2",
      "metadata": {},
      "source": [
        "One way to assess any algorithm is to **test it repeatedly** with various values of $n$, to see at which point the programme starts taking too long to finish. This gives you a sense of where the boundary lies between acceptable performance and lengthy waiting times."
      ]
    },
    {
      "cell_type": "markdown",
      "id": "cf7fb18c",
      "metadata": {},
      "source": [
        "Here, the running time is $O(n)$, where $n = \\text{visitor}$. However, is this algorithm viable for a **very large** number of visitors?\n",
        "\n",
        "In essence, the code prints the list twice. If we have a huge number of visitors, the algorithm will print $2n$ times. Although that is still $O(n)$ in asymptotic terms, it could take a considerable amount of time in practice. And when $n$ becomes **enormous**, while memory or processing resources are limited, it becomes a serious concern.\n"
      ]
    },
    {
      "cell_type": "markdown",
      "id": "050f3f90",
      "metadata": {},
      "source": [
        "### 2. Measuring Real Execution Time 🕰️"
      ]
    },
    {
      "cell_type": "markdown",
      "id": "faf8155e",
      "metadata": {},
      "source": [
        "You can also measure the **actual** running time, for example, using `time.time()` or `time.perf_counter()` in Python. This gives you specific figures for how many seconds it took to run that segment of code. Such data helps you determine whether, for instance, two seconds is acceptable, but ten seconds might be too long. Let's implement this:"
      ]
    },
    {
      "cell_type": "code",
      "execution_count": null,
      "id": "f78978a8",
      "metadata": {},
      "outputs": [],
      "source": [
        "import time\n",
        "\n",
        "start_time = time.time()\n",
        "\n",
        "visitor = 1000\n",
        "a = []\n",
        "\n",
        "for i in range(visitor):\n",
        "    a.append(i)\n",
        "\n",
        "print(\"--- %s seconds ---\" % (time.time() - start_time))"
      ]
    },
    {
      "cell_type": "code",
      "execution_count": null,
      "id": "5d2faeaa",
      "metadata": {},
      "outputs": [],
      "source": [
        "import time\n",
        "\n",
        "start_time = time.perf_counter()\n",
        "\n",
        "visitor = 1000\n",
        "a = []\n",
        "\n",
        "for i in range(visitor):\n",
        "    a.append(i)\n",
        "\n",
        "print(\"--- %s seconds ---\" % (time.perf_counter() - start_time))"
      ]
    },
    {
      "cell_type": "markdown",
      "id": "8ff8c772",
      "metadata": {},
      "source": [
        "#### Using the `timeit` Module 🕰️\n"
      ]
    },
    {
      "cell_type": "markdown",
      "id": "74595dbf",
      "metadata": {},
      "source": [
        "Another way to measure execution time is with the `timeit` module. This module provides a simple interface for measuring the time taken by small code snippets. Here’s an example:\n"
      ]
    },
    {
      "cell_type": "code",
      "execution_count": null,
      "id": "efc0a473",
      "metadata": {},
      "outputs": [],
      "source": [
        "import timeit\n",
        "import matplotlib.pyplot as plt\n",
        "\n",
        "# Define three functions with different time complexities\n",
        "\n",
        "# O(1) - Constant time: simply returns the first element of the list.\n",
        "def constant_time(lst):\n",
        "    return lst[0]\n",
        "\n",
        "# O(n) - Linear time: sums all elements in the list.\n",
        "def linear_time(lst):\n",
        "    total = 0\n",
        "    for x in lst:\n",
        "        total += x\n",
        "    return total\n",
        "\n",
        "# O(n^2) - Quadratic time: computes a sum over all pairs of elements in the list.\n",
        "def quadratic_time(lst):\n",
        "    total = 0\n",
        "    n = len(lst)\n",
        "    for i in range(n):\n",
        "        for j in range(n):\n",
        "            total += lst[i] * lst[j]\n",
        "    return total\n",
        "\n",
        "# Define a range of input sizes\n",
        "input_sizes = [1, 2, 5, 20]\n",
        "# Number of repetitions to get a measurable time\n",
        "repetitions = 1000\n",
        "\n",
        "# Containers to store the timing results\n",
        "times_constant = []\n",
        "times_linear = []\n",
        "times_quadratic = []\n",
        "\n",
        "# Measure time for each function and input size\n",
        "for size in input_sizes:\n",
        "    # Generate a sample list of a given size\n",
        "    lst = list(range(size))\n",
        "    \n",
        "    # Use lambda functions to \"freeze\" the current list as an argument for each function\n",
        "    timer_constant = timeit.Timer(lambda: constant_time(lst))\n",
        "    timer_linear = timeit.Timer(lambda: linear_time(lst))\n",
        "    timer_quadratic = timeit.Timer(lambda: quadratic_time(lst))\n",
        "    \n",
        "    # Time the execution for a number of repetitions\n",
        "    t_const = timer_constant.timeit(number=repetitions)\n",
        "    t_linear = timer_linear.timeit(number=repetitions)\n",
        "    t_quad = timer_quadratic.timeit(number=repetitions)\n",
        "    \n",
        "    times_constant.append(t_const)\n",
        "    times_linear.append(t_linear)\n",
        "    times_quadratic.append(t_quad)\n",
        "\n",
        "# Plot the results\n",
        "plt.figure(figsize=(10, 6))\n",
        "plt.plot(input_sizes, times_constant, label='O(1): constant_time', marker='o')\n",
        "plt.plot(input_sizes, times_linear, label='O(n): linear_time', marker='s')\n",
        "plt.plot(input_sizes, times_quadratic, label='O(n²): quadratic_time', marker='^')\n",
        "plt.xlabel('Input Size (n)')\n",
        "plt.ylabel('Total Time over {} repetitions (seconds)'.format(repetitions))\n",
        "plt.title('Function Time Complexity Analysis')\n",
        "plt.legend()\n",
        "plt.grid(True)\n",
        "plt.show()\n"
      ]
    },
    {
      "cell_type": "markdown",
      "id": "746cee80",
      "metadata": {},
      "source": [
        "### 3. Balancing Theory and Practice 🤹‍♂️"
      ]
    },
    {
      "cell_type": "markdown",
      "id": "8f8563f7",
      "metadata": {},
      "source": [
        "\n",
        "In this lesson, we will learn to balance the **theoretical** assessment using Big O notation with **practical testing** on real data. It is not a matter of one being more important than the other. We need to evaluate both aspects: some issues can be solved by optimising the algorithm itself, while others may require changing our overall approach or selecting a different method entirely."
      ]
    },
    {
      "cell_type": "markdown",
      "id": "06bb237e",
      "metadata": {},
      "source": [
        "#### Is This $O(n)$ Approach Feasible in Practice? 🤔\n"
      ]
    },
    {
      "cell_type": "markdown",
      "id": "93faee56",
      "metadata": {},
      "source": [
        "We have established that the algorithm’s complexity is $O(n)$, where $n$ is the number of journeys. But can we realistically apply this method?\n",
        "\n",
        "First, we need to consider the **scale** of $n$. For example, imagine a city of ten million inhabitants, each making two journeys per day over the course of a month. That gives us $600$ million journeys in a single month. We might round this up to **one billion** to account for additional trips by tourists or other factors.\n",
        "\n",
        "Now we need to estimate how **quickly** a modern computer can handle these operations. Suppose a current processor can perform roughly one billion operations per second. If we assume each journey corresponds to **one operation**, then one billion journeys would take about one second—if everything were executed sequentially without any other overhead. On a $2.5$ GHz processor, in theory, that could be $2.5$ billion operations per second.\n",
        "\n",
        "We can express this as:\n",
        "$$\n",
        "t = \\frac{n}{\\text{frequency}}\n",
        "$$\n",
        "If $n = 1{,}000{,}000{,}000$ (one billion) and the frequency is $2.5 \\times 10^9$ operations per second, the calculation suggests:\n",
        "$$\n",
        "t = \\frac{1{,}000{,}000{,}000}{2.5 \\times 10^9} = 0.4 \\text{ seconds.}\n",
        "$$\n",
        "\n",
        "In principle, **0.4 seconds** might sound acceptable. However, in real scenarios, there are always additional considerations such as scheduling, resource sharing with other processes, memory constraints, and so on. As a result, the actual running time could be noticeably longer.\n",
        "\n",
        "Whether 0.4 seconds is too slow or perfectly fine depends on the **specific requirements** of the task. In some applications, half a second is negligible, while in others, it might be considered unacceptably slow. That is why we must balance **theoretical** complexity with the **practical** realities of system performance and workload."
      ]
    },
    {
      "cell_type": "markdown",
      "id": "b6956692",
      "metadata": {},
      "source": [
        "Here we can see that the **theoretical** complexity of an algorithm is only one part of the story. The **practical** side is equally important, as it determines whether the algorithm can be applied in real-world scenarios.\n",
        "\n",
        "> **[George]:**  Is it really possible to account for a single journey in just one processor tick?  \n",
        "> \n",
        "> **[Timothy]:**  I’m glad you’ve pointed that out. Indeed, a single tick isn’t enough. Processor instructions are the most basic operations, but even they are more complex than they appear. For instance, you need to access memory; if the data doesn’t fit in RAM, you’ll have to fetch it from the hard drive or even from the network. And all this is just to handle one single step in the process.\n",
        "> \n",
        "> **[George]:** So, what steps does the programme actually have to perform to handle just one journey?\n",
        "> \n",
        "> **[Timothy]:**\n",
        "> The programme needs to:  \n",
        "> 1. Read how many passengers are on board.  \n",
        "> 2. Record who got on.  \n",
        "> 3. Record who got off.  \n",
        "> 4. Check if each passenger has paid.  \n",
        "> 5. Keep track of the total fare.  \n",
        "> 6. Update its data structure.  \n",
        "> 7. Possibly carry out other checks as well.\n",
        ">   \n",
        "> **[George]:** So it seems we were off by a factor of ten in our time estimate. Instead of 0.4 seconds, it might actually take 4 seconds—or even longer.\n",
        ">   \n",
        "> **[Timothy]:** Exactly. The actual processing speed depends on many factors."
      ]
    },
    {
      "cell_type": "markdown",
      "id": "8ac94c17",
      "metadata": {},
      "source": [
        "The number of instructions in a programme can vary slightly depending on the processor used or the compiler’s optimisations. Some instructions may take multiple ticks, while others—especially arithmetic operations—can be handled in fractions of a tick.\n",
        "\n",
        "It follows that if we wanted to ignore constants in our time-complexity analysis, we couldn’t entirely do so in practice: there are too many nuances in how instructions are actually executed. However, this is precisely why we use **Big O notation**—it offers a high-level view of the algorithm’s growth rate, leaving out the smaller details."
      ]
    },
    {
      "cell_type": "markdown",
      "id": "679ac237",
      "metadata": {},
      "source": [
        "### 4. Measuring Actual Performance 📏\n"
      ]
    },
    {
      "cell_type": "markdown",
      "id": "39892176",
      "metadata": {},
      "source": [
        "To see how our rough estimates hold up in reality, we can measure how long it takes to run a simple loop in **Python**, as in the following code:"
      ]
    },
    {
      "cell_type": "markdown",
      "id": "da329328",
      "metadata": {},
      "source": [
        "#### Python Example"
      ]
    },
    {
      "cell_type": "code",
      "execution_count": null,
      "id": "a4fd2a2b",
      "metadata": {},
      "outputs": [],
      "source": [
        "import time\n",
        "\n",
        "time_start = time.time()\n",
        "i = 0\n",
        "while i < 1000000000:  # 1 billion iterations\n",
        "    # do nothing\n",
        "    i += 1\n",
        "time_span = time.time() - time_start\n",
        "print(time_span, \"seconds\")"
      ]
    },
    {
      "cell_type": "markdown",
      "id": "bd7b28b6",
      "metadata": {},
      "source": [
        "#### C++ Example"
      ]
    },
    {
      "cell_type": "markdown",
      "id": "513f4237",
      "metadata": {},
      "source": [
        "```cpp\n",
        "#include <iostream>\n",
        "#include <chrono>\n",
        "\n",
        "int main() {\n",
        "    auto start = std::chrono::high_resolution_clock::now();\n",
        "    long long i = 0;\n",
        "    while (i < 1000000000LL) {\n",
        "        i++;\n",
        "    }\n",
        "    auto finish = std::chrono::high_resolution_clock::now();\n",
        "    std::chrono::duration<double> time_span = finish - start;\n",
        "    std::cout << time_span.count() << \" seconds\\n\";\n",
        "    return 0;\n",
        "}\n",
        "```\n"
      ]
    },
    {
      "cell_type": "markdown",
      "id": "bf229d2e",
      "metadata": {},
      "source": [
        "Each iteration of the loop involves three steps: \n",
        "- incrementing a counter,  \n",
        "- checking the condition, \n",
        "- and jumping back to the start of the loop. \n",
        "\n",
        "Multiplying those three actions by a billion iterations gives you around three billion operations, which might theoretically take about **1.2 seconds**. \n",
        "\n",
        " A C++ programme can indeed run at roughly that speed, although in reality it might be faster or slower. Timothy points out that Python may run about **150 times more slowly**, owing to additional overhead. If you understand lower-level details, you know that `i++` in Python eventually generates several instructions, plus condition checks, array-boundary checks, loop management, and so on.\n",
        "\n",
        "Any performance estimate is rough, so it is wise to build in a **margin of safety**. Yes, a billion iterations might take around one second—or less—in C++, whereas in Python it could take minutes. In practice, performance also depends on the operating system, how many other processes are running, and the processor’s workload. Moreover, C++ and Go typically achieve tighter performance than Java, which in turn tends to be tighter than Python or Node.js.\n",
        "\n",
        "When deciding on an approach to solve a particular problem, you need to **evaluate** how long it will take for your input size and **choose** a suitable method. That choice might range from using straightforward algorithms to devising more advanced solutions.\n",
        "\n",
        "Ultimately, it is best to understand the **theory** and then **test** your code in practice. In the tasks ahead, you will need to determine whether your algorithm can complete within the specified constraints.\n",
        "\n",
        "Thus, although theory provides a **rough** estimate, practical measurements are essential for determining how code will truly perform in a given language and environment."
      ]
    },
    {
      "cell_type": "markdown",
      "id": "b2b70c2d",
      "metadata": {},
      "source": [
        "#### **Exercise 1: Apple Selection** 🍏\n"
      ]
    },
    {
      "cell_type": "markdown",
      "id": "3bd32ef1",
      "metadata": {},
      "source": [
        "\n",
        "\n",
        "George has gone to buy apples for **Ally** and **Rita**. On the shop counter, there are $N$ apples ($2 \\le N \\le 10{,}000$). To avoid offending anyone, he decides to purchase two apples whose weights differ by the smallest possible amount. George’s idea is to check **every pair** of apples and record the pair if it offers a smaller weight difference than the previous best choice.\n",
        "\n",
        "> **Question**: How long would this algorithm take to run in Python? Select the option that best matches the likely runtime.\n",
        "> \n",
        "> - $0.01$ seconds\n",
        "> - $0.1$ seconds\n",
        "> - $1$ second\n",
        "> - $20$ seconds\n",
        "> - $1000$ seconds"
      ]
    },
    {
      "cell_type": "markdown",
      "id": "5a338ffb",
      "metadata": {},
      "source": [
        "This is not the most efficient algorithm, and it has **quadratic** complexity. For $N = 10^4$, the number of comparisons is:\n",
        "\n",
        "$$\n",
        "\\frac{N \\times (N - 1)}{2} \\;=\\; \\frac{10^4 \\times (10^4 - 1)}{2} \\;\\approx\\; 5 \\times 10^7 \\text{ iterations.}\n",
        "$$\n",
        "\n",
        "Suppose each iteration involves around ten operations. If each operation takes about **100 processor ticks** in Python, then each iteration amounts to roughly $10 \\times 100 = 1000$ ticks. With a processor speed of $2.5 \\times 10^9$ ticks per second, this corresponds to approximately **20 seconds** of computation time in an ideal scenario.\n",
        "\n",
        "It is important to note that this is a **rough** estimate. The actual performance could vary significantly—perhaps the algorithm might take only 2 seconds or it could take 4 seconds, 10 seconds, or even 100 seconds. We cannot rule out the possibility that it might finish in **30 seconds** under real conditions, or that it might require over **1000 seconds** if the environment is heavily loaded.\n",
        "\n",
        "The **correct answer** is **$20$ seconds**. "
      ]
    },
    {
      "cell_type": "markdown",
      "id": "651a645b",
      "metadata": {},
      "source": [
        "#### **Exercise 2: Solar System Model** 🌌\n"
      ]
    },
    {
      "cell_type": "markdown",
      "id": "6a7ec033",
      "metadata": {},
      "source": [
        "> In the same shop, **George** decided to buy a pair of apples for his model of the Solar System. He needs to find two apples that differ in size by the **maximum** possible amount—one to represent the **Sun** and one for **Pluto**. To do this, George decided to first locate the smallest apple, then the largest. **How long will this search take?**\n",
        "> \n",
        "> - $0.01$ seconds\n",
        "> - $0.1$ seconds\n",
        "> - $1$ second\n",
        "> - $10$ seconds"
      ]
    },
    {
      "cell_type": "markdown",
      "id": "38437fdd",
      "metadata": {},
      "source": [
        "This task was **much more efficient**. The linear algorithm managed it in **less than one hundredth of a second**. The total number of loop iterations is:\n",
        "$$\n",
        "2 \\times N = 2 \\times 10^4,\n",
        "$$\n",
        "where the factor of 2 arises because we are finding both the **minimum** and the **maximum** values. Consequently, the approximate running time is:\n",
        "$$\n",
        "\\frac{2 \\times 10^4 \\times 100}{2.5 \\times 10^9} = 8 \\times 10^{-3} \\text{ seconds.}\n",
        "$$\n",
        "\n",
        "In other words, it took **roughly 0.008 seconds**.\n",
        "\n",
        "The **correct answer** is **$0.01$ seconds**."
      ]
    },
    {
      "cell_type": "markdown",
      "id": "b63cfa93",
      "metadata": {},
      "source": [
        "#### **Exercise 3: Apple Sponge Recipe** 🍰\n"
      ]
    },
    {
      "cell_type": "markdown",
      "id": "f3f9d290",
      "metadata": {},
      "source": [
        "> George still has some leftover apples, so he decides to bake an apple sponge (sharlotka). This time, he needs to load a book containing **one billion recipes** into the computer and choose the right one. The recipes in the book are sorted in alphabetical order, so George opts to use **binary search**. How long will it take to find the recipe?\n",
        "> \n",
        "> - $10$ microseconds  \n",
        "> - $0.01$ second \n",
        "> - $0.1$ second\n",
        "> - $1$ second\n",
        "> - $100$ seconds"
      ]
    },
    {
      "cell_type": "markdown",
      "id": "c54d7e1f",
      "metadata": {},
      "source": [
        "In this task, binary search requires only a **small, logarithmic** number of steps, each of which can be executed almost instantly—on the order of **tens of microseconds**. However, we must not forget that the programme first has to **read** this enormous book of recipes in a loop, and that stage can take a **significant** amount of time. Ultimately, the overall speed of the programme is determined by this “bottleneck,” i.e., the slowest part of the process.\n",
        "\n",
        "The **correct answer** is **$100$ seconds**."
      ]
    },
    {
      "cell_type": "markdown",
      "id": "49c8d822",
      "metadata": {},
      "source": [
        "#### Conclusion 🎉\n"
      ]
    },
    {
      "cell_type": "markdown",
      "id": "8777760c",
      "metadata": {},
      "source": [
        "Occasionally, your programmes may contain sections of code that run too slowly 🐌. To detect these, it helps to learn how to measure the execution time ⏱️ of individual parts of your code in your preferred programming language. If a programme is running more slowly than expected, it is often useful to measure the runtime of its main components. By examining the timing results in detail 🔎, you can pinpoint what is causing the slowdown. When necessary, you can also “profile” the programme.\n",
        "\n",
        "Once you have identified a slow portion of the programme, you can try to **optimise** it 🔧. This typically involves rewriting that section in a different way and **comparing the speeds** ⚡ of the different versions using the same data—a process often referred to as “benchmarking.”\n",
        "\n",
        "It is important to recognise, however, that **not** every line of code needs to be written with absolute maximum efficiency in mind. For example, if your programme completes its task in **10 milliseconds** ⏲️, and all you are doing is iterating through an array, the difference between a linear search and a binary search may be negligible—both will finish faster than you can blink 😉. In such cases, it makes little sense to invest time in that micro-optimisation when you could be improving **other** parts of the code that are genuinely slowing things down.\n",
        "\n",
        "Similarly, if your programme consists of two sections—one that consumes **99%** of the total runtime and another that consumes **1%**—even speeding up the smaller section by a factor of **10** will not noticeably reduce the overall execution time. The key takeaway is to **prioritise** optimisation where it will have the greatest impact on your programme’s performance 🚀.\n"
      ]
    },
    {
      "cell_type": "markdown",
      "id": "e288a37c",
      "metadata": {},
      "source": [
        "## Space Complexity\n"
      ]
    },
    {
      "cell_type": "markdown",
      "id": "045c54a1",
      "metadata": {},
      "source": [
        "When discussing a programme’s efficiency, we can also assess how it utilises various computer resources. One of the most important of these resources is **memory**. In other words, we want to measure the programme’s capacity to store data structures in memory, as well as any additional overhead.\n"
      ]
    },
    {
      "cell_type": "markdown",
      "id": "004f49d9",
      "metadata": {},
      "source": [
        "### 1. What Is the Space Complexity of an Algorithm? 🧠\n"
      ]
    },
    {
      "cell_type": "markdown",
      "id": "02cd5ee9",
      "metadata": {},
      "source": [
        "\n",
        "We have already talked about **time complexity**, where we considered how an algorithm’s running time changes as the input grows. However, even the most efficient algorithm can be impractical if it uses an excessive amount of memory. **Space complexity** describes how much memory is required as the input size increases.\n",
        "\n",
        "It is helpful to distinguish between:\n",
        "- **Input storage**: For instance, if your algorithm must read a file from disk, that file size is typically considered *given* and not always counted as additional memory usage.  \n",
        "- **Additional memory usage**: Data structures (arrays, lists, trees, etc.) that the algorithm creates and uses during execution.\n",
        "\n",
        "If an algorithm’s computational complexity is too high, the user may have to wait a very long time for the programme to finish.Another crucial factor is the amount of random-access memory (RAM). Programmes that do not have enough memory may freeze, disrupt other processes, and in many cases be unable to complete their tasks at all."
      ]
    },
    {
      "cell_type": "markdown",
      "id": "20c4bdea",
      "metadata": {},
      "source": [
        "<div style=\"width: 90%; border: 2px solid #4CAF50; border-radius: 10px; padding: 20px; background-color: #f0f8ff; font-family: 'Courier New', Courier, monospace;\">\n",
        "  <p style=\"font-size: 16px; line-height: 1.6;\">\n",
        "    When a program exhausts the available <strong>RAM</strong>, it turns to a <strong>swap file</strong> or <strong>swap partition</strong>—a process derived from “to swap”. \n",
        "    This swap area, residing on an external storage device (like a hard disk or SSD), serves as an extension to the system’s memory.\n",
        "  </p>\n",
        "  <p style=\"font-size: 16px; line-height: 1.6;\">\n",
        "    If insufficient RAM is available, data is shuttled from the relatively small but <strong>fast</strong> memory to the <strong>large</strong> but <strong>slow</strong> disk. \n",
        "    When necessary, the data is retrieved back into RAM—a process that is inherently <strong>slow</strong> and often leads to noticeable lags or hangs.\n",
        "  </p>\n",
        "  <p style=\"font-size: 16px; line-height: 1.6;\">\n",
        "    In cases where the program is extraordinarily large or when many processes run concurrently, even swapping may fall short. \n",
        "    If no new data can be accommodated in either <strong>RAM</strong> or the swap area, the program—or even the entire system—may crash.\n",
        "  </p>\n",
        "  <p style=\"font-size: 16px; line-height: 1.6;\">\n",
        "    In essence, when both <strong>RAM</strong> and swap space are fully utilized, at least one running program is bound to fail.\n",
        "  </p>\n",
        "</div>\n"
      ]
    },
    {
      "cell_type": "markdown",
      "id": "799482e6",
      "metadata": {},
      "source": [
        "Each object in a programme occupies some amount of memory, and storing a large number of objects can require significant space. It is important to pay attention to how you allocate arrays, strings, or other containers, because their sizes are often determined by the size of the input data.\n",
        "\n",
        "**Space complexity** describes how the amount of memory an algorithm needs grows in relation to the size of its input. Just as with **time complexity**, we use **Big O notation** to indicate this growth. When smaller details (constants, lower-order terms) are ignored, we focus on the main term that dominates for large inputs.\n",
        "\n",
        "For instance, if your programme uses a **fixed** number of variables, we say it has **$O(1)$ space complexity**—that is, constant space usage. However, if the programme reads $n$ items of data and stores them in memory linearly (for example, in an array), it requires **$O(n)$** space.\n",
        "\n",
        "If the algorithm generates a two-dimensional structure for its $n$ objects—say, a matrix of size $n \\times n$—then it will occupy **$O(n^2)$** space, i.e., **quadratic** memory usage."
      ]
    },
    {
      "cell_type": "markdown",
      "id": "07b05a21",
      "metadata": {},
      "source": [
        "## Relationship Between Space and Time Complexity 🔄\n"
      ]
    },
    {
      "cell_type": "markdown",
      "id": "e89bb58a",
      "metadata": {},
      "source": [
        "Every living organism on Earth (from bacteria to humans) is encoded by a set of DNA molecules. Each molecule is a chain made up of four nucleobases—called **adenine (A)**, **thymine (T)**, **guanine (G)**, and **cytosine (C)**:\n",
        "\n",
        "- **A** (adenine)  \n",
        "- **T** (thymine)  \n",
        "- **G** (guanine)  \n",
        "- **C** (cytosine)\n",
        "\n",
        "DNA forms a double helix composed of two complementary chains. In this structure, **A** always pairs with **T**, while **G** pairs with **C**. Thanks to this predictable pairing, the double helix can be “unzipped” to read the code and then zipped up again.\n",
        "\n",
        "Suppose **Alla** and **Rita** have discovered a sample of DNA, represented as a string of letters—something like **“A T G G T A C T G C T T T C G T A C”**—and they wish to analyse it. For example, they might want to identify how many times the sequence **“AGTA”** appears in the DNA, or find which **n**-letter substring occurs most frequently.\n"
      ]
    },
    {
      "cell_type": "markdown",
      "id": "7252ce9d",
      "metadata": {},
      "source": [
        "### Space and Time Complexity in Practice 🚀\n"
      ]
    },
    {
      "cell_type": "markdown",
      "id": "68cb9b08",
      "metadata": {},
      "source": [
        "\n",
        "When analysing this DNA sequence, one must consider both **time complexity** (how many operations are needed to process the data) and **space complexity** (how much memory is needed to store and manipulate it). For instance:\n",
        "\n",
        "- If an algorithm scans each position in the DNA to check for a certain substring, it might require **$O(n)$** time for each scan, leading to a total of **$O(n^2)$** time if it naïvely checks every possible starting position.  \n",
        "- Storing the DNA sequence in memory typically requires **$O(n)$** space, where $n$ is the length of the sequence. If the algorithm needs additional data structures—say, suffix arrays or hash tables—this space requirement can grow accordingly.\n",
        "\n",
        "Thus, **Alla** and **Rita** will need an algorithm that efficiently handles both the **time** and **space** aspects of processing these letters. They must consider how the algorithm’s running time scales with the input size, as well as how much memory it requires."
      ]
    },
    {
      "cell_type": "markdown",
      "id": "6224fa89",
      "metadata": {},
      "source": [
        "Initially, **Rita** decided on the following method: she introduced a counter and iterated through all the letters in the sequence, increasing the counter whenever she encountered **C** or **G**. In Python, this might look like:\n",
        "\n",
        "```python\n",
        "cg_count = 0\n",
        "sequence = \"...\"  # some DNA sequence\n",
        "\n",
        "for position in range(left, right):\n",
        "    if (sequence[position] == \"C\") or (sequence[position] == \"G\"):\n",
        "        cg_count += 1\n",
        "\n",
        "print(ccg_count)\n",
        "```\n",
        "\n",
        "To count the necessary letters, she spent **$O(n)$** time, where $n$ is the length of the sequence. In terms of **space complexity**, she only needed one counter and a few temporary variables, so the additional memory usage is **$O(1)$**.\n",
        "\n",
        "Why additional memory usage? Because the counter and temporary variables occupy a fixed amount of memory, regardless of the sequence’s length. This is why we say the space complexity is **$O(1)$**. The amount of memory required by the algorithm does not grow with the input size, it depends only on the algorithm’s structure itself, it is called **additional memory usage**.\n",
        "\n",
        "However, suppose Rita also wants to **frequently** determine how many **C** or **G** letters appear in various segments of the sequence. Re-running the above loop for each query would repeatedly take $O(n)$ time, which might become costly if she does this many times.  \n",
        "\n",
        "One way to speed up these repeated queries is to use **prefix sums** (also known as **cumulative sums**). By storing partial counts for each position in an array (requiring **$O(n)$** space), Rita can then answer each query in **$O(1)$** time. This trade-off illustrates how **time** and **space** complexities often interact: using **more memory** can significantly reduce the running time for certain tasks."
      ]
    },
    {
      "cell_type": "markdown",
      "id": "e778081b",
      "metadata": {},
      "source": [
        "After a while, **Rita** got tired of counting the same letters over and over and came up with a new approach.\n",
        "\n",
        "Instead of counting them directly each time, she stored, at each position, the number of times a given letter (C or G) had appeared **up to** that position. This is known as a **prefix sum** or **cumulative sum**.\n",
        "\n",
        "For example, consider the sequence:\n",
        "\n",
        "```\n",
        "C C A T G A T C\n",
        "0 1 2 2 3 3 3 3 4\n",
        "```\n",
        "\n",
        "To calculate the number of CG-letters in some half-interval, it is enough to subtract from the cumulative sum at the right end (more precisely, at the `right` position) the same sum at the left end. This requires only **$O(1)$** time per query, as opposed to **$O(n)$** if we were to recompute the count each time.\n",
        "\n",
        "```python\n",
        "cumulative_sums = [0]\n",
        "cg_count = 0\n",
        "\n",
        "for pos in range(len(sequence)):\n",
        "    if (sequence[pos] == \"C\") or (sequence[pos] == \"G\"):\n",
        "        cg_count += 1\n",
        "    cumulative_sums.append(cg_count)\n",
        "\n",
        "print(cumulative_sums[right] - cumulative_sums[left])       \n",
        "```\n",
        "\n",
        "Now, Rita can quickly answer questions such as: “How many C/G letters are there between positions **L** and **R**?” She simply computes:\n",
        "\n",
        "$$\n",
        "\\text{count} = \\text{cumulative\\_sums}[R] - \\text{cumulative\\_sums}[L].\n",
        "$$\n",
        "\n",
        "This requires **$O(1)$** time per query, whereas computing it on the fly each time would have taken **$O(n)$**. The trade-off is that storing these prefix sums uses **$O(n)$** additional memory. \n",
        "\n",
        "In the end, **Rita** spent more time initially (to build the prefix sums) but greatly reduced the time needed to answer repeated queries about how many letters C or G appear in specific segments of the sequence.\n",
        "\n",
        "The situation considered in the example is typical: we saved auxiliary information to spend less time, that is, we \"exchanged\" memory for speed. When solving problems, you sometimes have to make a difficult choice: either save more data to reduce the amount of computation; or compute slower, but save memory.\n",
        "\n",
        "It should be remembered that too much memory consumption can lead to the program crashing with an error. Or its performance will deteriorate due to the use of the swap file."
      ]
    },
    {
      "cell_type": "markdown",
      "id": "a11271a9",
      "metadata": {},
      "source": [
        "<div style=\"width: 50%; border: 2px solid #4CAF50; border-radius: 10px; padding: 20px; background-color: #f0f8ff; font-family: 'Courier New', Courier, monospace;\">\n",
        "  <p style=\"font-size: 16px; line-height: 1.6;\">\n",
        "    In many cases, you do not even need to modify the algorithm itself; you simply need to save the results of <strong>intermediate computations</strong>. \n",
        "    This technique is called <strong>caching</strong> (or <strong>memoisation</strong>). In particular, it makes sense to cache any results \n",
        "    that take a long time to compute and are used frequently.\n",
        "  </p>\n",
        "</div>\n"
      ]
    },
    {
      "cell_type": "markdown",
      "id": "5d6090d8",
      "metadata": {},
      "source": [
        "## How to Solve Algorithmic Problems. Part 1\n"
      ]
    },
    {
      "cell_type": "markdown",
      "id": "ca70e70a",
      "metadata": {},
      "source": [
        "To learn how to write efficient algorithmic programmes 🚀, you must learn how to **devise** them 💡. The process of devising code for a task is often referred to as **solving algorithmic problems** 🧩.\n",
        "\n",
        "We will now look at a few recommendations 👍 that frequently prove helpful when tackling such problems, whether they are **simple exercises** or **serious scientific projects**.\n",
        "\n",
        "You may sometimes come across this viewpoint: “I’ll read the problem statement, then I’ll look up the canonical solution and memorise it.” Unfortunately, that approach does not really work. In **behavioural economics**, there is a concept known as the **IKEA effect** 🛠️—people value only what they have contributed their own effort towards creating. The same applies to learning: it is better and easier to remember the methods **you** devised, even if it took a great deal of work. The time spent on solving a problem, and the challenges you face along the way, make it easier to spot similar patterns in new tasks later on. The perceived difficulty in the process of problem-solving acts like a **challenge** 🏆, which ultimately strengthens the effect.\n",
        "\n",
        "There is another common **trap** ⚠️ that developers often fall into:\n",
        "\n",
        "> You think: “This task is very straightforward; I can definitely solve it.” You write the code… only to discover later that it runs terribly slowly on large inputs, even though it worked fine on small inputs.  \n",
        ">  \n",
        "> For instance, if $N = 30$, your code finishes in 0.1 seconds. But if $N = 10{,}000$, it either fails to complete on time or does not run at all. Then you have to urgently switch to a different algorithm, reworking all the logic, and your deadlines have long since passed 😟. Management is unhappy, and you’ve already lost clients. It would have been better to think carefully **from the start** ⏱️.  \n",
        ">  \n",
        "> Or the opposite can happen: the developer begins with an **incredibly complex** solution, trying to account for every nuance, optimising it with advanced data structures. This is great for a large team or a major project. However, if you are working **alone** 😓, with a deadline looming in a week, you simply won’t manage it. So you need to understand which optimisations matter and which do not.\n"
      ]
    },
    {
      "cell_type": "markdown",
      "id": "40f3f932",
      "metadata": {},
      "source": [
        "There is another trap developers often stumble into 😬:\n",
        "\n",
        "> “I see it does not look that complicated, so I’ll dive straight into coding.”  \n",
        ">  \n",
        "> The next thing you know, a situation arises that many of us recognise: the developer writes code hastily, then realises it contains a bug 🐛. He tries to fix it, but can’t. A new bug appears, which he tries to patch. Before long, the code has turned into a messy Frankenstein creation, littered with fixes upon fixes. Eventually, the developer decides to scrap it and start over 🔄.\n",
        "\n",
        "Initially, it might have seemed as though 20 minutes of work was enough ⏱️. In reality, four hours were spent. Worse still, the developer is now reluctant to adjust anything because “it might just break again,” despite the code only just starting to work.\n",
        "\n",
        "If this scenario happened only rarely, it might be no big deal. However, when you neglect the step of **thinking through** the problem before coding, you run the risk of repeating this cycle. It is often far more beneficial to step away from the keyboard ⌨️, perhaps grab a pen and paper ✏️, and outline a clear plan or approach. After all, if you don’t know **what** to code, how can you be sure **why** it’s useful or whether it will even solve the problem?\n"
      ]
    },
    {
      "cell_type": "markdown",
      "id": "8d220c9d",
      "metadata": {},
      "source": [
        "### A Step-by-Step Approach to Solving Algorithmic Problems 📝\n"
      ]
    },
    {
      "cell_type": "markdown",
      "id": "ffda7704",
      "metadata": {},
      "source": [
        "1. **Read the problem statement carefully** 🔍: \n",
        "   - Pin down exactly what you need to achieve.  \n",
        "   - Note any distinctive features of the input data.  \n",
        "   - Familiarise yourself with the time and memory constraints.  \n",
        "\n",
        "   Much of the detail in a problem statement is there for a reason. It can hint at the expected input size or the computational challenges. Pay attention to all conditions: sometimes they reveal hidden complexities or edge cases you might otherwise miss.\n",
        "\n",
        "2. **Plan your solution** 🤔:  \n",
        "   - Think about how to handle the largest possible input size within the given constraints.  \n",
        "   - Ask yourself: “How can I process this data? What kind of algorithm is appropriate? What are the typical limits?”  \n",
        "   - Consider examples: Is it feasible to use a brute-force approach, or will it be too slow? Can you use additional memory to speed things up?  \n",
        "\n",
        "   If you can devise smaller examples or test cases, do so. By exploring simple scenarios, you can clarify the underlying logic and confirm whether your approach will scale to the more challenging inputs.\n",
        "\n",
        "3. **Develop and justify your solution** 💡:  \n",
        "   - Strive for a clear explanation of **why** it works.  \n",
        "   - Once you have a conceptual method, convert it into code.  \n",
        "   - Think about whether the algorithm is “naive.” Are there any obvious ways to optimise it?  \n",
        "   - Examine its complexity: does it run slowly? Does it require a lot of additional memory?  \n",
        "\n",
        "   Algorithms that look efficient at first can still fail if they have hidden inefficiencies. Before finalising your code, consider whether there is a **more** efficient data structure or a more direct way to solve the problem.\n",
        "\n",
        "Below is a British English adaptation of the text, preserving the essence about **naive algorithms** and the importance of explaining solutions simply:\n",
        "\n",
        "At this stage, the ideal outcome is a solution you could **easily** explain to a school student — one without complex definitions or lofty abstractions. 🎓\n",
        "\n",
        "The algorithm that first comes to mind is often called the **naive** solution. In many cases, it will be **suboptimal**. Nevertheless, do not skip over defining the naive algorithm, even if you know it runs very slowly. Consider specifically **why** the algorithm is inadequate. Is it too slow? Does it require too much extra memory?\n",
        "\n",
        "By following these steps—**understanding** the problem, **planning** the approach, and **justifying** the solution—you can avoid common pitfalls. This structured method also helps you build a robust mental model, making it easier to spot mistakes and improve your solution before writing any code. 🚀\n"
      ]
    },
    {
      "cell_type": "markdown",
      "id": "c5b6c79c",
      "metadata": {},
      "source": [
        "##### Quiz Question:\n"
      ]
    },
    {
      "cell_type": "markdown",
      "id": "eeac23b9",
      "metadata": {},
      "source": [
        "In a certain town $N$, bus tickets are issued with numbers ranging from `000000` to `999999`. A **lucky** ticket is defined as one where the sum of the digits in the **even** positions of the number equals the sum of the digits in the **odd** positions. Suppose we come up with an algorithm that, for every ticket number, calculates whether it is lucky. How should we assess this algorithm?\n",
        "\n",
        "- **This algorithm runs too slowly** and performs unnecessary actions.  \n",
        "- **This algorithm is inefficient** and uses too much memory for storing temporary variables.\n",
        "- **This algorithm provides the correct answer** and is efficient in terms of time and memory.\n",
        "\n"
      ]
    },
    {
      "cell_type": "markdown",
      "id": "dbdb3907",
      "metadata": {},
      "source": [
        "The **correct answer** is the second option: **This algorithm is inefficient and uses too much memory for storing temporary variables.**. If the data is written in the code, the application will be inefficient and will use too much memory. The algorithm can be optimised by calculating the sum of the digits in the odd and even positions of the number without storing the digits themselves. This will make the algorithm more efficient and reduce memory usage."
      ]
    },
    {
      "cell_type": "markdown",
      "id": "1040e0f5",
      "metadata": {},
      "source": [
        "## How to Solve Algorithmic Problems. Part 2\n"
      ]
    },
    {
      "cell_type": "markdown",
      "id": "e3cf3142",
      "metadata": {},
      "source": [
        "Sometimes you may not immediately be able to devise an algorithm. In such cases, consider these five tips for approaching the problem:"
      ]
    },
    {
      "cell_type": "markdown",
      "id": "04d78003",
      "metadata": {},
      "source": [
        "1. **Assume Helpful Additional Constraints:** 🛟  \n",
        "    If the problem provides a sequence of arbitrary numbers, try to solve it first for integers only, then extend your solution to real numbers. 😊\n",
        "\n",
        "2. **Work With Small Input Sizes:** 🐣  \n",
        "    Begin by solving the problem on a small scale, such as using 3 numbers in the sequence instead of 200. 👍\n",
        "\n",
        "3. **Decompose the Problem:** 🔍  \n",
        "    Consider whether you can break the problem into smaller subproblems. For example, given an array of length *n* where you need to find the maximum element, ask yourself:  \n",
        "    - What happens if you split the array into two equal parts?  \n",
        "    - If you know the maximum for each half, can you determine the overall maximum?  \n",
        "    - What if you remove just one element?  \n",
        "    This approach applies to arrays, numbers, and strings alike—solve the easier case first, then scale up. 🔍\n",
        "\n",
        "4. **Leverage Known Algorithms and Data Structures:** 📚  \n",
        "    Reflect on which algorithms or data structures you are familiar with that might be applicable. As you study, maintain a list of topics you’ve covered; your personal notes can be a valuable reference. 📚\n",
        "\n",
        "5. **Prototype an Initial Solution:** 🛠️  \n",
        "    Even if you’re not sure it’s correct, write down a potential solution and test it on examples of your own. Analyze the situations where your algorithm might fail and refine it accordingly. 📝\n",
        "\n",
        "By following these steps, you can gradually build up your understanding of the problem and devise a suitable solution. Remember, the goal is not to solve the problem as quickly as possible, but to **understand** it thoroughly and **develop** a robust solution. 🚀\n",
        "\n",
        "Let’s continue examining our workflow. In the previous step, we devised an algorithm and described it in simple terms understandable to a school student. Now we will move on to the next stage: **coding** the solution. 💻\n"
      ]
    },
    {
      "cell_type": "markdown",
      "id": "f1f0b9a4",
      "metadata": {},
      "source": [
        "- **Evaluate Your Naive Algorithm:** ➕  \n",
        "   Assess whether its time complexity is acceptable given the constraints, and justify its asymptotic behavior. 🤔\n",
        "\n",
        "- **Optimize Your Approach!** 🚀  \n",
        "   Consider how to improve your algorithm with strategies such as: 🚀\n",
        "\n",
        "   - **Bottleneck Identification:** \n",
        "       Look for the slowest part of your program (the bottleneck). For example, if a section runs in quadratic time while everything else is linear, focus on optimizing that segment. 🐢\n",
        "\n",
        "   - **Eliminating Repetitive Work:**\n",
        "       If you need to answer the same query for multiple elements (e.g., 10 different array elements), and you know that pre-sorting the array speeds up these queries, it is more efficient to sort just once rather than repeatedly. 🔄\n",
        "\n",
        "   - **Removing Unnecessary Actions:**  \n",
        "       Sometimes certain operations, like sorting when finding a minimum value, are redundant. For instance, instead of sorting an array to find its smallest element, maintain a running minimum as you process the input. 🧹\n",
        "\n",
        "   - **Choosing Optimal Data Structures:**  \n",
        "       Determine which operations are essential and select data structures that can handle them efficiently. For example, if you frequently check for membership, a set might be more appropriate than an array. 🗃️\n",
        "\n",
        "   - **Ensuring Full Use of Given Constraints:**  \n",
        "       Re-read the problem statement to ensure you've utilized all given information. There could be restrictions that allow you to simplify the solution. ✅\n",
        "\n",
        "   - **Balancing Memory and Time:**  \n",
        "       Contest problems typically impose limits on both memory and execution time:  \n",
        "       - Sometimes storing intermediate results (using extra memory) can drastically speed up your algorithm.  \n",
        "       - In other cases, as with the lucky tickets problem, saving memory may be more important. ⏱️\n"
      ]
    },
    {
      "cell_type": "markdown",
      "id": "15dfd944",
      "metadata": {},
      "source": [
        "#### Quiz Question:\n",
        "\n"
      ]
    },
    {
      "cell_type": "markdown",
      "id": "6802c1e3",
      "metadata": {},
      "source": [
        "Timofey decided to find out whether the four-leaf clover is truly the rarest. He collected `1000` clovers and then decided to count first all the clovers with one leaf, then those with two leaves — and so on up to six leaves. Each time, he compared how many plants had a specific number of leaves and updated his understanding of which clovers are the rarest. Is Timofey’s chosen algorithm a good one?\n",
        "\n",
        "- **Yes**, Timofey is inventive and does everything correctly.\n",
        "- **No**, this algorithm takes too long.\n",
        "- **No**, it requires remembering too much information.\n",
        "\n"
      ]
    },
    {
      "cell_type": "markdown",
      "id": "f207a7c8",
      "metadata": {},
      "source": [
        "The **correct answer** is the second option: **No, this algorithm takes too long.** Timofey’s approach is inefficient because it requires counting the number of clovers with each possible number of leaves. This method is not optimal, as it involves a large number of operations. A more efficient solution would be to count the number of clovers with each number of leaves in a single pass through the data. This would require less time and memory."
      ]
    },
    {
      "cell_type": "markdown",
      "id": "45fc7a5b",
      "metadata": {},
      "source": [
        "6. **Write Clean Code.** 👩🏼‍💻\n",
        "\n",
        "Pay attention to variable names. A good variable name describes what the object contains, even if it’s just a loop counter. 📝\n",
        "\n",
        "Also, mind your function names. Good function names essentially narrate the algorithm you would explain to a fifth-grader. 📚\n",
        "\n",
        "Often, recipes are written like this:\n",
        "> - Peel the potatoes and carrots.\n",
        "> - Cut the potatoes into cubes.\n",
        "> - Slice the carrots into rounds.\n",
        "> - Blanch the vegetables.\n",
        "> - Arrange the vegetables on the plate.\n",
        "\n",
        "The first three steps are self-explanatory and can be followed without additional instructions. However, if you’re not familiar with cooking, you might need clarification on what **“blanch”** means. In that case, the detailed implementation of a function can serve as that clarification by describing the precise sequence of actions.\n",
        "\n",
        "On the other hand, if you’re an experienced cook, the recipe is clear with just these five steps and you can skip reading the supporting text. This clarity is achieved through a careful choice of words for the concise recipe. The same principle applies to programming—there should be a way to read a “short recipe” for experts and also review the detailed implementation for the complex parts."
      ]
    },
    {
      "cell_type": "markdown",
      "id": "d6139edb",
      "metadata": {},
      "source": [
        "- Extract into functions all actions that repeat and logically form a single part of the work. This approach allows you to test complex sections separately and easier pinpoint where an error is occurring. 🎯\n",
        "- Remember to adhere to the programming language’s style guidelines. Inconsistent indentation and overly long lines should not distract you or the reviewer from the core idea of the solution.     📏\n",
        "\n",
        "7. **Carefully review your code. Pay special attention to:**\n",
        "- Conditional expressions; sometimes you might mix up the `<` and `>` signs or clumsily combine several logical conditions, forgetting the correct order of applying negation, logical `AND`, and `OR` operators. 🤔\n",
        "- Exit conditions for loops or functions; is the first and last element handled correctly? Are there cases where the loop exits prematurely? 🚪\n",
        "- Constants; do you clearly remember the purpose of each one? Is the value always consistent? 🧮\n",
        "\n",
        "8. **Test your code. 🧪**\n"
      ]
    },
    {
      "cell_type": "markdown",
      "id": "mt1",
      "metadata": {},
      "source": [
        "## How to Test Your Program"
      ]
    },
    {
      "cell_type": "markdown",
      "id": "mt2",
      "metadata": {},
      "source": [
        "In the previous part, we discussed the importance of being able to structure a program using functions. Even if you are writing code only for an educational task, we recommend breaking it down into logical parts."
      ]
    },
    {
      "cell_type": "markdown",
      "id": "mt3",
      "metadata": {},
      "source": [
        "Code divided into functions is easy to test. To test individual functions, write unit tests."
      ]
    },
    {
      "cell_type": "markdown",
      "id": "mt4",
      "metadata": {},
      "source": [
        "### 1. Unit Testing 🧪\n"
      ]
    },
    {
      "cell_type": "markdown",
      "id": "97560e88",
      "metadata": {},
      "source": [
        "For example, consider the task of finding palindromes in a set of strings (strings that read the same from left to right as from right to left) and displaying them in alphabetical order. The task is clearly divided into two parts. First, we filter the set of strings to include only those that read the same in both directions. Then we sort the strings in alphabetical order. These steps are independent. In other words, we can check the correctness of each function separately. This helps reduce the likelihood of errors in the program."
      ]
    },
    {
      "cell_type": "markdown",
      "id": "mt5",
      "metadata": {},
      "source": [
        "> \n",
        "> **[Rita]:** After we have divided the program into functions, we need to test two tasks instead of one! It seems we have not made any progress in writing tests!  \n",
        "> **[Timoty]:** That's right. Let's see how to test the first task.\n",
        ">"
      ]
    },
    {
      "cell_type": "markdown",
      "id": "61767ae7",
      "metadata": {},
      "source": [
        "We need to determine whether each string is a palindrome. Let’s identify the cases we need to check:"
      ]
    },
    {
      "cell_type": "markdown",
      "id": "mt6",
      "metadata": {},
      "source": [
        "- **Smallest example:** Check if an empty string reads the same backwards.\n",
        "- **Positive example:** Use a well-known palindrome. For instance, test the word \"racecar\". ✅  \n",
        "- **Negative example:** Choose a string that is not a palindrome. For example, test the word \"computer\". ❌  \n",
        "- **Edge-case examples:** Consider whether spaces and punctuation should be taken into account, and whether uppercase and lowercase letters are treated as identical. The phrase \"A man, a plan, a canal: Panama!\" might or might not be considered a palindrome depending on the task requirements. ⚖️  \n",
        "- **Extra tests:** It’s always better to write more tests than fewer ones, since unnecessary tests can be removed later. In this task, you could also verify the result for characters that look identical in both the Russian and English alphabets. An example string is \"TOТ\" (where the first and last characters are Latin, but the middle one could be visually similar in both layouts). ✨  \n",
        "- **Large-scale example:** Use the text from the first page of the novel \"War and Peace\" and check if it is a palindrome. This test will demonstrate the program’s performance and memory consumption. In some cases, you might notice the program \"pausing\"—an indication that the algorithm needs optimization. 🚀"
      ]
    },
    {
      "cell_type": "markdown",
      "id": "mt7",
      "metadata": {},
      "source": [
        "> **[Rita]:** We need to display the list of found palindromes in alphabetical order, but we ended up testing only our palindrome detection algorithm.  \n",
        ">\n",
        "> **[Timothy]:** Great that you noticed. Attention to detail is crucial in our work. As homework, test the solution yourself.\n",
        "> \n",
        "> **[Timothy]:** I have prepared a table of interesting cases for different types of input data to make it easier for you to deal with them. Choose the ones you need in each specific case, and don't hesitate to add more when you encounter interesting examples you haven't seen before.\n",
        ">  "
      ]
    },
    {
      "cell_type": "markdown",
      "id": "mt9",
      "metadata": {},
      "source": [
        "<!DOCTYPE html>\n",
        "<html>\n",
        "<head>\n",
        "    <style>\n",
        "        body {\n",
        "            margin: 0;\n",
        "            padding: 0;\n",
        "            background: #fafafa;\n",
        "            font-family: -apple-system, BlinkMacSystemFont, \"Segoe UI\", Roboto, Arial, sans-serif;\n",
        "            color: #333;\n",
        "        }\n",
        "        .table-container {\n",
        "            max-width: 1200px;\n",
        "            margin: 20px auto;\n",
        "            overflow: hidden;\n",
        "            border-radius: 16px;\n",
        "            box-shadow: 0 2px 4px rgba(0, 0, 0, 0.1);\n",
        "            background: white;\n",
        "        }\n",
        "        table {\n",
        "            width: 100%;\n",
        "            border-collapse: collapse;\n",
        "        }\n",
        "        thead th {\n",
        "            background: #7FBFB6;\n",
        "            color: #222;\n",
        "            padding: 16px;\n",
        "            font-size: 1.1em;\n",
        "            text-align: center;  /* Changed alignment from left to center */\n",
        "            border: none;\n",
        "        }\n",
        "        tbody td {\n",
        "            padding: 16px;\n",
        "            border: 1px solid #E5E7EB;\n",
        "            vertical-align: top;\n",
        "            line-height: 1.5;\n",
        "        }\n",
        "        tbody tr:nth-child(even) {\n",
        "            background: #f9f9f9;\n",
        "        }\n",
        "        .bullet-list {\n",
        "            list-style: none;\n",
        "            margin: 0;\n",
        "            padding: 0;\n",
        "        }\n",
        "        .bullet-list li {\n",
        "            position: relative;\n",
        "            padding-left: 20px;\n",
        "            margin-bottom: 8px;\n",
        "        }\n",
        "        .bullet-list li::before {\n",
        "            content: \"\";\n",
        "            position: absolute;\n",
        "            left: 0;\n",
        "            top: 8px;\n",
        "            width: 8px;\n",
        "            height: 8px;\n",
        "            border-radius: 50%;\n",
        "            background: #7FBFB6;\n",
        "        }\n",
        "        .italic {\n",
        "            font-style: italic;\n",
        "        }\n",
        "    </style>\n",
        "</head>\n",
        "<body>\n",
        "    <div class=\"table-container\">\n",
        "        <table>\n",
        "            <thead>\n",
        "                <tr>\n",
        "                    <th>Type of Test</th>\n",
        "                    <th>Strings</th>\n",
        "                    <th>Numbers</th>\n",
        "                    <th>Data Sets / Arrays</th>\n",
        "                </tr>\n",
        "            </thead>\n",
        "            <tbody>\n",
        "                <tr>\n",
        "                    <td><strong>Smallest Test</strong></td>\n",
        "                    <td>An <strong>empty string</strong> or minimal negative/zero-length string as allowed by the problem</td>\n",
        "                    <td><strong>0</strong> or the minimal/negative integer specified by the problem</td>\n",
        "                    <td>An <strong>empty data set</strong> (no elements)</td>\n",
        "                </tr>\n",
        "                <tr>\n",
        "                    <td><strong>Largest Test</strong></td>\n",
        "                    <td>The <strong>longest valid string</strong> permitted by the problem statement</td>\n",
        "                    <td>\n",
        "                        A maximum-size number within the allowed range (e.g., \n",
        "                        <code>INT_MAX</code>, <code>32767</code>, or <code>65535</code> depending on the constraints)\n",
        "                    </td>\n",
        "                    <td>A data set of the <strong>maximum allowed size</strong>, potentially including boundary values</td>\n",
        "                </tr>\n",
        "                <tr>\n",
        "                    <td><strong>Special Cases</strong></td>\n",
        "                    <td>\n",
        "                        <ul class=\"bullet-list\">\n",
        "                            <li>A string with <strong>only spaces</strong> or <strong>non-letter characters</strong></li>\n",
        "                            <li>A string with <strong>uppercase and lowercase letters</strong></li>\n",
        "                            <li>A <strong>single character</strong> string</li>\n",
        "                        </ul>\n",
        "                    </td>\n",
        "                    <td>\n",
        "                        <ul class=\"bullet-list\">\n",
        "                            <li><strong>Positive/negative</strong> integer</li>\n",
        "                            <li><strong>Zero</strong></li>\n",
        "                            <li>A <strong>floating-point</strong> number</li>\n",
        "                            <li><strong>Sum</strong> or <strong>difference</strong> of two numbers</li>\n",
        "                        </ul>\n",
        "                    </td>\n",
        "                    <td>\n",
        "                        <ul class=\"bullet-list\">\n",
        "                            <li>A set where <strong>all elements</strong> are the same</li>\n",
        "                            <li>A set where <strong>each element</strong> is unique</li>\n",
        "                            <li>A set containing <strong>edge-case values</strong> (e.g., min/max elements)</li>\n",
        "                        </ul>\n",
        "                    </td>\n",
        "                </tr>\n",
        "            </tbody>\n",
        "        </table>\n",
        "    </div>\n",
        "</body>\n",
        "</html>\n"
      ]
    },
    {
      "cell_type": "markdown",
      "id": "mt10",
      "metadata": {},
      "source": [
        "These are far from all the edge cases that need to be considered. When writing tests, you must think like a hacker. While playing that role, your goal is not to prove that the program is well-written, but rather to show its weaknesses. In other words, try to break your program in every possible way."
      ]
    },
    {
      "cell_type": "markdown",
      "id": "9a53efa2",
      "metadata": {},
      "source": [
        "### 2. What to Do If the Result Is Not OK 🤔"
      ]
    },
    {
      "cell_type": "markdown",
      "id": "mt11",
      "metadata": {},
      "source": [
        "In the task evaluation system, each solution is executed sequentially on a specific set of tests. For each test, a status is assigned. You can view the statuses of all tests at once. The system may return the following statuses:\n",
        "\n",
        "- **OK** — The solution worked correctly for this test. 🆗  \n",
        "- **WA (wrong answer)** — The program produced an incorrect answer. If multiple tests return this verdict, try adding more tests or re-read the requirements; you might have missed an important detail. If only a few tests fail, carefully check edge cases, such as the smallest example input. 🚩  \n",
        "- **TL (time limit)** — The program did not finish executing within the allotted time. Different languages have different time limits because they have different performance characteristics. If the execution time is very close to the time limit, it indicates that the testing system terminated your code before it could finish. In this case, you need to optimize the algorithm. 🕒  \n",
        "- **ML (memory limit)** — The program used more memory than allowed. Re-examine the memory constraints for the task. ML often occurs due to the creation of an unnecessary array. It might be possible to process the input one element at a time and output the answer immediately without storing all data. 🧠  \n",
        "- **RE (runtime error)** — The program terminated with an error that wasn’t handled. You can check the error details in the test's log to see on which line the error occurred and what type of error was caught (for example, attempting to access an 11th element in an array of size 10). 🚨  \n",
        "\n",
        "A task is considered solved only when all tests return the **OK** status. It is normal for some tasks to require significant effort to fix errors and pass all tests."
      ]
    },
    {
      "cell_type": "markdown",
      "id": "io-header",
      "metadata": {},
      "source": [
        "## Input-Output"
      ]
    },
    {
      "cell_type": "markdown",
      "id": "io-intro",
      "metadata": {},
      "source": [
        "When solving algorithmic problems, many details must be considered since each one can affect the efficiency of the program. You already know that programs can have various constraints. For some applications, the primary limitation is the speed of computations. Such algorithms are known as **CPU-bound** algorithms. For example, in competitive programming tasks, execution time is strictly limited; hence, the solutions must run quickly ⌛️.\n",
        "\n",
        "In contests, tasks are not only time-constrained but also limited by the available memory. Algorithms that face more issues due to memory shortages than due to processing speed are said to be **memory-bound** algorithms. In such cases, the program may run quickly, but the amount of memory it uses is excessive 🧠.\n",
        "\n",
        "There is another important aspect of program performance: input/output speed. Some algorithms work so fast and efficiently that most of the time the program simply waits for input data. Sometimes, a program may calculate everything quickly, but then be forced to spend a long time on output. This type of limitation is called **I/O (input/output)-bound** 🔄."
      ]
    },
    {
      "cell_type": "markdown",
      "id": "io-dialogue-1",
      "metadata": {},
      "source": [
        "> **[Rita]:** But such programs also take a lot of time, just like CPU-bound programs. Why do we differentiate between CPU-bound and I/O-bound?  \n",
        "> **[Timoty]:** You're right that in both cases the runtime is the limiting factor. However, in the first case the processor is working hard, while in the second, other components of the system—such as RAM, the hard drive, the internet connection, or even the keyboard—are responsible for the delay.  \n",
        "> **[Rita]:** So if the hard drive causes the delay, does that mean I need a faster hard drive?  \n",
        "> **[Timoty]:** If you're loading data from files, a faster hard drive can indeed help. But there are also simpler and more effective ways to accelerate a program—or rather, to prevent it from slowing down. I'll now explain how a program reads data, which will clarify how to organize efficient input and output."
      ]
    },
    {
      "cell_type": "markdown",
      "id": "63b90c05",
      "metadata": {},
      "source": [
        "### 1. How a Program Reads Data 📥"
      ]
    },
    {
      "cell_type": "markdown",
      "id": "io-read",
      "metadata": {},
      "source": [
        "The program receives data directly from RAM and processor memory. If it needs data that isn't already loaded, it sends a **request to the operating system**. For example, instead of reading an entire file, the program can request the **next character**. The operating system reads a small block from the hard drive and returns the requested character. 🚀\n",
        "\n",
        "Since the operating system's response isn't instantaneous, repeated requests (such as asking for each subsequent character) can take a significant amount of time. It's like moving a pile of sand one grain at a time. **Key point:** The OS typically reads data in blocks and uses a buffer, which helps avoid unnecessary and costly disk accesses. 💡\n",
        "\n",
        "Data **output** also involves the **operating system**. Built-in functions typically **buffer output**, and when the end of the line is reached, the buffer may automatically flush, sending data to the output stream. ⚡️\n",
        "\n",
        "If you need to print many lines, it's common to combine them into a single string with newline characters and then print them all at once. Remember to always balance **fast output** with **memory usage**, since concatenating too many strings can lead to memory shortages. ⚠️"
      ]
    },
    {
      "cell_type": "markdown",
      "id": "io-dialogue-3",
      "metadata": {},
      "source": [
        "> **[Rita]:** And when reading data, do memory issues occur?  \n",
        "> **[Timoty]:** Yes, but they aren’t due to buffering. Imagine that a program must sum all the numbers from a file. What options are there for this?  \n",
        "> **[Rita]:** The first option is to read the entire line, split it by spaces, convert the substrings to numbers, and sum them, for example:  \n",
        "> `\"2 3 5 7\"` → `[\"2\", \"3\", \"5\", \"7\"]` → `[2, 3, 5, 7]` → `17`  \n",
        "> **[Timoty]:** Exactly. But this method requires a lot of memory because you need to store the original string, the substrings, and the numbers. If the file is large, there might not be enough RAM.  \n",
        "> **[Rita]:** Is there a way to improve the algorithm?  \n",
        "> **[Timoty]:** Of course. You can read the data line by line, immediately convert each line to a number, and add it to an accumulator. That way, only the current data is stored in memory, which saves resources."
      ]
    },
    {
      "cell_type": "markdown",
      "id": "io-summary",
      "metadata": {},
      "source": [
        "Even if a program needs to store all the data it reads, it most likely doesn't need the original strings. Therefore, there's no need to retain them. Once you've read the data, process it **once** and store it in the most suitable format for the task. For example, if you're working with numbers, store them as *numbers* rather than strings. **Key Point: Optimize data storage to conserve memory.** 🚀\n",
        "\n",
        "This approach helps save RAM. Converting a string to a number might seem like a simple operation, but if you don't save the result, you'll have to repeat the conversion every time, which can be very time-consuming. **Key Point: Avoid redundant operations to improve efficiency.** ⏱️"
      ]
    },
    {
      "cell_type": "markdown",
      "id": "5c716def",
      "metadata": {},
      "source": [
        "## Input/Output Optimisation\n"
      ]
    },
    {
      "cell_type": "markdown",
      "id": "f00ad358",
      "metadata": {},
      "source": [
        "Standard input/output methods are not always efficient, especially when dealing with large amounts of data. Although many online platforms (like LeetCode) provide function signatures and handle input/output behind the scenes, it’s still useful to know how to optimise these operations—particularly if you’re testing your solutions locally or participating in other competitions that do require manual input/output.\n"
      ]
    },
    {
      "cell_type": "markdown",
      "id": "a932f227",
      "metadata": {},
      "source": [
        "### Example Problem 📝\n"
      ]
    },
    {
      "cell_type": "markdown",
      "id": "a7141507",
      "metadata": {},
      "source": [
        "1. You receive an integer $n$ ($n \\le 10^6$)—the number of lines you will process.  \n",
        "2. The next $n$ lines each contain **two** integers.  \n",
        "3. For each of these $n$ lines, calculate and output the **sum** of those two integers.\n",
        "\n",
        "**Sample Input** (for local testing):\n",
        "```\n",
        "3\n",
        "1 2\n",
        "10 20\n",
        "100 200\n",
        "```\n",
        "\n",
        "**Sample Output**:\n",
        "```\n",
        "3\n",
        "30\n",
        "300\n",
        "```\n",
        "\n"
      ]
    },
    {
      "cell_type": "markdown",
      "id": "3f6787af",
      "metadata": {},
      "source": [
        "When working in an online judge environment that directly calls your function, you usually won’t need to manage standard input/output yourself. **However**, if you test locally (e.g., with `python solution.py < input.txt`) or use a platform that requires explicit input reading, consider the following optimisations.\n",
        "\n"
      ]
    },
    {
      "cell_type": "markdown",
      "id": "33c32766",
      "metadata": {},
      "source": [
        "### Efficient Code Structure 🚀"
      ]
    },
    {
      "cell_type": "markdown",
      "id": "045f86b4",
      "metadata": {},
      "source": [
        "Below is an illustrative Python solution that reads from standard input and prints the results all at once. You can adapt it for your local testing environment or for a system that expects a `main()` function:\n",
        "\n",
        "```python\n",
        "import sys\n",
        "\n",
        "def solve():\n",
        "    num_lines = int(sys.stdin.readline().strip())  # Read the first line\n",
        "    output_numbers = []\n",
        "    \n",
        "    for _ in range(num_lines):\n",
        "        line = sys.stdin.readline().rstrip()\n",
        "        value_1, value_2 = line.split()\n",
        "        value_1 = int(value_1)\n",
        "        value_2 = int(value_2)\n",
        "        result = value_1 + value_2\n",
        "        output_numbers.append(str(result))\n",
        "    \n",
        "    # Print all results at once\n",
        "    print('\\n'.join(output_numbers))\n",
        "\n",
        "# For local testing only:\n",
        "if __name__ == '__main__':\n",
        "    solve()\n",
        "```\n"
      ]
    },
    {
      "cell_type": "markdown",
      "id": "9c502f4a",
      "metadata": {},
      "source": [
        "#### Why This Is Efficient? 🤔\n"
      ]
    },
    {
      "cell_type": "markdown",
      "id": "63de59ca",
      "metadata": {},
      "source": [
        "1. **Buffered Output**:  \n",
        "   Instead of printing each sum immediately, we collect them in `output_numbers` and print them all at once. Printing line by line can be slower, especially for very large $n$.\n",
        "\n",
        "2. **Local Variables**:  \n",
        "   By encapsulating everything in the `solve()` function, you use local rather than global variables. This can improve performance in Python.\n",
        "\n",
        "3. **Fast I/O Methods**:  \n",
        "   - We use `sys.stdin.readline()` instead of `input()` for faster reads.  \n",
        "   - We manually strip the newline character with `.rstrip()`.  \n",
        "   - We split the line into two parts (`value_1`, `value_2`) and convert them to integers without creating extra objects like lists or maps.\n",
        "\n",
        "4. **Minimal Overhead**:  \n",
        "   - Constructing temporary lists or using `map(int, line.split())` can be slightly slower in very large inputs due to the creation of additional objects.  \n",
        "   - By parsing the strings manually, we minimise overhead."
      ]
    },
    {
      "cell_type": "markdown",
      "id": "e6e023f6",
      "metadata": {},
      "source": [
        "### LeetCode-Style Function\n"
      ]
    },
    {
      "cell_type": "markdown",
      "id": "e84d0c05",
      "metadata": {},
      "source": [
        "On LeetCode, you typically write a function that accepts parameters (e.g., a list of pairs) and returns a result. For the above problem, you might receive the input as an array of arrays—something like `[[1, 2], [10, 20], [100, 200]]`. A LeetCode-style solution could look like this:\n",
        "\n",
        "```python\n",
        "class Solution:\n",
        "    def pairSums(self, pairs: List[List[int]]) -> List[int]:\n",
        "        result = []\n",
        "        for value_1, value_2 in pairs:\n",
        "            result.append(value_1 + value_2)\n",
        "        return result\n",
        "```\n",
        "\n",
        "LeetCode handles input/output for you, so you only need to focus on the **core logic**. You won’t need `sys.stdin.readline()` or a main function. 👩🏼‍💻"
      ]
    },
    {
      "cell_type": "markdown",
      "id": "8bc1e0c7",
      "metadata": {},
      "source": [
        "### Additional Tips 📌\n"
      ]
    },
    {
      "cell_type": "markdown",
      "id": "e6db0a9f",
      "metadata": {},
      "source": [
        "1. **Handling Large Data**  \n",
        "    If you know **n** can be up to **10^6** or more, watch out for **time** and **memory limits**. Even with an **O(n)** approach, you might be dealing with millions of operations, so any micro-optimisations—like reducing extra data structures—can help improve performance. ⚡\n",
        "\n",
        "2. **Testing Locally**  \n",
        "    - You can redirect a test file into your Python script for quick performance checks:  \n",
        "      ```bash\n",
        "      python solution.py < test_input.txt\n",
        "      ```  \n",
        "    - Compare the runtime for different approaches (e.g., `input()` vs `sys.stdin.readline()`). 🔍\n",
        "\n",
        "3. **Memory vs. Speed**  \n",
        "    - If you store all results in a list before printing, you might use more **memory** but reduce the overhead from multiple print calls.  \n",
        "    - If memory is extremely tight, consider printing incrementally—acknowledging that this could be slower. 🐢\n",
        "\n",
        "4. **Function vs. Full Script**  \n",
        "    - If a platform like **LeetCode** calls your code, simply implement the **required function signature**.  \n",
        "    - For judges that require you to handle I/O, adapting the `solve()` approach is recommended. 💻\n",
        "\n",
        "By following these guidelines—**buffering output**, **using fast I/O methods**, and **encapsulating logic** in a function—you can ensure your code remains efficient, whether you're tackling LeetCode challenges or testing locally with large input files. 🚀"
      ]
    },
    {
      "cell_type": "markdown",
      "id": "reflection-questions",
      "metadata": {},
      "source": [
        "## Reflection Questions\n"
      ]
    },
    {
      "cell_type": "markdown",
      "id": "88857a45",
      "metadata": {},
      "source": [
        "\n",
        "- How do different asymptotic notations (O, Θ, Ω) influence your choice of algorithm? 🤔\n",
        "- How do hardware limitations and built-in optimizations affect the real-world performance of an algorithm? 💡\n",
        "- What trade-offs between time and memory are acceptable in various projects? 🔄\n",
        "- How can algorithmic improvements directly impact user experience in software applications? 🚀\n",
        "- In what situations might a higher time complexity be acceptable in exchange for lower space usage? 🏗️\n",
        "- How do parallel processing and concurrency alter traditional complexity analyses? 🔀\n",
        "- What are the benefits and drawbacks of memoization compared to iterative solutions in terms of performance and memory? 📝\n"
      ]
    },
    {
      "cell_type": "markdown",
      "id": "additional-resources",
      "metadata": {},
      "source": [
        "## Additional Resources"
      ]
    },
    {
      "cell_type": "markdown",
      "id": "0410e0cf",
      "metadata": {},
      "source": [
        "- [Introduction to Algorithms (CLRS)](https://mitpress.mit.edu/books/introduction-to-algorithms) 📘\n",
        "- [MIT OpenCourseWare - Introduction to Algorithms](https://ocw.mit.edu/courses/electrical-engineering-and-computer-science/6-006-introduction-to-algorithms-fall-2011/) 🎓\n",
        "- [GeeksforGeeks - Analysis of Algorithms](https://www.geeksforgeeks.org/analysis-of-algorithms-set-1-asymptotic-analysis/) 💻\n",
        "- [Python `timeit` Documentation](https://docs.python.org/3/library/timeit.html) 📄\n",
        "- [Understanding Spatial Complexity](https://www.geeksforgeeks.org/spatial-complexity-of-algorithms/) 🌟\n",
        "- [cProfile and Profiling Techniques](https://docs.python.org/3/library/profile.html) 🔍"
      ]
    }
  ],
  "metadata": {
    "kernelspec": {
      "display_name": "Python 3",
      "name": "python3"
    },
    "language_info": {
      "codemirror_mode": {
        "name": "ipython",
        "version": 3
      },
      "file_extension": ".py",
      "mimetype": "text/x-python",
      "name": "python",
      "nbconvert_exporter": "python",
      "pygments_lexer": "ipython3",
      "version": "3.13.2"
    }
  },
  "nbformat": 4,
  "nbformat_minor": 5
}
