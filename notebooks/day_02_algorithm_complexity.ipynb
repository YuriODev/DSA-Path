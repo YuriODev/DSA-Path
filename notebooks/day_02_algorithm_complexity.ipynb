{
  "cells": [
    {
      "cell_type": "markdown",
      "id": "97520b60",
      "metadata": {},
      "source": [
        "# <a id='toc1_'></a>[Day 2: Algorithm Complexity, Execution Time, & Spatial Complexity 🚀](#toc0_)"
      ]
    },
    {
      "cell_type": "markdown",
      "id": "5c8263d4",
      "metadata": {},
      "source": [
        "## <a id='toc1_1_'></a>[Table of Contents 📖](#toc0_)"
      ]
    },
    {
      "cell_type": "markdown",
      "id": "61a8da5f",
      "metadata": {},
      "source": [
        "- [Objectives](#toc1_2_)    \n",
        "- [Algorithm Complexity](#toc1_3_)    \n",
        "  - [Asymptotic Notation and Growth Rates 📈](#toc1_3_1_)    \n",
        "  - [Big O Notation in Practice 🤔](#toc1_3_2_)    \n",
        "  - [Key Point 🧠](#toc1_3_3_)    \n",
        "  - [Additional Notations: Θ and Ω 🤓](#toc1_3_4_)    \n",
        "  - [Real-World Examples & Quiz Questions 🧐](#toc1_3_5_)    \n",
        "    - [**Example 1: Cupboard Notebook Run 📚**](#toc1_3_5_1_)    \n",
        "    - [**Example 2: Elevator Meetings** 🏢](#toc1_3_5_2_)    \n",
        "    - [**Example 3: Brute Force Conversion (Decimal to Binary)** 🧮](#toc1_3_5_3_)    \n",
        "      - [Quiz Question:](#toc1_3_5_3_1_)    \n",
        "    - [**Example 4: Simple Python Programme Complexity** 🐍](#toc1_3_5_4_)    \n",
        "    - [**Example 5: Clothes Selection** 👗](#toc1_3_5_5_)    \n",
        "    - [**Example 6: Binary Search** 🔍](#toc1_3_5_6_)    \n",
        "    - [**Comparing Complexities** 📊](#toc1_3_5_7_)    \n",
        "    - [**Key Takeaways 🚀**](#toc1_3_5_8_)    \n",
        "- [Estimating Execution Time](#toc1_4_)    \n",
        "  - [Practical Testing 🧪](#toc1_4_1_)    \n",
        "  - [Measuring Real Execution Time 🕰️](#toc1_4_2_)    \n",
        "    - [Using the `timeit` Module 🕰️](#toc1_4_2_1_)    \n",
        "  - [Balancing Theory and Practice 🤹‍♂️](#toc1_4_3_)    \n",
        "    - [Is This $O(n)$ Approach Feasible in Practice? 🤔](#toc1_4_3_1_)    \n",
        "  - [Measuring Actual Performance 📏](#toc1_4_4_)    \n",
        "    - [Python Example](#toc1_4_4_1_)    \n",
        "    - [C++ Example](#toc1_4_4_2_)    \n",
        "    - [**Exercise 1: Apple Selection** 🍏](#toc1_4_4_3_)    \n",
        "    - [**Exercise 2: Solar System Model** 🌌](#toc1_4_4_4_)    \n",
        "    - [**Exercise 3: Apple Sponge Recipe** 🍰](#toc1_4_4_5_)    \n",
        "    - [Conclusion 🎉](#toc1_4_4_6_)    \n",
        "- [Space Complexity](#toc1_5_)    \n",
        "  - [What Is the Space Complexity of an Algorithm? 🧠](#toc1_5_1_)    \n",
        "- [Relationship Between Space and Time Complexity 🔄](#toc1_6_)    \n",
        "  - [Space and Time Complexity in Practice 🚀](#toc1_6_1_)    \n",
        "- [How to Solve Algorithmic Problems. Part 1](#toc1_7_)    \n",
        "  - [A Step-by-Step Approach to Solving Algorithmic Problems 📝](#toc1_7_1_)    \n",
        "      - [Quiz Question:](#toc1_7_1_1_1_)    \n",
        "- [How to Solve Algorithmic Problems. Part 2](#toc1_8_)    \n",
        "    - [Quiz Question:](#toc1_8_1_1_)    \n",
        "- [How to Test Your Program](#toc1_9_)    \n",
        "  - [Unit Testing 🧪](#toc1_9_1_)    \n",
        "  - [What to Do If the Result Is Not OK 🤔](#toc1_9_2_)    \n",
        "- [Input-Output](#toc1_10_)    \n",
        "  - [How a Program Reads Data 📥](#toc1_10_1_)    \n",
        "- [Input/Output Optimisation](#toc1_11_)    \n",
        "  - [Example Problem 📝](#toc1_11_1_)    \n",
        "  - [Efficient Code Structure 🚀](#toc1_11_2_)    \n",
        "    - [Why This Is Efficient? 🤔](#toc1_11_2_1_)    \n",
        "  - [LeetCode-Style Function](#toc1_11_3_)    \n",
        "  - [Additional Tips 📌](#toc1_11_4_)    \n",
        "- [Complexity Analysis](#toc1_12_)    \n",
        "  - [Pseudocode and Cost Table 📝](#toc1_12_1_)    \n",
        "    - [Notation and Assumptions:](#toc1_12_1_1_)    \n",
        "  - [How the Insertion Sort Algorithm Works 🛠️](#toc1_12_2_)    \n",
        "  - [Complexity Analysis of Insertion Sort 📊](#toc1_12_3_)    \n",
        "- [Examples of Asymptotic Complexity](#toc1_13_)    \n",
        "  - [Linear Traversal $O(n)$ 🚶](#toc1_13_1_)    \n",
        "  - [Nested Loops (Quadratic) 🔄](#toc1_13_2_)    \n",
        "  - [Merge Sort–Like Pattern ($n \\log n$) 🔄](#toc1_13_3_)    \n",
        "  - [Logarithmic Loop ($O(\\log n)$) 🔄](#toc1_13_4_)    \n",
        "  - [Exponential Growth (Recursive) 🔄](#toc1_13_5_)    \n",
        "  - [Key Points](#toc1_13_6_)    \n",
        "- [ Identifying Dominant Terms in Expressions](#toc1_14_)    \n",
        "  - [Polynomial Example 📊](#toc1_14_1_)    \n",
        "  - [Another Polynomial Example 📊](#toc1_14_2_)    \n",
        "  - [Mixed Polynomial and Logarithm 📊](#toc1_14_3_)    \n",
        "  - [Polynomial vs. Exponential 📊](#toc1_14_4_)    \n",
        "  - [Large Polynomial vs. Another Exponential 📊](#toc1_14_5_)    \n",
        "  - [Key Takeaways](#toc1_14_6_)    \n",
        "- [Practice Examples](#toc1_15_)    \n",
        "  - [Example 1: Linear Search 🚶](#toc1_15_1_)    \n",
        "  - [Example 2: Linear Search (Reversed) 🚶](#toc1_15_2_)    \n",
        "  - [Example 3: Insertion Sort 🔄](#toc1_15_3_)    \n",
        "  - [Example 4: Insertion Sort (Reversed) 🔄](#toc1_15_4_)    \n",
        "  - [Example 5: Sorting Algorithm Complexity 🔄](#toc1_15_5_)    \n",
        "- [Combined complexity](#toc1_16_)    \n",
        "  - [Example: Reading Input and Sorting 🔄](#toc1_16_1_)    \n",
        "    - [Analysis](#toc1_16_1_1_)    \n",
        "  - [Combining Complexities by Addition 🔄](#toc1_16_2_)    \n",
        "    - [Examples](#toc1_16_2_1_)    \n",
        "    - [When to Keep Multiple Terms](#toc1_16_2_2_)    \n",
        "  - [Combining Complexities by Multiplication](#toc1_16_3_)    \n",
        "    - [Example: Sorting with Multiple Keys](#toc1_16_3_1_)    \n",
        "    - [Insertion into a Data Structure](#toc1_16_3_2_)    \n",
        "  - [Key Takeaways 🚀](#toc1_16_4_)    \n",
        "  - [Summary of Key Concepts 📚](#toc1_16_5_)    \n",
        "  - [Final Thoughts 🤔](#toc1_16_6_)    \n",
        "- [Test Your Knowledge](#toc1_17_)    \n",
        "  - [Exercise 1: Populate Complexity 📊](#toc1_17_1_)    \n",
        "  - [Exercise 2: Fibonacci Complexity 📊](#toc1_17_2_)    \n",
        "  - [Exercise 3: Quicksort Worst-Case Complexity 📊](#toc1_17_3_)    \n",
        "  - [Exercise 4: Sum of Digits Complexity 📊](#toc1_17_4_)    \n",
        "  - [Exercise 5: Asymptotic Complexity with a While and For Loop 📊](#toc1_17_5_)    \n",
        "  - [Exercise 6: Prime Factors Complexity 📊](#toc1_17_6_)    \n",
        "  - [Exercise 7: Counting Sort Complexity 📊](#toc1_17_7_)    \n",
        "  - [Exercise 8: Asymptotic Time Complexity of a Hash Function 📊](#toc1_17_8_)    \n",
        "  - [Exercise 9: Merge Sort Complexity for Maintaining a Sorted Set 📊](#toc1_17_9_)    \n",
        "  - [Exercise 10: Insertion Sort Complexity for Maintaining a Sorted Set 📊](#toc1_17_10_)    \n",
        "- [Reflection Questions](#toc1_18_)    \n",
        "- [Additional Resources](#toc1_19_)    \n",
        "\n",
        "<!-- vscode-jupyter-toc-config\n",
        "numbering=false\n",
        "anchor=true\n",
        "flat=false\n",
        "minLevel=1\n",
        "maxLevel=6\n",
        "/vscode-jupyter-toc-config -->\n",
        "<!-- THIS CELL WILL BE REPLACED ON TOC UPDATE. DO NOT WRITE YOUR TEXT IN THIS CELL -->"
      ]
    },
    {
      "cell_type": "markdown",
      "metadata": {},
      "source": [
        "## <a id='toc1_2_'></a>[Objectives](#toc0_)"
      ]
    },
    {
      "cell_type": "markdown",
      "id": "812fa18e",
      "metadata": {},
      "source": [
        "- **Master Asymptotic Analysis:** Deepen your understanding of how algorithm efficiency is measured, and explore Big O, Θ (Theta), and Ω (Omega) notations. 🤓\n",
        "- **Compare Growth Rates:** Learn to contrast different complexities (O(1), O(n), O(n²), O(2^n), O(n³)) through concrete examples and visualisations. 📈\n",
        "- **Measure Execution Time:** Acquire practical skills using Python’s `time` and `timeit` modules, and understand profiling for performance optimisation. ⏱️\n",
        "- **Analyse Spatial Complexity:** Understand memory consumption, evaluate trade-offs between time and space, and learn strategies for memory optimisation. 💾\n",
        "- **Develop Problem-Solving Strategies:** Adopt a systematic approach to designing, testing, and refining algorithmic solutions while avoiding common pitfalls. 🔍"
      ]
    },
    {
      "cell_type": "markdown",
      "id": "adb44afa",
      "metadata": {},
      "source": [
        "## <a id='toc1_3_'></a>[Algorithm Complexity](#toc0_)"
      ]
    },
    {
      "cell_type": "markdown",
      "metadata": {},
      "source": [
        "### <a id='toc1_3_1_'></a>[Asymptotic Notation and Growth Rates 📈](#toc0_)\n"
      ]
    },
    {
      "cell_type": "markdown",
      "id": "1746bbb3",
      "metadata": {},
      "source": [
        "\n",
        "From the previous lessons, you’ve learned that different algorithms can have different running times. You might wonder why we need to know this. After all, “everyone calculates algorithm complexity” might sound like just another topic from the realm of abstract and convoluted programming stuff. But don’t jump to conclusions! Repeat this mantra a few times to absorb its essence:\n",
        "\n",
        "```\n",
        "O(n) — linear dependence\n",
        "O(log n) — logarithmic dependence\n",
        "```\n",
        "\n",
        "Look closely—the meaning becomes clear: it’s about how the algorithm’s running time changes as the input size grows, and whether it can handle that growth at all. In theory, this is called asymptotics and is written as `O(n)` (read as “big O of n”). Sometimes people say **Big O notation**.\n",
        "\n",
        "When you design an algorithm, knowing how its running time scales is essential—especially if `n` becomes very large. 😊"
      ]
    },
    {
      "cell_type": "markdown",
      "metadata": {},
      "source": [
        "### <a id='toc1_3_2_'></a>[Big O Notation in Practice 🤔](#toc0_)"
      ]
    },
    {
      "cell_type": "markdown",
      "id": "9424d779",
      "metadata": {},
      "source": [
        "\n",
        "\n",
        "Such abbreviations are referred to as **O-notation** (from the English “Big O notation”).\n",
        "\n",
        "In **O-notation**, we do not account for constants and coefficients. For instance, if an algorithm performs $5 \\times n + 3$ operations, its complexity is $O(n)$. In asymptotic analysis, constant values become negligible as $n$ grows. We cannot say that constants are entirely unimportant—after all, in practical scenarios, they can affect performance for smaller inputs. However, they **do not** fundamentally alter whether the algorithm remains feasible for large $n$.\n",
        "\n",
        "To illustrate, consider the running times of several algorithms:\n",
        "\n",
        "1. **First algorithm:** performs $2n + 3$ operations.  \n",
        "2. **Second algorithm:** performs $3n$ operations.  \n",
        "3. **Third algorithm:** performs $\\log(n+2)$ operations.  \n",
        "4. **Fourth algorithm:** performs $\\log(n+1)+1$ operations.\n",
        "\n",
        "If you plot the number of operations against $n$, you will see that, as $n$ becomes very large, these expressions differ only by their constant factors or linear coefficients—yet they all grow **linearly** with $n$. In Big O notation, each one is described as $O(n)$."
      ]
    },
    {
      "cell_type": "markdown",
      "metadata": {},
      "source": [
        "### <a id='toc1_3_3_'></a>[Key Point 🧠](#toc0_)\n"
      ]
    },
    {
      "cell_type": "markdown",
      "id": "835f6214",
      "metadata": {},
      "source": [
        "\n",
        "Although constants and lower-order terms can matter for small inputs, they **cannot** transform a linear algorithm into a quadratic or exponential one, and vice versa. That is why Big O notation focuses on the **dominant term** as $n$ tends to infinity, giving us a clear picture of how an algorithm’s complexity scales in the long run."
      ]
    },
    {
      "cell_type": "code",
      "execution_count": 16,
      "id": "big-o-graph",
      "metadata": {},
      "outputs": [
        {
          "data": {
            "image/png": "[encoded data removed]",
            "text/plain": [
              "<Figure size 1000x600 with 1 Axes>"
            ]
          },
          "metadata": {},
          "output_type": "display_data"
        }
      ],
      "source": [
        "import numpy as np\n",
        "import matplotlib.pyplot as plt\n",
        "\n",
        "# Create a range of input sizes\n",
        "n = np.linspace(1, 5, 5)\n",
        "\n",
        "# Define several example functions\n",
        "f1 = 2*n + 3           # First algorithm: 2n + 3\n",
        "f2 = 3*n               # Second algorithm: 3n\n",
        "f3 = np.log(n + 2)     # Third algorithm: log(n+2)\n",
        "f4 = np.log(n + 1) + 1 # Fourth algorithm: log(n+1) + 1\n",
        "\n",
        "plt.figure(figsize=(10, 6))\n",
        "plt.plot(n, f1, label='2n + 3', linestyle='-')\n",
        "plt.plot(n, f2, label='3n', linestyle='--')\n",
        "plt.plot(n, f3, label='log(n+2)', linestyle='-.')\n",
        "plt.plot(n, f4, label='log(n+1)+1', linestyle=':')\n",
        "plt.xlabel('Input Size $n$')\n",
        "plt.ylabel('Number of Operations')\n",
        "plt.title('Number of Operations vs. Input Size')\n",
        "plt.legend()\n",
        "plt.grid(True)\n",
        "plt.show()"
      ]
    },
    {
      "cell_type": "markdown",
      "id": "8b08967e",
      "metadata": {},
      "source": [
        "The first and second algorithms are similar to each other, just as the third and fourth algorithms resemble one another. However, the first two differ significantly from the last two. This happens because, for large $n$, the **type** of dependence (i.e., linear, logarithmic, quadratic, etc.) is more important than any specific coefficients or additional terms. That is why, in Big O notation, we focus solely on the **form** of the dependence.\n",
        "\n",
        "Aside from linear and logarithmic complexity, you will often encounter other common forms when analysing an algorithm’s running time:\n",
        "\n",
        "- **Quadratic dependence** — $O(n^2)$  \n",
        "- **Cubic dependence** — $O(n^3)$  \n",
        "- **Exponential dependence** — $O(2^n)$  \n",
        "- **Factorial dependence** — $O(n!)$\n",
        "\n",
        "Sometimes, an algorithm’s running time does not depend on the size of the input data at all; in other words, it always performs a fixed number of operations. In Big O notation, we call this **$O(1)$**, or **constant time**."
      ]
    },
    {
      "cell_type": "markdown",
      "metadata": {},
      "source": [
        "### <a id='toc1_3_4_'></a>[Additional Notations: Θ and Ω 🤓](#toc0_)\n"
      ]
    },
    {
      "cell_type": "markdown",
      "id": "541187d5",
      "metadata": {},
      "source": [
        "\n",
        "- **Θ (Theta) Notation:** Represents a tight bound on the algorithm's running time. If an algorithm’s runtime is Θ(f(n)), its growth rate is exactly f(n) for large n.\n",
        "- **Ω (Omega) Notation:** Provides a lower bound on the runtime. If an algorithm is Ω(f(n)), it takes at least f(n) time to run.\n",
        "\n",
        "These notations help further refine the analysis by distinguishing between best-case, average-case, and worst-case scenarios. 🤓"
      ]
    },
    {
      "cell_type": "markdown",
      "id": "24170ab3",
      "metadata": {},
      "source": [
        "### <a id='toc1_3_5_'></a>[Real-World Examples & Quiz Questions 🧐](#toc0_)"
      ]
    },
    {
      "cell_type": "markdown",
      "metadata": {},
      "source": [
        "#### <a id='toc1_3_5_1_'></a>[**Example 1: Cupboard Notebook Run 📚**](#toc0_)"
      ]
    },
    {
      "cell_type": "markdown",
      "id": "85eebf2a",
      "metadata": {},
      "source": [
        "In the hospital George usually visits, there is Dr James Thompson on duty. He is not especially sociable, spending all his time in his office, with the door only slightly ajar.\n",
        "\n",
        "We need to determine how many times per day the door to Dr Thompson's office is opened, under the assumption that each patient enters, leaves, and closes the door behind them:\n",
        "\n",
        "- Each visitor opens the door twice: once upon entering and once upon leaving.  \n",
        "- If there are $n$ visitors, then naively you might think the door is opened $2n$ times.  \n",
        "- However, because the door was already ajar at the start of the day, the very first opening does not require a \"full\" door-opening motion. Thus, the total number of **complete** openings is $2n - 1$.\n",
        "\n",
        "Since $(2n - 1)$ grows in direct proportion to $n$, we say the number of door openings is **$O(n)$**. The important point is that subtracting a constant (in this case, 1) does not alter the fundamental growth rate of the function."
      ]
    },
    {
      "cell_type": "markdown",
      "metadata": {},
      "source": [
        "#### <a id='toc1_3_5_2_'></a>[**Example 2: Elevator Meetings** 🏢](#toc0_)\n"
      ]
    },
    {
      "cell_type": "markdown",
      "id": "7351bce4",
      "metadata": {},
      "source": [
        "\n",
        "In a camp, there was a rumor that Tim shook hands three times with his father and even gave him a soda by hand. Later, he greeted everyone in the ward (20 times, never repeating himself) and challenged the idea of “squaring.”\n",
        "\n",
        "Suppose there are $n$ people in total. Each person greets every other person exactly once, resulting in $(n - 1)$ handshakes per person. Since a handshake between A and B is the same as between B and A, the total number is given by:\n",
        "\n",
        "$$\\frac{n(n - 1)}{2} = \\frac{n^2}{2} - \\frac{n}{2}$$\n",
        "\n",
        "For large $n$, this behaves like $n^2$ (ignoring lower-order terms and constants), i.e. $O(n^2)$. \n",
        "\n",
        "Pay attention to the fact that the number of handshakes grows quadratically with the number of people. This is a common pattern in problems involving pairs of elements, such as comparing all pairs of elements in a list.\n",
        "\n",
        "We can get rid of the fraction by multiplying the result by 2, which does not change the growth rate. This is a common trick in Big O analysis. It happens because the fraction is a constant factor, and Big O notation ignores constants.\n",
        "💡"
      ]
    },
    {
      "cell_type": "markdown",
      "metadata": {},
      "source": [
        "#### <a id='toc1_3_5_3_'></a>[**Example 3: Brute Force Conversion (Decimal to Binary)** 🧮](#toc0_)\n"
      ]
    },
    {
      "cell_type": "markdown",
      "id": "9431375e",
      "metadata": {},
      "source": [
        "\n",
        "Suppose we need to iterate through all binary strings of length $n$. For $n = 3$, the strings are: 000, 001, 010, 011, 100, 101, 110, and 111.\n",
        "\n"
      ]
    },
    {
      "cell_type": "markdown",
      "metadata": {},
      "source": [
        "##### <a id='toc1_3_5_3_1_'></a>[Quiz Question:](#toc0_)\n"
      ]
    },
    {
      "cell_type": "markdown",
      "id": "490608ef",
      "metadata": {},
      "source": [
        "> Which time complexity does this exhaustive search have?\n",
        "> \n",
        "> - $O(N^2)$\n",
        "> - $O(2^N)$\n",
        "> - $O(N^3)$\n",
        "> - $O(\\log N)$\n",
        "> "
      ]
    },
    {
      "cell_type": "markdown",
      "id": "4078f33f",
      "metadata": {},
      "source": [
        "\n",
        "The **correct answer** is **$O(2^N)$** because exponential complexity is only practical for very small $N$. 🔥"
      ]
    },
    {
      "cell_type": "markdown",
      "metadata": {},
      "source": [
        "#### <a id='toc1_3_5_4_'></a>[**Example 4: Simple Python Programme Complexity** 🐍](#toc0_)\n"
      ]
    },
    {
      "cell_type": "markdown",
      "id": "4871c942",
      "metadata": {},
      "source": [
        "> You receive a single integer $n$ as input and need to compute $42 \\times n + 15$. Consider this Python programme:\n",
        "> \n",
        "> ```python\n",
        "> n = int(input())\n",
        "> print(42 * n + 15)\n",
        "> ```\n",
        "> \n",
        "> What is the computational complexity of this programme?\n",
        "> \n",
        "> - $O(n)$\n",
        "> - $O(1)$\n",
        "> - $O(\\log n)$\n",
        "> - $O(n^2)$\n",
        "> "
      ]
    },
    {
      "cell_type": "markdown",
      "id": "a4bf8cdf",
      "metadata": {},
      "source": [
        "The **correct answer** is **$O(1)$** because it performs a fixed number of operations regardless of $n$."
      ]
    },
    {
      "cell_type": "markdown",
      "metadata": {},
      "source": [
        "#### <a id='toc1_3_5_5_'></a>[**Example 5: Clothes Selection** 👗](#toc0_)\n"
      ]
    },
    {
      "cell_type": "markdown",
      "id": "22a67bcb",
      "metadata": {},
      "source": [
        "> Every day, **George** decides what to wear by running a programme on his computer. The algorithm goes through all combinations of **trousers** and **T-shirts**, shows each combination to George, and asks him to rate it on a scale of 1 to 10. After that, the programme reviews all these ratings, selects the highest-rated outfit, and tells George what to wear.\n",
        "> \n",
        "> George has $n$ pairs of trousers and $m$ T-shirts. What is the complexity of the algorithm?\n",
        "> \n",
        "> - $O(n)$  \n",
        "> - $O(m)$  \n",
        "> - $O(n^2)$  \n",
        "> - $O(m^2)$  \n",
        "> - **$O(nm)$**  \n",
        "> - $O(n + m)$"
      ]
    },
    {
      "cell_type": "markdown",
      "id": "d46845a5",
      "metadata": {},
      "source": [
        "The **correct answer** is **$O(nm)$** because the algorithm must consider all possible combinations of trousers and T-shirts. 🤔"
      ]
    },
    {
      "cell_type": "markdown",
      "metadata": {},
      "source": [
        "#### <a id='toc1_3_5_6_'></a>[**Example 6: Binary Search** 🔍](#toc0_)\n"
      ]
    },
    {
      "cell_type": "markdown",
      "id": "388051bc",
      "metadata": {},
      "source": [
        "\n",
        "> **Alice** wrote an algorithm to find a particular bottle among $n$ shops. The shops are recorded in alphabetical order, and her algorithm uses **binary search**. What is the complexity of her algorithm?\n",
        "> \n",
        "> - $O(n)$\n",
        "> - $O(n^2)$\n",
        "> - $O(\\log n)$\n",
        "> - $O(1)$\n",
        "> "
      ]
    },
    {
      "cell_type": "markdown",
      "id": "82e8ba58",
      "metadata": {},
      "source": [
        "Since binary search halves the search space with each step, its running time grows **logarithmically**: $O(\\log n)$. 🔍"
      ]
    },
    {
      "cell_type": "markdown",
      "metadata": {},
      "source": [
        "#### <a id='toc1_3_5_7_'></a>[**Comparing Complexities** 📊](#toc0_)\n"
      ]
    },
    {
      "cell_type": "markdown",
      "id": "46efe7c6",
      "metadata": {},
      "source": [
        "\n",
        "George initially thought Alice’s algorithm was $O(n^2)$. However, **Timothy** argued that since $\\log n$ grows much more slowly than $n^2$, the binary search is far more efficient.\n",
        "\n",
        "In fact, if binary search is used correctly, its complexity is $O(\\log n)$, which is significantly better than $O(n^2)$. 👍"
      ]
    },
    {
      "cell_type": "markdown",
      "metadata": {},
      "source": [
        "#### <a id='toc1_3_5_8_'></a>[**Key Takeaways 🚀**](#toc0_)\n"
      ]
    },
    {
      "cell_type": "markdown",
      "id": "a97a8475",
      "metadata": {},
      "source": [
        "\n",
        "1. **Exponential Complexity ($O(2^n)$)**: Practical only for very small $n$. 🚫\n",
        "2. **Constant Complexity ($O(1)$)**: The work remains unchanged regardless of $n$. 🔒\n",
        "3. **Logarithmic Complexity ($O(\\log n)$)**: Efficiently halves the problem size (e.g., binary search). ⚡\n",
        "4. **Polynomial Complexities ($O(n), O(n^2), O(n^3)$, etc.)**: Manageable in many cases, but may become heavy as $n$ increases. 📊"
      ]
    },
    {
      "cell_type": "markdown",
      "metadata": {},
      "source": [
        "## <a id='toc1_4_'></a>[Estimating Execution Time](#toc0_)"
      ]
    },
    {
      "cell_type": "markdown",
      "id": "0aa9affc",
      "metadata": {},
      "source": [
        "In previous part, we explored how an algorithm’s running time behaves as the size of the input data grows. You now know that an $O(n)$ algorithm typically runs around three times faster than an $O(n^2)$ algorithm, for large $n$. But how can you tell if it’s sufficiently efficient for your specific task—or whether it will remain efficient enough in practice?\n"
      ]
    },
    {
      "cell_type": "markdown",
      "metadata": {},
      "source": [
        "### <a id='toc1_4_1_'></a>[Practical Testing 🧪](#toc0_)"
      ]
    },
    {
      "cell_type": "markdown",
      "id": "b3bf92e2",
      "metadata": {},
      "source": [
        "One way to assess any algorithm is to **test it repeatedly** with various values of $n$, to see at which point the programme starts taking too long to finish. This gives you a sense of where the boundary lies between acceptable performance and lengthy waiting times."
      ]
    },
    {
      "cell_type": "markdown",
      "id": "bb98f55c",
      "metadata": {},
      "source": [
        "Here, the running time is $O(n)$, where $n = \\text{visitor}$. However, is this algorithm viable for a **very large** number of visitors?\n",
        "\n",
        "In essence, the code prints the list twice. If we have a huge number of visitors, the algorithm will print $2n$ times. Although that is still $O(n)$ in asymptotic terms, it could take a considerable amount of time in practice. And when $n$ becomes **enormous**, while memory or processing resources are limited, it becomes a serious concern.\n"
      ]
    },
    {
      "cell_type": "markdown",
      "metadata": {},
      "source": [
        "### <a id='toc1_4_2_'></a>[Measuring Real Execution Time 🕰️](#toc0_)"
      ]
    },
    {
      "cell_type": "markdown",
      "id": "faf8155e",
      "metadata": {},
      "source": [
        "You can also measure the **actual** running time, for example, using `time.time()` or `time.perf_counter()` in Python. This gives you specific figures for how many seconds it took to run that segment of code. Such data helps you determine whether, for instance, two seconds is acceptable, but ten seconds might be too long. Let's implement this:"
      ]
    },
    {
      "cell_type": "code",
      "execution_count": 17,
      "id": "f78978a8",
      "metadata": {},
      "outputs": [
        {
          "name": "stdout",
          "output_type": "stream",
          "text": [
            "  7.772445678710938e-05 seconds  \n"
          ]
        }
      ],
      "source": [
        "import time\n",
        "\n",
        "start_time = time.time()\n",
        "\n",
        "visitor = 1000\n",
        "a = []\n",
        "\n",
        "for i in range(visitor):\n",
        "    a.append(i)\n",
        "\n",
        "print(\"  %s seconds  \" % (time.time() - start_time))"
      ]
    },
    {
      "cell_type": "code",
      "execution_count": null,
      "id": "329688ff",
      "metadata": {},
      "outputs": [
        {
          "name": "stdout",
          "output_type": "stream",
          "text": [
            "  6.408401532098651e-05 seconds  \n"
          ]
        }
      ],
      "source": [
        "import time\n",
        "\n",
        "start_time = time.perf_counter()\n",
        "\n",
        "visitor = 1000\n",
        "a = []\n",
        "\n",
        "for i in range(visitor):\n",
        "    a.append(i)\n",
        "\n",
        "print(\"  %s seconds  \" % (time.perf_counter() - start_time))"
      ]
    },
    {
      "cell_type": "markdown",
      "metadata": {},
      "source": [
        "#### <a id='toc1_4_2_1_'></a>[Using the `timeit` Module 🕰️](#toc0_)\n"
      ]
    },
    {
      "cell_type": "markdown",
      "id": "74595dbf",
      "metadata": {},
      "source": [
        "Another way to measure execution time is with the `timeit` module. This module provides a simple interface for measuring the time taken by small code snippets. Here’s an example:\n"
      ]
    },
    {
      "cell_type": "code",
      "execution_count": null,
      "id": "11d6bf2a",
      "metadata": {},
      "outputs": [
        {
          "data": {
            "image/png": "[encoded data removed]",
            "text/plain": [
              "<Figure size 1000x600 with 1 Axes>"
            ]
          },
          "metadata": {},
          "output_type": "display_data"
        }
      ],
      "source": [
        "import timeit\n",
        "import matplotlib.pyplot as plt\n",
        "\n",
        "# Define three functions with different time complexities\n",
        "\n",
        "# O(1) - Constant time: simply returns the first element of the list.\n",
        "def constant_time(lst):\n",
        "    return lst[0]\n",
        "\n",
        "# O(n) - Linear time: sums all elements in the list.\n",
        "def linear_time(lst):\n",
        "    total = 0\n",
        "    for x in lst:\n",
        "        total += x\n",
        "    return total\n",
        "\n",
        "# O(n^2) - Quadratic time: computes a sum over all pairs of elements in the list.\n",
        "def quadratic_time(lst):\n",
        "    total = 0\n",
        "    n = len(lst)\n",
        "    for i in range(n):\n",
        "        for j in range(n):\n",
        "            total += lst[i] * lst[j]\n",
        "    return total\n",
        "\n",
        "# Define a range of input sizes\n",
        "input_sizes = [1, 2, 5, 20]\n",
        "# Number of repetitions to get a measurable time\n",
        "repetitions = 1000\n",
        "\n",
        "# Containers to store the timing results\n",
        "times_constant = []\n",
        "times_linear = []\n",
        "times_quadratic = []\n",
        "\n",
        "# Measure time for each function and input size\n",
        "for size in input_sizes:\n",
        "    # Generate a sample list of a given size\n",
        "    lst = list(range(size))\n",
        "    \n",
        "    # Use lambda functions to \"freeze\" the current list as an argument for each function\n",
        "    timer_constant = timeit.Timer(lambda: constant_time(lst))\n",
        "    timer_linear = timeit.Timer(lambda: linear_time(lst))\n",
        "    timer_quadratic = timeit.Timer(lambda: quadratic_time(lst))\n",
        "    \n",
        "    # Time the execution for a number of repetitions\n",
        "    t_const = timer_constant.timeit(number=repetitions)\n",
        "    t_linear = timer_linear.timeit(number=repetitions)\n",
        "    t_quad = timer_quadratic.timeit(number=repetitions)\n",
        "    \n",
        "    times_constant.append(t_const)\n",
        "    times_linear.append(t_linear)\n",
        "    times_quadratic.append(t_quad)\n",
        "\n",
        "# Plot the results\n",
        "plt.figure(figsize=(10, 6))\n",
        "plt.plot(input_sizes, times_constant, label='O(1): constant_time', marker='o')\n",
        "plt.plot(input_sizes, times_linear, label='O(n): linear_time', marker='s')\n",
        "plt.plot(input_sizes, times_quadratic, label='O(n²): quadratic_time', marker='^')\n",
        "plt.xlabel('Input Size (n)')\n",
        "plt.ylabel('Total Time over {} repetitions (seconds)'.format(repetitions))\n",
        "plt.title('Function Time Complexity Analysis')\n",
        "plt.legend()\n",
        "plt.grid(True)\n",
        "plt.show()\n"
      ]
    },
    {
      "cell_type": "markdown",
      "metadata": {},
      "source": [
        "### <a id='toc1_4_3_'></a>[Balancing Theory and Practice 🤹‍♂️](#toc0_)"
      ]
    },
    {
      "cell_type": "markdown",
      "id": "a0d3072a",
      "metadata": {},
      "source": [
        "\n",
        "In this lesson, we will learn to balance the **theoretical** assessment using Big O notation with **practical testing** on real data. It is not a matter of one being more important than the other. We need to evaluate both aspects: some issues can be solved by optimising the algorithm itself, while others may require changing our overall approach or selecting a different method entirely."
      ]
    },
    {
      "cell_type": "markdown",
      "metadata": {},
      "source": [
        "#### <a id='toc1_4_3_1_'></a>[Is This $O(n)$ Approach Feasible in Practice? 🤔](#toc0_)\n"
      ]
    },
    {
      "cell_type": "markdown",
      "id": "93faee56",
      "metadata": {},
      "source": [
        "We have established that the algorithm’s complexity is $O(n)$, where $n$ is the number of journeys. But can we realistically apply this method?\n",
        "\n",
        "First, we need to consider the **scale** of $n$. For example, imagine a city of ten million inhabitants, each making two journeys per day over the course of a month. That gives us $600$ million journeys in a single month. We might round this up to **one billion** to account for additional trips by tourists or other factors.\n",
        "\n",
        "Now we need to estimate how **quickly** a modern computer can handle these operations. Suppose a current processor can perform roughly one billion operations per second. If we assume each journey corresponds to **one operation**, then one billion journeys would take about one second—if everything were executed sequentially without any other overhead. On a $2.5$ GHz processor, in theory, that could be $2.5$ billion operations per second.\n",
        "\n",
        "We can express this as:\n",
        "$$\n",
        "t = \\frac{n}{\\text{frequency}}\n",
        "$$\n",
        "If $n = 1{,}000{,}000{,}000$ (one billion) and the frequency is $2.5 \\times 10^9$ operations per second, the calculation suggests:\n",
        "$$\n",
        "t = \\frac{1{,}000{,}000{,}000}{2.5 \\times 10^9} = 0.4 \\text{ seconds.}\n",
        "$$\n",
        "\n",
        "In principle, **0.4 seconds** might sound acceptable. However, in real scenarios, there are always additional considerations such as scheduling, resource sharing with other processes, memory constraints, and so on. As a result, the actual running time could be noticeably longer.\n",
        "\n",
        "Whether 0.4 seconds is too slow or perfectly fine depends on the **specific requirements** of the task. In some applications, half a second is negligible, while in others, it might be considered unacceptably slow. That is why we must balance **theoretical** complexity with the **practical** realities of system performance and workload."
      ]
    },
    {
      "cell_type": "markdown",
      "id": "b6956692",
      "metadata": {},
      "source": [
        "Here we can see that the **theoretical** complexity of an algorithm is only one part of the story. The **practical** side is equally important, as it determines whether the algorithm can be applied in real-world scenarios.\n",
        "\n",
        "> **[George]:**  Is it really possible to account for a single journey in just one processor tick?  \n",
        "> \n",
        "> **[Timothy]:**  I’m glad you’ve pointed that out. Indeed, a single tick isn’t enough. Processor instructions are the most basic operations, but even they are more complex than they appear. For instance, you need to access memory; if the data doesn’t fit in RAM, you’ll have to fetch it from the hard drive or even from the network. And all this is just to handle one single step in the process.\n",
        "> \n",
        "> **[George]:** So, what steps does the programme actually have to perform to handle just one journey?\n",
        "> \n",
        "> **[Timothy]:**\n",
        "> The programme needs to:  \n",
        "> 1. Read how many passengers are on board.  \n",
        "> 2. Record who got on.  \n",
        "> 3. Record who got off.  \n",
        "> 4. Check if each passenger has paid.  \n",
        "> 5. Keep track of the total fare.  \n",
        "> 6. Update its data structure.  \n",
        "> 7. Possibly carry out other checks as well.\n",
        ">   \n",
        "> **[George]:** So it seems we were off by a factor of ten in our time estimate. Instead of 0.4 seconds, it might actually take 4 seconds—or even longer.\n",
        ">   \n",
        "> **[Timothy]:** Exactly. The actual processing speed depends on many factors."
      ]
    },
    {
      "cell_type": "markdown",
      "id": "76a62e05",
      "metadata": {},
      "source": [
        "The number of instructions in a programme can vary slightly depending on the processor used or the compiler’s optimisations. Some instructions may take multiple ticks, while others—especially arithmetic operations—can be handled in fractions of a tick.\n",
        "\n",
        "It follows that if we wanted to ignore constants in our time-complexity analysis, we couldn’t entirely do so in practice: there are too many nuances in how instructions are actually executed. However, this is precisely why we use **Big O notation**—it offers a high-level view of the algorithm’s growth rate, leaving out the smaller details."
      ]
    },
    {
      "cell_type": "markdown",
      "metadata": {},
      "source": [
        "### <a id='toc1_4_4_'></a>[Measuring Actual Performance 📏](#toc0_)\n"
      ]
    },
    {
      "cell_type": "markdown",
      "id": "4e5e6d87",
      "metadata": {},
      "source": [
        "To see how our rough estimates hold up in reality, we can measure how long it takes to run a simple loop in **Python**, as in the following code:"
      ]
    },
    {
      "cell_type": "markdown",
      "metadata": {},
      "source": [
        "#### <a id='toc1_4_4_1_'></a>[Python Example](#toc0_)"
      ]
    },
    {
      "cell_type": "code",
      "execution_count": null,
      "id": "9686e9a6",
      "metadata": {},
      "outputs": [
        {
          "name": "stdout",
          "output_type": "stream",
          "text": [
            "23.89127516746521 seconds\n"
          ]
        }
      ],
      "source": [
        "import time\n",
        "\n",
        "time_start = time.time()\n",
        "i = 0\n",
        "while i < 1000000000:  # 1 billion iterations\n",
        "    # do nothing\n",
        "    i += 1\n",
        "time_span = time.time() - time_start\n",
        "print(time_span, \"seconds\")"
      ]
    },
    {
      "cell_type": "markdown",
      "metadata": {},
      "source": [
        "#### <a id='toc1_4_4_2_'></a>[C++ Example](#toc0_)"
      ]
    },
    {
      "cell_type": "markdown",
      "id": "513f4237",
      "metadata": {},
      "source": [
        "```cpp\n",
        "#include <iostream>\n",
        "#include <chrono>\n",
        "\n",
        "int main() {\n",
        "    auto start = std::chrono::high_resolution_clock::now();\n",
        "    long long i = 0;\n",
        "    while (i < 1000000000LL) {\n",
        "        i++;\n",
        "    }\n",
        "    auto finish = std::chrono::high_resolution_clock::now();\n",
        "    std::chrono::duration<double> time_span = finish - start;\n",
        "    std::cout << time_span.count() << \" seconds\\n\";\n",
        "    return 0;\n",
        "}\n",
        "```\n"
      ]
    },
    {
      "cell_type": "markdown",
      "id": "aef99a06",
      "metadata": {},
      "source": [
        "Each iteration of the loop involves three steps: \n",
        "- incrementing a counter,  \n",
        "- checking the condition, \n",
        "- and jumping back to the start of the loop. \n",
        "\n",
        "Multiplying those three actions by a billion iterations gives you around three billion operations, which might theoretically take about **1.2 seconds**. \n",
        "\n",
        " A C++ programme can indeed run at roughly that speed, although in reality it might be faster or slower. Timothy points out that Python may run about **150 times more slowly**, owing to additional overhead. If you understand lower-level details, you know that `i++` in Python eventually generates several instructions, plus condition checks, array-boundary checks, loop management, and so on.\n",
        "\n",
        "Any performance estimate is rough, so it is wise to build in a **margin of safety**. Yes, a billion iterations might take around one second—or less—in C++, whereas in Python it could take minutes. In practice, performance also depends on the operating system, how many other processes are running, and the processor’s workload. Moreover, C++ and Go typically achieve tighter performance than Java, which in turn tends to be tighter than Python or Node.js.\n",
        "\n",
        "When deciding on an approach to solve a particular problem, you need to **evaluate** how long it will take for your input size and **choose** a suitable method. That choice might range from using straightforward algorithms to devising more advanced solutions.\n",
        "\n",
        "Ultimately, it is best to understand the **theory** and then **test** your code in practice. In the tasks ahead, you will need to determine whether your algorithm can complete within the specified constraints.\n",
        "\n",
        "Thus, although theory provides a **rough** estimate, practical measurements are essential for determining how code will truly perform in a given language and environment."
      ]
    },
    {
      "cell_type": "markdown",
      "metadata": {},
      "source": [
        "#### <a id='toc1_4_4_3_'></a>[**Exercise 1: Apple Selection** 🍏](#toc0_)\n"
      ]
    },
    {
      "cell_type": "markdown",
      "id": "3bd32ef1",
      "metadata": {},
      "source": [
        "\n",
        "\n",
        "George has gone to buy apples for **Ally** and **Rita**. On the shop counter, there are $N$ apples ($2 \\le N \\le 10{,}000$). To avoid offending anyone, he decides to purchase two apples whose weights differ by the smallest possible amount. George’s idea is to check **every pair** of apples and record the pair if it offers a smaller weight difference than the previous best choice.\n",
        "\n",
        "> **Question**: How long would this algorithm take to run in Python? Select the option that best matches the likely runtime.\n",
        "> \n",
        "> - $0.01$ seconds\n",
        "> - $0.1$ seconds\n",
        "> - $1$ second\n",
        "> - $20$ seconds\n",
        "> - $1000$ seconds"
      ]
    },
    {
      "cell_type": "markdown",
      "id": "6604eda9",
      "metadata": {},
      "source": [
        "This is not the most efficient algorithm, and it has **quadratic** complexity. For $N = 10^4$, the number of comparisons is:\n",
        "\n",
        "$$\n",
        "\\frac{N \\times (N - 1)}{2} \\;=\\; \\frac{10^4 \\times (10^4 - 1)}{2} \\;\\approx\\; 5 \\times 10^7 \\text{ iterations.}\n",
        "$$\n",
        "\n",
        "Suppose each iteration involves around ten operations. If each operation takes about **100 processor ticks** in Python, then each iteration amounts to roughly $10 \\times 100 = 1000$ ticks. With a processor speed of $2.5 \\times 10^9$ ticks per second, this corresponds to approximately **20 seconds** of computation time in an ideal scenario.\n",
        "\n",
        "It is important to note that this is a **rough** estimate. The actual performance could vary significantly—perhaps the algorithm might take only 2 seconds or it could take 4 seconds, 10 seconds, or even 100 seconds. We cannot rule out the possibility that it might finish in **30 seconds** under real conditions, or that it might require over **1000 seconds** if the environment is heavily loaded.\n",
        "\n",
        "The **correct answer** is **$20$ seconds**. "
      ]
    },
    {
      "cell_type": "markdown",
      "metadata": {},
      "source": [
        "#### <a id='toc1_4_4_4_'></a>[**Exercise 2: Solar System Model** 🌌](#toc0_)\n"
      ]
    },
    {
      "cell_type": "markdown",
      "id": "6a7ec033",
      "metadata": {},
      "source": [
        "> In the same shop, **George** decided to buy a pair of apples for his model of the Solar System. He needs to find two apples that differ in size by the **maximum** possible amount—one to represent the **Sun** and one for **Pluto**. To do this, George decided to first locate the smallest apple, then the largest. **How long will this search take?**\n",
        "> \n",
        "> - $0.01$ seconds\n",
        "> - $0.1$ seconds\n",
        "> - $1$ second\n",
        "> - $10$ seconds"
      ]
    },
    {
      "cell_type": "markdown",
      "id": "b5f83527",
      "metadata": {},
      "source": [
        "This task was **much more efficient**. The linear algorithm managed it in **less than one hundredth of a second**. The total number of loop iterations is:\n",
        "$$\n",
        "2 \\times N = 2 \\times 10^4,\n",
        "$$\n",
        "where the factor of 2 arises because we are finding both the **minimum** and the **maximum** values. Consequently, the approximate running time is:\n",
        "$$\n",
        "\\frac{2 \\times 10^4 \\times 100}{2.5 \\times 10^9} = 8 \\times 10^{-3} \\text{ seconds.}\n",
        "$$\n",
        "\n",
        "In other words, it took **roughly 0.008 seconds**.\n",
        "\n",
        "The **correct answer** is **$0.01$ seconds**."
      ]
    },
    {
      "cell_type": "markdown",
      "metadata": {},
      "source": [
        "#### <a id='toc1_4_4_5_'></a>[**Exercise 3: Apple Sponge Recipe** 🍰](#toc0_)\n"
      ]
    },
    {
      "cell_type": "markdown",
      "id": "f3f9d290",
      "metadata": {},
      "source": [
        "> George still has some leftover apples, so he decides to bake an apple sponge (sharlotka). This time, he needs to load a book containing **one billion recipes** into the computer and choose the right one. The recipes in the book are sorted in alphabetical order, so George opts to use **binary search**. How long will it take to find the recipe?\n",
        "> \n",
        "> - $10$ microseconds  \n",
        "> - $0.01$ second \n",
        "> - $0.1$ second\n",
        "> - $1$ second\n",
        "> - $100$ seconds"
      ]
    },
    {
      "cell_type": "markdown",
      "id": "48bd8c26",
      "metadata": {},
      "source": [
        "In this task, binary search requires only a **small, logarithmic** number of steps, each of which can be executed almost instantly—on the order of **tens of microseconds**. However, we must not forget that the programme first has to **read** this enormous book of recipes in a loop, and that stage can take a **significant** amount of time. Ultimately, the overall speed of the programme is determined by this “bottleneck,” i.e., the slowest part of the process.\n",
        "\n",
        "The **correct answer** is **$100$ seconds**."
      ]
    },
    {
      "cell_type": "markdown",
      "metadata": {},
      "source": [
        "#### <a id='toc1_4_4_6_'></a>[Conclusion 🎉](#toc0_)\n"
      ]
    },
    {
      "cell_type": "markdown",
      "id": "6eecc4c5",
      "metadata": {},
      "source": [
        "Occasionally, your programmes may contain sections of code that run too slowly 🐌. To detect these, it helps to learn how to measure the execution time ⏱️ of individual parts of your code in your preferred programming language. If a programme is running more slowly than expected, it is often useful to measure the runtime of its main components. By examining the timing results in detail 🔎, you can pinpoint what is causing the slowdown. When necessary, you can also “profile” the programme.\n",
        "\n",
        "Once you have identified a slow portion of the programme, you can try to **optimise** it 🔧. This typically involves rewriting that section in a different way and **comparing the speeds** ⚡ of the different versions using the same data—a process often referred to as “benchmarking.”\n",
        "\n",
        "It is important to recognise, however, that **not** every line of code needs to be written with absolute maximum efficiency in mind. For example, if your programme completes its task in **10 milliseconds** ⏲️, and all you are doing is iterating through an array, the difference between a linear search and a binary search may be negligible—both will finish faster than you can blink 😉. In such cases, it makes little sense to invest time in that micro-optimisation when you could be improving **other** parts of the code that are genuinely slowing things down.\n",
        "\n",
        "Similarly, if your programme consists of two sections—one that consumes **99%** of the total runtime and another that consumes **1%**—even speeding up the smaller section by a factor of **10** will not noticeably reduce the overall execution time. The key takeaway is to **prioritise** optimisation where it will have the greatest impact on your programme’s performance 🚀.\n"
      ]
    },
    {
      "cell_type": "markdown",
      "metadata": {},
      "source": [
        "## <a id='toc1_5_'></a>[Space Complexity](#toc0_)\n"
      ]
    },
    {
      "cell_type": "markdown",
      "id": "9bdaf241",
      "metadata": {},
      "source": [
        "When discussing a programme’s efficiency, we can also assess how it utilises various computer resources. One of the most important of these resources is **memory**. In other words, we want to measure the programme’s capacity to store data structures in memory, as well as any additional overhead.\n"
      ]
    },
    {
      "cell_type": "markdown",
      "metadata": {},
      "source": [
        "### <a id='toc1_5_1_'></a>[What Is the Space Complexity of an Algorithm? 🧠](#toc0_)\n"
      ]
    },
    {
      "cell_type": "markdown",
      "id": "02cd5ee9",
      "metadata": {},
      "source": [
        "\n",
        "We have already talked about **time complexity**, where we considered how an algorithm’s running time changes as the input grows. However, even the most efficient algorithm can be impractical if it uses an excessive amount of memory. **Space complexity** describes how much memory is required as the input size increases.\n",
        "\n",
        "It is helpful to distinguish between:\n",
        "- **Input storage**: For instance, if your algorithm must read a file from disk, that file size is typically considered *given* and not always counted as additional memory usage.  \n",
        "- **Additional memory usage**: Data structures (arrays, lists, trees, etc.) that the algorithm creates and uses during execution.\n",
        "\n",
        "If an algorithm’s computational complexity is too high, the user may have to wait a very long time for the programme to finish.Another crucial factor is the amount of random-access memory (RAM). Programmes that do not have enough memory may freeze, disrupt other processes, and in many cases be unable to complete their tasks at all."
      ]
    },
    {
      "cell_type": "markdown",
      "id": "20c4bdea",
      "metadata": {},
      "source": [
        "<div style=\"width: 90%; border: 2px solid #4CAF50; border-radius: 10px; padding: 20px; background-color: #f0f8ff; font-family: 'Courier New', Courier, monospace;\">\n",
        "  <p style=\"font-size: 16px; line-height: 1.6;\">\n",
        "    When a program exhausts the available <strong>RAM</strong>, it turns to a <strong>swap file</strong> or <strong>swap partition</strong>—a process derived from “to swap”. \n",
        "    This swap area, residing on an external storage device (like a hard disk or SSD), serves as an extension to the system’s memory.\n",
        "  </p>\n",
        "  <p style=\"font-size: 16px; line-height: 1.6;\">\n",
        "    If insufficient RAM is available, data is shuttled from the relatively small but <strong>fast</strong> memory to the <strong>large</strong> but <strong>slow</strong> disk. \n",
        "    When necessary, the data is retrieved back into RAM—a process that is inherently <strong>slow</strong> and often leads to noticeable lags or hangs.\n",
        "  </p>\n",
        "  <p style=\"font-size: 16px; line-height: 1.6;\">\n",
        "    In cases where the program is extraordinarily large or when many processes run concurrently, even swapping may fall short. \n",
        "    If no new data can be accommodated in either <strong>RAM</strong> or the swap area, the program—or even the entire system—may crash.\n",
        "  </p>\n",
        "  <p style=\"font-size: 16px; line-height: 1.6;\">\n",
        "    In essence, when both <strong>RAM</strong> and swap space are fully utilized, at least one running program is bound to fail.\n",
        "  </p>\n",
        "</div>\n"
      ]
    },
    {
      "cell_type": "markdown",
      "id": "64b3f885",
      "metadata": {},
      "source": [
        "Each object in a programme occupies some amount of memory, and storing a large number of objects can require significant space. It is important to pay attention to how you allocate arrays, strings, or other containers, because their sizes are often determined by the size of the input data.\n",
        "\n",
        "**Space complexity** describes how the amount of memory an algorithm needs grows in relation to the size of its input. Just as with **time complexity**, we use **Big O notation** to indicate this growth. When smaller details (constants, lower-order terms) are ignored, we focus on the main term that dominates for large inputs.\n",
        "\n",
        "For instance, if your programme uses a **fixed** number of variables, we say it has **$O(1)$ space complexity**—that is, constant space usage. However, if the programme reads $n$ items of data and stores them in memory linearly (for example, in an array), it requires **$O(n)$** space.\n",
        "\n",
        "If the algorithm generates a two-dimensional structure for its $n$ objects—say, a matrix of size $n \\times n$—then it will occupy **$O(n^2)$** space, i.e., **quadratic** memory usage."
      ]
    },
    {
      "cell_type": "markdown",
      "metadata": {},
      "source": [
        "## <a id='toc1_6_'></a>[Relationship Between Space and Time Complexity 🔄](#toc0_)\n"
      ]
    },
    {
      "cell_type": "markdown",
      "id": "2c246573",
      "metadata": {},
      "source": [
        "Every living organism on Earth (from bacteria to humans) is encoded by a set of DNA molecules. Each molecule is a chain made up of four nucleobases—called **adenine (A)**, **thymine (T)**, **guanine (G)**, and **cytosine (C)**:\n",
        "\n",
        "- **A** (adenine)  \n",
        "- **T** (thymine)  \n",
        "- **G** (guanine)  \n",
        "- **C** (cytosine)\n",
        "\n",
        "DNA forms a double helix composed of two complementary chains. In this structure, **A** always pairs with **T**, while **G** pairs with **C**. Thanks to this predictable pairing, the double helix can be “unzipped” to read the code and then zipped up again.\n",
        "\n",
        "Suppose **Alla** and **Rita** have discovered a sample of DNA, represented as a string of letters—something like **“A T G G T A C T G C T T T C G T A C”**—and they wish to analyse it. For example, they might want to identify how many times the sequence **“AGTA”** appears in the DNA, or find which **n**-letter substring occurs most frequently.\n"
      ]
    },
    {
      "cell_type": "markdown",
      "metadata": {},
      "source": [
        "### <a id='toc1_6_1_'></a>[Space and Time Complexity in Practice 🚀](#toc0_)\n"
      ]
    },
    {
      "cell_type": "markdown",
      "id": "68cb9b08",
      "metadata": {},
      "source": [
        "\n",
        "When analysing this DNA sequence, one must consider both **time complexity** (how many operations are needed to process the data) and **space complexity** (how much memory is needed to store and manipulate it). For instance:\n",
        "\n",
        "- If an algorithm scans each position in the DNA to check for a certain substring, it might require **$O(n)$** time for each scan, leading to a total of **$O(n^2)$** time if it naïvely checks every possible starting position.  \n",
        "- Storing the DNA sequence in memory typically requires **$O(n)$** space, where $n$ is the length of the sequence. If the algorithm needs additional data structures—say, suffix arrays or hash tables—this space requirement can grow accordingly.\n",
        "\n",
        "Thus, **Alla** and **Rita** will need an algorithm that efficiently handles both the **time** and **space** aspects of processing these letters. They must consider how the algorithm’s running time scales with the input size, as well as how much memory it requires."
      ]
    },
    {
      "cell_type": "markdown",
      "id": "6224fa89",
      "metadata": {},
      "source": [
        "Initially, **Rita** decided on the following method: she introduced a counter and iterated through all the letters in the sequence, increasing the counter whenever she encountered **C** or **G**. In Python, this might look like:\n",
        "\n",
        "```python\n",
        "cg_count = 0\n",
        "sequence = \"...\"  # some DNA sequence\n",
        "\n",
        "for position in range(left, right):\n",
        "    if (sequence[position] == \"C\") or (sequence[position] == \"G\"):\n",
        "        cg_count += 1\n",
        "\n",
        "print(ccg_count)\n",
        "```\n",
        "\n",
        "To count the necessary letters, she spent **$O(n)$** time, where $n$ is the length of the sequence. In terms of **space complexity**, she only needed one counter and a few temporary variables, so the additional memory usage is **$O(1)$**.\n",
        "\n",
        "Why additional memory usage? Because the counter and temporary variables occupy a fixed amount of memory, regardless of the sequence’s length. This is why we say the space complexity is **$O(1)$**. The amount of memory required by the algorithm does not grow with the input size, it depends only on the algorithm’s structure itself, it is called **additional memory usage**.\n",
        "\n",
        "However, suppose Rita also wants to **frequently** determine how many **C** or **G** letters appear in various segments of the sequence. Re-running the above loop for each query would repeatedly take $O(n)$ time, which might become costly if she does this many times.  \n",
        "\n",
        "One way to speed up these repeated queries is to use **prefix sums** (also known as **cumulative sums**). By storing partial counts for each position in an array (requiring **$O(n)$** space), Rita can then answer each query in **$O(1)$** time. This trade-off illustrates how **time** and **space** complexities often interact: using **more memory** can significantly reduce the running time for certain tasks."
      ]
    },
    {
      "cell_type": "markdown",
      "id": "e778081b",
      "metadata": {},
      "source": [
        "After a while, **Rita** got tired of counting the same letters over and over and came up with a new approach.\n",
        "\n",
        "Instead of counting them directly each time, she stored, at each position, the number of times a given letter (C or G) had appeared **up to** that position. This is known as a **prefix sum** or **cumulative sum**.\n",
        "\n",
        "For example, consider the sequence:\n",
        "\n",
        "```\n",
        "C C A T G A T C\n",
        "0 1 2 2 3 3 3 3 4\n",
        "```\n",
        "\n",
        "To calculate the number of CG-letters in some half-interval, it is enough to subtract from the cumulative sum at the right end (more precisely, at the `right` position) the same sum at the left end. This requires only **$O(1)$** time per query, as opposed to **$O(n)$** if we were to recompute the count each time.\n",
        "\n",
        "```python\n",
        "cumulative_sums = [0]\n",
        "cg_count = 0\n",
        "\n",
        "for pos in range(len(sequence)):\n",
        "    if (sequence[pos] == \"C\") or (sequence[pos] == \"G\"):\n",
        "        cg_count += 1\n",
        "    cumulative_sums.append(cg_count)\n",
        "\n",
        "print(cumulative_sums[right] - cumulative_sums[left])       \n",
        "```\n",
        "\n",
        "Now, Rita can quickly answer questions such as: “How many C/G letters are there between positions **L** and **R**?” She simply computes:\n",
        "\n",
        "$$\n",
        "\\text{count} = \\text{cumulative\\_sums}[R] - \\text{cumulative\\_sums}[L].\n",
        "$$\n",
        "\n",
        "This requires **$O(1)$** time per query, whereas computing it on the fly each time would have taken **$O(n)$**. The trade-off is that storing these prefix sums uses **$O(n)$** additional memory. \n",
        "\n",
        "In the end, **Rita** spent more time initially (to build the prefix sums) but greatly reduced the time needed to answer repeated queries about how many letters C or G appear in specific segments of the sequence.\n",
        "\n",
        "The situation considered in the example is typical: we saved auxiliary information to spend less time, that is, we \"exchanged\" memory for speed. When solving problems, you sometimes have to make a difficult choice: either save more data to reduce the amount of computation; or compute slower, but save memory.\n",
        "\n",
        "It should be remembered that too much memory consumption can lead to the program crashing with an error. Or its performance will deteriorate due to the use of the swap file."
      ]
    },
    {
      "cell_type": "markdown",
      "id": "7a7f8492",
      "metadata": {},
      "source": [
        "<div style=\"width: 50%; border: 2px solid #4CAF50; border-radius: 10px; padding: 20px; background-color: #f0f8ff; font-family: 'Courier New', Courier, monospace;\">\n",
        "  <p style=\"font-size: 16px; line-height: 1.6;\">\n",
        "    In many cases, you do not even need to modify the algorithm itself; you simply need to save the results of <strong>intermediate computations</strong>. \n",
        "    This technique is called <strong>caching</strong> (or <strong>memoisation</strong>). In particular, it makes sense to cache any results \n",
        "    that take a long time to compute and are used frequently.\n",
        "  </p>\n",
        "</div>\n"
      ]
    },
    {
      "cell_type": "markdown",
      "metadata": {},
      "source": [
        "## <a id='toc1_7_'></a>[How to Solve Algorithmic Problems. Part 1](#toc0_)\n"
      ]
    },
    {
      "cell_type": "markdown",
      "id": "ca70e70a",
      "metadata": {},
      "source": [
        "To learn how to write efficient algorithmic programmes 🚀, you must learn how to **devise** them 💡. The process of devising code for a task is often referred to as **solving algorithmic problems** 🧩.\n",
        "\n",
        "We will now look at a few recommendations 👍 that frequently prove helpful when tackling such problems, whether they are **simple exercises** or **serious scientific projects**.\n",
        "\n",
        "You may sometimes come across this viewpoint: “I’ll read the problem statement, then I’ll look up the canonical solution and memorise it.” Unfortunately, that approach does not really work. In **behavioural economics**, there is a concept known as the **IKEA effect** 🛠️—people value only what they have contributed their own effort towards creating. The same applies to learning: it is better and easier to remember the methods **you** devised, even if it took a great deal of work. The time spent on solving a problem, and the challenges you face along the way, make it easier to spot similar patterns in new tasks later on. The perceived difficulty in the process of problem-solving acts like a **challenge** 🏆, which ultimately strengthens the effect.\n",
        "\n",
        "There is another common **trap** ⚠️ that developers often fall into:\n",
        "\n",
        "> You think: “This task is very straightforward; I can definitely solve it.” You write the code… only to discover later that it runs terribly slowly on large inputs, even though it worked fine on small inputs.  \n",
        ">  \n",
        "> For instance, if $N = 30$, your code finishes in 0.1 seconds. But if $N = 10{,}000$, it either fails to complete on time or does not run at all. Then you have to urgently switch to a different algorithm, reworking all the logic, and your deadlines have long since passed 😟. Management is unhappy, and you’ve already lost clients. It would have been better to think carefully **from the start** ⏱️.  \n",
        ">  \n",
        "> Or the opposite can happen: the developer begins with an **incredibly complex** solution, trying to account for every nuance, optimising it with advanced data structures. This is great for a large team or a major project. However, if you are working **alone** 😓, with a deadline looming in a week, you simply won’t manage it. So you need to understand which optimisations matter and which do not.\n"
      ]
    },
    {
      "cell_type": "markdown",
      "id": "fc91ea14",
      "metadata": {},
      "source": [
        "There is another trap developers often stumble into 😬:\n",
        "\n",
        "> “I see it does not look that complicated, so I’ll dive straight into coding.”  \n",
        ">  \n",
        "> The next thing you know, a situation arises that many of us recognise: the developer writes code hastily, then realises it contains a bug 🐛. He tries to fix it, but can’t. A new bug appears, which he tries to patch. Before long, the code has turned into a messy Frankenstein creation, littered with fixes upon fixes. Eventually, the developer decides to scrap it and start over 🔄.\n",
        "\n",
        "Initially, it might have seemed as though 20 minutes of work was enough ⏱️. In reality, four hours were spent. Worse still, the developer is now reluctant to adjust anything because “it might just break again,” despite the code only just starting to work.\n",
        "\n",
        "If this scenario happened only rarely, it might be no big deal. However, when you neglect the step of **thinking through** the problem before coding, you run the risk of repeating this cycle. It is often far more beneficial to step away from the keyboard ⌨️, perhaps grab a pen and paper ✏️, and outline a clear plan or approach. After all, if you don’t know **what** to code, how can you be sure **why** it’s useful or whether it will even solve the problem?\n"
      ]
    },
    {
      "cell_type": "markdown",
      "metadata": {},
      "source": [
        "### <a id='toc1_7_1_'></a>[A Step-by-Step Approach to Solving Algorithmic Problems 📝](#toc0_)\n"
      ]
    },
    {
      "cell_type": "markdown",
      "id": "29179b33",
      "metadata": {},
      "source": [
        "1. **Read the problem statement carefully** 🔍: \n",
        "   - Pin down exactly what you need to achieve.  \n",
        "   - Note any distinctive features of the input data.  \n",
        "   - Familiarise yourself with the time and memory constraints.  \n",
        "\n",
        "   Much of the detail in a problem statement is there for a reason. It can hint at the expected input size or the computational challenges. Pay attention to all conditions: sometimes they reveal hidden complexities or edge cases you might otherwise miss.\n",
        "\n",
        "2. **Plan your solution** 🤔:  \n",
        "   - Think about how to handle the largest possible input size within the given constraints.  \n",
        "   - Ask yourself: “How can I process this data? What kind of algorithm is appropriate? What are the typical limits?”  \n",
        "   - Consider examples: Is it feasible to use a brute-force approach, or will it be too slow? Can you use additional memory to speed things up?  \n",
        "\n",
        "   If you can devise smaller examples or test cases, do so. By exploring simple scenarios, you can clarify the underlying logic and confirm whether your approach will scale to the more challenging inputs.\n",
        "\n",
        "3. **Develop and justify your solution** 💡:  \n",
        "   - Strive for a clear explanation of **why** it works.  \n",
        "   - Once you have a conceptual method, convert it into code.  \n",
        "   - Think about whether the algorithm is “naive.” Are there any obvious ways to optimise it?  \n",
        "   - Examine its complexity: does it run slowly? Does it require a lot of additional memory?  \n",
        "\n",
        "   Algorithms that look efficient at first can still fail if they have hidden inefficiencies. Before finalising your code, consider whether there is a **more** efficient data structure or a more direct way to solve the problem.\n",
        "\n",
        "Below is a British English adaptation of the text, preserving the essence about **naive algorithms** and the importance of explaining solutions simply:\n",
        "\n",
        "At this stage, the ideal outcome is a solution you could **easily** explain to a school student — one without complex definitions or lofty abstractions. 🎓\n",
        "\n",
        "The algorithm that first comes to mind is often called the **naive** solution. In many cases, it will be **suboptimal**. Nevertheless, do not skip over defining the naive algorithm, even if you know it runs very slowly. Consider specifically **why** the algorithm is inadequate. Is it too slow? Does it require too much extra memory?\n",
        "\n",
        "By following these steps—**understanding** the problem, **planning** the approach, and **justifying** the solution—you can avoid common pitfalls. This structured method also helps you build a robust mental model, making it easier to spot mistakes and improve your solution before writing any code. 🚀\n"
      ]
    },
    {
      "cell_type": "markdown",
      "metadata": {},
      "source": [
        "##### <a id='toc1_7_1_1_1_'></a>[Quiz Question:](#toc0_)\n"
      ]
    },
    {
      "cell_type": "markdown",
      "id": "eeac23b9",
      "metadata": {},
      "source": [
        "In a certain town $N$, bus tickets are issued with numbers ranging from `000000` to `999999`. A **lucky** ticket is defined as one where the sum of the digits in the **even** positions of the number equals the sum of the digits in the **odd** positions. Suppose we come up with an algorithm that, for every ticket number, calculates whether it is lucky. How should we assess this algorithm?\n",
        "\n",
        "- **This algorithm runs too slowly** and performs unnecessary actions.  \n",
        "- **This algorithm is inefficient** and uses too much memory for storing temporary variables.\n",
        "- **This algorithm provides the correct answer** and is efficient in terms of time and memory.\n",
        "\n"
      ]
    },
    {
      "cell_type": "markdown",
      "id": "e337a57f",
      "metadata": {},
      "source": [
        "The **correct answer** is the second option: **This algorithm is inefficient and uses too much memory for storing temporary variables.**. If the data is written in the code, the application will be inefficient and will use too much memory. The algorithm can be optimised by calculating the sum of the digits in the odd and even positions of the number without storing the digits themselves. This will make the algorithm more efficient and reduce memory usage."
      ]
    },
    {
      "cell_type": "markdown",
      "metadata": {},
      "source": [
        "## <a id='toc1_8_'></a>[How to Solve Algorithmic Problems. Part 2](#toc0_)\n"
      ]
    },
    {
      "cell_type": "markdown",
      "id": "e3cf3142",
      "metadata": {},
      "source": [
        "Sometimes you may not immediately be able to devise an algorithm. In such cases, consider these five tips for approaching the problem:"
      ]
    },
    {
      "cell_type": "markdown",
      "id": "04d78003",
      "metadata": {},
      "source": [
        "1. **Assume Helpful Additional Constraints:** 🛟  \n",
        "    If the problem provides a sequence of arbitrary numbers, try to solve it first for integers only, then extend your solution to real numbers. 😊\n",
        "\n",
        "2. **Work With Small Input Sizes:** 🐣  \n",
        "    Begin by solving the problem on a small scale, such as using 3 numbers in the sequence instead of 200. 👍\n",
        "\n",
        "3. **Decompose the Problem:** 🔍  \n",
        "    Consider whether you can break the problem into smaller subproblems. For example, given an array of length *n* where you need to find the maximum element, ask yourself:  \n",
        "    - What happens if you split the array into two equal parts?  \n",
        "    - If you know the maximum for each half, can you determine the overall maximum?  \n",
        "    - What if you remove just one element?  \n",
        "    This approach applies to arrays, numbers, and strings alike—solve the easier case first, then scale up. 🔍\n",
        "\n",
        "4. **Leverage Known Algorithms and Data Structures:** 📚  \n",
        "    Reflect on which algorithms or data structures you are familiar with that might be applicable. As you study, maintain a list of topics you’ve covered; your personal notes can be a valuable reference. 📚\n",
        "\n",
        "5. **Prototype an Initial Solution:** 🛠️  \n",
        "    Even if you’re not sure it’s correct, write down a potential solution and test it on examples of your own. Analyze the situations where your algorithm might fail and refine it accordingly. 📝\n",
        "\n",
        "By following these steps, you can gradually build up your understanding of the problem and devise a suitable solution. Remember, the goal is not to solve the problem as quickly as possible, but to **understand** it thoroughly and **develop** a robust solution. 🚀\n",
        "\n",
        "Let’s continue examining our workflow. In the previous step, we devised an algorithm and described it in simple terms understandable to a school student. Now we will move on to the next stage: **coding** the solution. 💻\n"
      ]
    },
    {
      "cell_type": "markdown",
      "id": "1bc1ad5a",
      "metadata": {},
      "source": [
        "- **Evaluate Your Naive Algorithm:** ➕  \n",
        "   Assess whether its time complexity is acceptable given the constraints, and justify its asymptotic behavior. 🤔\n",
        "\n",
        "- **Optimize Your Approach!** 🚀  \n",
        "   Consider how to improve your algorithm with strategies such as: 🚀\n",
        "\n",
        "   - **Bottleneck Identification:** \n",
        "       Look for the slowest part of your program (the bottleneck). For example, if a section runs in quadratic time while everything else is linear, focus on optimizing that segment. 🐢\n",
        "\n",
        "   - **Eliminating Repetitive Work:**\n",
        "       If you need to answer the same query for multiple elements (e.g., 10 different array elements), and you know that pre-sorting the array speeds up these queries, it is more efficient to sort just once rather than repeatedly. 🔄\n",
        "\n",
        "   - **Removing Unnecessary Actions:**  \n",
        "       Sometimes certain operations, like sorting when finding a minimum value, are redundant. For instance, instead of sorting an array to find its smallest element, maintain a running minimum as you process the input. 🧹\n",
        "\n",
        "   - **Choosing Optimal Data Structures:**  \n",
        "       Determine which operations are essential and select data structures that can handle them efficiently. For example, if you frequently check for membership, a set might be more appropriate than an array. 🗃️\n",
        "\n",
        "   - **Ensuring Full Use of Given Constraints:**  \n",
        "       Re-read the problem statement to ensure you've utilized all given information. There could be restrictions that allow you to simplify the solution. ✅\n",
        "\n",
        "   - **Balancing Memory and Time:**  \n",
        "       Contest problems typically impose limits on both memory and execution time:  \n",
        "       - Sometimes storing intermediate results (using extra memory) can drastically speed up your algorithm.  \n",
        "       - In other cases, as with the lucky tickets problem, saving memory may be more important. ⏱️\n"
      ]
    },
    {
      "cell_type": "markdown",
      "metadata": {},
      "source": [
        "#### <a id='toc1_8_1_1_'></a>[Quiz Question:](#toc0_)\n",
        "\n"
      ]
    },
    {
      "cell_type": "markdown",
      "id": "6802c1e3",
      "metadata": {},
      "source": [
        "Timofey decided to find out whether the four-leaf clover is truly the rarest. He collected `1000` clovers and then decided to count first all the clovers with one leaf, then those with two leaves — and so on up to six leaves. Each time, he compared how many plants had a specific number of leaves and updated his understanding of which clovers are the rarest. Is Timofey’s chosen algorithm a good one?\n",
        "\n",
        "- **Yes**, Timofey is inventive and does everything correctly.\n",
        "- **No**, this algorithm takes too long.\n",
        "- **No**, it requires remembering too much information.\n",
        "\n"
      ]
    },
    {
      "cell_type": "markdown",
      "id": "f207a7c8",
      "metadata": {},
      "source": [
        "The **correct answer** is the second option: **No, this algorithm takes too long.** Timofey’s approach is inefficient because it requires counting the number of clovers with each possible number of leaves. This method is not optimal, as it involves a large number of operations. A more efficient solution would be to count the number of clovers with each number of leaves in a single pass through the data. This would require less time and memory."
      ]
    },
    {
      "cell_type": "markdown",
      "id": "45fc7a5b",
      "metadata": {},
      "source": [
        "6. **Write Clean Code.** 👩🏼‍💻\n",
        "\n",
        "Pay attention to variable names. A good variable name describes what the object contains, even if it’s just a loop counter. 📝\n",
        "\n",
        "Also, mind your function names. Good function names essentially narrate the algorithm you would explain to a fifth-grader. 📚\n",
        "\n",
        "Often, recipes are written like this:\n",
        "> - Peel the potatoes and carrots.\n",
        "> - Cut the potatoes into cubes.\n",
        "> - Slice the carrots into rounds.\n",
        "> - Blanch the vegetables.\n",
        "> - Arrange the vegetables on the plate.\n",
        "\n",
        "The first three steps are self-explanatory and can be followed without additional instructions. However, if you’re not familiar with cooking, you might need clarification on what **“blanch”** means. In that case, the detailed implementation of a function can serve as that clarification by describing the precise sequence of actions.\n",
        "\n",
        "On the other hand, if you’re an experienced cook, the recipe is clear with just these five steps and you can skip reading the supporting text. This clarity is achieved through a careful choice of words for the concise recipe. The same principle applies to programming—there should be a way to read a “short recipe” for experts and also review the detailed implementation for the complex parts."
      ]
    },
    {
      "cell_type": "markdown",
      "id": "652cf7e0",
      "metadata": {},
      "source": [
        "- Extract into functions all actions that repeat and logically form a single part of the work. This approach allows you to test complex sections separately and easier pinpoint where an error is occurring. 🎯\n",
        "- Remember to adhere to the programming language’s style guidelines. Inconsistent indentation and overly long lines should not distract you or the reviewer from the core idea of the solution.     📏\n",
        "\n",
        "7. **Carefully review your code. Pay special attention to:**\n",
        "- Conditional expressions; sometimes you might mix up the `<` and `>` signs or clumsily combine several logical conditions, forgetting the correct order of applying negation, logical `AND`, and `OR` operators. 🤔\n",
        "- Exit conditions for loops or functions; is the first and last element handled correctly? Are there cases where the loop exits prematurely? 🚪\n",
        "- Constants; do you clearly remember the purpose of each one? Is the value always consistent? 🧮\n",
        "\n",
        "8. **Test your code. 🧪**\n"
      ]
    },
    {
      "cell_type": "markdown",
      "metadata": {},
      "source": [
        "## <a id='toc1_9_'></a>[How to Test Your Program](#toc0_)"
      ]
    },
    {
      "cell_type": "markdown",
      "id": "mt2",
      "metadata": {},
      "source": [
        "In the previous part, we discussed the importance of being able to structure a program using functions. Even if you are writing code only for an educational task, we recommend breaking it down into logical parts."
      ]
    },
    {
      "cell_type": "markdown",
      "id": "d8e30c36",
      "metadata": {},
      "source": [
        "Code divided into functions is easy to test. To test individual functions, write unit tests."
      ]
    },
    {
      "cell_type": "markdown",
      "metadata": {},
      "source": [
        "### <a id='toc1_9_1_'></a>[Unit Testing 🧪](#toc0_)\n"
      ]
    },
    {
      "cell_type": "markdown",
      "id": "97560e88",
      "metadata": {},
      "source": [
        "For example, consider the task of finding palindromes in a set of strings (strings that read the same from left to right as from right to left) and displaying them in alphabetical order. The task is clearly divided into two parts. First, we filter the set of strings to include only those that read the same in both directions. Then we sort the strings in alphabetical order. These steps are independent. In other words, we can check the correctness of each function separately. This helps reduce the likelihood of errors in the program."
      ]
    },
    {
      "cell_type": "markdown",
      "id": "mt5",
      "metadata": {},
      "source": [
        "> \n",
        "> **[Rita]:** After we have divided the program into functions, we need to test two tasks instead of one! It seems we have not made any progress in writing tests!  \n",
        "> **[Timoty]:** That's right. Let's see how to test the first task.\n",
        ">"
      ]
    },
    {
      "cell_type": "markdown",
      "id": "61767ae7",
      "metadata": {},
      "source": [
        "We need to determine whether each string is a palindrome. Let’s identify the cases we need to check:"
      ]
    },
    {
      "cell_type": "markdown",
      "id": "mt6",
      "metadata": {},
      "source": [
        "- **Smallest example:** Check if an empty string reads the same backwards.\n",
        "- **Positive example:** Use a well-known palindrome. For instance, test the word \"racecar\". ✅  \n",
        "- **Negative example:** Choose a string that is not a palindrome. For example, test the word \"computer\". ❌  \n",
        "- **Edge-case examples:** Consider whether spaces and punctuation should be taken into account, and whether uppercase and lowercase letters are treated as identical. The phrase \"A man, a plan, a canal: Panama!\" might or might not be considered a palindrome depending on the task requirements. ⚖️  \n",
        "- **Extra tests:** It’s always better to write more tests than fewer ones, since unnecessary tests can be removed later. In this task, you could also verify the result for characters that look identical in both the Russian and English alphabets. An example string is \"TOТ\" (where the first and last characters are Latin, but the middle one could be visually similar in both layouts). ✨  \n",
        "- **Large-scale example:** Use the text from the first page of the novel \"War and Peace\" and check if it is a palindrome. This test will demonstrate the program’s performance and memory consumption. In some cases, you might notice the program \"pausing\"—an indication that the algorithm needs optimization. 🚀"
      ]
    },
    {
      "cell_type": "markdown",
      "id": "mt7",
      "metadata": {},
      "source": [
        "> **[Rita]:** We need to display the list of found palindromes in alphabetical order, but we ended up testing only our palindrome detection algorithm.  \n",
        ">\n",
        "> **[Timothy]:** Great that you noticed. Attention to detail is crucial in our work. As homework, test the solution yourself.\n",
        "> \n",
        "> **[Timothy]:** I have prepared a table of interesting cases for different types of input data to make it easier for you to deal with them. Choose the ones you need in each specific case, and don't hesitate to add more when you encounter interesting examples you haven't seen before.\n",
        ">  "
      ]
    },
    {
      "cell_type": "markdown",
      "id": "mt9",
      "metadata": {},
      "source": [
        "<!DOCTYPE html>\n",
        "<html>\n",
        "<head>\n",
        "    <style>\n",
        "        body {\n",
        "            margin: 0;\n",
        "            padding: 0;\n",
        "            background: #fafafa;\n",
        "            font-family: -apple-system, BlinkMacSystemFont, \"Segoe UI\", Roboto, Arial, sans-serif;\n",
        "            color: #333;\n",
        "        }\n",
        "        .table-container {\n",
        "            max-width: 1200px;\n",
        "            margin: 20px auto;\n",
        "            overflow: hidden;\n",
        "            border-radius: 16px;\n",
        "            box-shadow: 0 2px 4px rgba(0, 0, 0, 0.1);\n",
        "            background: white;\n",
        "        }\n",
        "        table {\n",
        "            width: 100%;\n",
        "            border-collapse: collapse;\n",
        "        }\n",
        "        thead th {\n",
        "            background: #7FBFB6;\n",
        "            color: #222;\n",
        "            padding: 16px;\n",
        "            font-size: 1.1em;\n",
        "            text-align: center;  /* Changed alignment from left to center */\n",
        "            border: none;\n",
        "        }\n",
        "        tbody td {\n",
        "            padding: 16px;\n",
        "            border: 1px solid #E5E7EB;\n",
        "            vertical-align: top;\n",
        "            line-height: 1.5;\n",
        "        }\n",
        "        tbody tr:nth-child(even) {\n",
        "            background: #f9f9f9;\n",
        "        }\n",
        "        .bullet-list {\n",
        "            list-style: none;\n",
        "            margin: 0;\n",
        "            padding: 0;\n",
        "        }\n",
        "        .bullet-list li {\n",
        "            position: relative;\n",
        "            padding-left: 20px;\n",
        "            margin-bottom: 8px;\n",
        "        }\n",
        "        .bullet-list li::before {\n",
        "            content: \"\";\n",
        "            position: absolute;\n",
        "            left: 0;\n",
        "            top: 8px;\n",
        "            width: 8px;\n",
        "            height: 8px;\n",
        "            border-radius: 50%;\n",
        "            background: #7FBFB6;\n",
        "        }\n",
        "        .italic {\n",
        "            font-style: italic;\n",
        "        }\n",
        "    </style>\n",
        "</head>\n",
        "<body>\n",
        "    <div class=\"table-container\">\n",
        "        <table>\n",
        "            <thead>\n",
        "                <tr>\n",
        "                    <th>Type of Test</th>\n",
        "                    <th>Strings</th>\n",
        "                    <th>Numbers</th>\n",
        "                    <th>Data Sets / Arrays</th>\n",
        "                </tr>\n",
        "            </thead>\n",
        "            <tbody>\n",
        "                <tr>\n",
        "                    <td><strong>Smallest Test</strong></td>\n",
        "                    <td>An <strong>empty string</strong> or minimal negative/zero-length string as allowed by the problem</td>\n",
        "                    <td><strong>0</strong> or the minimal/negative integer specified by the problem</td>\n",
        "                    <td>An <strong>empty data set</strong> (no elements)</td>\n",
        "                </tr>\n",
        "                <tr>\n",
        "                    <td><strong>Largest Test</strong></td>\n",
        "                    <td>The <strong>longest valid string</strong> permitted by the problem statement</td>\n",
        "                    <td>\n",
        "                        A maximum-size number within the allowed range (e.g., \n",
        "                        <code>INT_MAX</code>, <code>32767</code>, or <code>65535</code> depending on the constraints)\n",
        "                    </td>\n",
        "                    <td>A data set of the <strong>maximum allowed size</strong>, potentially including boundary values</td>\n",
        "                </tr>\n",
        "                <tr>\n",
        "                    <td><strong>Special Cases</strong></td>\n",
        "                    <td>\n",
        "                        <ul class=\"bullet-list\">\n",
        "                            <li>A string with <strong>only spaces</strong> or <strong>non-letter characters</strong></li>\n",
        "                            <li>A string with <strong>uppercase and lowercase letters</strong></li>\n",
        "                            <li>A <strong>single character</strong> string</li>\n",
        "                        </ul>\n",
        "                    </td>\n",
        "                    <td>\n",
        "                        <ul class=\"bullet-list\">\n",
        "                            <li><strong>Positive/negative</strong> integer</li>\n",
        "                            <li><strong>Zero</strong></li>\n",
        "                            <li>A <strong>floating-point</strong> number</li>\n",
        "                            <li><strong>Sum</strong> or <strong>difference</strong> of two numbers</li>\n",
        "                        </ul>\n",
        "                    </td>\n",
        "                    <td>\n",
        "                        <ul class=\"bullet-list\">\n",
        "                            <li>A set where <strong>all elements</strong> are the same</li>\n",
        "                            <li>A set where <strong>each element</strong> is unique</li>\n",
        "                            <li>A set containing <strong>edge-case values</strong> (e.g., min/max elements)</li>\n",
        "                        </ul>\n",
        "                    </td>\n",
        "                </tr>\n",
        "            </tbody>\n",
        "        </table>\n",
        "    </div>\n",
        "</body>\n",
        "</html>\n"
      ]
    },
    {
      "cell_type": "markdown",
      "id": "1349abf6",
      "metadata": {},
      "source": [
        "These are far from all the edge cases that need to be considered. When writing tests, you must think like a hacker. While playing that role, your goal is not to prove that the program is well-written, but rather to show its weaknesses. In other words, try to break your program in every possible way."
      ]
    },
    {
      "cell_type": "markdown",
      "metadata": {},
      "source": [
        "### <a id='toc1_9_2_'></a>[What to Do If the Result Is Not OK 🤔](#toc0_)"
      ]
    },
    {
      "cell_type": "markdown",
      "id": "1e928ae7",
      "metadata": {},
      "source": [
        "In the task evaluation system, each solution is executed sequentially on a specific set of tests. For each test, a status is assigned. You can view the statuses of all tests at once. The system may return the following statuses:\n",
        "\n",
        "- **OK** — The solution worked correctly for this test. 🆗  \n",
        "- **WA (wrong answer)** — The program produced an incorrect answer. If multiple tests return this verdict, try adding more tests or re-read the requirements; you might have missed an important detail. If only a few tests fail, carefully check edge cases, such as the smallest example input. 🚩  \n",
        "- **TL (time limit)** — The program did not finish executing within the allotted time. Different languages have different time limits because they have different performance characteristics. If the execution time is very close to the time limit, it indicates that the testing system terminated your code before it could finish. In this case, you need to optimize the algorithm. 🕒  \n",
        "- **ML (memory limit)** — The program used more memory than allowed. Re-examine the memory constraints for the task. ML often occurs due to the creation of an unnecessary array. It might be possible to process the input one element at a time and output the answer immediately without storing all data. 🧠  \n",
        "- **RE (runtime error)** — The program terminated with an error that wasn’t handled. You can check the error details in the test's log to see on which line the error occurred and what type of error was caught (for example, attempting to access an 11th element in an array of size 10). 🚨  \n",
        "\n",
        "A task is considered solved only when all tests return the **OK** status. It is normal for some tasks to require significant effort to fix errors and pass all tests."
      ]
    },
    {
      "cell_type": "markdown",
      "metadata": {},
      "source": [
        "## <a id='toc1_10_'></a>[Input-Output](#toc0_)"
      ]
    },
    {
      "cell_type": "markdown",
      "id": "io-intro",
      "metadata": {},
      "source": [
        "When solving algorithmic problems, many details must be considered since each one can affect the efficiency of the program. You already know that programs can have various constraints. For some applications, the primary limitation is the speed of computations. Such algorithms are known as **CPU-bound** algorithms. For example, in competitive programming tasks, execution time is strictly limited; hence, the solutions must run quickly ⌛️.\n",
        "\n",
        "In contests, tasks are not only time-constrained but also limited by the available memory. Algorithms that face more issues due to memory shortages than due to processing speed are said to be **memory-bound** algorithms. In such cases, the program may run quickly, but the amount of memory it uses is excessive 🧠.\n",
        "\n",
        "There is another important aspect of program performance: input/output speed. Some algorithms work so fast and efficiently that most of the time the program simply waits for input data. Sometimes, a program may calculate everything quickly, but then be forced to spend a long time on output. This type of limitation is called **I/O (input/output)-bound** 🔄."
      ]
    },
    {
      "cell_type": "markdown",
      "id": "7dffad06",
      "metadata": {},
      "source": [
        "> **[Rita]:** But such programs also take a lot of time, just like CPU-bound programs. Why do we differentiate between CPU-bound and I/O-bound?  \n",
        "> **[Timoty]:** You're right that in both cases the runtime is the limiting factor. However, in the first case the processor is working hard, while in the second, other components of the system—such as RAM, the hard drive, the internet connection, or even the keyboard—are responsible for the delay.  \n",
        "> **[Rita]:** So if the hard drive causes the delay, does that mean I need a faster hard drive?  \n",
        "> **[Timoty]:** If you're loading data from files, a faster hard drive can indeed help. But there are also simpler and more effective ways to accelerate a program—or rather, to prevent it from slowing down. I'll now explain how a program reads data, which will clarify how to organize efficient input and output."
      ]
    },
    {
      "cell_type": "markdown",
      "metadata": {},
      "source": [
        "### <a id='toc1_10_1_'></a>[How a Program Reads Data 📥](#toc0_)"
      ]
    },
    {
      "cell_type": "markdown",
      "id": "io-read",
      "metadata": {},
      "source": [
        "The program receives data directly from RAM and processor memory. If it needs data that isn't already loaded, it sends a **request to the operating system**. For example, instead of reading an entire file, the program can request the **next character**. The operating system reads a small block from the hard drive and returns the requested character. 🚀\n",
        "\n",
        "Since the operating system's response isn't instantaneous, repeated requests (such as asking for each subsequent character) can take a significant amount of time. It's like moving a pile of sand one grain at a time. **Key point:** The OS typically reads data in blocks and uses a buffer, which helps avoid unnecessary and costly disk accesses. 💡\n",
        "\n",
        "Data **output** also involves the **operating system**. Built-in functions typically **buffer output**, and when the end of the line is reached, the buffer may automatically flush, sending data to the output stream. ⚡️\n",
        "\n",
        "If you need to print many lines, it's common to combine them into a single string with newline characters and then print them all at once. Remember to always balance **fast output** with **memory usage**, since concatenating too many strings can lead to memory shortages. ⚠️"
      ]
    },
    {
      "cell_type": "markdown",
      "id": "io-dialogue-3",
      "metadata": {},
      "source": [
        "> **[Rita]:** And when reading data, do memory issues occur?  \n",
        "> **[Timoty]:** Yes, but they aren’t due to buffering. Imagine that a program must sum all the numbers from a file. What options are there for this?  \n",
        "> **[Rita]:** The first option is to read the entire line, split it by spaces, convert the substrings to numbers, and sum them, for example:  \n",
        "> `\"2 3 5 7\"` → `[\"2\", \"3\", \"5\", \"7\"]` → `[2, 3, 5, 7]` → `17`  \n",
        "> **[Timoty]:** Exactly. But this method requires a lot of memory because you need to store the original string, the substrings, and the numbers. If the file is large, there might not be enough RAM.  \n",
        "> **[Rita]:** Is there a way to improve the algorithm?  \n",
        "> **[Timoty]:** Of course. You can read the data line by line, immediately convert each line to a number, and add it to an accumulator. That way, only the current data is stored in memory, which saves resources."
      ]
    },
    {
      "cell_type": "markdown",
      "id": "e58cba89",
      "metadata": {},
      "source": [
        "Even if a program needs to store all the data it reads, it most likely doesn't need the original strings. Therefore, there's no need to retain them. Once you've read the data, process it **once** and store it in the most suitable format for the task. For example, if you're working with numbers, store them as *numbers* rather than strings. **Key Point: Optimize data storage to conserve memory.** 🚀\n",
        "\n",
        "This approach helps save RAM. Converting a string to a number might seem like a simple operation, but if you don't save the result, you'll have to repeat the conversion every time, which can be very time-consuming. **Key Point: Avoid redundant operations to improve efficiency.** ⏱️"
      ]
    },
    {
      "cell_type": "markdown",
      "metadata": {},
      "source": [
        "## <a id='toc1_11_'></a>[Input/Output Optimisation](#toc0_)\n"
      ]
    },
    {
      "cell_type": "markdown",
      "id": "409ab8b7",
      "metadata": {},
      "source": [
        "Standard input/output methods are not always efficient, especially when dealing with large amounts of data. Although many online platforms (like LeetCode) provide function signatures and handle input/output behind the scenes, it’s still useful to know how to optimise these operations—particularly if you’re testing your solutions locally or participating in other competitions that do require manual input/output.\n"
      ]
    },
    {
      "cell_type": "markdown",
      "metadata": {},
      "source": [
        "### <a id='toc1_11_1_'></a>[Example Problem 📝](#toc0_)\n"
      ]
    },
    {
      "cell_type": "markdown",
      "id": "a7141507",
      "metadata": {},
      "source": [
        "1. You receive an integer $n$ ($n \\le 10^6$)—the number of lines you will process.  \n",
        "2. The next $n$ lines each contain **two** integers.  \n",
        "3. For each of these $n$ lines, calculate and output the **sum** of those two integers.\n",
        "\n",
        "**Sample Input** (for local testing):\n",
        "```\n",
        "3\n",
        "1 2\n",
        "10 20\n",
        "100 200\n",
        "```\n",
        "\n",
        "**Sample Output**:\n",
        "```\n",
        "3\n",
        "30\n",
        "300\n",
        "```\n",
        "\n"
      ]
    },
    {
      "cell_type": "markdown",
      "id": "06d9fc27",
      "metadata": {},
      "source": [
        "When working in an online judge environment that directly calls your function, you usually won’t need to manage standard input/output yourself. **However**, if you test locally (e.g., with `python solution.py < input.txt`) or use a platform that requires explicit input reading, consider the following optimisations.\n",
        "\n"
      ]
    },
    {
      "cell_type": "markdown",
      "metadata": {},
      "source": [
        "### <a id='toc1_11_2_'></a>[Efficient Code Structure 🚀](#toc0_)"
      ]
    },
    {
      "cell_type": "markdown",
      "id": "ad3abacb",
      "metadata": {},
      "source": [
        "Below is an illustrative Python solution that reads from standard input and prints the results all at once. You can adapt it for your local testing environment or for a system that expects a `main()` function:\n",
        "\n",
        "```python\n",
        "import sys\n",
        "\n",
        "def solve():\n",
        "    num_lines = int(sys.stdin.readline().strip())  # Read the first line\n",
        "    output_numbers = []\n",
        "    \n",
        "    for _ in range(num_lines):\n",
        "        line = sys.stdin.readline().rstrip()\n",
        "        value_1, value_2 = line.split()\n",
        "        value_1 = int(value_1)\n",
        "        value_2 = int(value_2)\n",
        "        result = value_1 + value_2\n",
        "        output_numbers.append(str(result))\n",
        "    \n",
        "    # Print all results at once\n",
        "    print('\\n'.join(output_numbers))\n",
        "\n",
        "# For local testing only:\n",
        "if __name__ == '__main__':\n",
        "    solve()\n",
        "```\n"
      ]
    },
    {
      "cell_type": "markdown",
      "metadata": {},
      "source": [
        "#### <a id='toc1_11_2_1_'></a>[Why This Is Efficient? 🤔](#toc0_)\n"
      ]
    },
    {
      "cell_type": "markdown",
      "id": "d95a73a5",
      "metadata": {},
      "source": [
        "1. **Buffered Output**:  \n",
        "   Instead of printing each sum immediately, we collect them in `output_numbers` and print them all at once. Printing line by line can be slower, especially for very large $n$.\n",
        "\n",
        "2. **Local Variables**:  \n",
        "   By encapsulating everything in the `solve()` function, you use local rather than global variables. This can improve performance in Python.\n",
        "\n",
        "3. **Fast I/O Methods**:  \n",
        "   - We use `sys.stdin.readline()` instead of `input()` for faster reads.  \n",
        "   - We manually strip the newline character with `.rstrip()`.  \n",
        "   - We split the line into two parts (`value_1`, `value_2`) and convert them to integers without creating extra objects like lists or maps.\n",
        "\n",
        "4. **Minimal Overhead**:  \n",
        "   - Constructing temporary lists or using `map(int, line.split())` can be slightly slower in very large inputs due to the creation of additional objects.  \n",
        "   - By parsing the strings manually, we minimise overhead."
      ]
    },
    {
      "cell_type": "markdown",
      "metadata": {},
      "source": [
        "### <a id='toc1_11_3_'></a>[LeetCode-Style Function](#toc0_)\n"
      ]
    },
    {
      "cell_type": "markdown",
      "id": "62c29296",
      "metadata": {},
      "source": [
        "On LeetCode, you typically write a function that accepts parameters (e.g., a list of pairs) and returns a result. For the above problem, you might receive the input as an array of arrays—something like `[[1, 2], [10, 20], [100, 200]]`. A LeetCode-style solution could look like this:\n",
        "\n",
        "```python\n",
        "class Solution:\n",
        "    def pairSums(self, pairs: List[List[int]]) -> List[int]:\n",
        "        result = []\n",
        "        for value_1, value_2 in pairs:\n",
        "            result.append(value_1 + value_2)\n",
        "        return result\n",
        "```\n",
        "\n",
        "LeetCode handles input/output for you, so you only need to focus on the **core logic**. You won’t need `sys.stdin.readline()` or a main function. 👩🏼‍💻"
      ]
    },
    {
      "cell_type": "markdown",
      "metadata": {},
      "source": [
        "### <a id='toc1_11_4_'></a>[Additional Tips 📌](#toc0_)\n"
      ]
    },
    {
      "cell_type": "markdown",
      "id": "5de2b937",
      "metadata": {},
      "source": [
        "1. **Handling Large Data**  \n",
        "    If you know **n** can be up to **10^6** or more, watch out for **time** and **memory limits**. Even with an **O(n)** approach, you might be dealing with millions of operations, so any micro-optimisations—like reducing extra data structures—can help improve performance. ⚡\n",
        "\n",
        "2. **Testing Locally**  \n",
        "    - You can redirect a test file into your Python script for quick performance checks:  \n",
        "      ```bash\n",
        "      python solution.py < test_input.txt\n",
        "      ```  \n",
        "    - Compare the runtime for different approaches (e.g., `input()` vs `sys.stdin.readline()`). 🔍\n",
        "\n",
        "3. **Memory vs. Speed**  \n",
        "    - If you store all results in a list before printing, you might use more **memory** but reduce the overhead from multiple print calls.  \n",
        "    - If memory is extremely tight, consider printing incrementally—acknowledging that this could be slower. 🐢\n",
        "\n",
        "4. **Function vs. Full Script**  \n",
        "    - If a platform like **LeetCode** calls your code, simply implement the **required function signature**.  \n",
        "    - For judges that require you to handle I/O, adapting the `solve()` approach is recommended. 💻\n",
        "\n",
        "By following these guidelines—**buffering output**, **using fast I/O methods**, and **encapsulating logic** in a function—you can ensure your code remains efficient, whether you're tackling LeetCode challenges or testing locally with large input files. 🚀"
      ]
    },
    {
      "cell_type": "markdown",
      "metadata": {},
      "source": [
        "## <a id='toc1_12_'></a>[Complexity Analysis](#toc0_)\n"
      ]
    },
    {
      "cell_type": "markdown",
      "id": "fa4ed34f",
      "metadata": {},
      "source": [
        "When analysing the complexity of an algorithm, we consider two main factors: **time complexity** and **space complexity**. These factors help us understand how an algorithm scales with increasing input size and how efficiently it uses memory. We are going to discuss these concepts in detail. 📊\n",
        "\n",
        "*Note*: Some of the following concepts and algorithms can be challenging. We will observe them now and dive deeper into their intricacies later on, as the main goal at this stage is to learn how to calculate the complexity of certain algorithms. 🚀\n"
      ]
    },
    {
      "cell_type": "markdown",
      "metadata": {},
      "source": [
        "### <a id='toc1_12_1_'></a>[Pseudocode and Cost Table 📝](#toc0_)\n",
        "\n"
      ]
    },
    {
      "cell_type": "markdown",
      "id": "f2e5aa2f",
      "metadata": {},
      "source": [
        "Let's start by examining the pseudocode for the **Insertion Sort** algorithm. This algorithm is simple and widely used for sorting small arrays. The pseudocode is as follows:\n",
        "\n",
        "```yaml\n",
        "Insertion‐Sort(A):\n",
        "\n",
        "1  for j ← 2 to length[A]                    \n",
        "2      do key ← A[j]                            \n",
        "3      // Insert A[j] into the sorted        \n",
        "4      // subarray A[1..j−1]                 \n",
        "5      i ← j − 1                             \n",
        "6      while i > 0 and A[i] > key            \n",
        "7          do A[i+1] ← A[i]                     \n",
        "8              i ← i − 1                         \n",
        "9      A[i+1] ← key\n",
        "```"
      ]
    },
    {
      "cell_type": "markdown",
      "id": "1c6e1c34",
      "metadata": {},
      "source": [
        "Below is a summary of the **cost** (cₖ) for each line and the number of times each line is executed:\n",
        "| Line | Code                                         | Cost  | Number of Executions                       |\n",
        "|-----:|:---------------------------------------------|:-----:|:-------------------------------------------|\n",
        "| 1    | `for j ← 2 to length[A]`                     | c₁    | **n** times                                |\n",
        "| 2    | `do key ← A[j]`                              | c₂    | **n − 1** times                            |\n",
        "| 3–4  | (Comment)                                    | 0     | **n − 1** times                            |\n",
        "| 5    | `i ← j - 1`                                  | c₅    | **n − 1** times                            |\n",
        "| 6    | `while i > 0 and A[i] > key`                 | c₆    | $\\displaystyle \\sum_{j=2}^{n} t_j$         |\n",
        "| 7    | `do A[i+1] ← A[i]`                           | c₇    | $\\displaystyle \\sum_{j=2}^{n} (t_j - 1)$   |\n",
        "| 8    | `i ← i − 1`                                  | c₈    | $\\displaystyle \\sum_{j=2}^{n} (t_j - 1)$   |\n",
        "| 9    | `A[i+1] ← key`                               | c₉    | **n − 1** times                            |\n",
        "\n",
        "Here, $t_j$ is the number of times the while loop is executed for a given value of $j$. The total cost of the algorithm is the sum of the costs for each line multiplied by the number of times each line is executed:\n",
        "\n",
        "$$\n",
        "T(n) = c_1 \\cdot n + c_2 \\cdot (n - 1) + c_5 \\cdot (n - 1) + c_6 \\cdot \\sum_{j=2}^{n} t_j + c_7 \\cdot \\sum_{j=2}^{n} (t_j - 1) + c_8 \\cdot \\sum_{j=2}^{n} (t_j - 1) + c_9 \\cdot (n - 1)"
      ]
    },
    {
      "cell_type": "markdown",
      "metadata": {},
      "source": [
        "#### <a id='toc1_12_1_1_'></a>[Notation and Assumptions:](#toc0_)\n"
      ]
    },
    {
      "cell_type": "markdown",
      "id": "1f5ad7b3",
      "metadata": {},
      "source": [
        "- **A** is an array of integers.\n",
        "- **n** = `length[A]`\n",
        "- $ t_j $ = number of times the `while` loop body executes in the $j$-th iteration of the `for` loop.\n",
        "- Lines 3–4 are grouped because line 3 is a comment and has no cost.\n",
        "- The cost of the `while` loop is calculated as the sum of the costs of lines 6–8.\n",
        "- The cost of the `for` loop is calculated as the sum of the costs of lines 1–9."
      ]
    },
    {
      "cell_type": "markdown",
      "metadata": {},
      "source": [
        "### <a id='toc1_12_2_'></a>[How the Insertion Sort Algorithm Works 🛠️](#toc0_)\n"
      ]
    },
    {
      "cell_type": "markdown",
      "id": "003b7df5",
      "metadata": {},
      "source": [
        "1. **Outer Loop (Line 1):**  \n",
        "   Iterate $ j $ from 2 to `length[A]`. The subarray `A[1..j−1]` is considered already sorted; the goal is to insert the element `A[j]` into its correct place within that subarray.\n",
        "\n",
        "2. **Key Assignment (Line 2):**  \n",
        "   Store `A[j]` in a temporary variable `key` so that the value is not lost while shifting elements.\n",
        "\n",
        "3. **Initial Position (Lines 3–4):**  \n",
        "   Set `i` to `j − 1` to start comparing `key` with the last element of the sorted subarray.\n",
        "\n",
        "4. **Shifting Elements (Lines 5–7):**  \n",
        "   While $ i > 0 $ and `A[i] > key`, shift `A[i]` to the right (assign it to `A[i+1]`) and decrement $ i $. In the worst case, if `key` is smaller than all elements in `A[1..j−1]`, each of those $ j − 1 $ elements is shifted.\n",
        "\n",
        "5. **Placing the Key (Line 8):**  \n",
        "   Insert `key` at the correct position by setting `A[i+1] ← key`.\n"
      ]
    },
    {
      "cell_type": "markdown",
      "metadata": {},
      "source": [
        "### <a id='toc1_12_3_'></a>[Complexity Analysis of Insertion Sort 📊](#toc0_)\n"
      ]
    },
    {
      "cell_type": "markdown",
      "id": "8c2564dc",
      "metadata": {},
      "source": [
        "- **Worst-Case Scenario:**  \n",
        "  Occurs when the array is sorted in **descending** order. In this case, every new element is smaller than all previous elements, leading to $ j-1 $ comparisons and shifts for the $ j $-th iteration. The total cost sums up to:\n",
        "  $$\n",
        "  1 + 2 + \\cdots + (n-1) = \\frac{n(n-1)}{2} = O(n^2).\n",
        "  $$\n",
        "\n",
        "- **Best-Case Scenario:**  \n",
        "  Occurs when the array is already sorted in **ascending** order. Each new element is already in the correct position, so the inner loop makes only one comparison per insertion, yielding a total complexity of $ O(n) $.\n",
        "\n",
        "- **Average Case:**  \n",
        "  Under a random distribution of inputs, the average complexity is $ O(n^2) $, typically with a smaller constant factor than the worst-case.\n",
        "\n"
      ]
    },
    {
      "cell_type": "markdown",
      "metadata": {},
      "source": [
        "## <a id='toc1_13_'></a>[Examples of Asymptotic Complexity](#toc0_)\n"
      ]
    },
    {
      "cell_type": "markdown",
      "id": "a8335164",
      "metadata": {},
      "source": [
        "Below are five examples illustrating how to determine an algorithm's time complexity using Big O notation. We will discuss the complexity of each example and provide a brief explanation. 📊"
      ]
    },
    {
      "cell_type": "markdown",
      "metadata": {},
      "source": [
        "### <a id='toc1_13_1_'></a>[Linear Traversal $O(n)$ 🚶](#toc0_)\n"
      ]
    },
    {
      "cell_type": "markdown",
      "id": "c98e2073",
      "metadata": {},
      "source": [
        "**Pseudocode:**\n",
        "\n",
        "```yaml\n",
        "function linearTraversal(array):\n",
        "    sum = 0\n",
        "    for i from 0 to array.length - 1:\n",
        "        sum += array[i]\n",
        "    return sum\n",
        "```\n",
        "\n",
        "- **Analysis**: The loop visits each element **exactly once**.  \n",
        "- Each iteration does a constant amount of work (an addition and an increment).  \n",
        "- **Total work** ~ $ c \\cdot n $ for some constant $c$.  \n",
        "- **Complexity**: $O(n)$.\n"
      ]
    },
    {
      "cell_type": "markdown",
      "metadata": {},
      "source": [
        "### <a id='toc1_13_2_'></a>[Nested Loops (Quadratic) 🔄](#toc0_)\n"
      ]
    },
    {
      "cell_type": "markdown",
      "id": "c5ec4de2",
      "metadata": {},
      "source": [
        "**Pseudocode:**\n",
        "\n",
        "```yaml\n",
        "function nestedLoops(n):\n",
        "    count = 0\n",
        "    for i from 1 to n:\n",
        "        for j from 1 to n:\n",
        "            count += 1\n",
        "    return count\n",
        "```\n",
        "\n",
        "- **Analysis:**  \n",
        "  - The outer loop runs $ n $ times, and for each iteration, the inner loop runs $ n $ times.\n",
        "  - Total iterations = $n \\times n = n^2$.  \n",
        "- **Complexity**: $O(n^2)$.\n",
        "\n"
      ]
    },
    {
      "cell_type": "markdown",
      "metadata": {},
      "source": [
        "### <a id='toc1_13_3_'></a>[Merge Sort–Like Pattern ($n \\log n$) 🔄](#toc0_)\n"
      ]
    },
    {
      "cell_type": "markdown",
      "id": "9b9c2f37",
      "metadata": {},
      "source": [
        "**High-Level Pseudocode:**\n",
        "\n",
        "```yaml\n",
        "function mergeSort(array):\n",
        "    if array has 1 or 0 elements:\n",
        "        return array\n",
        "    mid = array.length / 2\n",
        "    left = mergeSort(array[0..mid-1])\n",
        "    right = mergeSort(array[mid..end])\n",
        "    return merge(left, right)\n",
        "```\n",
        "\n",
        "- **Analysis:**  \n",
        "  - **Divide**: Dividing the array and merging sorted halves leads to a recurrence relation $ T(n) = 2T(n/2) + O(n) $.\n",
        "  - **Conquer**: We recursively sort each half.  \n",
        "  - **Combine**: The `merge` operation takes **O(n)** time (linear pass to merge two sorted halves).  \n",
        "  - By the Master Theorem (or classic divide-and-conquer analysis), we get **$O(n \\log n)$**.\n",
        "- **Complexity**: $O(n \\log n)$.\n",
        "\n",
        "\n"
      ]
    },
    {
      "cell_type": "markdown",
      "metadata": {},
      "source": [
        "### <a id='toc1_13_4_'></a>[Logarithmic Loop ($O(\\log n)$) 🔄](#toc0_)\n"
      ]
    },
    {
      "cell_type": "markdown",
      "id": "da465bec",
      "metadata": {},
      "source": [
        "\n",
        "**Pseudocode:**\n",
        "\n",
        "```yaml\n",
        "function logarithmicLoop(n):\n",
        "    count = 0\n",
        "    i = 1\n",
        "    while i < n:\n",
        "        count += 1\n",
        "        i = i * 2\n",
        "    return count\n",
        "```\n",
        "\n",
        "- **Analysis**:\n",
        "  - In each iteration, `i` **doubles**.  \n",
        "  - Doubling from 1 up to $n$ takes $\\log_2(n)$ steps (because $2^k = n$ implies $k = \\log_2(n)$).  \n",
        "- **Complexity**: $O(\\log n)$."
      ]
    },
    {
      "cell_type": "markdown",
      "metadata": {},
      "source": [
        "### <a id='toc1_13_5_'></a>[Exponential Growth (Recursive) 🔄](#toc0_)\n"
      ]
    },
    {
      "cell_type": "markdown",
      "id": "919207f7",
      "metadata": {},
      "source": [
        "**Pseudocode:**\n",
        "\n",
        "```yaml\n",
        "function subsets(list):\n",
        "    if list is empty:\n",
        "        return [[]]  // return list with one empty subset\n",
        "    first = list[0]\n",
        "    restSubsets = subsets(list[1..end])\n",
        "    newSubsets = []\n",
        "    for subset in restSubsets:\n",
        "        newSubsets.add( subset + [first] )\n",
        "    return restSubsets + newSubsets\n",
        "```\n",
        "\n",
        "- **Analysis**:\n",
        "  - This function computes **all subsets** of a list.  \n",
        "  - The number of subsets of a set of size $n$ is $2^n$.  \n",
        "  - Hence, it will generate $2^n$ subsets and spend **at least** constant time per subset (actually more, depending on how you store/concatenate them).  \n",
        "- **Complexity**: $O(2^n)$.\n"
      ]
    },
    {
      "cell_type": "markdown",
      "metadata": {},
      "source": [
        "### <a id='toc1_13_6_'></a>[Key Points](#toc0_)\n"
      ]
    },
    {
      "cell_type": "markdown",
      "id": "07f36f87",
      "metadata": {},
      "source": [
        "\n",
        "- **Dominant Term**: In Big O analysis, we **focus** on the term that grows the fastest as $n$ becomes large, ignoring constant factors and lower-order terms.  \n",
        "- **Common Complexities**: $O(1)$, $O(\\log n)$, $O(n)$, $O(n \\log n)$, $O(n^2)$, $O(2^n)$, etc.  \n",
        "- **Nested Loops** often suggest **multiplicative** complexity (e.g., $O(n^2)$, $O(n \\cdot m)$, etc.).  \n",
        "- **Divide & Conquer** (like merge sort) typically yields $O(n \\log n)$.  \n",
        "- **Exponential** algorithms often appear in combinatorial tasks (subsets, permutations, etc.).  \n",
        "\n",
        "By identifying the **structure** of the code (loops, recursion, branching), you can determine which complexity class it belongs to.\n"
      ]
    },
    {
      "cell_type": "markdown",
      "metadata": {},
      "source": [
        "## <a id='toc1_14_'></a>[ Identifying Dominant Terms in Expressions](#toc0_)\n"
      ]
    },
    {
      "cell_type": "markdown",
      "id": "0dd4985e",
      "metadata": {},
      "source": [
        "Below are examples showing how to identify the dominant term, which determines the Big O complexity. We will discuss the complexity of each example and provide a brief explanation. 📊\n"
      ]
    },
    {
      "cell_type": "markdown",
      "metadata": {},
      "source": [
        "### <a id='toc1_14_1_'></a>[Polynomial Example 📊](#toc0_)\n"
      ]
    },
    {
      "cell_type": "markdown",
      "id": "21c2e600",
      "metadata": {},
      "source": [
        "\n",
        "\n",
        "$$\n",
        "f(n) = 2n^3 + 3n^2 + 5n + 8\n",
        "$$\n",
        "\n",
        "- **Dominant Term**: $n^3$ (because $n^3$ grows faster than $n^2$, $n$, or a constant as $n \\to \\infty$).\n",
        "- **Big O Complexity**: $O(n^3)$.\n",
        "\n"
      ]
    },
    {
      "cell_type": "markdown",
      "metadata": {},
      "source": [
        "### <a id='toc1_14_2_'></a>[Another Polynomial Example 📊](#toc0_)\n"
      ]
    },
    {
      "cell_type": "markdown",
      "id": "0ad26343",
      "metadata": {},
      "source": [
        "\n",
        "$$\n",
        "g(n) = 7n^2 + 2n + 10\n",
        "$$\n",
        "\n",
        "- **Dominant Term:** $ n^2 $  \n",
        "- **Time Complexity:** $ O(n^2) $\n",
        "\n",
        "\n"
      ]
    },
    {
      "cell_type": "markdown",
      "metadata": {},
      "source": [
        "\n",
        "### <a id='toc1_14_3_'></a>[Mixed Polynomial and Logarithm 📊](#toc0_)\n"
      ]
    },
    {
      "cell_type": "markdown",
      "id": "83dfa6f2",
      "metadata": {},
      "source": [
        "$$\n",
        "h(n) = n^2 \\log(n) + 5n + 20\n",
        "$$\n",
        "\n",
        "- **Dominant Term**: $n^2 \\log(n)$. \n",
        "  - $n^2 \\log(n)$ grows faster than $n^2$, $n$, or $\\log(n)$ alone, but more slowly than $n^3$. \n",
        "- **Big O Complexity**: $O(n^2 \\log n)$.\n"
      ]
    },
    {
      "cell_type": "markdown",
      "metadata": {},
      "source": [
        "### <a id='toc1_14_4_'></a>[Polynomial vs. Exponential 📊](#toc0_)\n"
      ]
    },
    {
      "cell_type": "markdown",
      "id": "d152a166",
      "metadata": {},
      "source": [
        "\n",
        "$$\n",
        "p(n) = n^3 + 4^n\n",
        "$$\n",
        "\n",
        "- **Dominant Term**: $4^n$. \n",
        "  - Although $n^3$ can get large, any exponential $c^n$ (with $c>1$) eventually outgrows **any** polynomial.\n",
        "- **Big O Complexity**: $O(4^n)$.\n"
      ]
    },
    {
      "cell_type": "markdown",
      "metadata": {},
      "source": [
        "### <a id='toc1_14_5_'></a>[Large Polynomial vs. Another Exponential 📊](#toc0_)\n"
      ]
    },
    {
      "cell_type": "markdown",
      "id": "f75f358f",
      "metadata": {},
      "source": [
        "$$\n",
        "q(n) = n^{100} + 2^n\n",
        "$$\n",
        "\n",
        "- **Dominant Term**: $2^n$.\n",
        "  - Even though $n^{100}$ is extremely large, $2^n$ eventually becomes larger for sufficiently large $n$.  \n",
        "- **Big O Complexity**: $O(2^n)$.\n"
      ]
    },
    {
      "cell_type": "markdown",
      "metadata": {},
      "source": [
        "### <a id='toc1_14_6_'></a>[Key Takeaways](#toc0_)"
      ]
    },
    {
      "cell_type": "markdown",
      "id": "773f19fd",
      "metadata": {},
      "source": [
        "\n",
        "- **Focus on Growth**: As $n$ goes to infinity, the term that increases the fastest determines the overall complexity.  \n",
        "- **Ignore Constants**: In Big O notation, constant multipliers (e.g., 7 in $7n^2$) do not affect asymptotic growth.  \n",
        "- **Ignore Lower-Order Terms**: When combined with a higher-order term, smaller powers or additive logarithms do not change the final Big O.  \n",
        "- **Graph Visualization**: Plotting functions using software like **GeoGebra** can help visualize how they grow relative to each other.\n",
        "\n",
        "By identifying the **largest-growing term** in an expression or function, you can quickly determine its asymptotic complexity.\n"
      ]
    },
    {
      "cell_type": "markdown",
      "metadata": {},
      "source": [
        "## <a id='toc1_15_'></a>[Practice Examples](#toc0_)"
      ]
    },
    {
      "cell_type": "markdown",
      "id": "0bc98d38",
      "metadata": {},
      "source": [
        "We are going to solve a few problems from real code snippets to help you understand the concepts we have discussed in defining the complexity of an algorithm. 🚀"
      ]
    },
    {
      "cell_type": "markdown",
      "metadata": {},
      "source": [
        "### <a id='toc1_15_1_'></a>[Example 1: Linear Search 🚶](#toc0_)"
      ]
    },
    {
      "cell_type": "markdown",
      "id": "21e685d2",
      "metadata": {},
      "source": [
        "> Consider the following linear search algorithm in an array:\n",
        ">\n",
        "> ```cpp\n",
        "> bool Contains(const vector<int>& values, int the_value) {\n",
        ">  for (int x : values) {\n",
        ">    if (x == the_value) {\n",
        ">      return true;\n",
        ">    }\n",
        ">  }\n",
        ">  return false;\n",
        ">}\n",
        ">```\n",
        ">\n",
        ">**Choose the best-case input for it:**\n",
        ">\n",
        ">- `values = {5, 7, 12, -3, 8, 6}`, `the_value = 6`\n",
        ">- `values = {5, 7, 12, -3, 8, 6}`, `the_value = 12`\n",
        ">- `values = {5, 7, 12, -3, 8, 6}`, `the_value = 15`\n",
        ">- `values = {5, 7, 12, -3, 8, 6}`, `the_value = 5`"
      ]
    },
    {
      "cell_type": "markdown",
      "id": "c0404585",
      "metadata": {},
      "source": [
        "**Explanation:**\n",
        "\n",
        "- The best-case scenario for a linear search is when the element is found at the beginning of the array. This way, the search ends quickly, and the algorithm returns `true` after checking only one element, which is `the_value` itself.\n",
        "\n",
        "**Answer**:  \n",
        "$\\boxed{\\text{values} = \\{5,\\, 7,\\, 12,\\, -3,\\, 8,\\, 6\\},\\, \\text{the\\_value} = 5}$\n"
      ]
    },
    {
      "cell_type": "markdown",
      "metadata": {},
      "source": [
        "### <a id='toc1_15_2_'></a>[Example 2: Linear Search (Reversed) 🚶](#toc0_)\n"
      ]
    },
    {
      "cell_type": "markdown",
      "id": "7d4a45ee",
      "metadata": {},
      "source": [
        "> Consider the following linear search algorithm in an array:\n",
        ">\n",
        "> ```cpp\n",
        "> bool Contains(const vector<int>& values, int the_value) {\n",
        ">  for (int x : values) {\n",
        ">    if (x == the_value) {\n",
        ">      return true;\n",
        ">    }\n",
        ">  }\n",
        ">  return false;\n",
        ">}\n",
        ">```\n",
        ">\n",
        ">**Choose the worst-case input for it:**\n",
        ">\n",
        ">- `values = {5, 7, 12, -3, 8, 6}`, `the_value = 6`\n",
        ">- `values = {5, 7, 12, -3, 8, 6}`, `the_value = 12`\n",
        ">- `values = {5, 7, 12, -3, 8, 6}`, `the_value = 15`\n",
        ">- `values = {5, 7, 12, -3, 8, 6}`, `the_value = 5`"
      ]
    },
    {
      "cell_type": "markdown",
      "id": "c380b1cb",
      "metadata": {},
      "source": [
        "**Explanation:**\n",
        "\n",
        "- The worst-case scenario for linear search occurs when the element is **not** found in the array (or is located at the very end). In this case, the algorithm must iterate through **all** elements. Therefore, the worst-case input is: \n",
        "\n",
        "**Answer**:  \n",
        "$\\boxed{\\text{values} = \\{5,\\, 7,\\, 12,\\, -3,\\, 8,\\, 6\\},\\, \\text{the\\_value} = 15}$\n"
      ]
    },
    {
      "cell_type": "markdown",
      "metadata": {},
      "source": [
        "### <a id='toc1_15_3_'></a>[Example 3: Insertion Sort 🔄](#toc0_)\n"
      ]
    },
    {
      "cell_type": "markdown",
      "id": "187f5cb6",
      "metadata": {},
      "source": [
        "\n",
        "> Given the following Python class code:\n",
        "> \n",
        "> ```python\n",
        "> class SortedItems:\n",
        ">     def __init__(self):\n",
        ">         self.items = []\n",
        "> \n",
        ">     def add(self, x):\n",
        ">         self.items.append(x)   # O(1)\n",
        ">         i = len(self.items) - 1\n",
        ">         while i > 0 and self.items[i - 1] > x:\n",
        ">             self.items[i] = self.items[i - 1]\n",
        ">             i -= 1\n",
        ">         self.items[i] = x\n",
        "> \n",
        ">     def minimum(self):\n",
        ">         return self.items[0]\n",
        "> \n",
        ">     def maximum(self):\n",
        ">         return self.items[-1]\n",
        "> \n",
        "> def process(input):\n",
        ">     items = SortedItems()\n",
        ">     for x in input:\n",
        ">         items.add(x)\n",
        ">         print(items.minimum(), items.maximum())\n",
        "> ```\n",
        "> \n",
        "> An array is passed to the `process` function. **Choose the best-case input for the `process` function.**\n",
        "> \n",
        "> - `{3, 5, 8, 10, 12, 16, 38, 43}`\n",
        "> - `{3, 5, 8, 10, 12, 16, 43, 38}`\n",
        "> - `{43, 38, 16, 12, 10, 8, 5, 3}`\n",
        "> - `{16, 12, 3, 5, 43, 8, 38, 10}`\n"
      ]
    },
    {
      "cell_type": "markdown",
      "id": "cce31cff",
      "metadata": {},
      "source": [
        "\n",
        "**Explanation**:  \n",
        "The best-case input is the one that requires the fewest shifts when inserting each element. Since the `add` method shifts elements only when they are greater than the new element, the best-case scenario is when the input is already **in ascending order**, in which case no shifts are needed.\n",
        "\n",
        "**Answer**:  \n",
        "$\\boxed{\\text{\\{3, 5, 8, 10, 12, 16, 38, 43\\}}}$\n",
        "\n"
      ]
    },
    {
      "cell_type": "markdown",
      "metadata": {},
      "source": [
        "### <a id='toc1_15_4_'></a>[Example 4: Insertion Sort (Reversed) 🔄](#toc0_)\n"
      ]
    },
    {
      "cell_type": "markdown",
      "id": "3089f66a",
      "metadata": {},
      "source": [
        "\n",
        "> Given the following Python class code:\n",
        "> \n",
        "> ```python\n",
        "> class SortedItems:\n",
        ">     def __init__(self):\n",
        ">         self.items = []\n",
        "> \n",
        ">     def add(self, x):\n",
        ">         self.items.append(x)   # O(1)\n",
        ">         i = len(self.items) - 1\n",
        ">         while i > 0 and self.items[i - 1] > x:\n",
        ">             self.items[i] = self.items[i - 1]\n",
        ">             i -= 1\n",
        ">         self.items[i] = x\n",
        "> \n",
        ">     def minimum(self):\n",
        ">         return self.items[0]\n",
        "> \n",
        ">     def maximum(self):\n",
        ">         return self.items[-1]\n",
        "> \n",
        "> def process(input):\n",
        ">     items = SortedItems()\n",
        ">     for x in input:\n",
        ">         items.add(x)\n",
        ">         print(items.minimum(), items.maximum())\n",
        "> ```\n",
        "> \n",
        "> An array is passed to the `process` function. **Choose the worst-case input for the `process` function.**\n",
        "> \n",
        "> - `{3, 5, 8, 10, 12, 16, 38, 43}`\n",
        "> - `{3, 5, 8, 10, 12, 16, 43, 38}`\n",
        "> - `{43, 38, 16, 12, 10, 8, 5, 3}`\n",
        "> - `{16, 12, 3, 5, 43, 8, 38, 10}`\n"
      ]
    },
    {
      "cell_type": "markdown",
      "id": "106ddbfc",
      "metadata": {},
      "source": [
        "\n",
        "**Explanation**:  \n",
        "The worst-case input is the one that requires the maximum number of shifts when inserting each element. Since the `add` method shifts elements only when they are greater than the new element, the worst-case scenario is when the input is **in descending order**, requiring the maximum number of shifts for each element.\n",
        "\n",
        "**Answer**:\n",
        "\n",
        "$\\boxed{\\text{\\{43, 38, 16, 12, 10, 8, 5, 3\\}}}$"
      ]
    },
    {
      "cell_type": "markdown",
      "metadata": {},
      "source": [
        "### <a id='toc1_15_5_'></a>[Example 5: Sorting Algorithm Complexity 🔄](#toc0_)\n"
      ]
    },
    {
      "cell_type": "markdown",
      "id": "4fc1bf7f",
      "metadata": {},
      "source": [
        "\n",
        "> Evaluate the asymptotic complexity of the sorting algorithm shown below:\n",
        "> \n",
        "> ```cpp\n",
        "> // C++ code\n",
        "> void SimpleSort(vector<int>& values) {\n",
        ">   for (size_t i = 0; i < values.size(); ++i) {\n",
        ">     for (size_t j = 0; j < i; ++j) {\n",
        ">       if (values[j] > values[i]) {\n",
        ">         swap(values[j], values[i]);\n",
        ">       }\n",
        ">     }\n",
        ">   }\n",
        "> }\n",
        "> ```\n",
        "> \n",
        "> ```python\n",
        "> # Python code\n",
        "> def SimpleSort(values):\n",
        ">     for i in range(len(values)):\n",
        ">         for j in range(i):\n",
        ">             if values[j] > values[i]:\n",
        ">                 values[j], values[i] = values[i], values[j]\n",
        "> ```\n",
        "> \n",
        "> **Hint**\n",
        "> \n",
        "> On the second iteration of the outer loop, the inner loop executes one iteration. On the third iteration, it executes two iterations; on the fourth—three, and so on. In total, at most  \n",
        "> $$  \n",
        "> s = 1 + 2 + \\dots + (N - 1)  \n",
        "> $$  \n",
        "> comparisons and swaps are performed.\n",
        "> \n",
        "> **Choose the correct answer:**\n",
        "> \n",
        "> - $O(N \\log N)$\n",
        "> - $O(\\log N)$\n",
        "> - $O(N)$\n",
        "> - $O(N^2)$\n"
      ]
    },
    {
      "cell_type": "markdown",
      "id": "0a2f30b1",
      "metadata": {},
      "source": [
        "\n",
        "**Explanation**:\n",
        "- The algorithm performs $1 + 2 + \\dots + (N - 1)$ comparisons and swaps, which is equivalent to $\\frac{N(N - 1)}{2}$, or $O(N^2)$.\n",
        "\n",
        "**Answer**:\n",
        "$\\boxed{O(N^2)}$"
      ]
    },
    {
      "cell_type": "markdown",
      "metadata": {},
      "source": [
        "## <a id='toc1_16_'></a>[Combined complexity](#toc0_)\n",
        "\n"
      ]
    },
    {
      "cell_type": "markdown",
      "id": "e4c6e6b9",
      "metadata": {},
      "source": [
        "When analyzing algorithms, it's crucial to understand how individual operations combine to determine the overall time complexity. This tutorial will walk you through the basics of combining asymptotic complexities, including adding and multiplying complexities, handling constant factors, and working with different input sizes. Let's dive in! 🚀\n",
        "\n"
      ]
    },
    {
      "cell_type": "markdown",
      "metadata": {},
      "source": [
        "### <a id='toc1_16_1_'></a>[Example: Reading Input and Sorting 🔄](#toc0_)\n",
        "\n"
      ]
    },
    {
      "cell_type": "markdown",
      "id": "14c783a7",
      "metadata": {},
      "source": [
        "Consider the following C++ function:\n",
        "\n",
        "```cpp\n",
        "void ReadAndSort(int n) {\n",
        "    vector<int> v(n);\n",
        "    // 1) Reading input\n",
        "    for (int i = 0; i < n; ++i) {\n",
        "        cin >> v[i];\n",
        "    }\n",
        "    \n",
        "    // 2) Simple sorting\n",
        "    for (int i = 0; i < v.size(); ++i) {\n",
        "        for (int j = 0; j < i; ++j) {\n",
        "            if (v[j] > v[i]) {\n",
        "                std::swap(v[i], v[j]);\n",
        "            }\n",
        "        }\n",
        "    }\n",
        "}\n",
        "```"
      ]
    },
    {
      "cell_type": "markdown",
      "metadata": {},
      "source": [
        "#### <a id='toc1_16_1_1_'></a>[Analysis](#toc0_)"
      ]
    },
    {
      "cell_type": "markdown",
      "id": "a5d1eb78",
      "metadata": {},
      "source": [
        "\n",
        "1. **Reading Input**\n",
        "   - The loop runs **n** times.\n",
        "   - **Time Complexity**: $O(n)$.\n",
        "\n",
        "2. **Sorting**\n",
        "   - The outer loop iterates $n$ times.\n",
        "   - The inner loop iterates up to $i$ times. In total, it performs about:\n",
        "     $$\n",
        "     1 + 2 + 3 + \\dots + (n - 1) = \\frac{n(n-1)}{2}\n",
        "     $$\n",
        "   - **Time Complexity**: $O(n^2)$.\n",
        "\n",
        "3. **Overall Complexity**\n",
        "   - The total work is:\n",
        "     $$\n",
        "     O(n) + O(n^2) = O(n^2)\n",
        "     $$\n",
        "   - **Conclusion**: The function has an overall complexity of $O(n^2)$.\n",
        "\n"
      ]
    },
    {
      "cell_type": "markdown",
      "metadata": {},
      "source": [
        "\n",
        "\n",
        "### <a id='toc1_16_2_'></a>[Combining Complexities by Addition 🔄](#toc0_)"
      ]
    },
    {
      "cell_type": "markdown",
      "id": "253247ca",
      "metadata": {},
      "source": [
        "\n",
        "\n",
        "When operations are **sequential**, their complexities are **added** together. \n",
        "\n",
        "When you add different complexities, the overall complexity is dominated by the term that grows the fastest as the input size increases. Here are some key points to remember:\n"
      ]
    },
    {
      "cell_type": "markdown",
      "metadata": {},
      "source": [
        "\n",
        "#### <a id='toc1_16_2_1_'></a>[Examples](#toc0_)\n"
      ]
    },
    {
      "cell_type": "markdown",
      "id": "64e7f093",
      "metadata": {},
      "source": [
        "\n",
        "- **$O(N) + O(\\log N) = O(N)$**\n",
        "  - Linear growth dominates logarithmic growth.\n",
        "  \n",
        "- **$O(1) + O(N \\log N) = O(N \\log N)$**\n",
        "  - Constant time becomes negligible for large $n$.\n",
        "\n",
        "- **$O(N^3) + O(N) + O(N \\log N) = O(N^3)$**\n",
        "  - Cubic growth dominates both linear and linearithmic growth.\n",
        "\n",
        "- **$O(N^{30}) + O(2^N) = O(2^N)$**\n",
        "  - Exponential growth eventually outpaces any polynomial, regardless of the polynomial’s exponent.\n"
      ]
    },
    {
      "cell_type": "markdown",
      "metadata": {},
      "source": [
        "\n",
        "#### <a id='toc1_16_2_2_'></a>[When to Keep Multiple Terms](#toc0_)"
      ]
    },
    {
      "cell_type": "markdown",
      "id": "df835f38",
      "metadata": {},
      "source": [
        "\n",
        "Sometimes, you cannot determine which term is dominant because the input sizes might be different. For example, in a graph algorithm, you might have:\n",
        "$$\n",
        "O(V + E)\n",
        "$$\n",
        "where $V$ is the number of vertices and $E$ is the number of edges. In such cases, both terms are kept."
      ]
    },
    {
      "cell_type": "markdown",
      "metadata": {},
      "source": [
        "\n",
        "### <a id='toc1_16_3_'></a>[Combining Complexities by Multiplication](#toc0_)\n"
      ]
    },
    {
      "cell_type": "markdown",
      "id": "f5cbb044",
      "metadata": {},
      "source": [
        "\n",
        "When operations are nested, you multiply their complexities.\n"
      ]
    },
    {
      "cell_type": "markdown",
      "metadata": {},
      "source": [
        "\n",
        "#### <a id='toc1_16_3_1_'></a>[Example: Sorting with Multiple Keys](#toc0_)\n"
      ]
    },
    {
      "cell_type": "markdown",
      "id": "c60913f1",
      "metadata": {},
      "source": [
        "\n",
        "Consider this Python example where a list of persons is sorted three times by different keys:\n",
        "\n",
        "```python\n",
        "# Python 3\n",
        "from collections import namedtuple\n",
        "\n",
        "Person = namedtuple('Person', 'first_name middle_name last_name')\n",
        "\n",
        "persons = [\n",
        "    Person('Ivan', 'Ivanovich', 'Ivanov'),\n",
        "    Person('Sergey', 'Ilich', 'Alexeev'),\n",
        "    # ...\n",
        "]\n",
        "\n",
        "persons.sort(key=lambda x: x.middle_name)\n",
        "persons.sort(key=lambda x: x.first_name)\n",
        "persons.sort(key=lambda x: x.last_name)\n",
        "```\n",
        "\n",
        "- A single sort is $O(N \\log N)$.\n",
        "- Three consecutive sorts result in a runtime of $3 \\cdot O(N \\log N)$.\n",
        "- **Note**: In Big O notation, constant factors are ignored. Therefore, the overall complexity remains $O(N \\log N)$."
      ]
    },
    {
      "cell_type": "markdown",
      "metadata": {},
      "source": [
        "#### <a id='toc1_16_3_2_'></a>[Insertion into a Data Structure](#toc0_)\n"
      ]
    },
    {
      "cell_type": "markdown",
      "id": "9fe0cbba",
      "metadata": {},
      "source": [
        "\n",
        "Consider a C++ function that inserts elements into a set and a map:\n",
        "\n",
        "```cpp\n",
        "void InsertIntoContainers(const vector<int>& values) {\n",
        "    set<int> s;\n",
        "    map<int, int> m;\n",
        "    \n",
        "    for (int x : values) {\n",
        "        s.insert(x);  // O(log N)\n",
        "        m[x] = x;     // O(log N)\n",
        "    }\n",
        "}\n",
        "```\n",
        "\n",
        "- **Set Insertion**: $N$ insertions into a set are $O(N \\log N)$.\n",
        "- **Map Insertion**: $N$ insertions into a map are also $O(N \\log N)$.\n",
        "- **Total Complexity**: $2 \\cdot O(N \\log N) = O(N \\log N)$.\n",
        "\n",
        "If the sizes $N$ and $M$ differ, it's important to keep both variables in the complexity expression. For example, $O(N \\cdot M)$."
      ]
    },
    {
      "cell_type": "markdown",
      "metadata": {},
      "source": [
        "\n",
        "\n",
        "### <a id='toc1_16_4_'></a>[Key Takeaways 🚀](#toc0_)"
      ]
    },
    {
      "cell_type": "markdown",
      "id": "d6c33178",
      "metadata": {},
      "source": [
        "\n",
        "\n",
        "When analyzing algorithms, remember the following principles:\n",
        "\n",
        "- **Adding Complexities**:\n",
        "  - When combining operations that occur sequentially, add their complexities.\n",
        "  - The term with the highest growth rate dominates (e.g., $O(n) + O(n^2) = O(n^2)$).\n",
        "\n",
        "- **Multiplying Complexities**:\n",
        "  - When operations are nested, multiply their complexities.\n",
        "  - Constant factors (like the 3 in $3 \\cdot N \\log N$) are ignored in Big O notation.\n",
        "\n",
        "- **Handling Different Input Sizes**:\n",
        "  - If your algorithm involves different parameters (like $N$ and $M$), include both in the final complexity unless you have specific bounds relating them.\n",
        "\n",
        "By understanding these principles, you can effectively analyze and combine the time complexities of various parts of your code, providing a clear picture of your algorithm’s efficiency. 📊"
      ]
    },
    {
      "cell_type": "markdown",
      "metadata": {},
      "source": [
        "### <a id='toc1_16_5_'></a>[Summary of Key Concepts 📚](#toc0_)"
      ]
    },
    {
      "cell_type": "markdown",
      "id": "61d20208",
      "metadata": {},
      "source": [
        "By combining the complexities of individual operations, you can determine the overall complexity of an algorithm. Here are the key concepts to remember:\n",
        "\n",
        "- **Addition of Complexities:**  \n",
        "  - When two or more independent operations are performed sequentially, add their runtimes.  \n",
        "  - The overall complexity is determined by the term with the highest order.\n",
        "\n",
        "- **Multiplication of Complexities:**  \n",
        "  - When operations are nested (e.g., an inner loop inside an outer loop), multiply their complexities.\n",
        "  - Constant factors are dropped from the final notation.\n",
        "\n",
        "- **Handling Different Variables:**  \n",
        "  - When complexities depend on different parameters (e.g., $ N $ and $ M $), retain them in the final expression unless you know their relationship.\n",
        "\n",
        "- **Practical Implication:**  \n",
        "  - In the example of reading input and sorting, even though reading input is $ O(n) $, the sorting process at $ O(n^2) $ dominates the total complexity, yielding an overall $ O(n^2) $ algorithm.\n",
        "\n"
      ]
    },
    {
      "cell_type": "markdown",
      "metadata": {},
      "source": [
        "### <a id='toc1_16_6_'></a>[Final Thoughts 🤔](#toc0_)\n",
        "\n"
      ]
    },
    {
      "cell_type": "markdown",
      "id": "d137b4a5",
      "metadata": {},
      "source": [
        "Combined complexity analysis is fundamental in predicting an algorithm's scalability and performance. Always remember:\n",
        "\n",
        "- **Add** when the operations are sequential.\n",
        "- **Multiply** when the operations are nested.\n",
        "- **Drop constants** in Big O notation.\n",
        "- **Keep separate variables** when different input sizes or parameters are involved.\n",
        "\n",
        "By mastering these techniques, you can accurately analyze and compare algorithms—even those composed of multiple intricate parts.\n",
        "\n",
        "Happy analyzing!"
      ]
    },
    {
      "cell_type": "markdown",
      "metadata": {},
      "source": [
        "## <a id='toc1_17_'></a>[Test Your Knowledge](#toc0_)\n"
      ]
    },
    {
      "cell_type": "markdown",
      "id": "85d5500d",
      "metadata": {},
      "source": [
        "Below are several exercises with their explanations and answers. Answer each question to test your understanding of complexity analysis. 🧠\n",
        "\n",
        "You can find solutions [here](../solutions/day_02_solutions.md). 📚"
      ]
    },
    {
      "cell_type": "markdown",
      "metadata": {},
      "source": [
        "### <a id='toc1_17_1_'></a>[Exercise 1: Populate Complexity 📊](#toc0_)\n",
        "\n"
      ]
    },
    {
      "cell_type": "markdown",
      "id": "16e45159",
      "metadata": {},
      "source": [
        "> **Question:**  \n",
        "> Evaluate the asymptotic complexity of the `Populate` function below, without assuming anything about the magnitudes of $ M $ and $ N $.\n",
        "\n",
        "> ```cpp\n",
        "> // C++\n",
        "> void Populate(set<int>& unique, const vector<int>& nums) {\n",
        ">   // Let nums.size() = N\n",
        ">   // Let unique.size() = M\n",
        ">   for (int x : nums) {  // N times\n",
        "> unique.insert(x);   // O(log M) (but M grows as elements are inserted)\n",
        ">   }\n",
        "> }\n",
        "> ```\n",
        "\n",
        "> ```python\n",
        "> # Python\n",
        "> def populate(unique, nums):\n",
        ">     # Let len(nums) = N\n",
        ">     # Let len(unique) = M\n",
        ">     for x in nums:  # N times\n",
        ">         unique.add(x)  # O(log M) (but M grows as elements are inserted)\n",
        "> ```\n",
        "\n",
        "> **Answer Options:**\n",
        "> \n",
        "> 1. $O(M \\log(M + N))$  \n",
        "> 2. $O((M + N) \\log(M + N))$  \n",
        "> 3. $O(N \\log(M + N))$  \n",
        "> 4. $O(N \\log M)$  \n",
        "> 5. $O(M \\log N)$"
      ]
    },
    {
      "cell_type": "markdown",
      "id": "a26a5662",
      "metadata": {},
      "source": [
        "<details close>\n",
        "<summary><b>Show Solution</b></summary>\n",
        "<div markdown=\"1\">\n",
        "\n",
        "  **Explanation:**  \n",
        "  - We perform $ N $ insertions into a balanced tree that initially has $ M $ elements.  \n",
        "  - Each insertion takes approximately $ O(\\log(M + i)) $ time (with $ i $ increasing from 0 to $ N-1 $).  \n",
        "  - The total time is roughly:\n",
        "    $$\n",
        "    \\sum_{i=0}^{N-1} \\log(M + i) = O\\bigl(N \\log(M + N)\\bigr).\n",
        "    $$\n",
        "\n",
        "  **Final Answer:**  \n",
        "  $\\boxed{O(N \\log(M + N))}$\n",
        "</div>\n",
        "</details>\n"
      ]
    },
    {
      "cell_type": "markdown",
      "metadata": {},
      "source": [
        "### <a id='toc1_17_2_'></a>[Exercise 2: Fibonacci Complexity 📊](#toc0_)\n"
      ]
    },
    {
      "cell_type": "markdown",
      "id": "8007e33c",
      "metadata": {},
      "source": [
        "> **Question:**  \n",
        "> Evaluate the time complexity of the following recursive `fib` function.\n",
        "\n",
        "> ```cpp\n",
        "> // C/C++\n",
        "> int fib(int N) {\n",
        ">     if (N == 0 || N == 1) {\n",
        ">         return 1;\n",
        ">     }\n",
        ">     return fib(N - 1) + fib(N - 2);\n",
        "> }\n",
        "> ```\n",
        "\n",
        "> ```python\n",
        "> # Python 3\n",
        "> def fib(N):\n",
        ">     if N == 0 or N == 1:\n",
        ">         return 1\n",
        ">     return fib(N - 1) + fib(N - 2)\n",
        "> ```\n",
        "\n",
        "> **Answer Options:**\n",
        "> \n",
        "> 1. $O(\\log N)$  \n",
        "> 2. $O(N^2)$  \n",
        "> 3. $O(N)$  \n",
        "> 4. $O(2^N)$  \n",
        "> 5. $O(N \\log N)$"
      ]
    },
    {
      "cell_type": "markdown",
      "metadata": {},
      "source": [
        "### <a id='toc1_17_3_'></a>[Exercise 3: Quicksort Worst-Case Complexity 📊](#toc0_)\n"
      ]
    },
    {
      "cell_type": "markdown",
      "id": "e99639a3",
      "metadata": {},
      "source": [
        "\n",
        "> **Question:**  \n",
        "> Evaluate the worst-case time complexity of quicksort on an array of $N$ elements using the following process:\n",
        "> 1. Choose a pivot.\n",
        "> 2. Partition the array into three groups: elements less than, equal to, and greater than the pivot.\n",
        "> 3. Reorder the array so that the groups are consecutive.\n",
        "> 4. Recursively sort the subarrays for the groups with elements less than and greater than the pivot.\n",
        "> \n",
        "> **Answer Options:**\n",
        "> \n",
        "> 1. $O(N^2 \\log N)$  \n",
        "> 2. $O(N^N)$  \n",
        "> 3. $O(N \\log N)$  \n",
        "> 4. $O(N^2)$  \n",
        "> 5. $O(N)$\n",
        "\n"
      ]
    },
    {
      "cell_type": "markdown",
      "metadata": {},
      "source": [
        "### <a id='toc1_17_4_'></a>[Exercise 4: Sum of Digits Complexity 📊](#toc0_)\n"
      ]
    },
    {
      "cell_type": "markdown",
      "id": "07e47e8b",
      "metadata": {},
      "source": [
        "\n",
        "> **Question:**  \n",
        "> Evaluate the time complexity of the following function that computes the sum of the digits for every number in an array of size $N$ when each number is at most $C$.\n",
        "\n",
        "> ```cpp\n",
        "> // C++\n",
        "> int count_digit_sum(int N, int *a) {\n",
        ">     int sum = 0;\n",
        ">     for (int i = 0; i < N; ++i) {\n",
        ">         int value = a[i];\n",
        ">         while (value > 0) {\n",
        ">             sum += value % 10;\n",
        ">             value /= 10;\n",
        ">         }\n",
        ">     }\n",
        ">     return sum;\n",
        "> }\n",
        "> ```\n",
        "\n",
        "> ```python\n",
        "> # Python 3\n",
        "> def count_digit_sum(N, a):\n",
        ">     total = 0\n",
        ">     for i in range(N):\n",
        ">         value = a[i]\n",
        ">         while value > 0:\n",
        ">             total += value % 10\n",
        ">             value //= 10\n",
        ">     return total\n",
        "> ```\n",
        "\n",
        "> **Answer Options:**\n",
        "> \n",
        "> 1. $O(N \\log C)$  \n",
        "> 2. $O(C)$  \n",
        "> 3. $O(N)$  \n",
        "> 4. $O(N \\log N)$  \n",
        "> 5. $O(N C)$\n",
        "\n"
      ]
    },
    {
      "cell_type": "markdown",
      "metadata": {},
      "source": [
        "### <a id='toc1_17_5_'></a>[Exercise 5: Asymptotic Complexity with a While and For Loop 📊](#toc0_)\n"
      ]
    },
    {
      "cell_type": "markdown",
      "id": "2e1c8c82",
      "metadata": {},
      "source": [
        "\n",
        "> **Question:**  \n",
        "> Evaluate the time complexity of the following code snippet, where $a$ is an array of size $N$:\n",
        "\n",
        "> ```cpp\n",
        "> // C++\n",
        "> int f(int N, int *a) {\n",
        ">     int answer = 0;\n",
        ">     int L = 0;\n",
        ">     int R = N - 1;\n",
        "> \n",
        ">     while (R >= L) {\n",
        ">         for (int i = L; i <= R; i += 5) {\n",
        ">             answer += a[i];\n",
        ">         }\n",
        ">         if (answer % 2 == 0) {\n",
        ">             ++L;\n",
        ">         } else {\n",
        ">             --R;\n",
        ">         }\n",
        ">     }\n",
        ">     return answer;\n",
        "> }\n",
        "> ```\n",
        "\n",
        "> ```python\n",
        "> # Python 3\n",
        "> def f(N, a):\n",
        ">     answer = 0\n",
        ">     L = 0\n",
        ">     R = N - 1\n",
        ">     while R >= L:\n",
        ">         for i in range(L, R + 1, 5):\n",
        ">             answer += a[i]\n",
        ">         if answer % 2 == 0:\n",
        ">             L += 1\n",
        ">         else:\n",
        ">             R -= 1\n",
        ">     return answer\n",
        "> ```\n",
        "\n",
        "> **Answer Options:**\n",
        "> \n",
        "> 1. $O\\left(\\frac{N^2}{5}\\right)$  \n",
        "> 2. $O(N^2)$  \n",
        "> 3. $O(N^2 + N)$  \n",
        "> 4. $O(N)$  \n",
        "> 5. $O(N \\log N)$"
      ]
    },
    {
      "cell_type": "markdown",
      "metadata": {},
      "source": [
        "### <a id='toc1_17_6_'></a>[Exercise 6: Prime Factors Complexity 📊](#toc0_)\n"
      ]
    },
    {
      "cell_type": "markdown",
      "id": "95d6ea83",
      "metadata": {},
      "source": [
        "> **Question:**  \n",
        "> Evaluate the time complexity of the following function that computes the prime factors of a number $ x $. Let $ C $ be an upper bound on $ x $ (i.e., initially, $ x \\le C $).\n",
        "\n",
        "> ```cpp\n",
        "> // C++\n",
        "> #include <vector>\n",
        "> std::vector<int> primes(int x) {\n",
        ">     std::vector<int> result;\n",
        ">     int i = 2;\n",
        ">     while (i * i <= x) {\n",
        ">         while (x % i == 0) {\n",
        ">             result.push_back(i);\n",
        ">             x /= i;\n",
        ">         }\n",
        ">         ++i;\n",
        ">     }\n",
        ">     if (x != 1) {\n",
        ">         result.push_back(x);\n",
        ">     }\n",
        ">     return result;\n",
        "> }\n",
        "> ```\n",
        "\n",
        "> ```python\n",
        "> # Python 3\n",
        "> def primes(x):\n",
        ">     result = []\n",
        ">     i = 2\n",
        ">     while i * i <= x:\n",
        ">         while x % i == 0:\n",
        ">             result.append(i)\n",
        ">             x //= i\n",
        ">         i += 1\n",
        ">     if x != 1:\n",
        ">         result.append(x)\n",
        ">     return result\n",
        "> ```\n",
        "\n",
        "> **Answer Options:**\n",
        "> \n",
        "> - $O(C \\log C)$\n",
        "> - $O(\\log C)$\n",
        "> - $O(C + \\log C)$\n",
        "> - $O(C)$\n",
        "\n"
      ]
    },
    {
      "cell_type": "markdown",
      "metadata": {},
      "source": [
        "### <a id='toc1_17_7_'></a>[Exercise 7: Counting Sort Complexity 📊](#toc0_)\n"
      ]
    },
    {
      "cell_type": "markdown",
      "id": "70add672",
      "metadata": {},
      "source": [
        "\n",
        "> **Question:**  \n",
        "> Let $a$ be an array of $N$ non-negative integers such that every element does not exceed $C$. Evaluate the time complexity of the following counting sort procedure.\n",
        "\n",
        "> ```cpp\n",
        "> // C++\n",
        "> #include <vector>\n",
        "> #include <algorithm>\n",
        "> void sort(int N, int *a) {\n",
        ">     if (N == 0) return;\n",
        ">     int max_val = *std::max_element(a, a + N);\n",
        ">     std::vector<int> count(max_val + 1, 0);\n",
        ">     for (int i = 0; i < N; ++i) {\n",
        ">         ++count[a[i]];\n",
        ">     }\n",
        ">     int pos = 0;\n",
        ">     for (int i = 0; i < count.size(); ++i) {\n",
        ">         while (count[i] > 0) {\n",
        ">             a[pos] = i;\n",
        ">             ++pos;\n",
        ">             --count[i];\n",
        ">         }\n",
        ">     }\n",
        "> }\n",
        "> ```\n",
        "\n",
        "> ```python\n",
        "> # Python 3\n",
        "> def sort(a):\n",
        ">     N = len(a)\n",
        ">     count = [0] * (max(a) + 1)\n",
        ">     for i in range(N):\n",
        ">         count[a[i]] += 1\n",
        ">     pos = 0\n",
        ">     for i in range(len(count)):\n",
        ">         while count[i] > 0:\n",
        ">             a[pos] = i\n",
        ">             pos += 1\n",
        ">             count[i] -= 1\n",
        "> ```\n",
        "\n",
        "> **Answer Options:**\n",
        "> \n",
        "> 1. $O(NC)$  \n",
        "> 2. $O(C)$  \n",
        "> 3. $O(NC + C^2)$  \n",
        "> 4. $O(N + C)$  \n",
        "> 5. $O(N)$"
      ]
    },
    {
      "cell_type": "markdown",
      "metadata": {},
      "source": [
        "### <a id='toc1_17_8_'></a>[Exercise 8: Asymptotic Time Complexity of a Hash Function 📊](#toc0_)\n"
      ]
    },
    {
      "cell_type": "markdown",
      "id": "3bf60c57",
      "metadata": {},
      "source": [
        "\n",
        "> **Question:**  \n",
        "> Evaluate the asymptotic time complexity of the following hash function.\n",
        "\n",
        "> ```cpp\n",
        "> // C++\n",
        "> long long f(int N) {\n",
        ">     int P = 101;\n",
        ">     int M = 1000000007;\n",
        ">     long long hash = 0;\n",
        ">     while (N >= 1) {\n",
        ">         for (int i = 1; i <= N; ++i) {\n",
        ">             hash = (hash * P + i) % M;\n",
        ">         }\n",
        ">         N /= 2;\n",
        ">     }\n",
        ">     return hash;\n",
        "> }\n",
        "> ```\n",
        "\n",
        "> ```python\n",
        "> # Python 3\n",
        "> def f(N):\n",
        ">     P = 101\n",
        ">     M = 1000000007\n",
        ">     hash = 0\n",
        ">     while N >= 1:\n",
        ">         for i in range(1, N + 1):\n",
        ">             hash = (hash * P + i) % M\n",
        ">         N //= 2\n",
        ">     return hash\n",
        "> ```\n",
        "\n",
        "> **Answer Options:**\n",
        "> \n",
        "> 1. $O(NP)$  \n",
        "> 2. $O(N)$  \n",
        "> 3. $O(N^2)$  \n",
        "> 4. $O(N \\log N)$\n"
      ]
    },
    {
      "cell_type": "markdown",
      "metadata": {},
      "source": [
        "### <a id='toc1_17_9_'></a>[Exercise 9: Merge Sort Complexity for Maintaining a Sorted Set 📊](#toc0_)\n"
      ]
    },
    {
      "cell_type": "markdown",
      "id": "8034a529",
      "metadata": {},
      "source": [
        "\n",
        "> **Question:**  \n",
        "> Suppose we maintain a sorted set of numbers using a dynamically expanding array (e.g., a `std::vector` or Python `list`). When adding a number, we append it to the end and then sort the array using **merge sort**. Evaluate the time complexity of performing $N$ addition operations.\n",
        ">\n",
        "> **Hint:** The merge sort algorithm has a time complexity of $O(N \\log N)$.\n",
        "> \n",
        "> **Answer Options:**\n",
        "> \n",
        "> 1. $O(N^3)$  \n",
        "> 2. $O(N \\log N)$  \n",
        "> 3. $O(N^2 \\log N)$  \n",
        "> 4. $O(N^2)$  \n",
        "> 5. $O(N)$\n"
      ]
    },
    {
      "cell_type": "markdown",
      "metadata": {},
      "source": [
        "### <a id='toc1_17_10_'></a>[Exercise 10: Insertion Sort Complexity for Maintaining a Sorted Set 📊](#toc0_)"
      ]
    },
    {
      "cell_type": "markdown",
      "id": "8d610c39",
      "metadata": {},
      "source": [
        "\n",
        "> **Question:**  \n",
        "> Suppose we maintain a sorted set of numbers using a dynamically expanding array. When adding a number, we append it to the array and then sort it using **insertion sort**. Evaluate the time complexity of performing $N$ addition operations.\n",
        "> \n",
        "> **Hint:** The insertion sort algorithm has a time complexity of $O(N^2)$.\n",
        ">\n",
        "> **Answer Options:**\n",
        "> \n",
        "> 1. $O(N^3)$  \n",
        "> 2. $O(N \\log N)$  \n",
        "> 3. $O(N^2 \\log N)$  \n",
        "> 4. $O(N^2)$  \n",
        "> 5. $O(N)$"
      ]
    },
    {
      "cell_type": "markdown",
      "metadata": {},
      "source": [
        "## <a id='toc1_18_'></a>[Reflection Questions](#toc0_)\n"
      ]
    },
    {
      "cell_type": "markdown",
      "id": "976a789b",
      "metadata": {},
      "source": [
        "\n",
        "- How do different asymptotic notations (O, Θ, Ω) influence your choice of algorithm? 🤔\n",
        "- How do hardware limitations and built-in optimizations affect the real-world performance of an algorithm? 💡\n",
        "- What trade-offs between time and memory are acceptable in various projects? 🔄\n",
        "- How can algorithmic improvements directly impact user experience in software applications? 🚀\n",
        "- In what situations might a higher time complexity be acceptable in exchange for lower space usage? 🏗️\n",
        "- How do parallel processing and concurrency alter traditional complexity analyses? 🔀\n",
        "- What are the benefits and drawbacks of memoization compared to iterative solutions in terms of performance and memory? 📝\n"
      ]
    },
    {
      "cell_type": "markdown",
      "metadata": {},
      "source": [
        "## <a id='toc1_19_'></a>[Additional Resources](#toc0_)"
      ]
    },
    {
      "cell_type": "markdown",
      "id": "0410e0cf",
      "metadata": {},
      "source": [
        "- [Introduction to Algorithms (CLRS)](https://mitpress.mit.edu/books/introduction-to-algorithms) 📘\n",
        "- [MIT OpenCourseWare - Introduction to Algorithms](https://ocw.mit.edu/courses/electrical-engineering-and-computer-science/6-006-introduction-to-algorithms-fall-2011/) 🎓\n",
        "- [GeeksforGeeks - Analysis of Algorithms](https://www.geeksforgeeks.org/analysis-of-algorithms-set-1-asymptotic-analysis/) 💻\n",
        "- [Python `timeit` Documentation](https://docs.python.org/3/library/timeit.html) 📄\n",
        "- [Understanding Spatial Complexity](https://www.geeksforgeeks.org/spatial-complexity-of-algorithms/) 🌟\n",
        "- [cProfile and Profiling Techniques](https://docs.python.org/3/library/profile.html) 🔍"
      ]
    }
  ],
  "metadata": {
    "kernelspec": {
      "display_name": "Python 3",
      "name": "python3"
    },
    "language_info": {
      "codemirror_mode": {
        "name": "ipython",
        "version": 3
      },
      "file_extension": ".py",
      "mimetype": "text/x-python",
      "name": "python",
      "nbconvert_exporter": "python",
      "pygments_lexer": "ipython3",
      "version": "3.13.0"
    }
  },
  "nbformat": 4,
  "nbformat_minor": 5
}
