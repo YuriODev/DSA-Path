{
  "cells": [
    {
      "cell_type": "markdown",
      "id": "title",
      "metadata": {},
      "source": [
        "# Day 2: Algorithm Complexity, Execution Time, & Spatial Complexity – Extended Edition 🚀"
      ]
    },
    {
      "cell_type": "markdown",
      "id": "toc-header",
      "metadata": {},
      "source": [
        "## Table of Contents 📖"
      ]
    },
    {
      "cell_type": "markdown",
      "id": "toc-list",
      "metadata": {},
      "source": [
        "- [Objectives](#objectives)\n",
        "- [Algorithm Complexity](#algorithm-complexity)\n",
        "  - [Asymptotic Notation and Growth Rates](#asymptotic-notation-and-growth-rates)\n",
        "  - [Additional Notations: Θ and Ω](#additional-notations-θ-and-ω)\n",
        "  - [Real-World Examples & Quiz Questions](#real-world-examples--quiz-questions)\n",
        "- [Estimating Execution Time](#estimating-execution-time)\n",
        "  - [Measuring with the `time` Module](#measuring-with-the-time-module)\n",
        "  - [Using the `timeit` Module](#using-the-timeit-module)\n",
        "  - [Practical Benchmarking Considerations](#practical-benchmarking-considerations)\n",
        "  - [Profiling: Beyond Timeit](#profiling-beyond-timeit)\n",
        "- [Spatial Complexity](#spatial-complexity)\n",
        "  - [Memory Usage and Trade-Offs](#memory-usage-and-trade-offs)\n",
        "  - [Detailed Example: DNA Sequence Analysis](#detailed-example-dna-sequence-analysis)\n",
        "  - [Comparing Data Structures](#comparing-data-structures)\n",
        "- [Solving Algorithmic Problems](#solving-algorithmic-problems)\n",
        "  - [A Systematic Approach to Problem Solving](#a-systematic-approach-to-problem-solving)\n",
        "  - [Tips, Strategies, and Common Pitfalls](#tips-strategies-and-common-pitfalls)\n",
        "- [Conclusion & Further Reading](#conclusion--further-reading)"
      ]
    },
    {
      "cell_type": "markdown",
      "id": "objectives-header",
      "metadata": {},
      "source": [
        "## Objectives"
      ]
    },
    {
      "cell_type": "markdown",
      "id": "objectives-list",
      "metadata": {},
      "source": [
        "- **Deepen Your Understanding of Asymptotic Analysis:** Examine how algorithm efficiency is measured as the input size increases and explore additional notations like Θ (tight bound) and Ω (lower bound). 🤓\n",
        "- **Compare Different Growth Rates:** Contrast O(1), O(n), O(n²), O(2^n), and O(n³) with concrete examples. 📈\n",
        "- **Measure Execution Time in Python:** Learn to use both `time` and `timeit` modules, and understand how to profile code for deeper insights. ⏱️\n",
        "- **Analyze Spatial Complexity:** Understand how an algorithm's memory consumption grows with input size, and explore the trade-offs between time and space. 💾\n",
        "- **Adopt a Systematic Problem-Solving Approach:** Master a step-by-step process for designing, testing, and optimizing algorithmic solutions while avoiding common pitfalls. 🔍"
      ]
    },
    {
      "cell_type": "markdown",
      "id": "algocomplexity-header",
      "metadata": {},
      "source": [
        "## Algorithm Complexity"
      ]
    },
    {
      "cell_type": "markdown",
      "id": "asymptotic-text",
      "metadata": {},
      "source": [
        "### Asymptotic Notation and Growth Rates\n",
        "\n",
        "From the previous lessons, you’ve learned that different algorithms can have different running times. You might wonder why we need to know this. After all, “everyone calculates algorithm complexity” might sound like just another topic from the realm of abstract and convoluted programming stuff. But don’t jump to conclusions! Repeat this mantra a few times to absorb its essence:\n",
        "\n",
        "```\n",
        "O(n) — linear dependence\n",
        "O(log n) — logarithmic dependence\n",
        "...\n",
        "```\n",
        "\n",
        "Look closely—the meaning becomes clear: it’s about how the algorithm’s running time changes as the input size grows, and whether it can handle that growth at all. In theory, this is called asymptotics and is written as `O(n)` (read as “big O of n”). Sometimes people say **Big O notation**.\n",
        "\n",
        "When you design an algorithm, knowing how its running time scales is essential—especially if `n` becomes very large. 😊"
      ]
    },
    {
      "cell_type": "markdown",
      "id": "big-o-notation",
      "metadata": {},
      "source": [
        "### Big O Notation\n",
        "\n",
        "Such abbreviations are referred to as **O-notation** (from the English “Big O notation”).\n",
        "\n",
        "In **O-notation**, we do not account for constants and coefficients. For instance, if an algorithm performs \\(5 \\times n + 3\\) operations, its complexity is \\(O(n)\\). In asymptotic analysis, constant values become negligible as \\(n\\) grows. We cannot say that constants are entirely unimportant—after all, in practical scenarios, they can affect performance for smaller inputs. However, they **do not** fundamentally alter whether the algorithm remains feasible for large \\(n\\).\n",
        "\n",
        "To illustrate, consider the running times of several algorithms:\n",
        "\n",
        "1. **First algorithm:** performs \\(2n + 3\\) operations.  \n",
        "2. **Second algorithm:** performs \\(3n\\) operations.  \n",
        "3. **Third algorithm:** performs \\(\\log(n+2)\\) operations.  \n",
        "4. **Fourth algorithm:** performs \\(\\log(n+1)+1\\) operations.\n",
        "\n",
        "If you plot the number of operations against \\(n\\), you will see that, as \\(n\\) becomes very large, these expressions differ only by their constant factors or linear coefficients—yet they all grow **linearly** with \\(n\\). In Big O notation, each one is described as \\(O(n)\\)."
      ]
    },
    {
      "cell_type": "markdown",
      "id": "key-point",
      "metadata": {},
      "source": [
        "### Key Point\n",
        "\n",
        "Although constants and lower-order terms can matter for small inputs, they **cannot** transform a linear algorithm into a quadratic or exponential one, and vice versa. That is why Big O notation focuses on the **dominant term** as \\(n\\) tends to infinity, giving us a clear picture of how an algorithm’s complexity scales in the long run."
      ]
    },
    {
      "cell_type": "code",
      "execution_count": 9,
      "id": "big-o-graph",
      "metadata": {},
      "outputs": [
        {
          "name": "stderr",
          "output_type": "stream",
          "text": [
            "<>:17: SyntaxWarning: invalid escape sequence '\\l'\n",
            "<>:18: SyntaxWarning: invalid escape sequence '\\l'\n",
            "<>:17: SyntaxWarning: invalid escape sequence '\\l'\n",
            "<>:18: SyntaxWarning: invalid escape sequence '\\l'\n",
            "/var/folders/s6/qfykwyn55ksgv8n9prqq55yc0000gq/T/ipykernel_15261/1966035830.py:17: SyntaxWarning: invalid escape sequence '\\l'\n",
            "  plt.plot(n, f3, label='$\\log(n+2)$', linestyle='-.')\n",
            "/var/folders/s6/qfykwyn55ksgv8n9prqq55yc0000gq/T/ipykernel_15261/1966035830.py:18: SyntaxWarning: invalid escape sequence '\\l'\n",
            "  plt.plot(n, f4, label='$\\log(n+1)+1$', linestyle=':')\n"
          ]
        },
        {
          "data": {
            "image/png": "[encoded data removed]",
            "text/plain": [
              "<Figure size 1000x600 with 1 Axes>"
            ]
          },
          "metadata": {},
          "output_type": "display_data"
        }
      ],
      "source": [
        "import numpy as np\n",
        "import matplotlib.pyplot as plt\n",
        "\n",
        "# Create a range of input sizes\n",
        "n = np.linspace(1, 100, 100)\n",
        "\n",
        "# Define several example functions\n",
        "f1 = 2*n + 3           # First algorithm: 2n + 3\n",
        "f2 = 3*n               # Second algorithm: 3n\n",
        "f3 = np.log(n + 2)     # Third algorithm: log(n+2)\n",
        "f4 = np.log(n + 1) + 1 # Fourth algorithm: log(n+1) + 1\n",
        "f5 = 5*n + 3           # Additional example: 5n + 3\n",
        "\n",
        "plt.figure(figsize=(10, 6))\n",
        "plt.plot(n, f1, label='$2n + 3$', linestyle='-')\n",
        "plt.plot(n, f2, label='$3n$', linestyle='--')\n",
        "plt.plot(n, f3, label='$\\log(n+2)$', linestyle='-.')\n",
        "plt.plot(n, f4, label='$\\log(n+1)+1$', linestyle=':')\n",
        "plt.plot(n, f5, label='$5n + 3$', linestyle='--', color='gray')\n",
        "plt.xlabel('Input Size $n$')\n",
        "plt.ylabel('Number of Operations')\n",
        "plt.title('Number of Operations vs. Input Size')\n",
        "plt.legend()\n",
        "plt.grid(True)\n",
        "plt.show()"
      ]
    },
    {
      "cell_type": "markdown",
      "id": "additional-notations",
      "metadata": {},
      "source": [
        "### Additional Notations: Θ and Ω\n",
        "\n",
        "- **Θ (Theta) Notation:** Represents a tight bound on the algorithm's running time. If an algorithm’s runtime is Θ(f(n)), its growth rate is exactly f(n) for large n.\n",
        "- **Ω (Omega) Notation:** Provides a lower bound on the runtime. If an algorithm is Ω(f(n)), it takes at least f(n) time to run.\n",
        "\n",
        "These notations help further refine the analysis by distinguishing between best-case, average-case, and worst-case scenarios. 🤓"
      ]
    },
    {
      "cell_type": "markdown",
      "id": "real-world-examples-header",
      "metadata": {},
      "source": [
        "### Real-World Examples & Quiz Questions"
      ]
    },
    {
      "cell_type": "markdown",
      "id": "example1",
      "metadata": {},
      "source": [
        "**Example 1: Cupboard Notebook Run**\n",
        "\n",
        "In the clinic Gosha usually visits, there is Dr Ignaty Petrovich. He sees patients all day with the door only slightly ajar.\n",
        "\n",
        "Assume that each person causes the door to be opened once when entering and once when leaving. With \\(n\\) visitors, the door is opened \\(2n\\) times. Since the door was already ajar, the very first entry doesn’t require a full opening. Hence, the total number of full openings is \\(2n - 1\\), which is \\(O(n)\\) asymptotically. 🤓"
      ]
    },
    {
      "cell_type": "markdown",
      "id": "example2",
      "metadata": {},
      "source": [
        "**Example 2: Elevator Meetings**\n",
        "\n",
        "In a camp, there was a rumor that Upravly Timofeev shook hands three times with his father and even gave him a soda by hand. Later, he greeted everyone in the ward (20 times, never repeating himself) and challenged the idea of “squaring.”\n",
        "\n",
        "Suppose there are \\(n\\) people in total. Each person greets every other person exactly once, resulting in \\((n - 1)\\) handshakes per person. Since a handshake between A and B is the same as between B and A, the total number is given by:\n",
        "\n",
        "\\(\\frac{n(n - 1)}{2}\\).\n",
        "\n",
        "For large \\(n\\), this behaves like \\(n^2\\) (ignoring lower-order terms and constants), i.e. \\(O(n^2)\\). 💡"
      ]
    },
    {
      "cell_type": "markdown",
      "id": "example3",
      "metadata": {},
      "source": [
        "**Example 3: Brute Force Conversion (Decimal to Binary)**\n",
        "\n",
        "Suppose we need to iterate through all binary strings of length \\(n\\). For \\(n = 3\\), the strings are: 000, 001, 010, 011, 100, 101, 110, and 111.\n",
        "\n",
        "#### Quiz Question:\n",
        "\n",
        "Which time complexity does this exhaustive search have?\n",
        "\n",
        "- \\(O(N^2)\\)\n",
        "- \\(O(2^N)\\)\n",
        "- \\(O(N^3)\\)\n",
        "- \\(O(\\log N)\\)\n",
        "\n",
        "The correct answer is **\\(O(2^N)\\)** because exponential complexity is only practical for very small \\(N\\). 🔥"
      ]
    },
    {
      "cell_type": "markdown",
      "id": "example4",
      "metadata": {},
      "source": [
        "**Example 4: Simple Python Programme Complexity**\n",
        "\n",
        "You receive a single integer \\(n\\) as input and need to compute \\(42 \\times n + 15\\). Consider this Python programme:\n",
        "\n",
        "```python\n",
        "n = int(input())\n",
        "print(42 * n + 15)\n",
        "```\n",
        "\n",
        "What is the computational complexity of this programme?\n",
        "\n",
        "- \\(O(n)\\)\n",
        "- \\(O(1)\\)\n",
        "- \\(O(\\log n)\\)\n",
        "- \\(O(n^2)\\)\n",
        "\n",
        "The correct answer is **\\(O(1)\\)** because it performs a fixed number of operations regardless of \\(n\\)."
      ]
    },
    {
      "cell_type": "markdown",
      "id": "daily-routine-example",
      "metadata": {},
      "source": [
        "### Daily Routine Example\n",
        "\n",
        "Every morning, **George** runs a programme that enumerates all combinations of numbers from 1 to \\(n\\) bottles, displays each combination, and asks him to rate them from 1 to 10. Then, the programme finds the most popular combination.\n",
        "\n",
        "Given that \\(n\\) might increase, what is the complexity of this algorithm?\n",
        "\n",
        "- \\(O(n)\\)\n",
        "- \\(O(n^2)\\)\n",
        "- \\(O(\\log n)\\)\n",
        "- \\(O(1)\\)\n",
        "\n",
        "Think about how the number of combinations grows as \\(n\\) increases. 🤔"
      ]
    },
    {
      "cell_type": "markdown",
      "id": "searching-for-bottle",
      "metadata": {},
      "source": [
        "### Searching for a Bottle Example\n",
        "\n",
        "**Alice** wrote an algorithm to find a particular bottle among \\(x\\) shops. The shops are recorded in alphabetical order, and her algorithm uses **binary search**. What is the complexity of her algorithm?\n",
        "\n",
        "- \\(O(n)\\)\n",
        "- \\(O(n^2)\\)\n",
        "- \\(O(\\log n)\\)\n",
        "- \\(O(1)\\)\n",
        "\n",
        "Since binary search halves the search space with each step, its running time grows **logarithmically**: \\(O(\\log n)\\). 🔍"
      ]
    },
    {
      "cell_type": "markdown",
      "id": "comparing-complexities",
      "metadata": {},
      "source": [
        "### Comparing Complexities\n",
        "\n",
        "George initially thought Alice’s algorithm was \\(O(n^2)\\). However, **Timothy** argued that since \\(\\log n\\) grows much more slowly than \\(n^2\\), the binary search is far more efficient.\n",
        "\n",
        "In fact, if binary search is used correctly, its complexity is \\(O(\\log n)\\), which is significantly better than \\(O(n^2)\\). 👍"
      ]
    },
    {
      "cell_type": "markdown",
      "id": "key-takeaways",
      "metadata": {},
      "source": [
        "**Key Takeaways:**\n",
        "\n",
        "1. **Exponential Complexity (\\(O(2^n)\\))**: Practical only for very small \\(n\\). 🚫\n",
        "2. **Constant Complexity (\\(O(1)\\))**: The work remains unchanged regardless of \\(n\\). 🔒\n",
        "3. **Logarithmic Complexity (\\(O(\\log n)\\))**: Efficiently halves the problem size (e.g., binary search). ⚡\n",
        "4. **Polynomial Complexities (\\(O(n), O(n^2), O(n^3)\\), etc.)**: Manageable in many cases, but may become heavy as \\(n\\) increases. 📊"
      ]
    },
    {
      "cell_type": "markdown",
      "id": "estimating-execution-time",
      "metadata": {},
      "source": [
        "## Estimating Execution Time"
      ]
    },
    {
      "cell_type": "markdown",
      "id": "measuring-with-time",
      "metadata": {},
      "source": [
        "### Measuring with the `time` Module\n",
        "\n",
        "The `time` module provides a simple way to capture wall-clock time. This method is great for quick benchmarks, though external factors can introduce noise. ⏱️"
      ]
    },
    {
      "cell_type": "code",
      "execution_count": null,
      "id": "time-module-code",
      "metadata": {},
      "outputs": [],
      "source": [
        "import time\n",
        "\n",
        "start = time.time()\n",
        "x = 0\n",
        "for i in range(10**6):\n",
        "    x += i\n",
        "end = time.time()\n",
        "\n",
        "print(\"Execution Time:\", end - start, \"seconds\")"
      ]
    },
    {
      "cell_type": "markdown",
      "id": "using-timeit",
      "metadata": {},
      "source": [
        "### Using the `timeit` Module\n",
        "\n",
        "For more robust timing, the `timeit` module runs code repeatedly to average out irregularities. ⚡"
      ]
    },
    {
      "cell_type": "code",
      "execution_count": null,
      "id": "timeit-code",
      "metadata": {},
      "outputs": [],
      "source": [
        "import timeit\n",
        "\n",
        "code_to_test = \"\"\"\n",
        "x = 0\n",
        "for i in range(10**6):\n",
        "    x += i\n",
        "\"\"\"\n",
        "\n",
        "execution_time = timeit.timeit(stmt=code_to_test, number=10)\n",
        "print(\"Average Execution Time:\", execution_time / 10, \"seconds\")"
      ]
    },
    {
      "cell_type": "markdown",
      "id": "benchmarking-considerations",
      "metadata": {},
      "source": [
        "### Practical Benchmarking Considerations\n",
        "\n",
        "- **Hardware Impact:** CPU speed affects timing (e.g., an i7 may perform 10^7–10^8 operations per second).\n",
        "- **Averaging:** Running tests multiple times helps smooth out irregularities.\n",
        "- **Built-in vs. Custom:** Compare your custom loops with optimized built-in functions like `sum()`.\n",
        "\n",
        "Keep these factors in mind when evaluating performance. 💡"
      ]
    },
    {
      "cell_type": "markdown",
      "id": "profiling-beyond-timeit",
      "metadata": {},
      "source": [
        "### Profiling: Beyond Timeit\n",
        "\n",
        "For a deeper analysis, use profiling tools that break down execution time by function:\n",
        "- **`cProfile`:** Provides a detailed report of time spent in each function.\n",
        "- **`line_profiler`:** Measures execution time per line of code.\n",
        "\n",
        "For example, using `cProfile`:"
      ]
    },
    {
      "cell_type": "code",
      "execution_count": null,
      "id": "cprofile-code",
      "metadata": {},
      "outputs": [],
      "source": [
        "import cProfile\n",
        "\n",
        "def sum_loop(n):\n",
        "    s = 0\n",
        "    for i in range(n):\n",
        "        s += i\n",
        "    return s\n",
        "\n",
        "cProfile.run('sum_loop(10**6)')"
      ]
    },
    {
      "cell_type": "markdown",
      "id": "spatial-complexity",
      "metadata": {},
      "source": [
        "## Spatial Complexity"
      ]
    },
    {
      "cell_type": "markdown",
      "id": "memory-usage",
      "metadata": {},
      "source": [
        "### Memory Usage and Trade-Offs\n",
        "\n",
        "Spatial complexity measures the extra memory an algorithm needs:\n",
        "- **O(1):** Constant space usage.\n",
        "- **O(n):** Space grows linearly with input size (e.g., storing an array).\n",
        "- **O(n²):** Space grows quadratically (e.g., pairwise matrices).\n",
        "\n",
        "Understanding these trade-offs helps when balancing speed against memory usage. 💾"
      ]
    },
    {
      "cell_type": "markdown",
      "id": "dna-example",
      "metadata": {},
      "source": [
        "### Detailed Example: DNA Sequence Analysis\n",
        "\n",
        "Consider processing a DNA sequence to count the occurrences of the letters 'C' and 'G'.\n",
        "\n",
        "1. **Simple Count (Constant Space):**\n",
        "   - Loop through the sequence and count the letters. Uses O(1) extra space.\n",
        "\n",
        "2. **Cumulative (Prefix) Sum Approach:**\n",
        "   - Build an array that holds the cumulative count. This requires O(n) extra space.\n",
        "\n",
        "> **Trade-Off:** The prefix sum approach uses extra memory but enables faster subsequent queries. 🔄"
      ]
    },
    {
      "cell_type": "code",
      "execution_count": null,
      "id": "dna-code1",
      "metadata": {},
      "outputs": [],
      "source": [
        "sequence = \"ACGTGCGTACGTCG\"\n",
        "c_count = 0\n",
        "for letter in sequence:\n",
        "    if letter in ['C', 'G']:\n",
        "        c_count += 1\n",
        "print(c_count)"
      ]
    },
    {
      "cell_type": "code",
      "execution_count": null,
      "id": "dna-code2",
      "metadata": {},
      "outputs": [],
      "source": [
        "cumulative_sums = []\n",
        "c_count = 0\n",
        "for letter in sequence:\n",
        "    if letter in ['C', 'G']:\n",
        "        c_count += 1\n",
        "    cumulative_sums.append(c_count)\n",
        "print(cumulative_sums[-1])"
      ]
    },
    {
      "cell_type": "markdown",
      "id": "compare-ds",
      "metadata": {},
      "source": [
        "### Comparing Data Structures\n",
        "\n",
        "Different data structures have varied spatial requirements:\n",
        "- **Arrays vs. Linked Lists:** Arrays have contiguous memory and are cache-friendly, while linked lists require extra space for pointers.\n",
        "- **Dictionaries/Sets:** Offer fast lookup (average-case O(1)) but with higher memory overhead.\n",
        "- **Trees/Graphs:** Can be memory intensive depending on the representation (e.g., adjacency matrix vs. list).\n",
        "\n",
        "Choosing the right data structure is key to balancing memory usage and performance. 🗄️"
      ]
    },
    {
      "cell_type": "markdown",
      "id": "solving-problems",
      "metadata": {},
      "source": [
        "## Solving Algorithmic Problems"
      ]
    },
    {
      "cell_type": "markdown",
      "id": "systematic-approach",
      "metadata": {},
      "source": [
        "### A Systematic Approach to Problem Solving\n",
        "\n",
        "1. **Read the Problem Carefully:** Understand requirements, input/output formats, and constraints. 📜\n",
        "2. **Work Through Examples:** Solve simple instances manually to grasp the problem. ✍️\n",
        "3. **Devise a Rough Solution:** Outline your approach using pseudocode or diagrams. 🗒️\n",
        "4. **Analyze Complexity:** Estimate time and space requirements. 🔍\n",
        "5. **Prototype and Test:** Build a minimal version to validate core logic. 🛠️\n",
        "6. **Debug and Refine:** Review and optimize your solution. 🚀"
      ]
    },
    {
      "cell_type": "markdown",
      "id": "tips-strategies",
      "metadata": {},
      "source": [
        "### Tips, Strategies, and Common Pitfalls\n",
        "\n",
        "- **Extend the Constraints:** Simplify the problem to understand it better.\n",
        "- **Use Small Input Data:** Validate with a small sample before scaling up.\n",
        "- **Prototype Quickly:** Check your core logic with a minimal viable solution.\n",
        "- **Identify Bottlenecks:** Optimize the parts of the algorithm that are most time-consuming.\n",
        "- **Balance Memory and Time:** Sometimes extra memory (e.g., caching) can save significant time.\n",
        "- **Review and Refactor:** Regularly revisit your code to improve clarity and performance.\n",
        "- **Seek Help When Stuck:** Discuss with peers or consult online communities. 🤝\n",
        "\n",
        "> **Pitfall:** Rushing into coding without proper planning often leads to errors and inefficient solutions. ⚠️"
      ]
    },
    {
      "cell_type": "markdown",
      "id": "conclusion-header",
      "metadata": {},
      "source": [
        "## Conclusion & Further Reading"
      ]
    },
    {
      "cell_type": "markdown",
      "id": "summary",
      "metadata": {},
      "source": [
        "### Summary\n",
        "\n",
        "- We explored asymptotic analysis, including key notations like **O(n)**, **Θ**, and **Ω**. 📊\n",
        "- We learned to measure execution time using both `time` and `timeit`, and touched on profiling techniques. ⏱️\n",
        "- Spatial complexity was examined through examples such as DNA sequence analysis and data structure comparisons. 💾\n",
        "- A systematic approach to problem solving was outlined, along with strategies to avoid common pitfalls. 🔍"
      ]
    },
    {
      "cell_type": "markdown",
      "id": "reflection-questions",
      "metadata": {},
      "source": [
        "### Reflection Questions\n",
        "\n",
        "- How do different asymptotic notations (O, Θ, Ω) influence your choice of algorithm? 🤔\n",
        "- How do hardware limitations and built-in optimizations affect the real-world performance of an algorithm? 💡\n",
        "- What trade-offs between time and memory are acceptable in various projects? 🔄"
      ]
    },
    {
      "cell_type": "markdown",
      "id": "additional-resources",
      "metadata": {},
      "source": [
        "### Additional Resources\n",
        "\n",
        "- [Introduction to Algorithms (CLRS)](https://mitpress.mit.edu/books/introduction-to-algorithms) 📘\n",
        "- [MIT OpenCourseWare - Introduction to Algorithms](https://ocw.mit.edu/courses/electrical-engineering-and-computer-science/6-006-introduction-to-algorithms-fall-2011/) 🎓\n",
        "- [GeeksforGeeks - Analysis of Algorithms](https://www.geeksforgeeks.org/analysis-of-algorithms-set-1-asymptotic-analysis/) 💻\n",
        "- [Python `timeit` Documentation](https://docs.python.org/3/library/timeit.html) 📄\n",
        "- [Understanding Spatial Complexity](https://www.geeksforgeeks.org/spatial-complexity-of-algorithms/) 🌟\n",
        "- [cProfile and Profiling Techniques](https://docs.python.org/3/library/profile.html) 🔍"
      ]
    }
  ],
  "metadata": {
    "kernelspec": {
      "display_name": "Python 3",
      "name": "python3"
    },
    "language_info": {
      "name": "python",
      "version": "3.x"
    }
  },
  "nbformat": 4,
  "nbformat_minor": 5
}
