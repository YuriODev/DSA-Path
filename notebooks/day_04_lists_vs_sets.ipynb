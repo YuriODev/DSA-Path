{
  "cells": [
    {
      "cell_type": "markdown",
      "id": "8be73c7b",
      "metadata": {},
      "source": [
        "# <a id='toc1_'></a>[Day 4: Python Lists and Sets 🐍](#toc0_)\n"
      ]
    },
    {
      "cell_type": "markdown",
      "id": "7c7575a1",
      "metadata": {},
      "source": [
        "Welcome to Day 4 of our course! In this lesson, we will explore Python lists and sets in depth. We'll cover their properties, built-in methods, time complexities, and practical examples. Enjoy the journey through theory, examples, and hands-on problems! 😊"
      ]
    },
    {
      "cell_type": "markdown",
      "id": "a5973583",
      "metadata": {},
      "source": [
        "## <a id='toc1_1_'></a>[Table of Contents 📖](#toc0_)\n"
      ]
    },
    {
      "cell_type": "markdown",
      "id": "5d2e79b7",
      "metadata": {},
      "source": [
        "- [Table of Contents 📖](#toc1_1_)    \n",
        "- [Objectives](#toc1_2_)    \n",
        "- [Introduction & Theory 📚](#toc1_3_)    \n",
        "  - [Python Lists 📝](#toc1_3_1_)    \n",
        "  - [Python Sets 🧩](#toc1_3_2_)    \n",
        "- [Built-in Methods & Complexity Tables](#toc1_4_)    \n",
        "  - [List Methods 🔄](#toc1_4_1_)    \n",
        "  - [Set Methods 🔍](#toc1_4_2_)    \n",
        "- [Examples & Timing Comparisons ⏱️](#toc1_5_)    \n",
        "  - [Membership Testing 🔎](#toc1_5_1_)    \n",
        "  - [Duplicate Removal 🔄](#toc1_5_2_)    \n",
        "  - [Insertion & Other Operations ⚡](#toc1_5_3_)    \n",
        "- [Interesting Problems 🤔](#toc1_6_)    \n",
        "  - [Problem 1: Remove Duplicates](#toc1_6_1_)    \n",
        "  - [Problem 2: Membership Test Comparison Function](#toc1_6_2_)    \n",
        "  - [Problem 3: Set Operations (Union & Intersection)](#toc1_6_3_)    \n",
        "- [Exercises 📝](#toc1_7_)    \n",
        "- [Reflection Questions](#toc1_8_)    \n",
        "- [Additional Resources](#toc1_9_)    \n",
        "- [Final Summary 🏁](#toc1_10_)    \n",
        "  - [Bonus Content: Visualizing Performance with Matplotlib 📊](#toc1_10_1_)    \n",
        "\n",
        "<!-- vscode-jupyter-toc-config\n",
        "numbering=false\n",
        "anchor=true\n",
        "flat=false\n",
        "minLevel=1\n",
        "maxLevel=6\n",
        "/vscode-jupyter-toc-config -->\n",
        "<!-- THIS CELL WILL BE REPLACED ON TOC UPDATE. DO NOT WRITE YOUR TEXT IN THIS CELL -->"
      ]
    },
    {
      "cell_type": "markdown",
      "metadata": {},
      "source": [
        "## <a id='toc1_2_'></a>[Objectives](#toc0_)"
      ]
    },
    {
      "cell_type": "markdown",
      "id": "74ad50be",
      "metadata": {},
      "source": [
        "- Understand the characteristics of Python lists (ordered, mutable) vs. sets (unordered, unique elements) and their properties. 🛠️\n",
        "- Learn about the time complexities of various built-in methods for lists and sets. 🕰️\n",
        "- Explore practical examples with timing comparisons. 📊\n",
        "- Solve interesting problems using lists and sets. 🧩\n",
        "- Deepen your understanding through extended theory and visualizations. 📚\n",
        "- Have fun coding and experimenting with these data structures! 🚀"
      ]
    },
    {
      "cell_type": "markdown",
      "metadata": {},
      "source": [
        "## <a id='toc1_3_'></a>[Introduction & Theory 📚](#toc0_)"
      ]
    },
    {
      "cell_type": "markdown",
      "id": "f216d425",
      "metadata": {},
      "source": [
        "\n",
        "In this section, we'll introduce the basic properties and differences between Python lists and sets. Understanding these differences will help you choose the right data structure for your problem.\n"
      ]
    },
    {
      "cell_type": "markdown",
      "metadata": {},
      "source": [
        "### <a id='toc1_3_1_'></a>[Python Lists 📝](#toc0_)"
      ]
    },
    {
      "cell_type": "markdown",
      "id": "bc751ea3",
      "metadata": {},
      "source": [
        "- **Ordered:** Elements maintain the order in which they are inserted.\n",
        "- **Mutable:** Elements can be changed after creation.\n",
        "- **Duplicates Allowed:** The same element can appear more than once.\n",
        "- **Use Cases:** Ideal when order matters or when you need to access elements by index."
      ]
    },
    {
      "cell_type": "markdown",
      "metadata": {},
      "source": [
        "### <a id='toc1_3_2_'></a>[Python Sets 🧩](#toc0_)"
      ]
    },
    {
      "cell_type": "markdown",
      "id": "3a638a11",
      "metadata": {},
      "source": [
        "\n",
        "- **Unordered:** There is no guaranteed order of elements.\n",
        "- **Unique Elements:** Automatically removes duplicate elements.\n",
        "- **Hash-Based:** Offers O(1) average-case performance for membership testing.\n",
        "- **Use Cases:** Best when you need to ensure all elements are unique or require fast membership testing.\n",
        "\n"
      ]
    },
    {
      "cell_type": "markdown",
      "id": "fd4b1d02",
      "metadata": {},
      "source": [
        "Both data structures are powerful tools, and understanding their trade-offs is key to writing efficient Python code."
      ]
    },
    {
      "cell_type": "markdown",
      "metadata": {},
      "source": [
        "## <a id='toc1_4_'></a>[Built-in Methods & Complexity Tables](#toc0_)\n"
      ]
    },
    {
      "cell_type": "markdown",
      "id": "c6ffc304",
      "metadata": {},
      "source": [
        "\n",
        "Below are tables summarizing common methods for lists and sets, along with their time complexities. Understanding these complexities will help you write efficient code and choose the right data structure for your problem."
      ]
    },
    {
      "cell_type": "markdown",
      "metadata": {},
      "source": [
        "### <a id='toc1_4_1_'></a>[List Methods 🔄](#toc0_)\n"
      ]
    },
    {
      "cell_type": "markdown",
      "id": "52e90b07",
      "metadata": {},
      "source": [
        "\n",
        "Lists in Python are versatile and allow various operations. The table below provides a quick reference to some of the most common methods and their complexities:"
      ]
    },
    {
      "cell_type": "markdown",
      "id": "eaa53b75",
      "metadata": {},
      "source": [
        "| **Method**       | **Description**                                | **Time Complexity**                  |\n",
        "|------------------|------------------------------------------------|--------------------------------------|\n",
        "| `append(x)`      | Add element to the end                         | O(1) amortized                       |\n",
        "| `insert(i, x)`   | Insert element `x` at index `i`                | O(n)                                 |\n",
        "| `pop()`          | Remove and return the last element             | O(1)                                 |\n",
        "| `pop(i)`         | Remove and return element at index `i`         | O(n)                                 |\n",
        "| `remove(x)`      | Remove first occurrence of `x`                 | O(n)                                 |\n",
        "| `index(x)`       | Return index of first occurrence of `x`        | O(n)                                 |\n",
        "| `sort()`         | Sort the list                                  | O(n log n) (Timsort)                 |"
      ]
    },
    {
      "cell_type": "markdown",
      "metadata": {},
      "source": [
        "### <a id='toc1_4_2_'></a>[Set Methods 🔍](#toc0_)"
      ]
    },
    {
      "cell_type": "markdown",
      "id": "d15f3d44",
      "metadata": {},
      "source": [
        "\n",
        "Sets offer a different set of operations that take advantage of hash tables. Check out the table below for details:"
      ]
    },
    {
      "cell_type": "markdown",
      "id": "969b17cd",
      "metadata": {},
      "source": [
        "| **Method**         | **Description**                                      | **Time Complexity**            |\n",
        "|--------------------|------------------------------------------------------|--------------------------------|\n",
        "| `add(x)`           | Add element `x` to the set                           | O(1) average-case              |\n",
        "| `remove(x)`        | Remove element `x`; raises error if not present      | O(1) average-case              |\n",
        "| `discard(x)`       | Remove element `x` if present                        | O(1) average-case              |\n",
        "| `pop()`            | Remove and return an arbitrary element               | O(1)                           |\n",
        "| `union(s)`    | Return the union of two sets                         | O(len(s1) + len(s2))           |\n",
        "| `intersection(s)` / `&` | Return the intersection of two sets            | O(min(len(s1), len(s2)))       |\n",
        "| `difference(s)`    | Return the difference of two sets                    | O(len(s1))                     |\n",
        "| `symmetric_difference(s)` | Return elements in either set, but not both    | O(len(s1) + len(s2))           |\n"
      ]
    },
    {
      "cell_type": "markdown",
      "metadata": {},
      "source": [
        "## <a id='toc1_5_'></a>[Examples & Timing Comparisons ⏱️](#toc0_)"
      ]
    },
    {
      "cell_type": "markdown",
      "id": "a07d87e8",
      "metadata": {},
      "source": [
        "\n",
        "Let's see these concepts in action! In the following examples, we will compare lists and sets through timing experiments and practical code examples."
      ]
    },
    {
      "cell_type": "markdown",
      "metadata": {},
      "source": [
        "### <a id='toc1_5_1_'></a>[Membership Testing 🔎](#toc0_)"
      ]
    },
    {
      "cell_type": "markdown",
      "id": "3fc57818",
      "metadata": {},
      "source": [
        "\n",
        "Membership testing in a list is O(n) because it must scan through each element. In contrast, sets use a hash table and typically perform membership tests in O(1) average-case time. Check out the following timing comparison:"
      ]
    },
    {
      "cell_type": "code",
      "execution_count": 18,
      "metadata": {},
      "outputs": [
        {
          "data": {
            "text/html": [
              "<div style=\"border: 2px solid #4CAF50; border-radius: 10px; padding: 15px; background-color: #f9fff9; font-family: Arial, sans-serif;\">\n",
              "    <h3 style=\"color: #2E7D32;\">Membership Testing Timing</h3>\n",
              "    <p><strong>List:</strong> 0.248011 sec (10,000 iterations)</p>\n",
              "    <p><strong>Set:</strong> 0.000085 sec (10,000 iterations)</p>\n",
              "</div>\n"
            ],
            "text/plain": [
              "<IPython.core.display.HTML object>"
            ]
          },
          "metadata": {},
          "output_type": "display_data"
        }
      ],
      "source": [
        "import timeit\n",
        "from IPython.display import HTML, display\n",
        "\n",
        "# Setup code: create a list and a corresponding set of 10,000 numbers\n",
        "setup_code = \"lst = list(range(10000)); s = set(lst)\"\n",
        "list_test = \"9999 in lst\"\n",
        "set_test = \"9999 in s\"\n",
        "\n",
        "# Time the membership testing\n",
        "list_time = timeit.timeit(stmt=list_test, setup=setup_code, number=10000)\n",
        "set_time = timeit.timeit(stmt=set_test, setup=setup_code, number=10000)\n",
        "\n",
        "# Prepare the HTML output\n",
        "html_membership = f'''\\\n",
        "<div style=\"border: 2px solid #4CAF50; border-radius: 10px; padding: 15px; background-color: #f9fff9; font-family: Arial, sans-serif;\">\n",
        "    <h3 style=\"color: #2E7D32;\">Membership Testing Timing</h3>\n",
        "    <p><strong>List:</strong> {list_time:.6f} sec (10,000 iterations)</p>\n",
        "    <p><strong>Set:</strong> {set_time:.6f} sec (10,000 iterations)</p>\n",
        "</div>\n",
        "'''\n",
        "\n",
        "display(HTML(html_membership))\n"
      ]
    },
    {
      "cell_type": "markdown",
      "id": "6df030db",
      "metadata": {},
      "source": [
        "This output demonstrates the significant speedup sets offer for membership testing. When `List` is replaced with `Set`, the time drops from 0.248011 seconds to 0.000085 seconds for 10,000 iterations."
      ]
    },
    {
      "cell_type": "markdown",
      "metadata": {},
      "source": [
        "### <a id='toc1_5_2_'></a>[Duplicate Removal 🔄](#toc0_)"
      ]
    },
    {
      "cell_type": "markdown",
      "id": "94e6ca0f",
      "metadata": {},
      "source": [
        "\n",
        "Converting a list to a set automatically removes duplicate elements since sets only store unique items. Converting back to a list provides a duplicate-free list (though order is not preserved). Consider the following example:"
      ]
    },
    {
      "cell_type": "code",
      "execution_count": null,
      "id": "fc4cdf62",
      "metadata": {},
      "outputs": [
        {
          "name": "stdout",
          "output_type": "stream",
          "text": [
            "Original List: [1, 2, 2, 3, 4, 4, 4, 5]\n",
            "After Removing Duplicates: [1, 2, 3, 4, 5]\n"
          ]
        }
      ],
      "source": [
        "sample_list = [1, 2, 2, 3, 4, 4, 4, 5]\n",
        "unique_list = list(set(sample_list))\n",
        "print(\"Original List:\", sample_list)\n",
        "print(\"After Removing Duplicates:\", unique_list)"
      ]
    },
    {
      "cell_type": "markdown",
      "metadata": {},
      "source": [
        "### <a id='toc1_5_3_'></a>[Insertion & Other Operations ⚡](#toc0_)"
      ]
    },
    {
      "cell_type": "markdown",
      "id": "f078361d",
      "metadata": {},
      "source": [
        "\n",
        "Next, we compare the time it takes to insert 10,000 random numbers into a list versus a set. This example illustrates the performance differences during insertion operations."
      ]
    },
    {
      "cell_type": "code",
      "execution_count": 26,
      "metadata": {},
      "outputs": [
        {
          "data": {
            "text/html": [
              "<div style=\"border: 2px solid #1976D2; border-radius: 10px; padding: 15px; background-color: #e3f2fd; font-family: Arial, sans-serif;\">\n",
              "    <h3 style=\"color: #0D47A1;\">Insertion Timing Comparison</h3>\n",
              "    <p><strong>List Insertion:</strong> 0.058655 sec (10 runs)</p>\n",
              "    <p><strong>Set Insertion:</strong> 0.025068 sec (10 runs)</p>\n",
              "</div>\n"
            ],
            "text/plain": [
              "<IPython.core.display.HTML object>"
            ]
          },
          "metadata": {},
          "output_type": "display_data"
        }
      ],
      "source": [
        "import random\n",
        "import timeit\n",
        "from IPython.display import HTML, display\n",
        "\n",
        "def insert_into_list():\n",
        "    lst = []\n",
        "    for _ in range(10000):\n",
        "        lst.append(random.randint(0, 10000))\n",
        "    return lst\n",
        "\n",
        "def insert_into_set():\n",
        "    s = set()\n",
        "    for _ in range(10000):\n",
        "        s.add(random.randint(0, 10000))\n",
        "    return s\n",
        "\n",
        "# Time the insertion operations (10 runs each)\n",
        "list_insertion_time = timeit.timeit(insert_into_list, number=10)\n",
        "set_insertion_time = timeit.timeit(insert_into_set, number=10)\n",
        "\n",
        "# Prepare the HTML output for insertion timings\n",
        "html_insertion = f'''\\\n",
        "<div style=\"border: 2px solid #1976D2; border-radius: 10px; padding: 15px; background-color: #e3f2fd; font-family: Arial, sans-serif;\">\n",
        "    <h3 style=\"color: #0D47A1;\">Insertion Timing Comparison</h3>\n",
        "    <p><strong>List Insertion:</strong> {list_insertion_time:.6f} sec (10 runs)</p>\n",
        "    <p><strong>Set Insertion:</strong> {set_insertion_time:.6f} sec (10 runs)</p>\n",
        "</div>\n",
        "'''\n",
        "\n",
        "display(HTML(html_insertion))\n"
      ]
    },
    {
      "cell_type": "markdown",
      "id": "1341b53f",
      "metadata": {},
      "source": [
        "The output shows that `sets` are faster than `lists` for **insertion operations**. This is because sets use `hash tables` (we are going to cover this data structure in futher lessons), providing $O(1)$ average-case insertion time."
      ]
    },
    {
      "cell_type": "markdown",
      "metadata": {},
      "source": [
        "## <a id='toc1_6_'></a>[Interesting Problems 🤔](#toc0_)"
      ]
    },
    {
      "cell_type": "markdown",
      "id": "3430ef32",
      "metadata": {},
      "source": [
        "\n",
        "Now, let's tackle some interesting problems that help solidify your understanding of lists and sets."
      ]
    },
    {
      "cell_type": "markdown",
      "metadata": {},
      "source": [
        "### <a id='toc1_6_1_'></a>[Problem 1: Remove Duplicates](#toc0_)\n"
      ]
    },
    {
      "cell_type": "markdown",
      "id": "d8b298f9",
      "metadata": {},
      "source": [
        "\n",
        "Write a function that removes duplicates from a list by converting it to a set and then back to a list. Compare the execution time of this approach with a manual duplicate removal method using a loop."
      ]
    },
    {
      "cell_type": "code",
      "execution_count": 6,
      "metadata": {},
      "outputs": [
        {
          "name": "stdout",
          "output_type": "stream",
          "text": [
            "remove_duplicates_set defined\n"
          ]
        }
      ],
      "source": [
        "def remove_duplicates_set(lst):\n",
        "    \"\"\"Remove duplicates using set conversion.\"\"\"\n",
        "    return list(set(lst))\n",
        "\n",
        "print('remove_duplicates_set defined')"
      ]
    },
    {
      "cell_type": "code",
      "execution_count": 28,
      "metadata": {},
      "outputs": [],
      "source": [
        "def remove_duplicates_manual(lst):\n",
        "    \"\"\"Remove duplicates manually while preserving order.\"\"\"\n",
        "    seen = set()\n",
        "    result = []\n",
        "    for item in lst:\n",
        "        if item not in seen:\n",
        "            result.append(item)\n",
        "            seen.add(item)\n",
        "    return result"
      ]
    },
    {
      "cell_type": "code",
      "execution_count": 8,
      "metadata": {},
      "outputs": [
        {
          "name": "stdout",
          "output_type": "stream",
          "text": [
            "Set-based duplicate removal time: 0.006360791041515768\n",
            "Manual duplicate removal time: 0.037637875066138804\n"
          ]
        }
      ],
      "source": [
        "import random\n",
        "large_list = [random.randint(0, 1000) for _ in range(10000)]\n",
        "\n",
        "time_set = timeit.timeit(lambda: remove_duplicates_set(large_list), number=100)\n",
        "time_manual = timeit.timeit(lambda: remove_duplicates_manual(large_list), number=100)\n",
        "\n",
        "print(\"Set-based duplicate removal time:\", time_set)\n",
        "print(\"Manual duplicate removal time:\", time_manual)"
      ]
    },
    {
      "cell_type": "markdown",
      "id": "d69363e2",
      "metadata": {},
      "source": [
        "The output shows that the `set`-based approach is significantly faster than the manual method for duplicate removal."
      ]
    },
    {
      "cell_type": "markdown",
      "metadata": {},
      "source": [
        "### <a id='toc1_6_2_'></a>[Problem 2: Membership Test Comparison Function](#toc0_)\n"
      ]
    },
    {
      "cell_type": "markdown",
      "id": "6611d0c8",
      "metadata": {},
      "source": [
        "\n",
        "Write a function that accepts a collection and a target element, and returns the time taken to check for membership in both a list and a set. Use this function to compare performance on collections of various sizes."
      ]
    },
    {
      "cell_type": "code",
      "execution_count": 27,
      "metadata": {},
      "outputs": [],
      "source": [
        "def compare_membership_times(n, target):\n",
        "    lst = list(range(n))\n",
        "    s = set(lst)\n",
        "    list_time = timeit.timeit(lambda: target in lst, number=10000)\n",
        "    set_time = timeit.timeit(lambda: target in s, number=10000)\n",
        "    return list_time, set_time"
      ]
    },
    {
      "cell_type": "code",
      "execution_count": 10,
      "metadata": {},
      "outputs": [
        {
          "name": "stdout",
          "output_type": "stream",
          "text": [
            "List membership time: 0.247998 sec\n",
            "Set membership time: 0.000216 sec\n"
          ]
        }
      ],
      "source": [
        "lt, st = compare_membership_times(10000, 9999)\n",
        "print(f\"List membership time: {lt:.6f} sec\")\n",
        "print(f\"Set membership time: {st:.6f} sec\")"
      ]
    },
    {
      "cell_type": "markdown",
      "id": "399df9e0",
      "metadata": {},
      "source": [
        "The output demonstrates the speed difference between `lists` and `sets` for **membership testing**, which is crucial for large collections or frequent lookups."
      ]
    },
    {
      "cell_type": "markdown",
      "metadata": {},
      "source": [
        "### <a id='toc1_6_3_'></a>[Problem 3: Set Operations (Union & Intersection)](#toc0_)\n"
      ]
    },
    {
      "cell_type": "markdown",
      "id": "be7a8620",
      "metadata": {},
      "source": [
        "\n",
        "Implement functions for union and intersection using both list-based approaches and built-in set operations. Compare their performance using timing experiments."
      ]
    },
    {
      "cell_type": "code",
      "execution_count": 29,
      "metadata": {},
      "outputs": [],
      "source": [
        "def union_lists(lst1, lst2):\n",
        "    result = lst1.copy()\n",
        "    for item in lst2:\n",
        "        if item not in result:\n",
        "            result.append(item)\n",
        "    return result"
      ]
    },
    {
      "cell_type": "code",
      "execution_count": 30,
      "metadata": {},
      "outputs": [],
      "source": [
        "def intersection_lists(lst1, lst2):\n",
        "    return [item for item in lst1 if item in lst2]"
      ]
    },
    {
      "cell_type": "code",
      "execution_count": 31,
      "metadata": {},
      "outputs": [],
      "source": [
        "def union_set(lst1, lst2):\n",
        "    return list(set(lst1) | set(lst2))"
      ]
    },
    {
      "cell_type": "code",
      "execution_count": 32,
      "metadata": {},
      "outputs": [],
      "source": [
        "def intersection_set(lst1, lst2):\n",
        "    return list(set(lst1) & set(lst2))"
      ]
    },
    {
      "cell_type": "code",
      "execution_count": 33,
      "metadata": {},
      "outputs": [
        {
          "name": "stdout",
          "output_type": "stream",
          "text": [
            "Union (list): 5.594400957925245\n",
            "Union (set): 0.013508958043530583\n",
            "Intersection (list): 3.3591173340100795\n",
            "Intersection (set): 0.008633249904960394\n"
          ]
        }
      ],
      "source": [
        "lst1 = list(range(5000))\n",
        "lst2 = list(range(2500, 7500))\n",
        "\n",
        "union_list_time = timeit.timeit(lambda: union_lists(lst1, lst2), number=100)\n",
        "union_set_time = timeit.timeit(lambda: union_set(lst1, lst2), number=100)\n",
        "intersection_list_time = timeit.timeit(lambda: intersection_lists(lst1, lst2), number=100)\n",
        "intersection_set_time = timeit.timeit(lambda: intersection_set(lst1, lst2), number=100)\n",
        "\n",
        "print(\"Union (list):\", union_list_time)\n",
        "print(\"Union (set):\", union_set_time)\n",
        "print(\"Intersection (list):\", intersection_list_time)\n",
        "print(\"Intersection (set):\", intersection_set_time)"
      ]
    },
    {
      "cell_type": "markdown",
      "id": "4a266fb7",
      "metadata": {},
      "source": [
        "The output clearly shows that `set` operations are **significantly faster** than `list`-based approaches for both union and intersection operations."
      ]
    },
    {
      "cell_type": "markdown",
      "metadata": {},
      "source": [
        "## <a id='toc1_7_'></a>[Exercises 📝](#toc0_)\n"
      ]
    },
    {
      "cell_type": "markdown",
      "id": "cb27dd9f",
      "metadata": {},
      "source": [
        "\n",
        "Try solving these exercises to further cement your understanding of lists and sets:\n",
        "\n",
        "1. **Exercise 1:** Implement a function that removes duplicates from a list by converting it to a set and back, then compare its performance with a manual duplicate removal method.\n",
        "2. **Exercise 2:** Write a function that tests membership of a target element in both a list and a set for various collection sizes. Present your findings in a well-formatted table.\n",
        "3. **Exercise 3:** Create functions for the union and intersection of two collections using list-based and set-based approaches. Benchmark the performance differences.\n",
        "4. **Exercise 4:** Find all unique pairs in a list that sum to a target value. Compare how the solution differs when using lists versus sets."
      ]
    },
    {
      "cell_type": "markdown",
      "metadata": {},
      "source": [
        "## <a id='toc1_8_'></a>[Reflection Questions](#toc0_)\n"
      ]
    },
    {
      "cell_type": "markdown",
      "id": "dfc97225",
      "metadata": {},
      "source": [
        "\n",
        "- What are the primary differences between lists and sets in Python?\n",
        "- How does the underlying implementation (array vs. hash table) affect performance?\n",
        "- In which scenarios would you prefer a list over a set, and vice versa?\n",
        "- How do the built-in method complexities influence your choice of data structure?\n",
        "- What trade-offs do you observe when converting between lists and sets (e.g., order preservation vs. speed)?"
      ]
    },
    {
      "cell_type": "markdown",
      "metadata": {},
      "source": [
        "## <a id='toc1_9_'></a>[Additional Resources](#toc0_)"
      ]
    },
    {
      "cell_type": "markdown",
      "id": "011b51c7",
      "metadata": {},
      "source": [
        "- [Python Lists Documentation](https://docs.python.org/3/tutorial/datastructures.html#more-on-lists)\n",
        "- [Python Sets Documentation](https://docs.python.org/3/library/stdtypes.html#set-types-set-frozenset)\n"
      ]
    },
    {
      "cell_type": "markdown",
      "metadata": {},
      "source": [
        "## <a id='toc1_10_'></a>[Final Summary 🏁](#toc0_)\n"
      ]
    },
    {
      "cell_type": "markdown",
      "id": "cd55d867",
      "metadata": {},
      "source": [
        "\n",
        "Today, we explored the fascinating world of Python lists and sets. We learned that:\n",
        "\n",
        "- **Lists** are ordered, mutable, and allow duplicates, but membership testing is O(n).\n",
        "- **Sets** are unordered, store only unique elements, and offer O(1) average-case membership testing.\n",
        "\n",
        "We also compared the performance of various operations using timing experiments and discussed when to use each data structure. Keep experimenting with these examples, try out the exercises, and deepen your understanding by exploring the additional resources provided.\n",
        "\n",
        "Happy coding and see you in the next lesson! 🚀"
      ]
    },
    {
      "cell_type": "markdown",
      "metadata": {},
      "source": [
        "### <a id='toc1_10_1_'></a>[Bonus Content: Visualizing Performance with Matplotlib 📊](#toc0_)\n",
        "\n",
        "For a more visual approach, you can plot the membership testing times for lists and sets across different collection sizes. Try running the following code to generate a plot:"
      ]
    },
    {
      "cell_type": "code",
      "execution_count": null,
      "metadata": {},
      "outputs": [],
      "source": [
        "import matplotlib.pyplot as plt\n",
        "\n",
        "sizes = [1000, 5000, 10000, 50000, 100000]\n",
        "list_times = []\n",
        "set_times = []\n",
        "\n",
        "for n in sizes:\n",
        "    lst = list(range(n))\n",
        "    s = set(lst)\n",
        "    lt = timeit.timeit(lambda: 999 in lst, number=1000)\n",
        "    st = timeit.timeit(lambda: 999 in s, number=1000)\n",
        "    list_times.append(lt)\n",
        "    set_times.append(st)\n",
        "\n",
        "plt.figure(figsize=(8, 5))\n",
        "plt.plot(sizes, list_times, marker='o', label='List Membership')\n",
        "plt.plot(sizes, set_times, marker='s', label='Set Membership')\n",
        "plt.xlabel('Size of Collection')\n",
        "plt.ylabel('Time (sec)')\n",
        "plt.title('Membership Testing Performance')\n",
        "plt.legend()\n",
        "plt.grid(True)\n",
        "plt.show()"
      ]
    },
    {
      "cell_type": "code",
      "execution_count": 15,
      "id": "1a171243",
      "metadata": {
        "vscode": {
          "languageId": "html"
        }
      },
      "outputs": [
        {
          "data": {
            "text/html": [
              "<!DOCTYPE html>\n",
              "<html lang=\"en\">\n",
              "<head>\n",
              "  <title>Moving Average Algorithm Steps</title>\n",
              "  <meta charset=\"utf-8\">\n",
              "  <meta name=\"viewport\" content=\"width=device-width, initial-scale=1\">\n",
              "  <!-- Updated to include more modern fonts -->\n",
              "  <link href=\"https://fonts.googleapis.com/css2?family=Inter:wght@300;400;500;600&family=Poppins:wght@400;500;600&display=swap\" rel=\"stylesheet\">\n",
              "  <link rel=\"stylesheet\" href=\"https://maxcdn.bootstrapcdn.com/bootstrap/3.4.1/css/bootstrap.min.css\">\n",
              "  <style>\n",
              "    body {\n",
              "      font-family: 'Inter', sans-serif;\n",
              "      margin: 0;\n",
              "      padding: 20px;\n",
              "    }\n",
              "    .container {\n",
              "      max-width: 800px;\n",
              "      margin: 0 auto;\n",
              "    }\n",
              "    h2 {\n",
              "      font-family: 'Poppins', sans-serif;\n",
              "      font-weight: 600;\n",
              "      color: #2c3e50;\n",
              "      margin-bottom: 30px;\n",
              "      text-align: center;\n",
              "      margin-left: auto;\n",
              "      margin-right: auto;\n",
              "    }\n",
              "    .visualization-container {\n",
              "      position: relative;\n",
              "      width: 448px;\n",
              "      height: 320px;\n",
              "      margin: 40px auto;\n",
              "    }\n",
              "    .cell {\n",
              "      width: 64px;\n",
              "      height: 64px;\n",
              "      background-color: #d8eeee;\n",
              "      border-right: 1px solid white;\n",
              "      display: flex;\n",
              "      align-items: center;\n",
              "      justify-content: center;\n",
              "      font-size: 1.75rem; /* Increased font size */\n",
              "      font-family: 'Poppins', sans-serif;\n",
              "      font-weight: 500;\n",
              "      color: #2c3e50;\n",
              "    }\n",
              "    .bottom-cell {\n",
              "      width: 64px;\n",
              "      height: 64px;\n",
              "      background-color: #d8eeee;\n",
              "      border-right: 1px solid white;\n",
              "      display: flex;\n",
              "      align-items: center;\n",
              "      justify-content: center;\n",
              "      font-size: 1.75rem; /* Increased font size */\n",
              "      font-family: 'Poppins', sans-serif;\n",
              "      font-weight: 500;\n",
              "      color: #2c3e50;\n",
              "      transition: all 0.3s ease;\n",
              "    }\n",
              "    .step-text {\n",
              "      width: 448px;\n",
              "      margin: 40px auto;\n",
              "      padding: 15px 30px;\n",
              "      font-size: 1.3rem;\n",
              "      color: #2c3e50;\n",
              "      text-align: center;\n",
              "      background-color: #f8f9fa;\n",
              "      border-radius: 8px;\n",
              "      box-shadow: 0 2px 4px rgba(0,0,0,0.1);\n",
              "      font-weight: 300;\n",
              "      letter-spacing: 0.5px;\n",
              "      font-family: 'Inter', sans-serif;\n",
              "    }\n",
              "    .nav-buttons {\n",
              "      position: absolute;\n",
              "      width: 100%;\n",
              "      top: 50%;\n",
              "      transform: translateY(-50%);\n",
              "      display: flex;\n",
              "      justify-content: space-between;\n",
              "      padding: 0 20px;\n",
              "    }\n",
              "    .nav-button {\n",
              "      padding: 15px;\n",
              "      font-size: 24px;\n",
              "      border: none;\n",
              "      background-color: rgba(0, 0, 0, 0.1);\n",
              "      color: #2c3e50;\n",
              "      cursor: pointer;\n",
              "      transition: all 0.3s ease;\n",
              "      border-radius: 50%;\n",
              "      width: 50px;\n",
              "      height: 50px;\n",
              "      display: flex;\n",
              "      align-items: center;\n",
              "      justify-content: center;\n",
              "    }\n",
              "    .nav-button:disabled {\n",
              "      opacity: 0.25;\n",
              "      cursor: not-allowed;\n",
              "    }\n",
              "    .nav-button:hover:not(:disabled) {\n",
              "      background-color: rgba(0, 0, 0, 0.2);\n",
              "      color: #34495e;\n",
              "    }\n",
              "    .moving-elements {\n",
              "      position: absolute;\n",
              "      transition: all 0.3s ease;\n",
              "    }\n",
              "    .fraction {\n",
              "      font-family: 'Poppins', sans-serif;\n",
              "      font-size: 1.5rem;\n",
              "      color: #2c3e50;\n",
              "      text-align: center;\n",
              "    }\n",
              "    .fraction-line {\n",
              "      width: 7rem;\n",
              "      border-top: 2px solid #2c3e50;\n",
              "      margin: 4px 0;\n",
              "    }\n",
              "  </style>\n",
              "</head>\n",
              "<body>\n",
              "\n",
              "<div class=\"container\">\n",
              "  <h2>Moving Average Algorithm Steps</h2>  \n",
              "  <div style=\"position: relative;\">\n",
              "    <div class=\"visualization-container\">\n",
              "      <!-- Static top row -->\n",
              "      <div style=\"display: flex;\">\n",
              "        <div class=\"cell\">4</div>\n",
              "        <div class=\"cell\">3</div>\n",
              "        <div class=\"cell\">8</div>\n",
              "        <div class=\"cell\">1</div>\n",
              "        <div class=\"cell\">5</div>\n",
              "        <div class=\"cell\">6</div>\n",
              "        <div class=\"cell\">3</div>\n",
              "      </div>\n",
              "\n",
              "      <!-- Moving elements container -->\n",
              "      <div id=\"movingElements\" class=\"moving-elements\">\n",
              "        <!-- Bracket -->\n",
              "        <!-- <img src=\"bracket.png\"  -->\n",
              "        <!-- <img src=\"../images/bracket.png\"  -->\n",
              "        <!-- <img src=\"03_03_words.png\"  -->\n",
              "          <img src=\"https://www.pngkit.com/png/full/100-1005823_open-thin-curly-bracket-png.png\" \n",
              "             alt=\"Curly Bracket\" \n",
              "             style=\"top: 70px; left: 306px; width: 172px; height: 32px;\"/>\n",
              "        \n",
              "        <!-- Fraction -->\n",
              "        <div class=\"fraction\" style=\"position: absolute; top: 50px; transform: translateX(-50%);\n",
              "                    display: flex; flex-direction: column; align-items: center;\">\n",
              "          <div id=\"fractionTop\" style=\"font-weight: 500;\">4 + 3 + 8</div>\n",
              "          <div class=\"fraction-line\"></div>\n",
              "          <div id=\"fractionBottom\" style=\"font-weight: 500;\">3</div>\n",
              "        </div>\n",
              "\n",
              "        <!-- Arrow -->\n",
              "        <svg width=\"30\" height=\"80\" style=\"position: absolute; top: 120px; transform: translateX(-50%);\">\n",
              "          <line x1=\"15\" y1=\"0\" x2=\"15\" y2=\"70\" stroke=\"#2c3e50\" stroke-width=\"2\" stroke-dasharray=\"4,4\"></line>\n",
              "          <polygon points=\"10,70 20,70 15,80\" fill=\"#2c3e50\"></polygon>\n",
              "        </svg>\n",
              "      </div>\n",
              "\n",
              "      <!-- Static bottom row container -->\n",
              "      <div style=\"position: absolute; top: 280px; left: 64px; display: flex; width: 320px;\">\n",
              "        <div id=\"result1\" class=\"bottom-cell\">5</div>\n",
              "        <div id=\"result2\" class=\"bottom-cell\"></div>\n",
              "        <div id=\"result3\" class=\"bottom-cell\"></div>\n",
              "        <div id=\"result4\" class=\"bottom-cell\"></div>\n",
              "        <div id=\"result5\" class=\"bottom-cell\"></div>\n",
              "      </div>\n",
              "    </div>\n",
              "\n",
              "    <!-- Navigation buttons moved outside visualization container but inside relative container -->\n",
              "    <div class=\"nav-buttons\">\n",
              "      <button id=\"prevBtn\" class=\"nav-button\">\n",
              "        <span class=\"glyphicon glyphicon-chevron-left\"></span>\n",
              "      </button>\n",
              "      <button id=\"nextBtn\" class=\"nav-button\">\n",
              "        <span class=\"glyphicon glyphicon-chevron-right\"></span>\n",
              "      </button>\n",
              "    </div>\n",
              "  </div>\n",
              "\n",
              "  <div class=\"step-text\" id=\"stepText\">\n",
              "    Step 1: Calculate average of first three numbers (4, 3, 8)\n",
              "  </div>\n",
              "</div>\n",
              "\n",
              "<script>\n",
              "const steps = [\n",
              "  {\n",
              "    left: 96,  // Adjusted positions\n",
              "    fraction: ['4 + 3 + 8', '3'],\n",
              "    results: ['5', '', '', '', ''],\n",
              "    text: 'Step 1: Calculate average of first three numbers (4, 3, 8)'\n",
              "  },\n",
              "  {\n",
              "    left: 160,\n",
              "    fraction: ['3 + 8 + 1', '3'],\n",
              "    results: ['5', '4', '', '', ''],\n",
              "    text: 'Step 2: Calculate average of numbers 2-4 (3, 8, 1)'\n",
              "  },\n",
              "  {\n",
              "    left: 224,\n",
              "    fraction: ['8 + 1 + 5', '3'],\n",
              "    results: ['5', '4', '4.67', '', ''],\n",
              "    text: 'Step 3: Calculate average of numbers 3-5 (8, 1, 5)'\n",
              "  },\n",
              "  {\n",
              "    left: 288,\n",
              "    fraction: ['1 + 5 + 6', '3'],\n",
              "    results: ['5', '4', '4.67', '4', ''],\n",
              "    text: 'Step 4: Calculate average of numbers 4-6 (1, 5, 6)'\n",
              "  },\n",
              "  {\n",
              "    left: 352,\n",
              "    fraction: ['5 + 6 + 3', '3'],\n",
              "    results: ['5', '4', '4.67', '4', '4.67'],\n",
              "    text: 'Step 5: Calculate average of last three numbers (5, 6, 3)'\n",
              "  }\n",
              "];\n",
              "\n",
              "let currentStep = 0;\n",
              "\n",
              "function updateStep(step) {\n",
              "  const movingElements = document.getElementById('movingElements');\n",
              "  movingElements.style.left = `${steps[step].left}px`;\n",
              "  \n",
              "  document.getElementById('fractionTop').textContent = steps[step].fraction[0];\n",
              "  document.getElementById('fractionBottom').textContent = steps[step].fraction[1];\n",
              "  \n",
              "  steps[step].results.forEach((result, i) => {\n",
              "    document.getElementById(`result${i + 1}`).textContent = result;\n",
              "  });\n",
              "  \n",
              "  document.getElementById('stepText').textContent = steps[step].text;\n",
              "  \n",
              "  document.getElementById('prevBtn').disabled = step === 0;\n",
              "  document.getElementById('nextBtn').disabled = step === steps.length - 1;\n",
              "}\n",
              "\n",
              "document.getElementById('prevBtn').addEventListener('click', () => {\n",
              "  if (currentStep > 0) {\n",
              "    currentStep--;\n",
              "    updateStep(currentStep);\n",
              "  }\n",
              "});\n",
              "\n",
              "document.getElementById('nextBtn').addEventListener('click', () => {\n",
              "  if (currentStep < steps.length - 1) {\n",
              "    currentStep++;\n",
              "    updateStep(currentStep);\n",
              "  }\n",
              "});\n",
              "\n",
              "// Initialize first step\n",
              "updateStep(0);\n",
              "</script>\n",
              "\n",
              "\n",
              "</html> \n"
            ],
            "text/plain": [
              "<IPython.core.display.HTML object>"
            ]
          },
          "metadata": {},
          "output_type": "display_data"
        }
      ],
      "source": [
        "%%html\n",
        "<!DOCTYPE html>\n",
        "<html lang=\"en\">\n",
        "<head>\n",
        "  <title>Moving Average Algorithm Steps</title>\n",
        "  <meta charset=\"utf-8\">\n",
        "  <meta name=\"viewport\" content=\"width=device-width, initial-scale=1\">\n",
        "  <!-- Updated to include more modern fonts -->\n",
        "  <link href=\"https://fonts.googleapis.com/css2?family=Inter:wght@300;400;500;600&family=Poppins:wght@400;500;600&display=swap\" rel=\"stylesheet\">\n",
        "  <link rel=\"stylesheet\" href=\"https://maxcdn.bootstrapcdn.com/bootstrap/3.4.1/css/bootstrap.min.css\">\n",
        "  <style>\n",
        "    body {\n",
        "      font-family: 'Inter', sans-serif;\n",
        "      margin: 0;\n",
        "      padding: 20px;\n",
        "    }\n",
        "    .container {\n",
        "      max-width: 800px;\n",
        "      margin: 0 auto;\n",
        "    }\n",
        "    h2 {\n",
        "      font-family: 'Poppins', sans-serif;\n",
        "      font-weight: 600;\n",
        "      color: #2c3e50;\n",
        "      margin-bottom: 30px;\n",
        "      text-align: center;\n",
        "      margin-left: auto;\n",
        "      margin-right: auto;\n",
        "    }\n",
        "    .visualization-container {\n",
        "      position: relative;\n",
        "      width: 448px;\n",
        "      height: 320px;\n",
        "      margin: 40px auto;\n",
        "    }\n",
        "    .cell {\n",
        "      width: 64px;\n",
        "      height: 64px;\n",
        "      background-color: #d8eeee;\n",
        "      border-right: 1px solid white;\n",
        "      display: flex;\n",
        "      align-items: center;\n",
        "      justify-content: center;\n",
        "      font-size: 1.75rem; /* Increased font size */\n",
        "      font-family: 'Poppins', sans-serif;\n",
        "      font-weight: 500;\n",
        "      color: #2c3e50;\n",
        "    }\n",
        "    .bottom-cell {\n",
        "      width: 64px;\n",
        "      height: 64px;\n",
        "      background-color: #d8eeee;\n",
        "      border-right: 1px solid white;\n",
        "      display: flex;\n",
        "      align-items: center;\n",
        "      justify-content: center;\n",
        "      font-size: 1.75rem; /* Increased font size */\n",
        "      font-family: 'Poppins', sans-serif;\n",
        "      font-weight: 500;\n",
        "      color: #2c3e50;\n",
        "      transition: all 0.3s ease;\n",
        "    }\n",
        "    .step-text {\n",
        "      width: 448px;\n",
        "      margin: 40px auto;\n",
        "      padding: 15px 30px;\n",
        "      font-size: 1.3rem;\n",
        "      color: #2c3e50;\n",
        "      text-align: center;\n",
        "      background-color: #f8f9fa;\n",
        "      border-radius: 8px;\n",
        "      box-shadow: 0 2px 4px rgba(0,0,0,0.1);\n",
        "      font-weight: 300;\n",
        "      letter-spacing: 0.5px;\n",
        "      font-family: 'Inter', sans-serif;\n",
        "    }\n",
        "    .nav-buttons {\n",
        "      position: absolute;\n",
        "      width: 100%;\n",
        "      top: 50%;\n",
        "      transform: translateY(-50%);\n",
        "      display: flex;\n",
        "      justify-content: space-between;\n",
        "      padding: 0 20px;\n",
        "    }\n",
        "    .nav-button {\n",
        "      padding: 15px;\n",
        "      font-size: 24px;\n",
        "      border: none;\n",
        "      background-color: rgba(0, 0, 0, 0.1);\n",
        "      color: #2c3e50;\n",
        "      cursor: pointer;\n",
        "      transition: all 0.3s ease;\n",
        "      border-radius: 50%;\n",
        "      width: 50px;\n",
        "      height: 50px;\n",
        "      display: flex;\n",
        "      align-items: center;\n",
        "      justify-content: center;\n",
        "    }\n",
        "    .nav-button:disabled {\n",
        "      opacity: 0.25;\n",
        "      cursor: not-allowed;\n",
        "    }\n",
        "    .nav-button:hover:not(:disabled) {\n",
        "      background-color: rgba(0, 0, 0, 0.2);\n",
        "      color: #34495e;\n",
        "    }\n",
        "    .moving-elements {\n",
        "      position: absolute;\n",
        "      transition: all 0.3s ease;\n",
        "    }\n",
        "    .fraction {\n",
        "      font-family: 'Poppins', sans-serif;\n",
        "      font-size: 1.5rem;\n",
        "      color: #2c3e50;\n",
        "      text-align: center;\n",
        "    }\n",
        "    .fraction-line {\n",
        "      width: 7rem;\n",
        "      border-top: 2px solid #2c3e50;\n",
        "      margin: 4px 0;\n",
        "    }\n",
        "  </style>\n",
        "</head>\n",
        "<body>\n",
        "\n",
        "<div class=\"container\">\n",
        "  <h2>Moving Average Algorithm Steps</h2>  \n",
        "  <div style=\"position: relative;\">\n",
        "    <div class=\"visualization-container\">\n",
        "      <!-- Static top row -->\n",
        "      <div style=\"display: flex;\">\n",
        "        <div class=\"cell\">4</div>\n",
        "        <div class=\"cell\">3</div>\n",
        "        <div class=\"cell\">8</div>\n",
        "        <div class=\"cell\">1</div>\n",
        "        <div class=\"cell\">5</div>\n",
        "        <div class=\"cell\">6</div>\n",
        "        <div class=\"cell\">3</div>\n",
        "      </div>\n",
        "\n",
        "      <!-- Moving elements container -->\n",
        "      <div id=\"movingElements\" class=\"moving-elements\">\n",
        "        <!-- Bracket -->\n",
        "        <!-- <img src=\"bracket.png\"  -->\n",
        "        <!-- <img src=\"../images/bracket.png\"  -->\n",
        "        <!-- <img src=\"03_03_words.png\"  -->\n",
        "          <img src=\"https://www.pngkit.com/png/full/100-1005823_open-thin-curly-bracket-png.png\" \n",
        "             alt=\"Curly Bracket\" \n",
        "             style=\"top: 70px; left: 306px; width: 172px; height: 32px;\"/>\n",
        "        \n",
        "        <!-- Fraction -->\n",
        "        <div class=\"fraction\" style=\"position: absolute; top: 50px; transform: translateX(-50%);\n",
        "                    display: flex; flex-direction: column; align-items: center;\">\n",
        "          <div id=\"fractionTop\" style=\"font-weight: 500;\">4 + 3 + 8</div>\n",
        "          <div class=\"fraction-line\"></div>\n",
        "          <div id=\"fractionBottom\" style=\"font-weight: 500;\">3</div>\n",
        "        </div>\n",
        "\n",
        "        <!-- Arrow -->\n",
        "        <svg width=\"30\" height=\"80\" style=\"position: absolute; top: 120px; transform: translateX(-50%);\">\n",
        "          <line x1=\"15\" y1=\"0\" x2=\"15\" y2=\"70\" stroke=\"#2c3e50\" stroke-width=\"2\" stroke-dasharray=\"4,4\"></line>\n",
        "          <polygon points=\"10,70 20,70 15,80\" fill=\"#2c3e50\"></polygon>\n",
        "        </svg>\n",
        "      </div>\n",
        "\n",
        "      <!-- Static bottom row container -->\n",
        "      <div style=\"position: absolute; top: 280px; left: 64px; display: flex; width: 320px;\">\n",
        "        <div id=\"result1\" class=\"bottom-cell\">5</div>\n",
        "        <div id=\"result2\" class=\"bottom-cell\"></div>\n",
        "        <div id=\"result3\" class=\"bottom-cell\"></div>\n",
        "        <div id=\"result4\" class=\"bottom-cell\"></div>\n",
        "        <div id=\"result5\" class=\"bottom-cell\"></div>\n",
        "      </div>\n",
        "    </div>\n",
        "\n",
        "    <!-- Navigation buttons moved outside visualization container but inside relative container -->\n",
        "    <div class=\"nav-buttons\">\n",
        "      <button id=\"prevBtn\" class=\"nav-button\">\n",
        "        <span class=\"glyphicon glyphicon-chevron-left\"></span>\n",
        "      </button>\n",
        "      <button id=\"nextBtn\" class=\"nav-button\">\n",
        "        <span class=\"glyphicon glyphicon-chevron-right\"></span>\n",
        "      </button>\n",
        "    </div>\n",
        "  </div>\n",
        "\n",
        "  <div class=\"step-text\" id=\"stepText\">\n",
        "    Step 1: Calculate average of first three numbers (4, 3, 8)\n",
        "  </div>\n",
        "</div>\n",
        "\n",
        "<script>\n",
        "const steps = [\n",
        "  {\n",
        "    left: 96,  // Adjusted positions\n",
        "    fraction: ['4 + 3 + 8', '3'],\n",
        "    results: ['5', '', '', '', ''],\n",
        "    text: 'Step 1: Calculate average of first three numbers (4, 3, 8)'\n",
        "  },\n",
        "  {\n",
        "    left: 160,\n",
        "    fraction: ['3 + 8 + 1', '3'],\n",
        "    results: ['5', '4', '', '', ''],\n",
        "    text: 'Step 2: Calculate average of numbers 2-4 (3, 8, 1)'\n",
        "  },\n",
        "  {\n",
        "    left: 224,\n",
        "    fraction: ['8 + 1 + 5', '3'],\n",
        "    results: ['5', '4', '4.67', '', ''],\n",
        "    text: 'Step 3: Calculate average of numbers 3-5 (8, 1, 5)'\n",
        "  },\n",
        "  {\n",
        "    left: 288,\n",
        "    fraction: ['1 + 5 + 6', '3'],\n",
        "    results: ['5', '4', '4.67', '4', ''],\n",
        "    text: 'Step 4: Calculate average of numbers 4-6 (1, 5, 6)'\n",
        "  },\n",
        "  {\n",
        "    left: 352,\n",
        "    fraction: ['5 + 6 + 3', '3'],\n",
        "    results: ['5', '4', '4.67', '4', '4.67'],\n",
        "    text: 'Step 5: Calculate average of last three numbers (5, 6, 3)'\n",
        "  }\n",
        "];\n",
        "\n",
        "let currentStep = 0;\n",
        "\n",
        "function updateStep(step) {\n",
        "  const movingElements = document.getElementById('movingElements');\n",
        "  movingElements.style.left = `${steps[step].left}px`;\n",
        "  \n",
        "  document.getElementById('fractionTop').textContent = steps[step].fraction[0];\n",
        "  document.getElementById('fractionBottom').textContent = steps[step].fraction[1];\n",
        "  \n",
        "  steps[step].results.forEach((result, i) => {\n",
        "    document.getElementById(`result${i + 1}`).textContent = result;\n",
        "  });\n",
        "  \n",
        "  document.getElementById('stepText').textContent = steps[step].text;\n",
        "  \n",
        "  document.getElementById('prevBtn').disabled = step === 0;\n",
        "  document.getElementById('nextBtn').disabled = step === steps.length - 1;\n",
        "}\n",
        "\n",
        "document.getElementById('prevBtn').addEventListener('click', () => {\n",
        "  if (currentStep > 0) {\n",
        "    currentStep--;\n",
        "    updateStep(currentStep);\n",
        "  }\n",
        "});\n",
        "\n",
        "document.getElementById('nextBtn').addEventListener('click', () => {\n",
        "  if (currentStep < steps.length - 1) {\n",
        "    currentStep++;\n",
        "    updateStep(currentStep);\n",
        "  }\n",
        "});\n",
        "\n",
        "// Initialize first step\n",
        "updateStep(0);\n",
        "</script>\n",
        "\n",
        "\n",
        "</html> "
      ]
    },
    {
      "cell_type": "code",
      "execution_count": null,
      "id": "dc989d45",
      "metadata": {
        "vscode": {
          "languageId": "html"
        }
      },
      "outputs": [],
      "source": []
    }
  ],
  "metadata": {
    "kernelspec": {
      "display_name": "Python 3",
      "language": "python",
      "name": "python3"
    },
    "language_info": {
      "codemirror_mode": {
        "name": "ipython",
        "version": 3
      },
      "file_extension": ".py",
      "mimetype": "text/x-python",
      "name": "python",
      "nbconvert_exporter": "python",
      "pygments_lexer": "ipython3",
      "version": "3.13.0"
    }
  },
  "nbformat": 4,
  "nbformat_minor": 5
}
