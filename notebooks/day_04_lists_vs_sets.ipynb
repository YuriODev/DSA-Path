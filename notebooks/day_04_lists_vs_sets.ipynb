{
  "cells": [
    {
      "cell_type": "markdown",
      "metadata": {},
      "source": [
        "# Day 4: Python Lists and Sets 🐍\n"
      ]
    },
    {
      "cell_type": "markdown",
      "id": "7c7575a1",
      "metadata": {},
      "source": [
        "Welcome to Day 4 of our course! In this lesson, we will explore Python lists and sets in depth. We'll cover their properties, built-in methods, time complexities, and practical examples. Enjoy the journey through theory, examples, and hands-on problems! 😊"
      ]
    },
    {
      "cell_type": "markdown",
      "metadata": {},
      "source": [
        "## Table of Contents 📖\n"
      ]
    },
    {
      "cell_type": "markdown",
      "id": "92fbb990",
      "metadata": {},
      "source": [
        "- [Objectives](#objectives)\n",
        "- [Introduction & Theory](#introduction--theory)\n",
        "  - [1. Python Lists](#1-python-lists)\n",
        "  - [2. Python Sets](#2-python-sets)\n",
        "- [Built-in Methods & Complexity Tables](#built-in-methods--complexity-tables)\n",
        "  - [1. List Methods](#1-list-methods)\n",
        "  - [2. Set Methods](#2-set-methods)\n",
        "- [Examples & Timing Comparisons](#examples--timing-comparisons)\n",
        "  - [1. Membership Testing](#1-membership-testing)\n",
        "  - [2. Duplicate Removal](#2-duplicate-removal)\n",
        "  - [3. Insertion & Other Operations](#3-insertion--other-operations)\n",
        "- [Interesting Problems](#interesting-problems)\n",
        "  - [Problem 1: Remove Duplicates](#problem-1-remove-duplicates)\n",
        "  - [Problem 2: Membership Test Comparison](#problem-2-membership-test-comparison)\n",
        "  - [Problem 3: Set Operations (Union & Intersection)](#problem-3-set-operations-union--intersection)\n",
        "- [Exercises](#exercises)\n",
        "- [Reflection Questions](#reflection-questions)\n",
        "- [Additional Resources](#additional-resources)\n",
        "- [Final Summary](#final-summary)"
      ]
    },
    {
      "cell_type": "markdown",
      "metadata": {},
      "source": [
        "## Objectives"
      ]
    },
    {
      "cell_type": "markdown",
      "id": "a8d188c6",
      "metadata": {},
      "source": [
        "- Understand the characteristics of Python lists (ordered, mutable) vs. sets (unordered, unique elements) and their properties. 🛠️\n",
        "- Learn about the time complexities of various built-in methods for lists and sets. 🕰️\n",
        "- Explore practical examples with timing comparisons. 📊\n",
        "- Solve interesting problems using lists and sets. 🧩\n",
        "- Deepen your understanding through extended theory and visualizations. 📚\n",
        "- Have fun coding and experimenting with these data structures! 🚀"
      ]
    },
    {
      "cell_type": "markdown",
      "metadata": {},
      "source": [
        "## Introduction & Theory 📚"
      ]
    },
    {
      "cell_type": "markdown",
      "id": "7d2d3348",
      "metadata": {},
      "source": [
        "\n",
        "In this section, we'll introduce the basic properties and differences between Python lists and sets. Understanding these differences will help you choose the right data structure for your problem.\n"
      ]
    },
    {
      "cell_type": "markdown",
      "id": "ccbf5958",
      "metadata": {},
      "source": [
        "### 1. Python Lists 📝"
      ]
    },
    {
      "cell_type": "markdown",
      "id": "c92a3a74",
      "metadata": {},
      "source": [
        "- **Ordered:** Elements maintain the order in which they are inserted.\n",
        "- **Mutable:** Elements can be changed after creation.\n",
        "- **Duplicates Allowed:** The same element can appear more than once.\n",
        "- **Use Cases:** Ideal when order matters or when you need to access elements by index."
      ]
    },
    {
      "cell_type": "markdown",
      "id": "cb85a8a1",
      "metadata": {},
      "source": [
        "### 2. Python Sets 🧩"
      ]
    },
    {
      "cell_type": "markdown",
      "id": "3a638a11",
      "metadata": {},
      "source": [
        "\n",
        "- **Unordered:** There is no guaranteed order of elements.\n",
        "- **Unique Elements:** Automatically removes duplicate elements.\n",
        "- **Hash-Based:** Offers O(1) average-case performance for membership testing.\n",
        "- **Use Cases:** Best when you need to ensure all elements are unique or require fast membership testing.\n",
        "\n"
      ]
    },
    {
      "cell_type": "markdown",
      "id": "4a5ce7da",
      "metadata": {},
      "source": [
        "Both data structures are powerful tools, and understanding their trade-offs is key to writing efficient Python code."
      ]
    },
    {
      "cell_type": "markdown",
      "metadata": {},
      "source": [
        "## Built-in Methods & Complexity Tables\n"
      ]
    },
    {
      "cell_type": "markdown",
      "id": "11e2913c",
      "metadata": {},
      "source": [
        "\n",
        "Below are tables summarizing common methods for lists and sets, along with their time complexities. Understanding these complexities will help you write efficient code and choose the right data structure for your problem."
      ]
    },
    {
      "cell_type": "markdown",
      "metadata": {},
      "source": [
        "### 1. List Methods 🔄\n"
      ]
    },
    {
      "cell_type": "markdown",
      "id": "52e90b07",
      "metadata": {},
      "source": [
        "\n",
        "Lists in Python are versatile and allow various operations. The table below provides a quick reference to some of the most common methods and their complexities:"
      ]
    },
    {
      "cell_type": "markdown",
      "metadata": {},
      "source": [
        "| **Method**       | **Description**                                | **Time Complexity**                  |\n",
        "|------------------|------------------------------------------------|--------------------------------------|\n",
        "| `append(x)`      | Add element to the end                         | O(1) amortized                       |\n",
        "| `insert(i, x)`   | Insert element `x` at index `i`                | O(n)                                 |\n",
        "| `pop()`          | Remove and return the last element             | O(1)                                 |\n",
        "| `pop(i)`         | Remove and return element at index `i`         | O(n)                                 |\n",
        "| `remove(x)`      | Remove first occurrence of `x`                 | O(n)                                 |\n",
        "| `index(x)`       | Return index of first occurrence of `x`        | O(n)                                 |\n",
        "| `sort()`         | Sort the list                                  | O(n log n) (Timsort)                 |"
      ]
    },
    {
      "cell_type": "markdown",
      "metadata": {},
      "source": [
        "### 2. Set Methods 🔍"
      ]
    },
    {
      "cell_type": "markdown",
      "id": "d15f3d44",
      "metadata": {},
      "source": [
        "\n",
        "Sets offer a different set of operations that take advantage of hash tables. Check out the table below for details:"
      ]
    },
    {
      "cell_type": "markdown",
      "metadata": {},
      "source": [
        "| **Method**         | **Description**                                      | **Time Complexity**            |\n",
        "|--------------------|------------------------------------------------------|--------------------------------|\n",
        "| `add(x)`           | Add element `x` to the set                           | O(1) average-case              |\n",
        "| `remove(x)`        | Remove element `x`; raises error if not present      | O(1) average-case              |\n",
        "| `discard(x)`       | Remove element `x` if present                        | O(1) average-case              |\n",
        "| `pop()`            | Remove and return an arbitrary element               | O(1)                           |\n",
        "| `union(s)`    | Return the union of two sets                         | O(len(s1) + len(s2))           |\n",
        "| `intersection(s)` / `&` | Return the intersection of two sets            | O(min(len(s1), len(s2)))       |\n",
        "| `difference(s)`    | Return the difference of two sets                    | O(len(s1))                     |\n",
        "| `symmetric_difference(s)` | Return elements in either set, but not both    | O(len(s1) + len(s2))           |\n"
      ]
    },
    {
      "cell_type": "markdown",
      "metadata": {},
      "source": [
        "## Examples & Timing Comparisons ⏱️"
      ]
    },
    {
      "cell_type": "markdown",
      "id": "8d9fea31",
      "metadata": {},
      "source": [
        "\n",
        "Let's see these concepts in action! In the following examples, we will compare lists and sets through timing experiments and practical code examples."
      ]
    },
    {
      "cell_type": "markdown",
      "metadata": {},
      "source": [
        "### 1. Membership Testing 🔎"
      ]
    },
    {
      "cell_type": "markdown",
      "id": "3fc57818",
      "metadata": {},
      "source": [
        "\n",
        "Membership testing in a list is O(n) because it must scan through each element. In contrast, sets use a hash table and typically perform membership tests in O(1) average-case time. Check out the following timing comparison:"
      ]
    },
    {
      "cell_type": "code",
      "execution_count": 18,
      "metadata": {},
      "outputs": [
        {
          "data": {
            "text/html": [
              "<div style=\"border: 2px solid #4CAF50; border-radius: 10px; padding: 15px; background-color: #f9fff9; font-family: Arial, sans-serif;\">\n",
              "    <h3 style=\"color: #2E7D32;\">Membership Testing Timing</h3>\n",
              "    <p><strong>List:</strong> 0.248011 sec (10,000 iterations)</p>\n",
              "    <p><strong>Set:</strong> 0.000085 sec (10,000 iterations)</p>\n",
              "</div>\n"
            ],
            "text/plain": [
              "<IPython.core.display.HTML object>"
            ]
          },
          "metadata": {},
          "output_type": "display_data"
        }
      ],
      "source": [
        "import timeit\n",
        "from IPython.display import HTML, display\n",
        "\n",
        "# Setup code: create a list and a corresponding set of 10,000 numbers\n",
        "setup_code = \"lst = list(range(10000)); s = set(lst)\"\n",
        "list_test = \"9999 in lst\"\n",
        "set_test = \"9999 in s\"\n",
        "\n",
        "# Time the membership testing\n",
        "list_time = timeit.timeit(stmt=list_test, setup=setup_code, number=10000)\n",
        "set_time = timeit.timeit(stmt=set_test, setup=setup_code, number=10000)\n",
        "\n",
        "# Prepare the HTML output\n",
        "html_membership = f'''\\\n",
        "<div style=\"border: 2px solid #4CAF50; border-radius: 10px; padding: 15px; background-color: #f9fff9; font-family: Arial, sans-serif;\">\n",
        "    <h3 style=\"color: #2E7D32;\">Membership Testing Timing</h3>\n",
        "    <p><strong>List:</strong> {list_time:.6f} sec (10,000 iterations)</p>\n",
        "    <p><strong>Set:</strong> {set_time:.6f} sec (10,000 iterations)</p>\n",
        "</div>\n",
        "'''\n",
        "\n",
        "display(HTML(html_membership))\n"
      ]
    },
    {
      "cell_type": "markdown",
      "id": "055397a1",
      "metadata": {},
      "source": [
        "This output demonstrates the significant speedup sets offer for membership testing. When `List` is replaced with `Set`, the time drops from 0.248011 seconds to 0.000085 seconds for 10,000 iterations."
      ]
    },
    {
      "cell_type": "markdown",
      "metadata": {},
      "source": [
        "### 2. Duplicate Removal 🔄"
      ]
    },
    {
      "cell_type": "markdown",
      "id": "94e6ca0f",
      "metadata": {},
      "source": [
        "\n",
        "Converting a list to a set automatically removes duplicate elements since sets only store unique items. Converting back to a list provides a duplicate-free list (though order is not preserved). Consider the following example:"
      ]
    },
    {
      "cell_type": "code",
      "execution_count": 4,
      "metadata": {},
      "outputs": [
        {
          "name": "stdout",
          "output_type": "stream",
          "text": [
            "Original List: [1, 2, 2, 3, 4, 4, 4, 5]\n",
            "After Removing Duplicates: [1, 2, 3, 4, 5]\n"
          ]
        }
      ],
      "source": [
        "sample_list = [1, 2, 2, 3, 4, 4, 4, 5]\n",
        "unique_list = list(set(sample_list))\n",
        "print(\"Original List:\", sample_list)\n",
        "print(\"After Removing Duplicates:\", unique_list)"
      ]
    },
    {
      "cell_type": "markdown",
      "metadata": {},
      "source": [
        "### 3. Insertion & Other Operations ⚡"
      ]
    },
    {
      "cell_type": "markdown",
      "id": "f078361d",
      "metadata": {},
      "source": [
        "\n",
        "Next, we compare the time it takes to insert 10,000 random numbers into a list versus a set. This example illustrates the performance differences during insertion operations."
      ]
    },
    {
      "cell_type": "code",
      "execution_count": 26,
      "metadata": {},
      "outputs": [
        {
          "data": {
            "text/html": [
              "<div style=\"border: 2px solid #1976D2; border-radius: 10px; padding: 15px; background-color: #e3f2fd; font-family: Arial, sans-serif;\">\n",
              "    <h3 style=\"color: #0D47A1;\">Insertion Timing Comparison</h3>\n",
              "    <p><strong>List Insertion:</strong> 0.058655 sec (10 runs)</p>\n",
              "    <p><strong>Set Insertion:</strong> 0.025068 sec (10 runs)</p>\n",
              "</div>\n"
            ],
            "text/plain": [
              "<IPython.core.display.HTML object>"
            ]
          },
          "metadata": {},
          "output_type": "display_data"
        }
      ],
      "source": [
        "import random\n",
        "import timeit\n",
        "from IPython.display import HTML, display\n",
        "\n",
        "def insert_into_list():\n",
        "    lst = []\n",
        "    for _ in range(10000):\n",
        "        lst.append(random.randint(0, 10000))\n",
        "    return lst\n",
        "\n",
        "def insert_into_set():\n",
        "    s = set()\n",
        "    for _ in range(10000):\n",
        "        s.add(random.randint(0, 10000))\n",
        "    return s\n",
        "\n",
        "# Time the insertion operations (10 runs each)\n",
        "list_insertion_time = timeit.timeit(insert_into_list, number=10)\n",
        "set_insertion_time = timeit.timeit(insert_into_set, number=10)\n",
        "\n",
        "# Prepare the HTML output for insertion timings\n",
        "html_insertion = f'''\\\n",
        "<div style=\"border: 2px solid #1976D2; border-radius: 10px; padding: 15px; background-color: #e3f2fd; font-family: Arial, sans-serif;\">\n",
        "    <h3 style=\"color: #0D47A1;\">Insertion Timing Comparison</h3>\n",
        "    <p><strong>List Insertion:</strong> {list_insertion_time:.6f} sec (10 runs)</p>\n",
        "    <p><strong>Set Insertion:</strong> {set_insertion_time:.6f} sec (10 runs)</p>\n",
        "</div>\n",
        "'''\n",
        "\n",
        "display(HTML(html_insertion))\n"
      ]
    },
    {
      "cell_type": "markdown",
      "id": "e7f04f69",
      "metadata": {},
      "source": [
        "The output shows that `sets` are faster than `lists` for **insertion operations**. This is because sets use `hash tables` (we are going to cover this data structure in futher lessons), providing $O(1)$ average-case insertion time."
      ]
    },
    {
      "cell_type": "markdown",
      "metadata": {},
      "source": [
        "## Interesting Problems 🤔"
      ]
    },
    {
      "cell_type": "markdown",
      "id": "fb85b24a",
      "metadata": {},
      "source": [
        "\n",
        "Now, let's tackle some interesting problems that help solidify your understanding of lists and sets."
      ]
    },
    {
      "cell_type": "markdown",
      "metadata": {},
      "source": [
        "### Problem 1: Remove Duplicates\n"
      ]
    },
    {
      "cell_type": "markdown",
      "id": "d8b298f9",
      "metadata": {},
      "source": [
        "\n",
        "Write a function that removes duplicates from a list by converting it to a set and then back to a list. Compare the execution time of this approach with a manual duplicate removal method using a loop."
      ]
    },
    {
      "cell_type": "code",
      "execution_count": 6,
      "metadata": {},
      "outputs": [
        {
          "name": "stdout",
          "output_type": "stream",
          "text": [
            "remove_duplicates_set defined\n"
          ]
        }
      ],
      "source": [
        "def remove_duplicates_set(lst):\n",
        "    \"\"\"Remove duplicates using set conversion.\"\"\"\n",
        "    return list(set(lst))\n",
        "\n",
        "print('remove_duplicates_set defined')"
      ]
    },
    {
      "cell_type": "code",
      "execution_count": 28,
      "metadata": {},
      "outputs": [],
      "source": [
        "def remove_duplicates_manual(lst):\n",
        "    \"\"\"Remove duplicates manually while preserving order.\"\"\"\n",
        "    seen = set()\n",
        "    result = []\n",
        "    for item in lst:\n",
        "        if item not in seen:\n",
        "            result.append(item)\n",
        "            seen.add(item)\n",
        "    return result"
      ]
    },
    {
      "cell_type": "code",
      "execution_count": 8,
      "metadata": {},
      "outputs": [
        {
          "name": "stdout",
          "output_type": "stream",
          "text": [
            "Set-based duplicate removal time: 0.006360791041515768\n",
            "Manual duplicate removal time: 0.037637875066138804\n"
          ]
        }
      ],
      "source": [
        "import random\n",
        "large_list = [random.randint(0, 1000) for _ in range(10000)]\n",
        "\n",
        "time_set = timeit.timeit(lambda: remove_duplicates_set(large_list), number=100)\n",
        "time_manual = timeit.timeit(lambda: remove_duplicates_manual(large_list), number=100)\n",
        "\n",
        "print(\"Set-based duplicate removal time:\", time_set)\n",
        "print(\"Manual duplicate removal time:\", time_manual)"
      ]
    },
    {
      "cell_type": "markdown",
      "id": "1116d9fe",
      "metadata": {},
      "source": [
        "The output shows that the `set`-based approach is significantly faster than the manual method for duplicate removal."
      ]
    },
    {
      "cell_type": "markdown",
      "metadata": {},
      "source": [
        "### Problem 2: Membership Test Comparison Function\n"
      ]
    },
    {
      "cell_type": "markdown",
      "id": "6611d0c8",
      "metadata": {},
      "source": [
        "\n",
        "Write a function that accepts a collection and a target element, and returns the time taken to check for membership in both a list and a set. Use this function to compare performance on collections of various sizes."
      ]
    },
    {
      "cell_type": "code",
      "execution_count": 27,
      "metadata": {},
      "outputs": [],
      "source": [
        "def compare_membership_times(n, target):\n",
        "    lst = list(range(n))\n",
        "    s = set(lst)\n",
        "    list_time = timeit.timeit(lambda: target in lst, number=10000)\n",
        "    set_time = timeit.timeit(lambda: target in s, number=10000)\n",
        "    return list_time, set_time"
      ]
    },
    {
      "cell_type": "code",
      "execution_count": 10,
      "metadata": {},
      "outputs": [
        {
          "name": "stdout",
          "output_type": "stream",
          "text": [
            "List membership time: 0.247998 sec\n",
            "Set membership time: 0.000216 sec\n"
          ]
        }
      ],
      "source": [
        "lt, st = compare_membership_times(10000, 9999)\n",
        "print(f\"List membership time: {lt:.6f} sec\")\n",
        "print(f\"Set membership time: {st:.6f} sec\")"
      ]
    },
    {
      "cell_type": "markdown",
      "id": "71ce7a78",
      "metadata": {},
      "source": [
        "The output demonstrates the speed difference between `lists` and `sets` for **membership testing**, which is crucial for large collections or frequent lookups."
      ]
    },
    {
      "cell_type": "markdown",
      "metadata": {},
      "source": [
        "### Problem 3: Set Operations (Union & Intersection)\n"
      ]
    },
    {
      "cell_type": "markdown",
      "id": "be7a8620",
      "metadata": {},
      "source": [
        "\n",
        "Implement functions for union and intersection using both list-based approaches and built-in set operations. Compare their performance using timing experiments."
      ]
    },
    {
      "cell_type": "code",
      "execution_count": 29,
      "metadata": {},
      "outputs": [],
      "source": [
        "def union_lists(lst1, lst2):\n",
        "    result = lst1.copy()\n",
        "    for item in lst2:\n",
        "        if item not in result:\n",
        "            result.append(item)\n",
        "    return result"
      ]
    },
    {
      "cell_type": "code",
      "execution_count": 30,
      "metadata": {},
      "outputs": [],
      "source": [
        "def intersection_lists(lst1, lst2):\n",
        "    return [item for item in lst1 if item in lst2]"
      ]
    },
    {
      "cell_type": "code",
      "execution_count": 31,
      "metadata": {},
      "outputs": [],
      "source": [
        "def union_set(lst1, lst2):\n",
        "    return list(set(lst1) | set(lst2))"
      ]
    },
    {
      "cell_type": "code",
      "execution_count": 32,
      "metadata": {},
      "outputs": [],
      "source": [
        "def intersection_set(lst1, lst2):\n",
        "    return list(set(lst1) & set(lst2))"
      ]
    },
    {
      "cell_type": "code",
      "execution_count": 33,
      "metadata": {},
      "outputs": [
        {
          "name": "stdout",
          "output_type": "stream",
          "text": [
            "Union (list): 5.594400957925245\n",
            "Union (set): 0.013508958043530583\n",
            "Intersection (list): 3.3591173340100795\n",
            "Intersection (set): 0.008633249904960394\n"
          ]
        }
      ],
      "source": [
        "lst1 = list(range(5000))\n",
        "lst2 = list(range(2500, 7500))\n",
        "\n",
        "union_list_time = timeit.timeit(lambda: union_lists(lst1, lst2), number=100)\n",
        "union_set_time = timeit.timeit(lambda: union_set(lst1, lst2), number=100)\n",
        "intersection_list_time = timeit.timeit(lambda: intersection_lists(lst1, lst2), number=100)\n",
        "intersection_set_time = timeit.timeit(lambda: intersection_set(lst1, lst2), number=100)\n",
        "\n",
        "print(\"Union (list):\", union_list_time)\n",
        "print(\"Union (set):\", union_set_time)\n",
        "print(\"Intersection (list):\", intersection_list_time)\n",
        "print(\"Intersection (set):\", intersection_set_time)"
      ]
    },
    {
      "cell_type": "markdown",
      "id": "c04cecd3",
      "metadata": {},
      "source": [
        "The output clearly shows that `set` operations are **significantly faster** than `list`-based approaches for both union and intersection operations."
      ]
    },
    {
      "cell_type": "markdown",
      "metadata": {},
      "source": [
        "## Exercises 📝\n"
      ]
    },
    {
      "cell_type": "markdown",
      "id": "eef60201",
      "metadata": {},
      "source": [
        "\n",
        "Try solving these exercises to further cement your understanding of lists and sets:\n",
        "\n",
        "1. **Exercise 1:** Implement a function that removes duplicates from a list by converting it to a set and back, then compare its performance with a manual duplicate removal method.\n",
        "2. **Exercise 2:** Write a function that tests membership of a target element in both a list and a set for various collection sizes. Present your findings in a well-formatted table.\n",
        "3. **Exercise 3:** Create functions for the union and intersection of two collections using list-based and set-based approaches. Benchmark the performance differences.\n",
        "4. **Exercise 4:** Find all unique pairs in a list that sum to a target value. Compare how the solution differs when using lists versus sets."
      ]
    },
    {
      "cell_type": "markdown",
      "metadata": {},
      "source": [
        "## Reflection Questions\n"
      ]
    },
    {
      "cell_type": "markdown",
      "id": "38997595",
      "metadata": {},
      "source": [
        "\n",
        "- What are the primary differences between lists and sets in Python?\n",
        "- How does the underlying implementation (array vs. hash table) affect performance?\n",
        "- In which scenarios would you prefer a list over a set, and vice versa?\n",
        "- How do the built-in method complexities influence your choice of data structure?\n",
        "- What trade-offs do you observe when converting between lists and sets (e.g., order preservation vs. speed)?"
      ]
    },
    {
      "cell_type": "markdown",
      "metadata": {},
      "source": [
        "## Additional Resources"
      ]
    },
    {
      "cell_type": "markdown",
      "id": "9090b39b",
      "metadata": {},
      "source": [
        "- [Python Lists Documentation](https://docs.python.org/3/tutorial/datastructures.html#more-on-lists)\n",
        "- [Python Sets Documentation](https://docs.python.org/3/library/stdtypes.html#set-types-set-frozenset)\n"
      ]
    },
    {
      "cell_type": "markdown",
      "metadata": {},
      "source": [
        "## Final Summary 🏁\n"
      ]
    },
    {
      "cell_type": "markdown",
      "id": "99cd611c",
      "metadata": {},
      "source": [
        "\n",
        "Today, we explored the fascinating world of Python lists and sets. We learned that:\n",
        "\n",
        "- **Lists** are ordered, mutable, and allow duplicates, but membership testing is O(n).\n",
        "- **Sets** are unordered, store only unique elements, and offer O(1) average-case membership testing.\n",
        "\n",
        "We also compared the performance of various operations using timing experiments and discussed when to use each data structure. Keep experimenting with these examples, try out the exercises, and deepen your understanding by exploring the additional resources provided.\n",
        "\n",
        "Happy coding and see you in the next lesson! 🚀"
      ]
    },
    {
      "cell_type": "markdown",
      "metadata": {},
      "source": [
        "### Bonus Content: Visualizing Performance with Matplotlib 📊\n",
        "\n",
        "For a more visual approach, you can plot the membership testing times for lists and sets across different collection sizes. Try running the following code to generate a plot:"
      ]
    },
    {
      "cell_type": "code",
      "execution_count": 17,
      "metadata": {},
      "outputs": [
        {
          "data": {
            "image/png": "[encoded data removed]",
            "text/plain": [
              "<Figure size 800x500 with 1 Axes>"
            ]
          },
          "metadata": {},
          "output_type": "display_data"
        }
      ],
      "source": [
        "import matplotlib.pyplot as plt\n",
        "\n",
        "sizes = [1000, 5000, 10000, 50000, 100000]\n",
        "list_times = []\n",
        "set_times = []\n",
        "\n",
        "for n in sizes:\n",
        "    lst = list(range(n))\n",
        "    s = set(lst)\n",
        "    lt = timeit.timeit(lambda: 999 in lst, number=1000)\n",
        "    st = timeit.timeit(lambda: 999 in s, number=1000)\n",
        "    list_times.append(lt)\n",
        "    set_times.append(st)\n",
        "\n",
        "plt.figure(figsize=(8, 5))\n",
        "plt.plot(sizes, list_times, marker='o', label='List Membership')\n",
        "plt.plot(sizes, set_times, marker='s', label='Set Membership')\n",
        "plt.xlabel('Size of Collection')\n",
        "plt.ylabel('Time (sec)')\n",
        "plt.title('Membership Testing Performance')\n",
        "plt.legend()\n",
        "plt.grid(True)\n",
        "plt.show()"
      ]
    }
  ],
  "metadata": {
    "kernelspec": {
      "display_name": "Python 3",
      "language": "python",
      "name": "python3"
    },
    "language_info": {
      "codemirror_mode": {
        "name": "ipython",
        "version": 3
      },
      "file_extension": ".py",
      "mimetype": "text/x-python",
      "name": "python",
      "nbconvert_exporter": "python",
      "pygments_lexer": "ipython3",
      "version": "3.13.0"
    }
  },
  "nbformat": 4,
  "nbformat_minor": 5
}
