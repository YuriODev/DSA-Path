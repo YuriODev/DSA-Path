{
  "cells": [
    {
      "cell_type": "markdown",
      "id": "8bf8bb1d",
      "metadata": {},
      "source": [
        "# <a id='toc1_'></a>[Day 3: Arrays and Their Operations 📚](#toc0_)"
      ]
    },
    {
      "cell_type": "markdown",
      "id": "3d10b1dd",
      "metadata": {},
      "source": [
        "## <a id='toc1_1_'></a>[Table of Contents 📖](#toc0_)"
      ]
    },
    {
      "cell_type": "markdown",
      "id": "5a5789e6",
      "metadata": {},
      "source": [
        "- [Objectives](#toc1_2_)    \n",
        "- [RAM and Data Representation 💻](#toc1_3_)    \n",
        "  - [How RAM Works 💽](#toc1_3_1_)    \n",
        "  - [Representation of Basic Data Types in Memory 🔠](#toc1_3_2_)    \n",
        "  - [Floating-Point Numbers 🔢](#toc1_3_3_)    \n",
        "  - [Memory Addressing 📍](#toc1_3_4_)    \n",
        "  - [Composite Data Types 📊](#toc1_3_5_)    \n",
        "  - [Memory Deallocation 🗑️](#toc1_3_6_)    \n",
        "- [Fixed-Size Arrays 📏](#toc1_4_)    \n",
        "  - [A Deep Dive 🔍](#toc1_4_1_)    \n",
        "  - [How Arrays Work 🔍](#toc1_4_2_)    \n",
        "  - [How to Save Arrays to Files 💾](#toc1_4_3_)    \n",
        "- [Complexity of Insertion and Deletion in Dynamic Arrays 📊](#toc1_5_)    \n",
        "  - [Complexity of Insertion in a Dynamic Array 📊](#toc1_5_1_)    \n",
        "  - [Complexity of Removing an Element from a Dynamic Array 📊](#toc1_5_2_)    \n",
        "- [Reallocation in Dynamic Arrays 🔄](#toc1_6_)    \n",
        "  - [Introduction & Overview 📚](#toc1_6_1_)    \n",
        "  - [Detailed Explanation of Reallocation 📈](#toc1_6_2_)    \n",
        "  - [Code Implementation 📝](#toc1_6_3_)    \n",
        "  - [Complexity Analysis 📊](#toc1_6_4_)    \n",
        "  - [Question 1: Array Capacity Tripling](#toc1_6_5_)    \n",
        "  - [Question 2: Reallocation Complexity](#toc1_6_6_)    \n",
        "  - [Amortized Complexity 📊](#toc1_6_7_)    \n",
        "- [Space Complexity Analysis](#toc1_7_)    \n",
        "  - [Analyzing Space Complexity with Pseudocode and a Cost Table 📝](#toc1_7_1_)    \n",
        "  - [How the Insertion Sort Algorithm Manages Memory 🛠️](#toc1_7_2_)    \n",
        "  - [Examples of Asymptotic Space Complexity 📊](#toc1_7_3_)    \n",
        "    - [Example 1: Constant Space $ O(1) $ 🚶](#toc1_7_3_1_)    \n",
        "    - [Example 2: Linear Space $ O(n) $ 📈](#toc1_7_3_2_)    \n",
        "    - [Example 3: Logarithmic Space $ O(\\log n) $ 🔄](#toc1_7_3_3_)    \n",
        "    - [Example 4: Exponential Space $ O(2^n) $ 🌟](#toc1_7_3_4_)    \n",
        "  - [Combined Space Complexity 🔄](#toc1_7_4_)    \n",
        "    - [Combined Example: Reading Input and Processing Data 📥🔄](#toc1_7_4_1_)    \n",
        "    - [Analysis:](#toc1_7_4_2_)    \n",
        "  - [Summary of Key Space Complexity Concepts 📚](#toc1_7_5_)    \n",
        "- [Test Your Knowledge: Space Complexity Exercises](#toc1_8_)    \n",
        "  - [Exercise 1: In-Place Reversal Space Complexity 📊](#toc1_8_1_)    \n",
        "  - [Exercise 2: Recursive Fibonacci Space Complexity 📊](#toc1_8_2_)    \n",
        "  - [Exercise 3: Copying an Array Space Complexity 📊](#toc1_8_3_)    \n",
        "  - [Exercise 4: Merge Sort Space Complexity 📊](#toc1_8_4_)    \n",
        "  - [Exercise 5: In-Place Heapify Space Complexity 📊](#toc1_8_5_)    \n",
        "  - [Exercise 6: Frequency Count Using Hash Map Space Complexity 📊](#toc1_8_6_)    \n",
        "  - [Exercise 7: Generating All Subsets Space Complexity 📊](#toc1_8_7_)    \n",
        "  - [Exercise 8: Depth-First Search (DFS) Space Complexity 📊](#toc1_8_8_)    \n",
        "  - [Exercise 9: In-Place QuickSort Space Complexity 📊](#toc1_8_9_)    \n",
        "  - [Exercise 10: Linked List Merge Sort Space Complexity 📊](#toc1_8_10_)    \n",
        "- [Reflection Questions](#toc1_9_)    \n",
        "- [Additional Resources](#toc1_10_)    \n",
        "\n",
        "<!-- vscode-jupyter-toc-config\n",
        "numbering=false\n",
        "anchor=true\n",
        "flat=false\n",
        "minLevel=1\n",
        "maxLevel=6\n",
        "/vscode-jupyter-toc-config -->\n",
        "<!-- THIS CELL WILL BE REPLACED ON TOC UPDATE. DO NOT WRITE YOUR TEXT IN THIS CELL -->"
      ]
    },
    {
      "cell_type": "markdown",
      "metadata": {},
      "source": [
        "## <a id='toc1_2_'></a>[Objectives](#toc0_)"
      ]
    },
    {
      "cell_type": "markdown",
      "id": "e0d7f5c9",
      "metadata": {},
      "source": [
        "- **Master Space Complexity Analysis:** Understand how to analyze and optimize the space complexity of algorithms. 🤓\n",
        "- **Implement Fixed-Size Arrays:** Learn how to implement and manipulate fixed-size arrays in C++ and Lists in Python. 🛠\n",
        "- **Understand Dynamic Arrays:** Understand the principles of dynamic arrays and how they differ from fixed-size arrays. 🧠\n",
        "- **Implement Dynamic Arrays:** Learn how to implement dynamic arrays in C++. 🛠\n",
        "- **Analyze Space Complexity of Dynamic Arrays:** Learn how to analyze the space complexity of dynamic arrays. 🤓\n"
      ]
    },
    {
      "cell_type": "markdown",
      "metadata": {},
      "source": [
        "## <a id='toc1_3_'></a>[RAM and Data Representation 💻](#toc0_)\n"
      ]
    },
    {
      "cell_type": "markdown",
      "id": "711e887e",
      "metadata": {},
      "source": [
        "\n",
        "Program efficiency can be assessed by how it consumes different types of computer resources. The main ones are **processor time** and **RAM**. There’s also network bandwidth, disk performance, and other limited resources. ⚙️\n",
        "\n",
        "In the first sprint, we discussed how an algorithm uses processor time. Now, we turn our attention to **memory consumption**—the **spatial complexity** of an algorithm. 📊\n"
      ]
    },
    {
      "cell_type": "markdown",
      "metadata": {},
      "source": [
        "### <a id='toc1_3_1_'></a>[How RAM Works 💽](#toc0_)"
      ]
    },
    {
      "cell_type": "markdown",
      "id": "c17500b3",
      "metadata": {},
      "source": [
        "\n",
        "**RAM (or memory)** is a kind of “scratchpad” that programs use for computations. Data can be written, overwritten, and read from it. 💡\n",
        "\n",
        "Modern computers have just a few gigabytes of **RAM**, and data vanishes as soon as the program terminates. Therefore, this memory is unsuitable for long-term storage, but it operates hundreds of times faster than an **SSD** and thousands of times faster than a standard hard drive. ⚡\n",
        "\n",
        "**RAM** is divided into cells of 1 byte each. Each cell has an ordinal number, called an **address** (individual bits within a cell do not have addresses). The processor interacts directly with **RAM** using these addresses to access data, similar to how a program accesses variables by name. 🔍\n",
        "\n",
        "To understand how much memory a program consumes, one must determine the size of individual objects. Although this size can vary between programming languages, the basic principles are common. First, let’s examine how memory is used in **C++**, as it allows for highly efficient, flexible, and predictable memory management. 👍\n",
        "\n"
      ]
    },
    {
      "cell_type": "markdown",
      "metadata": {},
      "source": [
        "### <a id='toc1_3_2_'></a>[Representation of Basic Data Types in Memory 🔠](#toc0_)"
      ]
    },
    {
      "cell_type": "markdown",
      "id": "f7df9ba1",
      "metadata": {},
      "source": [
        "What can be stored in one memory cell? As mentioned, the smallest cell is **1 byte** (8 bits). Each bit can be either 0 or 1. Eight bits allow encoding of 2⁸ = 256 possible values. Thus, one cell can, for example, store an integer from 0 to 255.\n",
        "\n",
        "If these numbers are interpreted as character codes, then **1 byte** represents 1 character (of type `char`): all Latin and Cyrillic letters, digits, and basic symbols can be encoded within these 256 possibilities."
      ]
    },
    {
      "cell_type": "markdown",
      "id": "1d6c05d6",
      "metadata": {},
      "source": [
        "<div style=\"width: 90%; border: 2px solid #4CAF50; border-radius: 10px; padding: 20px; background-color: #f0f8ff; font-family: 'Courier New', Courier, monospace;\">\n",
        "  <p style=\"font-size: 16px; line-height: 1.6;\">\n",
        "    Encoding tables map each bit combination to a specific character. All modern encodings are based on <u>the ASCII table</u>, which consists of 128 characters corresponding to values 0 to 127. Many encodings also provide mappings for the range 128 to 255, typically including characters from national alphabets such as Cyrillic. 🔠\n",
        "  </p>\n",
        "  <p style=\"font-size: 16px; line-height: 1.6;\">\n",
        "More complex encodings use two bytes or even a variable number of bytes to encode various alphabets, ideograms, emojis, and many other symbols.\n",
        "  </p>\n",
        "</div>"
      ]
    },
    {
      "cell_type": "markdown",
      "id": "e4d7a69c",
      "metadata": {},
      "source": [
        "\n",
        "\n",
        "The most common integer type, **int**, occupies **4 bytes** and can represent numbers from –2,147,483,648 to 2,147,483,647. In 4 bytes (32 bits), 1 bit is used for the sign, leaving 31 bits to represent 2³¹ = 2,147,483,648 different values. Since zero is also represented, there is one fewer positive number compared to negative. If your numbers do not exceed two billion in absolute value, this type is sufficient. Note that there are roughly four billion different numbers, but half are negative. When a variable is guaranteed to be non-negative, the **unsigned int** type is preferable, storing values from 0 to 4,294,967,295. 🔢\n",
        "\n"
      ]
    },
    {
      "cell_type": "markdown",
      "id": "09b49151",
      "metadata": {},
      "source": [
        "<div style=\"width: 90%; border: 2px solid #4CAF50; border-radius: 10px; padding: 20px; background-color: #f0f8ff; font-family: 'Courier New', Courier, monospace;\">\n",
        "    <p style=\"font-size: 16px; line-height: 1.6;\">\n",
        "        Caution: If an operation results in a number outside the allowable range, <strong>overflow</strong> occurs and the result may be incorrect. For example, for the <code>int</code> type:\n",
        "        <br>\n",
        "        <span style=\"display:inline-block; margin-left: 2em;\">2147483647 + 1 = −2147483648</span>  \n",
        "        <br>\n",
        "        <span style=\"display:inline-block; margin-left: 2em;\">2147483647 × 3 = 2147483645</span>  \n",
        "        <br>\n",
        "        This issue does not occur in languages with arbitrary-length integers, such as Python. ⚠️\n",
        "    </p>\n",
        "</div>"
      ]
    },
    {
      "cell_type": "markdown",
      "metadata": {},
      "source": [
        "### <a id='toc1_3_3_'></a>[Floating-Point Numbers 🔢](#toc0_)"
      ]
    },
    {
      "cell_type": "markdown",
      "id": "30d4553e",
      "metadata": {},
      "source": [
        "\n",
        "Floating-point (i.e., fractional) numbers are usually represented using the **double** type, which occupies **8 bytes**. They can represent both very large numbers (e.g., ±10³⁰⁸) and numbers close to zero (e.g., ±10⁻³⁰⁸).\n",
        "\n",
        "Calculations with floating-point numbers are often imprecise and can accumulate errors, leading to unexpected behavior. For example, because numbers are stored in binary rather than decimal, **0.1 × 3 ≠ 0.3**. Therefore, comparisons involving floating-point values must account for a margin of error, such as using:  \n",
        "  `abs(0.1 * 3 - 0.3) < EPS`  \n",
        "where `EPS` is the acceptable error tolerance.\n",
        "\n",
        "Using floating-point values as loop counters can also affect iteration counts due to accumulated imprecision; in such cases, integers are preferred. 🔢\n"
      ]
    },
    {
      "cell_type": "markdown",
      "metadata": {},
      "source": [
        "### <a id='toc1_3_4_'></a>[Memory Addressing 📍](#toc0_)"
      ]
    },
    {
      "cell_type": "markdown",
      "id": "b306daf6",
      "metadata": {},
      "source": [
        "\n",
        "Sometimes a program needs to store an **address**—the location of data in RAM. A few years ago, addressing used 4 bytes (32 bits), which can address 2³² bytes (4 GB). However, as computer capacities and program demands have grown, 4 GB has become insufficient. Programmers now use **8-byte addressing**, which should be adequate for a long time. 📍\n",
        "\n",
        "\n"
      ]
    },
    {
      "cell_type": "markdown",
      "metadata": {},
      "source": [
        "### <a id='toc1_3_5_'></a>[Composite Data Types 📊](#toc0_)"
      ]
    },
    {
      "cell_type": "markdown",
      "id": "ae9ce3dd",
      "metadata": {},
      "source": [
        "\n",
        "Let’s calculate the memory required to store an array of 10 strings, each containing 20 characters.\n",
        "\n",
        "1. **Text Storage:**  \n",
        "\n",
        "\n",
        "$$10 \\ \\text{strings} \\times \\frac{20\\,\\text{symbols}}{\\text{string}} \\times \\frac{1\\,\\text{byte}}{\\text{symbol}} = 200\\,\\text{bytes}\n",
        "$$\n",
        "\n",
        "This would be sufficient if the strings were stored contiguously in memory. However, manipulating them is challenging: inserting a character into the first string might require shifting all subsequent strings.  \n"
      ]
    },
    {
      "cell_type": "markdown",
      "id": "06c77fb0",
      "metadata": {},
      "source": [
        "![Names](../images/03_01_names.png)"
      ]
    },
    {
      "cell_type": "markdown",
      "id": "be64adc2",
      "metadata": {},
      "source": [
        "2. **Memory Structure & Overhead**\n",
        "\n",
        "In memory, arrays and composite structures use **pointers** (memory addresses) rather than storing objects directly. Let's analyze our example:\n",
        "\n",
        "- **String Storage:** 200 bytes\n",
        "- **Pointer Array:** 80 bytes\n",
        "- **Total Memory:** 200 + 80 = 280 bytes 💾\n",
        "\n",
        "Most programming languages add **metadata overhead** to objects:\n",
        "- A small integer in Python: ~30 bytes (vs 4 bytes in low-level languages)\n",
        "- String storage: ~40 bytes overhead\n",
        "- Arrays: Even more overhead\n",
        "\n",
        "Objects are typically stored **non-contiguously** in memory, with access managed through stored addresses. This structure provides flexibility but increases memory usage. 🔍\n"
      ]
    },
    {
      "cell_type": "markdown",
      "id": "98f650c6",
      "metadata": {},
      "source": [
        "Let's calculate how much memory a Python array of 10 numbers consumes and what it is spent on:"
      ]
    },
    {
      "cell_type": "code",
      "execution_count": 4,
      "id": "ca25c8de",
      "metadata": {},
      "outputs": [
        {
          "data": {
            "text/plain": [
              "28"
            ]
          },
          "metadata": {},
          "output_type": "display_data"
        },
        {
          "data": {
            "text/plain": [
              "56"
            ]
          },
          "metadata": {},
          "output_type": "display_data"
        },
        {
          "data": {
            "text/plain": [
              "64"
            ]
          },
          "metadata": {},
          "output_type": "display_data"
        },
        {
          "data": {
            "text/plain": [
              "136"
            ]
          },
          "metadata": {},
          "output_type": "display_data"
        }
      ],
      "source": [
        "import sys\n",
        "\n",
        "display(sys.getsizeof(42))      # => 28 bytes for a small integer\n",
        "display(sys.getsizeof([]))      # => 56 bytes for an empty array\n",
        "display(sys.getsizeof([42]))    # => 64 = (56 + 8) bytes for array with one element\n",
        "display(sys.getsizeof([1,2,3,4, # => 136 = (56 + 8*10) bytes for array \n",
        "                5,6,7,8,9,10])) # with ten elements\n",
        "                                # the data itself is stored separately\n",
        "                                # and adds 280 = (28 * 10) bytes  \n",
        "                               "
      ]
    },
    {
      "cell_type": "markdown",
      "id": "b2dd6af9",
      "metadata": {},
      "source": [
        "As a result, we spend 56 bytes to create an array, and then 8 bytes for each new object in the array - these are element addresses. But that's not all. Each number also needs 28 bytes. In total, an array of ten numbers in Python takes up `56 + (8 + 28) * 10 bytes = 416 bytes`. Compare this with 40 bytes in C++. **Python consumes ten times more memory!** 🤯"
      ]
    },
    {
      "cell_type": "markdown",
      "metadata": {},
      "source": [
        "### <a id='toc1_3_6_'></a>[Memory Deallocation 🗑️](#toc0_)"
      ]
    },
    {
      "cell_type": "markdown",
      "id": "29fa5d1e",
      "metadata": {},
      "source": [
        "It's crucial to understand that when you stop using an object, it doesn't automatically mean the memory is freed. In C++, you need to manage memory deallocation manually. Built-in containers like `std::vector` simplify this task: they automatically allocate necessary memory when creating the container and free it when the container variable goes out of scope. 💾\n",
        "\n",
        "Most other programming languages use a garbage collector to handle memory deallocation. The garbage collector periodically checks if objects can still be used. If it determines that no variables or other objects reference an object, that object is destroyed. 🗑️\n",
        "\n",
        "However, garbage collection is a resource-intensive operation, so some languages delay it until free space becomes scarce. For example, Java programs (unless specifically constrained at launch) often face high memory consumption due to storing many old and unused objects. ⚠️"
      ]
    },
    {
      "cell_type": "markdown",
      "id": "1ed6563f",
      "metadata": {},
      "source": [
        "## <a id='toc1_4_'></a>[Fixed-Size Arrays 📏](#toc0_)"
      ]
    },
    {
      "cell_type": "markdown",
      "metadata": {},
      "source": [
        "### <a id='toc1_4_1_'></a>[A Deep Dive 🔍](#toc0_)\n"
      ]
    },
    {
      "cell_type": "markdown",
      "id": "fd5f041f",
      "metadata": {},
      "source": [
        "In previous lessons, we discussed how simple and composite data types can be stored in computer **RAM**. Now we'll explore various **data structures**. A **data structure** is a way of organizing information in memory that enables specific operations, such as quick data searching or modification.\n",
        "\n",
        "An **array** is one of the fundamental data structures. In this lesson, we'll examine the capabilities of different array types and their implementations. 📚\n",
        "\n",
        "The simplest type of array has a **fixed size** and can store elements of the same type. For example, if we create an array of ten integers, we cannot add another element or store an object of an incompatible type. \n",
        "\n",
        "You'll find such arrays in:  \n",
        "- **C:**\n",
        "    ```c\n",
        "     int numbers[10]\n",
        "- **C++:** \n",
        "    ```cpp\n",
        "     std::array<int, 10> numbers\n",
        "\n",
        "**Fixed-size arrays** support only two operations:\n",
        "- Retrieve an element's value by index\n",
        "- Overwrite a value at an index 🔄\n",
        "\n",
        "While they may not be highly functional, they are extremely efficient. Each operation executes in **O(1) time complexity**. ⚡\n",
        "\n",
        "To understand how arrays achieve such fast element access, let's examine their mechanics and see how they store data in memory. 🧐"
      ]
    },
    {
      "cell_type": "markdown",
      "id": "e98112a2",
      "metadata": {},
      "source": [
        "In previous lessons, we discussed how simple and composite data types can be stored in computer **RAM**. Now we'll explore various **data structures**. A **data structure** is a way of organizing information in memory that enables specific operations, such as quick data searching or modification.\n",
        "\n",
        "An **array** is one of the fundamental data structures. In this lesson, we'll examine the capabilities of different array types and their implementations. 📚\n",
        "\n",
        "The simplest type of array has a **fixed size** and can store elements of the same type. For example, if we create an array of ten integers, we cannot add another element or store an object of an incompatible type. \n",
        "\n",
        "You'll find such arrays in:  \n",
        "- **C:**\n",
        "    ```c\n",
        "     int numbers[10]\n",
        "- **C++:** \n",
        "    ```cpp\n",
        "     std::array<int, 10> numbers\n",
        "\n",
        "**Fixed-size arrays** support only two operations:\n",
        "- Retrieve an element's value by index\n",
        "- Overwrite a value at an index 🔄\n",
        "\n",
        "While they may not be highly functional, they are extremely efficient. Each operation executes in **O(1) time complexity**. ⚡\n",
        "\n",
        "To understand how arrays achieve such fast element access, let's examine their mechanics and see how they store data in memory. 🧐\n",
        "\n"
      ]
    },
    {
      "cell_type": "markdown",
      "metadata": {},
      "source": [
        "### <a id='toc1_4_2_'></a>[How Arrays Work 🔍](#toc0_)\n"
      ]
    },
    {
      "cell_type": "markdown",
      "id": "cb8733ca",
      "metadata": {},
      "source": [
        "\n",
        "An array is a collection of data elements of the same type, stored sequentially in memory. It always occupies a continuous block of memory. The operating system communicates the exact location of this memory block to the program when the array is created. 🎯\n",
        "\n",
        "The zero element is located at the beginning of the allocated memory block, immediately followed by the first element, and so on in order. They are placed next to each other without gaps. By knowing an element's position in memory—its address—we can read or write that element. Let's explore how to determine element addresses. 📍\n",
        "\n",
        "Consider an array `numbers` containing 10 unsigned integers. We know that the address of the zero element is 1000. To find the position of the next element, we add the size of one element (in bytes) to the starting address. Since each number occupies 4 bytes, the first (zero) element will occupy bytes 1000, 1001, 1002, and 1003. Therefore, the element with index 1 will be stored at address 1004. 🔢"
      ]
    },
    {
      "cell_type": "markdown",
      "id": "27fdcb2f",
      "metadata": {},
      "source": [
        "<!-- Image from folder images/03_02_table.png -->\n",
        "![Memory Table](../images/03_02_memory_table.png)"
      ]
    },
    {
      "cell_type": "markdown",
      "id": "60259683",
      "metadata": {},
      "source": [
        "> **Question**: What address will the tenth element of the array `numbers[9]` be located at?\n",
        "> \n",
        "> - $1009$\n",
        "> - $1010$\n",
        "> - $1036$\n",
        "> - $1040$"
      ]
    },
    {
      "cell_type": "markdown",
      "id": "fb59868c",
      "metadata": {},
      "source": [
        "The **correct answer** is $1036$. The first element is at address $1000$, and each element occupies 4 bytes. Therefore, the tenth element will be at $1000 + 9 \\times 4 = 1009$."
      ]
    },
    {
      "cell_type": "markdown",
      "id": "a6b6e618",
      "metadata": {},
      "source": [
        "> **[Rita]:** Why can't we store elements of different types in an array?\n",
        ">\n",
        "> **[Timothy]:** Because then the cells would be different sizes, and you wouldn't be able to calculate the address of an element using simple arithmetic based on its index. You'd need to know how many cells of each size are at indices 0 through 8. And that's impossible if the cell sizes are different.\n",
        "> \n",
        "> **[Rita]:** But in Python and JavaScript, you can store elements of different types in an array. How do they manage that?\n",
        ">\n",
        "> **[Timothy]:** The thing is, such arrays don't store the objects themselves, but only pointers to them. A pointer, or address, always takes up 8 bytes, regardless of the size of the object it points to. Remember how we stored strings in an array."
      ]
    },
    {
      "cell_type": "markdown",
      "id": "798f0f1a",
      "metadata": {},
      "source": [
        "![Memory Table](../images/03_03_words.png)"
      ]
    },
    {
      "cell_type": "markdown",
      "id": "1154244e",
      "metadata": {},
      "source": [
        "*The array of names `[\"HOLLY\", \"HENRY\", \"GREG\"]` stores not the strings themselves, but pointers to them. The strings are located in other memory segments. Note that the string **\"GREGORY\"**, although stored in memory, is not contained in the names array. However, this name can be referenced by another array or even multiple arrays.*"
      ]
    },
    {
      "cell_type": "markdown",
      "metadata": {},
      "source": [
        "### <a id='toc1_4_3_'></a>[How to Save Arrays to Files 💾](#toc0_)\n"
      ]
    },
    {
      "cell_type": "markdown",
      "id": "19544684",
      "metadata": {},
      "source": [
        "\n",
        "When a program needs to save data to a file, an important question arises: how to write information so it can be unambiguously read later. If we're writing and reading data of known size, no serious problems arise. 🔄\n",
        "\n",
        "However, sometimes the data volume varies from task to task. For example, when a program needs to write and read an array. For storing arrays in files, the following format is commonly used: first, we write the array length N, followed by N data blocks containing the array values. 📊\n",
        "\n",
        "This encoding allows compact storage of multiple arrays (of fixed length) one after another. For example, the sequence `[3, 'a', 'b', 'c', 2, 'y', 'z', ...]` encodes two arrays. First comes an array of length 3 containing the first three letters of the alphabet. Then comes an array of length 2 containing the last two letters. Additional data may follow. 🔡\n",
        "\n",
        "This idea is also frequently used in binary data formats. For instance, data in PNG files is divided into several blocks, with each block's length specified at its beginning. This makes it possible to determine where one block ends and another begins. 🎨"
      ]
    },
    {
      "cell_type": "markdown",
      "metadata": {},
      "source": [
        "## <a id='toc1_5_'></a>[Complexity of Insertion and Deletion in Dynamic Arrays 📊](#toc0_)\n"
      ]
    },
    {
      "cell_type": "markdown",
      "id": "9046711a",
      "metadata": {},
      "source": [
        "In the previous part, we discussed what an **array** is and how it is structured. Now it's time to introduce you to **dynamic arrays**. 🚀\n",
        "\n",
        "They are sometimes also called **vectors**, because in C++ they are implemented with the `std::vector` class. In Python, dynamic arrays are implemented with the **list** class — but don't let the name mislead you; it's not just a list, but indeed an array. 🔍\n"
      ]
    },
    {
      "cell_type": "markdown",
      "metadata": {},
      "source": [
        "### <a id='toc1_5_1_'></a>[Complexity of Insertion in a Dynamic Array 📊](#toc0_)"
      ]
    },
    {
      "cell_type": "markdown",
      "id": "3431b63f",
      "metadata": {},
      "source": [
        "Sometimes it's impossible to say exactly what array length might be needed. That's why it's so important to be able to add elements to an array right during program execution. Let's look at a couple of examples. 💡\n",
        "\n",
        "George has compiled a list of movies he has already watched and suddenly remembered that he wanted to add one more:  \n",
        "```python\n",
        "films_wish_list = [\"John Wick 3\", \"Avatar 2\", \"Fast and Furious 9\", \"Indiana Jones 5\", \"Batman\"]`  \n",
        "films_wish_list.append('Black Widow')\n",
        "```  \n",
        "To do this, it is enough to find out the number of the last used cell of the array and write the element to the cell following it. It will take George $O(1)$ time. ⏱️\n",
        "\n",
        "But Rita has a more complicated situation. She wrote down things to do for the day, so as not to forget anything, in the order in which she is going to do them. Here are the plans for today:  \n",
        "```python\n",
        "list_of_tasks = [\"Water the flowers\", \"Make breakfast\", \"Go to work\", \"Go to the store\", \"Call grandma\"]\n",
        "```  \n",
        "\n",
        "But then Alla called her and asked for urgent help in dealing with a bug in the code. Rita, of course, decided not to leave her friend in trouble. 🥺\n",
        "\n",
        "Now Rita has a new thing to do - to help Alla. And it should be at the beginning of the list of tasks. ✅\n"
      ]
    },
    {
      "cell_type": "markdown",
      "id": "fe6aa06d",
      "metadata": {},
      "source": [
        "> **Question**: What is the complexity of inserting a new element at the beginning of an array?\n",
        "> \n",
        "> - $O(1)$\n",
        "> - $O(N)$\n",
        "> - $O(N^2)$\n",
        "> - $O(\\log N)$"
      ]
    },
    {
      "cell_type": "markdown",
      "id": "b9d8e132",
      "metadata": {},
      "source": [
        "The **correct answer** is $O(N)$. To insert an element at the beginning of an array, you need to shift all the elements to the right by one position. This operation takes $O(N)$ time."
      ]
    },
    {
      "cell_type": "markdown",
      "id": "89de06fb",
      "metadata": {},
      "source": [
        "Why does adding an element to the beginning of an array require more operations? 🤔\n",
        "\n",
        "Imagine Rita writing tasks on a piece of paper. It's easy to add a new item to the end, but there's no space at the beginning. So, to create a list with a new first item, she would have to rewrite everything. Similarly, the computer needs to shift each of the existing elements one cell to the right. Therefore, the complexity of inserting an element at the beginning of an array is $O(n)$, where $n$ is the number of elements in the array. 📝\n",
        "\n",
        "What if you need to insert an element into an arbitrary position in the array? Of course, inserting at the beginning and at the end are special cases of this task. Inserting an element at the beginning is the worst-case scenario. The complexity of this operation is $O(n)$. Adding an element to the end is the best-case scenario, and its complexity is $O(1)$. 🚀\n"
      ]
    },
    {
      "cell_type": "markdown",
      "id": "8fa15b28",
      "metadata": {},
      "source": [
        "> **Question**: What will be the complexity of the insertion operation on average if we add an element to a random place (with an equal chance of choosing any place)?\n",
        "> \n",
        "> - $O(1)$\n",
        "> - $O(N)$\n",
        "> - Impossible to define complexity"
      ]
    },
    {
      "cell_type": "markdown",
      "id": "94ebbd21",
      "metadata": {},
      "source": [
        "The **correct answer** is $O(N)$. The average complexity of inserting an element into an array is $O(N)$. This is because, on average, you will need to shift half of the elements. "
      ]
    },
    {
      "cell_type": "markdown",
      "id": "55533c90",
      "metadata": {},
      "source": [
        "<div style=\"width: 90%; border: 2px solid #4CAF50; border-radius: 10px; padding: 20px; background-color: #f0f8ff; font-family: 'Courier New', Courier, monospace;\">\n",
        "  <p style=\"font-size: 16px; line-height: 1.6;\">\n",
        "    When assessing the efficiency of an algorithm, you should not rely on the best-case complexity. Average and worst-case complexities will more accurately show how long your program will run in a typical situation or in the worst-case scenario.\n",
        "  </p>\n",
        "</div>"
      ]
    },
    {
      "cell_type": "markdown",
      "metadata": {},
      "source": [
        "### <a id='toc1_5_2_'></a>[Complexity of Removing an Element from a Dynamic Array 📊](#toc0_)"
      ]
    },
    {
      "cell_type": "markdown",
      "id": "0447c8e4",
      "metadata": {},
      "source": [
        "When deleting an element from an array, similar to inserting, you need to shift all elements to the right of the cell where the operation occurs. When adding to an array, elements shift one position to the right. When deleting, they shift one position to the left. 🔄"
      ]
    },
    {
      "cell_type": "markdown",
      "id": "3111ae1a",
      "metadata": {},
      "source": [
        "> **Question**: What is the complexity of removing an element from an array?\n",
        "> \n",
        "> - $O(1)$\n",
        "> - $O(N)$\n",
        "> - $O(N^2)$\n",
        "> - $O(\\log N)$"
      ]
    },
    {
      "cell_type": "markdown",
      "id": "35acf111",
      "metadata": {},
      "source": [
        "The **correct answer** is $O(N)$. The complexity of removing an element from an array is $O(N)$. This is because, on average, you will need to shift half of the elements."
      ]
    },
    {
      "cell_type": "markdown",
      "id": "6036643d",
      "metadata": {},
      "source": [
        "## <a id='toc1_6_'></a>[Reallocation in Dynamic Arrays 🔄](#toc0_)"
      ]
    },
    {
      "cell_type": "markdown",
      "metadata": {},
      "source": [
        "### <a id='toc1_6_1_'></a>[Introduction & Overview 📚](#toc0_)\n"
      ]
    },
    {
      "cell_type": "markdown",
      "id": "cb555d56",
      "metadata": {},
      "source": [
        "\n",
        "In the previous part, we talked about dynamic arrays and how to add new elements to them, and also analyzed several important cases. As you remember, adding an element to the end of an array is more efficient than inserting at the beginning or in the middle, since it does not require shifting elements. 💡\n",
        "\n",
        "However, there is a problem: the array has a fixed size. If you try to add an element to an already full array, you will get an error. To solve this problem, the array must be expanded. But how can this be done? 🤔\n",
        "\n"
      ]
    },
    {
      "cell_type": "markdown",
      "metadata": {},
      "source": [
        "### <a id='toc1_6_2_'></a>[Detailed Explanation of Reallocation 📈](#toc0_)\n"
      ]
    },
    {
      "cell_type": "markdown",
      "id": "32b22303",
      "metadata": {},
      "source": [
        "\n",
        "But an array cannot simply be expanded — after all, other data is already written in memory beyond it. When expanding an array, they will be overwritten, which can lead to a program execution error. ⚠️\n",
        "\n",
        "Therefore, as a rule, when expanding an array, the program has to perform a “**reallocation**” — allocate a new memory area and copy the old content there. 💾\n",
        "\n",
        "Allocating memory is a long operation, but copying is an even bigger problem, because it requires traversing all elements, spending $O(n)$ operations. How can we then assert that adding to the end of an array costs $O(1)$? 🤔\n"
      ]
    },
    {
      "cell_type": "markdown",
      "metadata": {},
      "source": [
        "\n",
        "### <a id='toc1_6_3_'></a>[Code Implementation 📝](#toc0_)\n"
      ]
    },
    {
      "cell_type": "markdown",
      "id": "683f9b45",
      "metadata": {},
      "source": [
        "Let's write a program that adds a thousand elements to an array — one at a time: 💻"
      ]
    },
    {
      "cell_type": "code",
      "execution_count": 5,
      "id": "85f92602",
      "metadata": {},
      "outputs": [],
      "source": [
        "values = []\n",
        "for i in range(1000):\n",
        "    values.append(i) "
      ]
    },
    {
      "cell_type": "markdown",
      "id": "95528ee6",
      "metadata": {},
      "source": [
        "The `append()` operation can be considered as two operations: **reallocation** and **assignment** of a value to an array element. For simplicity, we do not count assignment operations. Their number equals the number of elements added; this part of the optimization neither requires nor allows further improvement. ⏱️\n"
      ]
    },
    {
      "cell_type": "markdown",
      "metadata": {},
      "source": [
        "\n",
        "### <a id='toc1_6_4_'></a>[Complexity Analysis 📊](#toc0_)\n"
      ]
    },
    {
      "cell_type": "markdown",
      "id": "ead452ff",
      "metadata": {},
      "source": [
        "\n",
        "If the program were to perform a reallocation with every element addition, the overall algorithmic complexity would be quadratic. Now, let's reduce the number of reallocations. ⚙️\n",
        "\n",
        "First, to avoid allocating extra memory at every step, it's necessary to maintain a reserve of free space in the array. For example, if we decide to immediately increase the available space by 100 elements, the program will allocate memory 100 times less frequently. However, the program would still operate in **O(n²)**, though with a smaller constant for the quadratic term. 📊\n",
        "\n",
        "Now, we have two distinct sizes for the array: `size` **(number of elements)** and `capacity` **(allocated space)**, ensuring that `size ≤ capacity`. 📝\n",
        "\n",
        "Second, to achieve linear algorithmic complexity, increase the size not by a fixed number of elements (arithmetic progression), but by a fixed factor (geometric progression). 🚀\n",
        "\n",
        "Let the initial capacity be 1, and double it at each reallocation. Then, on the first reallocation, 1 element is copied; on the second, 2 elements; on the third, 4 elements; then 8, 16, 32, 64, 128, 256, and 512. After these steps, the array's capacity reaches 1024. 📈\n",
        "\n",
        "\n",
        "Let's calculate how many copying operations we will need to perform by the time we add the 1000th element. The total number of copies is:\n",
        "\n",
        "$$S = 1 + 2 + 4 + 8 + 16 + 32 + 64 + 128 + 256 + 512 = 1023$$\n",
        "\n",
        "In general, if you need to add $n$ elements (where $2^k < n ≤ 2^{k+1}$), the last copy will affect $2^k$ elements. Let's write the sum of such a geometric progression:\n",
        "\n",
        "$$S = \\sum_{i=0}^{k} 2^i = 2^{k+1} - 1 = 2 * 2^k - 1 ≤ 2n $$\n",
        "\n",
        "Thus, we have managed to ensure that the total number of copies during reallocation will be linearly dependent on the number of elements. 📈\n",
        "\n",
        "<div style=\"width: 90%; border: 2px solid #4CAF50; border-radius: 10px; padding: 20px; background-color: #f0f8ff; font-family: 'Courier New', Courier, monospace;\">\n",
        "  <p style=\"font-size: 16px; line-height: 1.6;\">\n",
        "Many algorithms use adding elements to an array as an auxiliary step. The quadratic complexity of performing this operation multiple times would make all these algorithms very inefficient. Therefore, the described reallocation algorithm when adding an element is already implemented in the dynamic arrays of most programming languages. 🚀\n",
        "  </p>\n",
        "</div>\n"
      ]
    },
    {
      "cell_type": "markdown",
      "metadata": {},
      "source": [
        "\n",
        "### <a id='toc1_6_5_'></a>[Question 1: Array Capacity Tripling](#toc0_)\n"
      ]
    },
    {
      "cell_type": "markdown",
      "id": "f16e5917",
      "metadata": {},
      "source": [
        "  \n",
        "  \n",
        ">  \n",
        "> **Question**: How will the number of copies change if the array capacity is tripled during reallocation?\n",
        "> \n",
        "> - The number of copying operations will remain the same.\n",
        "> - The number of copying operations will change but remain linearly dependent on the number of elements.\n",
        "> - The number of copying operations will become asymptotically less than linear.\n",
        "> - The number of copying operations will become asymptotically greater than linear.\n",
        ">\n",
        "\n",
        "This number of copying operations can be calculated by the formula of the sum of a geometric progression:\n",
        "\n",
        "$$ S = 1 + q + q^2 + ... + q^k = \\frac{q^{k+1} - 1}{q - 1} $$\n",
        "$$ S = \\frac{3^7 - 1}{3 - 1} = \\frac{3 * 3^6 - 1}{2} = \\frac{3 * 729 - 1}{2} = 1093 $$\n",
        "\n",
        "Thus, the number of copying operations will be linearly dependent on the number of elements (which is between $q^k$ and $3q{k+1}$) 📈\n",
        "\n",
        "\n",
        "The **correct answer** is: The number of copying operations **will remain linearly dependent** on the number of elements. The number of copying operations will be $3n - 1$, which is linearly dependent on the number of elements.\n"
      ]
    },
    {
      "cell_type": "markdown",
      "metadata": {},
      "source": [
        "\n",
        "### <a id='toc1_6_6_'></a>[Question 2: Reallocation Complexity](#toc0_)\n"
      ]
    },
    {
      "cell_type": "markdown",
      "id": "a5057530",
      "metadata": {},
      "source": [
        "\n",
        ">  \n",
        "> **Question**: What will be the complexity of adding an element to a dynamic array in the worst case?\n",
        "> \n",
        "> - $O(1)$\n",
        "> - $O(N)$\n",
        "> - $O(N^2)$\n",
        "> - $O(\\log N)$\n",
        ">\n",
        "\n",
        "The **correct answer** is: The complexity of adding an element to a dynamic array in the worst case is $O(N)$. This is because, on average, you will need to shift half of the elements. 📊\n"
      ]
    },
    {
      "cell_type": "markdown",
      "metadata": {},
      "source": [
        "\n",
        "### <a id='toc1_6_7_'></a>[Amortized Complexity 📊](#toc0_)\n"
      ]
    },
    {
      "cell_type": "markdown",
      "id": "da2b4cd0",
      "metadata": {},
      "source": [
        "\n",
        "> **[Gosha]:** It's a strange situation. The complexity of adding one element is $O(n)$. And the complexity of adding n elements at once is also O(n). How is that possible?\n",
        ">\n",
        "> **[Timothy]:** Yes, it looks unusual. But this happens because reallocation occurs rarely, and most additions work in $O(1)$.\n",
        ">\n",
        "> **[Gosha]:** Surely mathematicians have already figured out how to describe such a situation!\n",
        ">\n",
        "> **[Timothy]:** Of course. In computational complexity theory, there's a concept of **\"amortized complexity\"**. It's used when the complexity of an operation varies significantly from case to case, and therefore most often gives an overestimated evaluation.\n",
        ">\n",
        "> To evaluate the amortized complexity of inserting one element, you can calculate the time that will be spent on performing a large number of insert operations, and then divide it by the number of operations performed. In our case, $n$ element addition operations are performed in $O(n)$. Therefore, the amortized complexity will be $\\frac{O(n)}{n} = O(1)$."
      ]
    },
    {
      "cell_type": "markdown",
      "metadata": {},
      "source": [
        "## <a id='toc1_7_'></a>[Space Complexity Analysis](#toc0_)"
      ]
    },
    {
      "cell_type": "markdown",
      "id": "7922f372",
      "metadata": {},
      "source": [
        "When analyzing the **space complexity** of an algorithm, we focus on the amount of **memory** the algorithm requires relative to the input size. Unlike time complexity, which counts the number of operations, space complexity tells us how efficiently the algorithm uses memory. 📦\n",
        "\n",
        "> **Key Concepts:**\n",
        "> - **Total Space Complexity:** The sum of memory used by the input and any additional (auxiliary) space.\n",
        "> - **Auxiliary Space Complexity:** Only the extra space or temporary space used by an algorithm (i.e., excluding the space used by the input).\n",
        "> - **In-Place Algorithms:** Algorithms that operate with a constant amount of extra space, typically denoted as **$ O(1) $**."
      ]
    },
    {
      "cell_type": "markdown",
      "metadata": {},
      "source": [
        "### <a id='toc1_7_1_'></a>[Analyzing Space Complexity with Pseudocode and a Cost Table 📝](#toc0_)"
      ]
    },
    {
      "cell_type": "markdown",
      "id": "aa928d7c",
      "metadata": {},
      "source": [
        "Let’s start with the **Insertion Sort** algorithm, but now focus on its memory usage. Since Insertion Sort sorts the array *in-place*, its auxiliary space is constant. Consider the pseudocode:\n",
        "\n",
        "```yaml\n",
        "Insertion‐Sort(A):\n",
        "1  for j ← 2 to length[A]                    \n",
        "2      do key ← A[j]           // Uses constant space for key                            \n",
        "3      // (Comments omitted; no extra space)\n",
        "4      i ← j − 1               // Constant space for index i\n",
        "5      while i > 0 and A[i] > key            \n",
        "6          do A[i+1] ← A[i]    // Shifts elements; no new allocation needed                     \n",
        "7              i ← i − 1                         \n",
        "8      A[i+1] ← key           // Inserts key back into the array\n",
        "```\n",
        "\n",
        "Below is a summary of the **space usage** per line and overall:\n",
        "\n",
        "| Line | Code                           | Extra Space Used | Explanation                                             |\n",
        "|-----:|:-------------------------------|:----------------:|---------------------------------------------------------|\n",
        "| 1    | `for j ← 2 to length[A]`       | $ O(1) $       | Loop variable `j` uses constant space                   |\n",
        "| 2    | `key ← A[j]`                   | $ O(1) $       | One temporary variable `key`                           |\n",
        "| 4    | `i ← j - 1`                    | $ O(1) $       | One variable `i`                                       |\n",
        "| 5-7  | `while` loop shifting elements | $ O(1) $       | No additional arrays; operations occur in-place        |\n",
        "| 8    | `A[i+1] ← key`                 | $ O(1) $       | Insertion happens in the original array                |\n",
        "\n",
        "**Overall Space Complexity:**  \n",
        "Since no additional data structures proportional to the input size are used, the **auxiliary space complexity** is **$ O(1) $**."
      ]
    },
    {
      "cell_type": "markdown",
      "metadata": {},
      "source": [
        "### <a id='toc1_7_2_'></a>[How the Insertion Sort Algorithm Manages Memory 🛠️](#toc0_)"
      ]
    },
    {
      "cell_type": "markdown",
      "id": "77d69ff7",
      "metadata": {},
      "source": [
        "1. **In-Place Operations (Lines 1–8):**  \n",
        "   - The algorithm uses only a few variables (`j`, `key`, and `i`), regardless of the array size.\n",
        "   - **Memory Footprint:** Constant extra memory $ O(1) $.\n",
        "\n",
        "2. **No Additional Data Structures:**  \n",
        "   - Unlike some algorithms that create new arrays or lists, Insertion Sort rearranges elements in the original array.\n",
        "   - **Benefit:** Lower space overhead makes it ideal for environments with limited memory.\n",
        "\n",
        "3. **Best, Worst, and Average Cases:**  \n",
        "   - **Note:** For space complexity, these scenarios typically **do not affect** the analysis because the extra space remains constant regardless of input order."
      ]
    },
    {
      "cell_type": "markdown",
      "metadata": {},
      "source": [
        "### <a id='toc1_7_3_'></a>[Examples of Asymptotic Space Complexity 📊](#toc0_)"
      ]
    },
    {
      "cell_type": "markdown",
      "id": "17d8e3ee",
      "metadata": {},
      "source": [
        "Here are several examples to illustrate how space complexity is determined using **Big O notation**:"
      ]
    },
    {
      "cell_type": "markdown",
      "metadata": {},
      "source": [
        "#### <a id='toc1_7_3_1_'></a>[Example 1: Constant Space $ O(1) $ 🚶](#toc0_)"
      ]
    },
    {
      "cell_type": "markdown",
      "id": "50b25d33",
      "metadata": {},
      "source": [
        "**Pseudocode:**\n",
        "\n",
        "```yaml\n",
        "function linearTraversal(array):\n",
        "    total = 0\n",
        "    for i from 0 to array.length - 1:\n",
        "        total += array[i]\n",
        "    return total\n",
        "```\n",
        "\n",
        "- **Analysis:**  \n",
        "  - Uses only a few variables (`total` and `i`).\n",
        "  - **Extra Space:** $ O(1) $ (the input array is not counted in auxiliary space)."
      ]
    },
    {
      "cell_type": "markdown",
      "metadata": {},
      "source": [
        "#### <a id='toc1_7_3_2_'></a>[Example 2: Linear Space $ O(n) $ 📈](#toc0_)"
      ]
    },
    {
      "cell_type": "markdown",
      "id": "3c6eb717",
      "metadata": {},
      "source": [
        "**Pseudocode:**\n",
        "\n",
        "```yaml\n",
        "function copyArray(array):\n",
        "    newArray = []         ## Create a new array\n",
        "    for element in array:\n",
        "        newArray.append(element)\n",
        "    return newArray\n",
        "```\n",
        "\n",
        "- **Analysis:**  \n",
        "  - A new array of size **n** is created.\n",
        "  - **Extra Space:** $ O(n) $."
      ]
    },
    {
      "cell_type": "markdown",
      "metadata": {},
      "source": [
        "#### <a id='toc1_7_3_3_'></a>[Example 3: Logarithmic Space $ O(\\log n) $ 🔄](#toc0_)"
      ]
    },
    {
      "cell_type": "markdown",
      "id": "abf0d0bb",
      "metadata": {},
      "source": [
        "**Example:**  \n",
        "Consider **recursive algorithms** that reduce the problem size by half each time.  \n",
        "For example, a binary search (recursive version) uses the call stack for recursion:\n",
        "\n",
        "```yaml\n",
        "function recursiveBinarySearch(array, target, low, high):\n",
        "    if low > high:\n",
        "        return -1\n",
        "    mid = (low + high) // 2\n",
        "    if array[mid] == target:\n",
        "        return mid\n",
        "    elif array[mid] < target:\n",
        "        return recursiveBinarySearch(array, target, mid + 1, high)\n",
        "    else:\n",
        "        return recursiveBinarySearch(array, target, low, mid - 1)\n",
        "```\n",
        "\n",
        "- **Analysis:**  \n",
        "  - The maximum recursion depth is $ O(\\log n) $ because the array is halved each time.\n",
        "  - **Extra Space (Call Stack):** $ O(\\log n) $."
      ]
    },
    {
      "cell_type": "markdown",
      "metadata": {},
      "source": [
        "#### <a id='toc1_7_3_4_'></a>[Example 4: Exponential Space $ O(2^n) $ 🌟](#toc0_)"
      ]
    },
    {
      "cell_type": "markdown",
      "id": "1801c411",
      "metadata": {},
      "source": [
        "**Pseudocode:**\n",
        "\n",
        "```yaml\n",
        "function generateSubsets(list):\n",
        "    if list is empty:\n",
        "        return [[]]  ## List containing the empty subset\n",
        "    first = list[0]\n",
        "    restSubsets = generateSubsets(list[1:])\n",
        "    newSubsets = []\n",
        "    for subset in restSubsets:\n",
        "        newSubsets.append(subset + [first])\n",
        "    return restSubsets + newSubsets\n",
        "```\n",
        "\n",
        "- **Analysis:**  \n",
        "  - Generates **all subsets** of a list.\n",
        "  - **Extra Space:** $ O(2^n) $ (since there are $ 2^n $ subsets to store)."
      ]
    },
    {
      "cell_type": "markdown",
      "metadata": {},
      "source": [
        "### <a id='toc1_7_4_'></a>[Combined Space Complexity 🔄](#toc0_)"
      ]
    },
    {
      "cell_type": "markdown",
      "id": "718b61bf",
      "metadata": {},
      "source": [
        "When combining space requirements, we often need to consider:\n",
        "\n",
        "- **Sequential Operations:**  \n",
        "  The overall extra space is determined by the **maximum** space required at any point (not the sum).  \n",
        "  **Example:**  \n",
        "  If a function first allocates $ O(n) $ space and then $ O(1) $ space, the overall auxiliary space is $ O(n) $.\n",
        "\n",
        "- **Nested Operations (Recursion):**  \n",
        "  The total extra space may include the space needed for the recursion call stack.  \n",
        "  **Example:**  \n",
        "  A recursive algorithm that uses $ O(1) $ extra space per call but has a depth of $ O(n) $ uses $ O(n) $ auxiliary space in total."
      ]
    },
    {
      "cell_type": "markdown",
      "metadata": {},
      "source": [
        "#### <a id='toc1_7_4_1_'></a>[Combined Example: Reading Input and Processing Data 📥🔄](#toc0_)"
      ]
    },
    {
      "cell_type": "markdown",
      "id": "e4f73e3a",
      "metadata": {},
      "source": [
        "Consider the following C++ function:\n",
        "\n",
        "```cpp\n",
        "void ReadAndProcess(int n) {\n",
        "    vector<int> v(n); // Input array (not counted in auxiliary space)\n",
        "    \n",
        "    // 1) Reading input\n",
        "    for (int i = 0; i < n; ++i) {\n",
        "        cin >> v[i];\n",
        "    }\n",
        "    \n",
        "    // 2) Processing data (e.g., finding min and max)\n",
        "    int minVal = v[0];\n",
        "    int maxVal = v[0];\n",
        "    for (int i = 1; i < v.size(); ++i) {\n",
        "        if (v[i] < minVal) {\n",
        "            minVal = v[i];\n",
        "        }\n",
        "        if (v[i] > maxVal) {\n",
        "            maxVal = v[i];\n",
        "        }\n",
        "    }\n",
        "    \n",
        "    cout << \"Min: \" << minVal << \" Max: \" << maxVal << \"\\n\";\n",
        "}\n",
        "```"
      ]
    },
    {
      "cell_type": "markdown",
      "metadata": {},
      "source": [
        "#### <a id='toc1_7_4_2_'></a>[Analysis:](#toc0_)"
      ]
    },
    {
      "cell_type": "markdown",
      "id": "04a7fb5c",
      "metadata": {},
      "source": [
        "1. **Input Array:**  \n",
        "   - The array `v` uses $ O(n) $ space, but this is considered **input space**.\n",
        "2. **Auxiliary Variables:**  \n",
        "   - Only a few extra variables (`i`, `minVal`, `maxVal`) are used, which is $ O(1) $ extra space.\n",
        "3. **Overall Auxiliary Space:**  \n",
        "   - **$ O(1) $**, because the extra memory needed does not grow with **n**."
      ]
    },
    {
      "cell_type": "markdown",
      "metadata": {},
      "source": [
        "### <a id='toc1_7_5_'></a>[Summary of Key Space Complexity Concepts 📚](#toc0_)"
      ]
    },
    {
      "cell_type": "markdown",
      "id": "2f0a8eaf",
      "metadata": {},
      "source": [
        "- **Auxiliary vs. Total Space:**\n",
        "  - **Auxiliary Space:** Only the extra space used by the algorithm (e.g., temporary variables, recursion stack).\n",
        "  - **Total Space:** Includes both the input and the auxiliary space.\n",
        "\n",
        "- **In-Place Algorithms:**\n",
        "  - Algorithms like Insertion Sort use **$ O(1) $** extra space because they modify the input directly.\n",
        "\n",
        "- **Recursive Algorithms:**\n",
        "  - Often incur extra space on the call stack, with complexity depending on the recursion depth (e.g., $ O(\\log n) $ for binary search, $ O(n) $ for worst-case recursion).\n",
        "\n",
        "- **Combining Space Complexities:**\n",
        "  - For sequential operations, the overall extra space is the maximum of the spaces used, not the sum.\n",
        "  - For nested or recursive operations, consider the cumulative effect (e.g., recursion depth)."
      ]
    },
    {
      "cell_type": "markdown",
      "metadata": {},
      "source": [
        "## <a id='toc1_8_'></a>[Test Your Knowledge: Space Complexity Exercises](#toc0_)"
      ]
    },
    {
      "cell_type": "markdown",
      "id": "da951589",
      "metadata": {},
      "source": [
        "Below are several exercises with their explanations and answers. Answer each question to test your understanding of complexity analysis. 🧠\n",
        "\n",
        "You can find solutions [here](../solutions/day_03_solutions.md). 📚"
      ]
    },
    {
      "cell_type": "markdown",
      "metadata": {},
      "source": [
        "### <a id='toc1_8_1_'></a>[Exercise 1: In-Place Reversal Space Complexity 📊](#toc0_)"
      ]
    },
    {
      "cell_type": "markdown",
      "id": "29507fd0",
      "metadata": {},
      "source": [
        "> **Question:**  \n",
        "> Evaluate the space complexity of the following function that reverses an array *in-place*.\n",
        "\n",
        "> ```cpp\n",
        "> // C++\n",
        "> void reverseArray(vector<int>& arr) {\n",
        ">     int left = 0, right = arr.size() - 1;\n",
        ">     while (left < right) {\n",
        ">         swap(arr[left], arr[right]);\n",
        ">         ++left;\n",
        ">         --right;\n",
        ">     }\n",
        "> }\n",
        "> ```\n",
        "\n",
        "> ```python\n",
        "> # Python\n",
        "> def reverse_array(arr):\n",
        ">     left, right = 0, len(arr) - 1\n",
        ">     while left < right:\n",
        ">         arr[left], arr[right] = arr[right], arr[left]\n",
        ">         left += 1\n",
        ">         right -= 1\n",
        "> ```\n",
        "\n",
        "> **Answer Options:**\n",
        "> \n",
        "> 1. $O(1)$  \n",
        "> 2. $O(n)$  \n",
        "> 3. $O(n^2)$  \n",
        "> 4. $O(\\log n)$"
      ]
    },
    {
      "cell_type": "markdown",
      "metadata": {},
      "source": [
        "### <a id='toc1_8_2_'></a>[Exercise 2: Recursive Fibonacci Space Complexity 📊](#toc0_)"
      ]
    },
    {
      "cell_type": "markdown",
      "id": "4e68e19c",
      "metadata": {},
      "source": [
        "> **Question:**  \n",
        "> Evaluate the space complexity of the following recursive Fibonacci function, considering the call stack space.\n",
        "> $$\n",
        "> \\text{fib}(n) =\n",
        "> \\begin{cases}\n",
        "> n, & \\text{if } n \\leq 1 \\\\\n",
        "> \\text{fib}(n - 1) + \\text{fib}(n - 2), & \\text{otherwise}\n",
        "> \\end{cases}\n",
        "> $$\n",
        "\n",
        "> ```cpp\n",
        "> // C++\n",
        "> int fib(int n) {\n",
        ">     if (n <= 1) return n;\n",
        ">     return fib(n - 1) + fib(n - 2);\n",
        "> }\n",
        "> ```\n",
        "\n",
        "> ```python\n",
        "> # Python\n",
        "> def fib(n):\n",
        ">     if n <= 1:\n",
        ">         return n\n",
        ">     return fib(n - 1) + fib(n - 2)\n",
        "> ```\n",
        "\n",
        "> **Answer Options:**\n",
        "> \n",
        "> 1. $O(1)$  \n",
        "> 2. $O(n)$  \n",
        "> 3. $O(2^n)$  \n",
        "> 4. $O(\\log n)$"
      ]
    },
    {
      "cell_type": "markdown",
      "metadata": {},
      "source": [
        "### <a id='toc1_8_3_'></a>[Exercise 3: Copying an Array Space Complexity 📊](#toc0_)"
      ]
    },
    {
      "cell_type": "markdown",
      "id": "4af59d71",
      "metadata": {},
      "source": [
        "> **Question:**  \n",
        "> Evaluate the space complexity of the following function that creates a copy of an array.\n",
        "\n",
        "> ```cpp\n",
        "> // C++\n",
        "> vector<int> copyArray(const vector<int>& arr) {\n",
        ">     vector<int> newArr(arr.size());\n",
        ">     for (size_t i = 0; i < arr.size(); ++i) {\n",
        ">         newArr[i] = arr[i];\n",
        ">     }\n",
        ">     return newArr;\n",
        "> }\n",
        "> ```\n",
        "\n",
        "> ```python\n",
        "> # Python\n",
        "> def copy_array(arr):\n",
        ">     new_arr = arr.copy()\n",
        ">     return new_arr\n",
        "> ```\n",
        "\n",
        "> **Answer Options:**\n",
        "> \n",
        "> 1. $O(1)$  \n",
        "> 2. $O(\\log n)$  \n",
        "> 3. $O(n)$  \n",
        "> 4. $O(n^2)$"
      ]
    },
    {
      "cell_type": "markdown",
      "metadata": {},
      "source": [
        "### <a id='toc1_8_4_'></a>[Exercise 4: Merge Sort Space Complexity 📊](#toc0_)"
      ]
    },
    {
      "cell_type": "markdown",
      "id": "9b0168c4",
      "metadata": {},
      "source": [
        "> **Question:**  \n",
        "> Evaluate the auxiliary space complexity of the merge sort algorithm's merge step.\n",
        "\n",
        "> ```cpp\n",
        "> // C++\n",
        "> void merge(vector<int>& arr, int left, int mid, int right) {\n",
        ">     vector<int> temp(right - left + 1);\n",
        ">     int i = left, j = mid + 1, k = 0;\n",
        ">     while (i <= mid && j <= right) {\n",
        ">         if (arr[i] <= arr[j])\n",
        ">             temp[k++] = arr[i++];\n",
        ">         else\n",
        ">             temp[k++] = arr[j++];\n",
        ">     }\n",
        ">     while (i <= mid) temp[k++] = arr[i++];\n",
        ">     while (j <= right) temp[k++] = arr[j++];\n",
        ">     for (int p = 0; p < temp.size(); ++p)\n",
        ">         arr[left + p] = temp[p];\n",
        "> }\n",
        "> ```\n",
        "\n",
        "> ```python\n",
        "> # Python\n",
        "> def merge(arr, left, mid, right):\n",
        ">     temp = []\n",
        ">     i, j = left, mid + 1\n",
        ">     while i <= mid and j <= right:\n",
        ">         if arr[i] <= arr[j]:\n",
        ">             temp.append(arr[i])\n",
        ">             i += 1\n",
        ">         else:\n",
        ">             temp.append(arr[j])\n",
        ">             j += 1\n",
        ">     while i <= mid:\n",
        ">         temp.append(arr[i])\n",
        ">         i += 1\n",
        ">     while j <= right:\n",
        ">         temp.append(arr[j])\n",
        ">         j += 1\n",
        ">     arr[left:right+1] = temp\n",
        "> ```\n",
        "\n",
        "> **Answer Options:**\n",
        "> \n",
        "> 1. $O(1)$  \n",
        "> 2. $O(\\log n)$  \n",
        "> 3. $O(n)$  \n",
        "> 4. $O(n \\log n)$"
      ]
    },
    {
      "cell_type": "markdown",
      "metadata": {},
      "source": [
        "### <a id='toc1_8_5_'></a>[Exercise 5: In-Place Heapify Space Complexity 📊](#toc0_)"
      ]
    },
    {
      "cell_type": "markdown",
      "id": "6eb9a9de",
      "metadata": {},
      "source": [
        "> **Question:**  \n",
        "> Evaluate the space complexity of the following heapify function used in heap sort.\n",
        "\n",
        "> ```cpp\n",
        "> // C++\n",
        "> void heapify(vector<int>& arr, int n, int i) {\n",
        ">     int largest = i;\n",
        ">     int left = 2 * i + 1;\n",
        ">     int right = 2 * i + 2;\n",
        ">     if (left < n && arr[left] > arr[largest])\n",
        ">         largest = left;\n",
        ">     if (right < n && arr[right] > arr[largest])\n",
        ">         largest = right;\n",
        ">     if (largest != i) {\n",
        ">         swap(arr[i], arr[largest]);\n",
        ">         heapify(arr, n, largest);\n",
        ">     }\n",
        "> }\n",
        "> ```\n",
        "\n",
        "> ```python\n",
        "> # Python\n",
        "> def heapify(arr, n, i):\n",
        ">     largest = i\n",
        ">     left = 2 * i + 1\n",
        ">     right = 2 * i + 2\n",
        ">     if left < n and arr[left] > arr[largest]:\n",
        ">         largest = left\n",
        ">     if right < n and arr[right] > arr[largest]:\n",
        ">         largest = right\n",
        ">     if largest != i:\n",
        ">         arr[i], arr[largest] = arr[largest], arr[i]\n",
        ">         heapify(arr, n, largest)\n",
        "> ```\n",
        "\n",
        "> **Answer Options:**\n",
        "> \n",
        "> 1. $O(1)$  \n",
        "> 2. $O(n)$  \n",
        "> 3. $O(\\log n)$  \n",
        "> 4. $O(n \\log n)$"
      ]
    },
    {
      "cell_type": "markdown",
      "metadata": {},
      "source": [
        "### <a id='toc1_8_6_'></a>[Exercise 6: Frequency Count Using Hash Map Space Complexity 📊](#toc0_)"
      ]
    },
    {
      "cell_type": "markdown",
      "id": "b9ff65b5",
      "metadata": {},
      "source": [
        "> **Question:**  \n",
        "> Evaluate the auxiliary space complexity of the following function that counts the frequency of each element in an array.\n",
        "\n",
        "> ```cpp\n",
        "> // C++\n",
        "> unordered_map<int, int> frequencyCount(const vector<int>& arr) {\n",
        ">     unordered_map<int, int> freq;\n",
        ">     for (int num : arr) {\n",
        ">         freq[num]++;\n",
        ">     }\n",
        ">     return freq;\n",
        "> }\n",
        "> ```\n",
        "\n",
        "> ```python\n",
        "> # Python\n",
        "> from collections import Counter\n",
        "> def frequency_count(arr):\n",
        ">     return Counter(arr)\n",
        "> ```\n",
        "\n",
        "> **Answer Options:**\n",
        "> \n",
        "> 1. $O(1)$  \n",
        "> 2. $O(n)$  \n",
        "> 3. $O(n^2)$  \n",
        "> 4. $O(\\log n)$"
      ]
    },
    {
      "cell_type": "markdown",
      "metadata": {},
      "source": [
        "### <a id='toc1_8_7_'></a>[Exercise 7: Generating All Subsets Space Complexity 📊](#toc0_)"
      ]
    },
    {
      "cell_type": "markdown",
      "id": "5da2b2d3",
      "metadata": {},
      "source": [
        "> **Question:**  \n",
        "> Evaluate the space complexity of the following function that generates all subsets of an array of size $n$.\n",
        "\n",
        "> ```cpp\n",
        "> // C++\n",
        "> vector<vector<int>> generateSubsets(vector<int>& nums) {\n",
        ">     int n = nums.size();\n",
        ">     vector<vector<int>> subsets;\n",
        ">     int total = 1 << n; // 2^n subsets\n",
        ">     for (int mask = 0; mask < total; ++mask) {\n",
        ">         vector<int> subset;\n",
        ">         for (int i = 0; i < n; ++i) {\n",
        ">             if (mask & (1 << i))\n",
        ">                 subset.push_back(nums[i]);\n",
        ">         }\n",
        ">         subsets.push_back(subset);\n",
        ">     }\n",
        ">     return subsets;\n",
        "> }\n",
        "> ```\n",
        "\n",
        "> ```python\n",
        "> # Python\n",
        "> def generate_subsets(nums):\n",
        ">     n = len(nums)\n",
        ">     subsets = []\n",
        ">     total = 1 << n  # 2^n subsets\n",
        ">     for mask in range(total):\n",
        ">         subset = [nums[i] for i in range(n) if mask & (1 << i)]\n",
        ">         subsets.append(subset)\n",
        ">     return subsets\n",
        "> ```\n",
        "\n",
        "> **Answer Options:**\n",
        "> \n",
        "> 1. $O(n)$  \n",
        "> 2. $O(2^n)$  \n",
        "> 3. $O(n \\cdot 2^n)$  \n",
        "> 4. $O(2^{2n})$"
      ]
    },
    {
      "cell_type": "markdown",
      "metadata": {},
      "source": [
        "### <a id='toc1_8_8_'></a>[Exercise 8: Depth-First Search (DFS) Space Complexity 📊](#toc0_)"
      ]
    },
    {
      "cell_type": "markdown",
      "id": "ebf2eac6",
      "metadata": {},
      "source": [
        "> **Question:**  \n",
        "> Evaluate the auxiliary space complexity of the following DFS function that explores a graph recursively.\n",
        "\n",
        "> ```cpp\n",
        "> // C++\n",
        "> void dfs(int node, const vector<vector<int>>& adj, vector<bool>& visited) {\n",
        ">     visited[node] = true;\n",
        ">     for (int neighbor : adj[node]) {\n",
        ">         if (!visited[neighbor]) {\n",
        ">             dfs(neighbor, adj, visited);\n",
        ">         }\n",
        ">     }\n",
        "> }\n",
        "> ```\n",
        "\n",
        "> ```python\n",
        "> # Python\n",
        "> def dfs(node, adj, visited):\n",
        ">     visited[node] = True\n",
        ">     for neighbor in adj[node]:\n",
        ">         if not visited[neighbor]:\n",
        ">             dfs(neighbor, adj, visited)\n",
        "> ```\n",
        "\n",
        "> **Answer Options:**\n",
        "> \n",
        "> 1. $O(1)$  \n",
        "> 2. $O(n)$  \n",
        "> 3. $O(n^2)$  \n",
        "> 4. $O(\\log n)$"
      ]
    },
    {
      "cell_type": "markdown",
      "metadata": {},
      "source": [
        "### <a id='toc1_8_9_'></a>[Exercise 9: In-Place QuickSort Space Complexity 📊](#toc0_)"
      ]
    },
    {
      "cell_type": "markdown",
      "id": "81f6332a",
      "metadata": {},
      "source": [
        "> **Question:**  \n",
        "> Evaluate the auxiliary space complexity of the in-place QuickSort algorithm, considering the recursion stack usage.\n",
        "\n",
        "> ```cpp\n",
        "> // C++\n",
        "> void quickSort(vector<int>& arr, int left, int right) {\n",
        ">     if (left < right) {\n",
        ">         int pivot = partition(arr, left, right);\n",
        ">         quickSort(arr, left, pivot - 1);\n",
        ">         quickSort(arr, pivot + 1, right);\n",
        ">     }\n",
        "> }\n",
        "> ```\n",
        "\n",
        "> ```python\n",
        "> # Python\n",
        "> def quick_sort(arr, left, right):\n",
        ">     if left < right:\n",
        ">         pivot = partition(arr, left, right)\n",
        ">         quick_sort(arr, left, pivot - 1)\n",
        ">         quick_sort(arr, pivot + 1, right)\n",
        "> ```\n",
        "\n",
        "> **Answer Options:**\n",
        "> \n",
        "> 1. $O(1)$  \n",
        "> 2. $O(\\log n)$  \n",
        "> 3. $O(n)$  \n",
        "> 4. $O(n \\log n)$"
      ]
    },
    {
      "cell_type": "markdown",
      "metadata": {},
      "source": [
        "### <a id='toc1_8_10_'></a>[Exercise 10: Linked List Merge Sort Space Complexity 📊](#toc0_)"
      ]
    },
    {
      "cell_type": "markdown",
      "id": "dd03abe5",
      "metadata": {},
      "source": [
        "> **Question:**  \n",
        "> Evaluate the auxiliary space complexity of merge sorting a linked list using a recursive approach.\n",
        "\n",
        "> ```cpp\n",
        "> // C++\n",
        "> ListNode* mergeSort(ListNode* head) {\n",
        ">     if (!head || !head->next)\n",
        ">         return head;\n",
        ">     ListNode* mid = getMiddle(head);\n",
        ">     ListNode* left = mergeSort(head);\n",
        ">     ListNode* right = mergeSort(mid);\n",
        ">     return merge(left, right);\n",
        "> }\n",
        "> ```\n",
        "\n",
        "> ```python\n",
        "> # Python\n",
        "> def merge_sort(head):\n",
        ">     if not head or not head.next:\n",
        ">         return head\n",
        ">     mid = get_middle(head)\n",
        ">     left = merge_sort(head)\n",
        ">     right = merge_sort(mid)\n",
        ">     return merge(left, right)\n",
        "> ```\n",
        "\n",
        "> **Answer Options:**\n",
        "> \n",
        "> 1. $O(1)$  \n",
        "> 2. $O(\\log n)$  \n",
        "> 3. $O(n)$  \n",
        "> 4. $O(n \\log n)$"
      ]
    },
    {
      "cell_type": "markdown",
      "metadata": {},
      "source": [
        "## <a id='toc1_9_'></a>[Reflection Questions](#toc0_)\n"
      ]
    },
    {
      "cell_type": "markdown",
      "id": "5b955936",
      "metadata": {},
      "source": [
        "- What is the difference between fixed-size arrays and dynamic arrays? 🧠\n",
        "- How does the space complexity of dynamic arrays compare to fixed-size arrays? 🤓\n",
        "- What are the implications of using dynamic arrays in terms of space efficiency? 🌟\n",
        "- How can you analyze the space complexity of an algorithm that uses dynamic arrays? 🔍\n",
        "- What are the key factors that influence the space complexity of an algorithm? 🤔\n",
        "- How can you optimize the space complexity of an algorithm? 🚀"
      ]
    },
    {
      "cell_type": "markdown",
      "metadata": {},
      "source": [
        "## <a id='toc1_10_'></a>[Additional Resources](#toc0_)"
      ]
    },
    {
      "cell_type": "markdown",
      "id": "0410e0cf",
      "metadata": {},
      "source": [
        "- [Introduction to Algorithms (CLRS)](https://mitpress.mit.edu/books/introduction-to-algorithms) 📘\n",
        "- [MIT OpenCourseWare - Introduction to Algorithms](https://ocw.mit.edu/courses/electrical-engineering-and-computer-science/6-006-introduction-to-algorithms-fall-2011/) 🎓\n",
        "- [GeeksforGeeks - Analysis of Algorithms](https://www.geeksforgeeks.org/analysis-of-algorithms-set-1-asymptotic-analysis/) 💻\n",
        "- [Python `timeit` Documentation](https://docs.python.org/3/library/timeit.html) 📄\n",
        "- [Understanding Spatial Complexity](https://www.geeksforgeeks.org/spatial-complexity-of-algorithms/) 🌟\n",
        "- [cProfile and Profiling Techniques](https://docs.python.org/3/library/profile.html) 🔍"
      ]
    }
  ],
  "metadata": {
    "kernelspec": {
      "display_name": "Python 3",
      "name": "python3"
    },
    "language_info": {
      "codemirror_mode": {
        "name": "ipython",
        "version": 3
      },
      "file_extension": ".py",
      "mimetype": "text/x-python",
      "name": "python",
      "nbconvert_exporter": "python",
      "pygments_lexer": "ipython3",
      "version": "3.13.0"
    }
  },
  "nbformat": 4,
  "nbformat_minor": 5
}
