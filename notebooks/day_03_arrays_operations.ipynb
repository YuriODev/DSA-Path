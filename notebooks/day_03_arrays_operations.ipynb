{
  "cells": [
    {
      "cell_type": "markdown",
      "id": "title",
      "metadata": {},
      "source": [
        "# Day 3: Arrays and Their Operations 📚"
      ]
    },
    {
      "cell_type": "markdown",
      "id": "toc-header",
      "metadata": {},
      "source": [
        "## Table of Contents 📖"
      ]
    },
    {
      "cell_type": "markdown",
      "id": "toc-list",
      "metadata": {},
      "source": [
        "- [Objectives](#objectives)\n",
        "..."
      ]
    },
    {
      "cell_type": "markdown",
      "id": "objectives-header",
      "metadata": {},
      "source": [
        "## Objectives"
      ]
    },
    {
      "cell_type": "markdown",
      "id": "objectives-list",
      "metadata": {},
      "source": [
        "- To be continue..."
      ]
    },
    {
      "cell_type": "markdown",
      "id": "90e1cc2c",
      "metadata": {},
      "source": [
        "## RAM and Data Representation 💻\n"
      ]
    },
    {
      "cell_type": "markdown",
      "id": "146e7557",
      "metadata": {},
      "source": [
        "\n",
        "Program efficiency can be assessed by how it consumes different types of computer resources. The main ones are **processor time** and **RAM**. There’s also network bandwidth, disk performance, and other limited resources. ⚙️\n",
        "\n",
        "In the first sprint, we discussed how an algorithm uses processor time. Now, we turn our attention to **memory consumption**—the **spatial complexity** of an algorithm. 📊\n"
      ]
    },
    {
      "cell_type": "markdown",
      "id": "20f75706",
      "metadata": {},
      "source": [
        "### 1. How RAM Works 💽"
      ]
    },
    {
      "cell_type": "markdown",
      "id": "f3dfd192",
      "metadata": {},
      "source": [
        "\n",
        "**RAM (or memory)** is a kind of “scratchpad” that programs use for computations. Data can be written, overwritten, and read from it. 💡\n",
        "\n",
        "Modern computers have just a few gigabytes of **RAM**, and data vanishes as soon as the program terminates. Therefore, this memory is unsuitable for long-term storage, but it operates hundreds of times faster than an **SSD** and thousands of times faster than a standard hard drive. ⚡\n",
        "\n",
        "**RAM** is divided into cells of 1 byte each. Each cell has an ordinal number, called an **address** (individual bits within a cell do not have addresses). The processor interacts directly with **RAM** using these addresses to access data, similar to how a program accesses variables by name. 🔍\n",
        "\n",
        "To understand how much memory a program consumes, one must determine the size of individual objects. Although this size can vary between programming languages, the basic principles are common. First, let’s examine how memory is used in **C++**, as it allows for highly efficient, flexible, and predictable memory management. 👍\n",
        "\n"
      ]
    },
    {
      "cell_type": "markdown",
      "id": "f123ad86",
      "metadata": {},
      "source": [
        "### 2. Representation of Basic Data Types in Memory 🔠"
      ]
    },
    {
      "cell_type": "markdown",
      "id": "f7df9ba1",
      "metadata": {},
      "source": [
        "What can be stored in one memory cell? As mentioned, the smallest cell is **1 byte** (8 bits). Each bit can be either 0 or 1. Eight bits allow encoding of 2⁸ = 256 possible values. Thus, one cell can, for example, store an integer from 0 to 255.\n",
        "\n",
        "If these numbers are interpreted as character codes, then **1 byte** represents 1 character (of type `char`): all Latin and Cyrillic letters, digits, and basic symbols can be encoded within these 256 possibilities."
      ]
    },
    {
      "cell_type": "markdown",
      "id": "1d6c05d6",
      "metadata": {},
      "source": [
        "<div style=\"width: 90%; border: 2px solid #4CAF50; border-radius: 10px; padding: 20px; background-color: #f0f8ff; font-family: 'Courier New', Courier, monospace;\">\n",
        "  <p style=\"font-size: 16px; line-height: 1.6;\">\n",
        "    Encoding tables map each bit combination to a specific character. All modern encodings are based on <u>the ASCII table</u>, which consists of 128 characters corresponding to values 0 to 127. Many encodings also provide mappings for the range 128 to 255, typically including characters from national alphabets such as Cyrillic. 🔠\n",
        "  </p>\n",
        "  <p style=\"font-size: 16px; line-height: 1.6;\">\n",
        "More complex encodings use two bytes or even a variable number of bytes to encode various alphabets, ideograms, emojis, and many other symbols.\n",
        "  </p>\n",
        "</div>"
      ]
    },
    {
      "cell_type": "markdown",
      "id": "e4d7a69c",
      "metadata": {},
      "source": [
        "\n",
        "\n",
        "The most common integer type, **int**, occupies **4 bytes** and can represent numbers from –2,147,483,648 to 2,147,483,647. In 4 bytes (32 bits), 1 bit is used for the sign, leaving 31 bits to represent 2³¹ = 2,147,483,648 different values. Since zero is also represented, there is one fewer positive number compared to negative. If your numbers do not exceed two billion in absolute value, this type is sufficient. Note that there are roughly four billion different numbers, but half are negative. When a variable is guaranteed to be non-negative, the **unsigned int** type is preferable, storing values from 0 to 4,294,967,295. 🔢\n",
        "\n"
      ]
    },
    {
      "cell_type": "markdown",
      "id": "0ee5161f",
      "metadata": {},
      "source": [
        "<div style=\"width: 90%; border: 2px solid #4CAF50; border-radius: 10px; padding: 20px; background-color: #f0f8ff; font-family: 'Courier New', Courier, monospace;\">\n",
        "    <p style=\"font-size: 16px; line-height: 1.6;\">\n",
        "        Caution: If an operation results in a number outside the allowable range, <strong>overflow</strong> occurs and the result may be incorrect. For example, for the <code>int</code> type:\n",
        "        <br>\n",
        "        <span style=\"display:inline-block; margin-left: 2em;\">2147483647 + 1 = −2147483648</span>  \n",
        "        <br>\n",
        "        <span style=\"display:inline-block; margin-left: 2em;\">2147483647 × 3 = 2147483645</span>  \n",
        "        <br>\n",
        "        This issue does not occur in languages with arbitrary-length integers, such as Python. ⚠️\n",
        "    </p>\n",
        "</div>"
      ]
    },
    {
      "cell_type": "markdown",
      "id": "aaee0f21",
      "metadata": {},
      "source": [
        "### 3. Floating-Point Numbers 🔢"
      ]
    },
    {
      "cell_type": "markdown",
      "id": "09aa4c82",
      "metadata": {},
      "source": [
        "\n",
        "Floating-point (i.e., fractional) numbers are usually represented using the **double** type, which occupies **8 bytes**. They can represent both very large numbers (e.g., ±10³⁰⁸) and numbers close to zero (e.g., ±10⁻³⁰⁸).\n",
        "\n",
        "Calculations with floating-point numbers are often imprecise and can accumulate errors, leading to unexpected behavior. For example, because numbers are stored in binary rather than decimal, **0.1 × 3 ≠ 0.3**. Therefore, comparisons involving floating-point values must account for a margin of error, such as using:  \n",
        "  `abs(0.1 * 3 - 0.3) < EPS`  \n",
        "where `EPS` is the acceptable error tolerance.\n",
        "\n",
        "Using floating-point values as loop counters can also affect iteration counts due to accumulated imprecision; in such cases, integers are preferred. 🔢\n"
      ]
    },
    {
      "cell_type": "markdown",
      "id": "4ab08482",
      "metadata": {},
      "source": [
        "### 4. Memory Addressing 📍"
      ]
    },
    {
      "cell_type": "markdown",
      "id": "a3d6c290",
      "metadata": {},
      "source": [
        "\n",
        "Sometimes a program needs to store an **address**—the location of data in RAM. A few years ago, addressing used 4 bytes (32 bits), which can address 2³² bytes (4 GB). However, as computer capacities and program demands have grown, 4 GB has become insufficient. Programmers now use **8-byte addressing**, which should be adequate for a long time. 📍\n",
        "\n",
        "\n"
      ]
    },
    {
      "cell_type": "markdown",
      "id": "602bb5a5",
      "metadata": {},
      "source": [
        "### 5. Composite Data Types 📊"
      ]
    },
    {
      "cell_type": "markdown",
      "id": "ae9ce3dd",
      "metadata": {},
      "source": [
        "\n",
        "Let’s calculate the memory required to store an array of 10 strings, each containing 20 characters.\n",
        "\n",
        "1. **Text Storage:**  \n",
        "\n",
        "\n",
        "$$10 \\ \\text{strings} \\times \\frac{20\\,\\text{symbols}}{\\text{string}} \\times \\frac{1\\,\\text{byte}}{\\text{symbol}} = 200\\,\\text{bytes}\n",
        "$$\n",
        "\n",
        "This would be sufficient if the strings were stored contiguously in memory. However, manipulating them is challenging: inserting a character into the first string might require shifting all subsequent strings.  \n"
      ]
    },
    {
      "cell_type": "markdown",
      "id": "06c77fb0",
      "metadata": {},
      "source": [
        "![Names](../images/03_01_names.png)"
      ]
    },
    {
      "cell_type": "markdown",
      "id": "be64adc2",
      "metadata": {},
      "source": [
        "2. **Memory Structure & Overhead**\n",
        "\n",
        "In memory, arrays and composite structures use **pointers** (memory addresses) rather than storing objects directly. Let's analyze our example:\n",
        "\n",
        "- **String Storage:** 200 bytes\n",
        "- **Pointer Array:** 80 bytes\n",
        "- **Total Memory:** 200 + 80 = 280 bytes 💾\n",
        "\n",
        "Most programming languages add **metadata overhead** to objects:\n",
        "- A small integer in Python: ~30 bytes (vs 4 bytes in low-level languages)\n",
        "- String storage: ~40 bytes overhead\n",
        "- Arrays: Even more overhead\n",
        "\n",
        "Objects are typically stored **non-contiguously** in memory, with access managed through stored addresses. This structure provides flexibility but increases memory usage. 🔍\n"
      ]
    },
    {
      "cell_type": "markdown",
      "id": "98f650c6",
      "metadata": {},
      "source": [
        "Let's calculate how much memory a Python array of 10 numbers consumes and what it is spent on:"
      ]
    },
    {
      "cell_type": "code",
      "execution_count": 1,
      "id": "ca25c8de",
      "metadata": {},
      "outputs": [
        {
          "data": {
            "text/plain": [
              "28"
            ]
          },
          "metadata": {},
          "output_type": "display_data"
        },
        {
          "data": {
            "text/plain": [
              "56"
            ]
          },
          "metadata": {},
          "output_type": "display_data"
        },
        {
          "data": {
            "text/plain": [
              "64"
            ]
          },
          "metadata": {},
          "output_type": "display_data"
        },
        {
          "data": {
            "text/plain": [
              "136"
            ]
          },
          "metadata": {},
          "output_type": "display_data"
        }
      ],
      "source": [
        "import sys\n",
        "\n",
        "display(sys.getsizeof(42))      # => 28 bytes for a small integer\n",
        "display(sys.getsizeof([]))      # => 56 bytes for an empty array\n",
        "display(sys.getsizeof([42]))    # => 64 = (56 + 8) bytes for array with one element\n",
        "display(sys.getsizeof([1,2,3,4, # => 136 = (56 + 8*10) bytes for array \n",
        "                5,6,7,8,9,10])) # with ten elements\n",
        "                                # the data itself is stored separately\n",
        "                                # and adds 280 = (28 * 10) bytes  \n",
        "                               "
      ]
    },
    {
      "cell_type": "markdown",
      "id": "09c14e58",
      "metadata": {},
      "source": [
        "As a result, we spend 56 bytes to create an array, and then 8 bytes for each new object in the array - these are element addresses. But that's not all. Each number also needs 28 bytes. In total, an array of ten numbers in Python takes up `56 + (8 + 28) * 10 bytes = 416 bytes`. Compare this with 40 bytes in C++. **Python consumes ten times more memory!** 🤯"
      ]
    },
    {
      "cell_type": "markdown",
      "id": "e0b35a56",
      "metadata": {},
      "source": [
        "### 6. Memory Deallocation 🗑️"
      ]
    },
    {
      "cell_type": "markdown",
      "id": "0abcc884",
      "metadata": {},
      "source": [
        "It's crucial to understand that when you stop using an object, it doesn't automatically mean the memory is freed. In C++, you need to manage memory deallocation manually. Built-in containers like `std::vector` simplify this task: they automatically allocate necessary memory when creating the container and free it when the container variable goes out of scope. 💾\n",
        "\n",
        "Most other programming languages use a garbage collector to handle memory deallocation. The garbage collector periodically checks if objects can still be used. If it determines that no variables or other objects reference an object, that object is destroyed. 🗑️\n",
        "\n",
        "However, garbage collection is a resource-intensive operation, so some languages delay it until free space becomes scarce. For example, Java programs (unless specifically constrained at launch) often face high memory consumption due to storing many old and unused objects. ⚠️"
      ]
    },
    {
      "cell_type": "markdown",
      "id": "52a57995",
      "metadata": {},
      "source": [
        "## Fixed-Size Arrays 📏"
      ]
    },
    {
      "cell_type": "markdown",
      "id": "24eba6e1",
      "metadata": {},
      "source": [
        "### 1. A Deep Dive 🔍\n"
      ]
    },
    {
      "cell_type": "markdown",
      "id": "fd5f041f",
      "metadata": {},
      "source": [
        "In previous lessons, we discussed how simple and composite data types can be stored in computer **RAM**. Now we'll explore various **data structures**. A **data structure** is a way of organizing information in memory that enables specific operations, such as quick data searching or modification.\n",
        "\n",
        "An **array** is one of the fundamental data structures. In this lesson, we'll examine the capabilities of different array types and their implementations. 📚\n",
        "\n",
        "The simplest type of array has a **fixed size** and can store elements of the same type. For example, if we create an array of ten integers, we cannot add another element or store an object of an incompatible type. \n",
        "\n",
        "You'll find such arrays in:  \n",
        "- **C:**\n",
        "    ```c\n",
        "     int numbers[10]\n",
        "- **C++:** \n",
        "    ```cpp\n",
        "     std::array<int, 10> numbers\n",
        "\n",
        "**Fixed-size arrays** support only two operations:\n",
        "- Retrieve an element's value by index\n",
        "- Overwrite a value at an index 🔄\n",
        "\n",
        "While they may not be highly functional, they are extremely efficient. Each operation executes in **O(1) time complexity**. ⚡\n",
        "\n",
        "To understand how arrays achieve such fast element access, let's examine their mechanics and see how they store data in memory. 🧐"
      ]
    },
    {
      "cell_type": "markdown",
      "id": "07cbeda8",
      "metadata": {},
      "source": [
        "In previous lessons, we discussed how simple and composite data types can be stored in computer **RAM**. Now we'll explore various **data structures**. A **data structure** is a way of organizing information in memory that enables specific operations, such as quick data searching or modification.\n",
        "\n",
        "An **array** is one of the fundamental data structures. In this lesson, we'll examine the capabilities of different array types and their implementations. 📚\n",
        "\n",
        "The simplest type of array has a **fixed size** and can store elements of the same type. For example, if we create an array of ten integers, we cannot add another element or store an object of an incompatible type. \n",
        "\n",
        "You'll find such arrays in:  \n",
        "- **C:**\n",
        "    ```c\n",
        "     int numbers[10]\n",
        "- **C++:** \n",
        "    ```cpp\n",
        "     std::array<int, 10> numbers\n",
        "\n",
        "**Fixed-size arrays** support only two operations:\n",
        "- Retrieve an element's value by index\n",
        "- Overwrite a value at an index 🔄\n",
        "\n",
        "While they may not be highly functional, they are extremely efficient. Each operation executes in **O(1) time complexity**. ⚡\n",
        "\n",
        "To understand how arrays achieve such fast element access, let's examine their mechanics and see how they store data in memory. 🧐\n",
        "\n"
      ]
    },
    {
      "cell_type": "markdown",
      "id": "bfca72dc",
      "metadata": {},
      "source": [
        "### 2. How Arrays Work 🔍\n"
      ]
    },
    {
      "cell_type": "markdown",
      "id": "cb8733ca",
      "metadata": {},
      "source": [
        "\n",
        "An array is a collection of data elements of the same type, stored sequentially in memory. It always occupies a continuous block of memory. The operating system communicates the exact location of this memory block to the program when the array is created. 🎯\n",
        "\n",
        "The zero element is located at the beginning of the allocated memory block, immediately followed by the first element, and so on in order. They are placed next to each other without gaps. By knowing an element's position in memory—its address—we can read or write that element. Let's explore how to determine element addresses. 📍\n",
        "\n",
        "Consider an array `numbers` containing 10 unsigned integers. We know that the address of the zero element is 1000. To find the position of the next element, we add the size of one element (in bytes) to the starting address. Since each number occupies 4 bytes, the first (zero) element will occupy bytes 1000, 1001, 1002, and 1003. Therefore, the element with index 1 will be stored at address 1004. 🔢"
      ]
    },
    {
      "cell_type": "markdown",
      "id": "27fdcb2f",
      "metadata": {},
      "source": [
        "<!-- Image from folder images/03_02_table.png -->\n",
        "![Memory Table](../images/03_02_memory_table.png)"
      ]
    },
    {
      "cell_type": "markdown",
      "id": "60259683",
      "metadata": {},
      "source": [
        "> **Question**: What address will the tenth element of the array `numbers[9]` be located at?\n",
        "> \n",
        "> - $1009$\n",
        "> - $1010$\n",
        "> - $1036$\n",
        "> - $1040$"
      ]
    },
    {
      "cell_type": "markdown",
      "id": "fb59868c",
      "metadata": {},
      "source": [
        "The **correct answer** is $1036$. The first element is at address $1000$, and each element occupies 4 bytes. Therefore, the tenth element will be at $1000 + 9 \\times 4 = 1009$."
      ]
    },
    {
      "cell_type": "markdown",
      "id": "a6b6e618",
      "metadata": {},
      "source": [
        "> **[Rita]:** Why can't we store elements of different types in an array?\n",
        ">\n",
        "> **[Timothy]:** Because then the cells would be different sizes, and you wouldn't be able to calculate the address of an element using simple arithmetic based on its index. You'd need to know how many cells of each size are at indices 0 through 8. And that's impossible if the cell sizes are different.\n",
        "> \n",
        "> **[Rita]:** But in Python and JavaScript, you can store elements of different types in an array. How do they manage that?\n",
        ">\n",
        "> **[Timothy]:** The thing is, such arrays don't store the objects themselves, but only pointers to them. A pointer, or address, always takes up 8 bytes, regardless of the size of the object it points to. Remember how we stored strings in an array."
      ]
    },
    {
      "cell_type": "markdown",
      "id": "798f0f1a",
      "metadata": {},
      "source": [
        "![Memory Table](../images/03_03_words.png)"
      ]
    },
    {
      "cell_type": "markdown",
      "id": "9d140f47",
      "metadata": {},
      "source": [
        "*The array of names `[\"HOLLY\", \"HENRY\", \"GREG\"]` stores not the strings themselves, but pointers to them. The strings are located in other memory segments. Note that the string **\"GREGORY\"**, although stored in memory, is not contained in the names array. However, this name can be referenced by another array or even multiple arrays.*"
      ]
    },
    {
      "cell_type": "markdown",
      "id": "8f814e2e",
      "metadata": {},
      "source": [
        "### 3. How to Save Arrays to Files 💾\n"
      ]
    },
    {
      "cell_type": "markdown",
      "id": "848e8295",
      "metadata": {},
      "source": [
        "\n",
        "When a program needs to save data to a file, an important question arises: how to write information so it can be unambiguously read later. If we're writing and reading data of known size, no serious problems arise. 🔄\n",
        "\n",
        "However, sometimes the data volume varies from task to task. For example, when a program needs to write and read an array. For storing arrays in files, the following format is commonly used: first, we write the array length N, followed by N data blocks containing the array values. 📊\n",
        "\n",
        "This encoding allows compact storage of multiple arrays (of fixed length) one after another. For example, the sequence `[3, 'a', 'b', 'c', 2, 'y', 'z', ...]` encodes two arrays. First comes an array of length 3 containing the first three letters of the alphabet. Then comes an array of length 2 containing the last two letters. Additional data may follow. 🔡\n",
        "\n",
        "This idea is also frequently used in binary data formats. For instance, data in PNG files is divided into several blocks, with each block's length specified at its beginning. This makes it possible to determine where one block ends and another begins. 🎨"
      ]
    },
    {
      "cell_type": "markdown",
      "id": "7162626a",
      "metadata": {},
      "source": [
        "## Complexity of Insertion and Deletion in Dynamic Arrays 📊\n"
      ]
    },
    {
      "cell_type": "markdown",
      "id": "022107fe",
      "metadata": {},
      "source": [
        "In the previous part, we discussed what an **array** is and how it is structured. Now it's time to introduce you to **dynamic arrays**. 🚀\n",
        "\n",
        "They are sometimes also called **vectors**, because in C++ they are implemented with the `std::vector` class. In Python, dynamic arrays are implemented with the **list** class — but don't let the name mislead you; it's not just a list, but indeed an array. 🔍\n"
      ]
    },
    {
      "cell_type": "markdown",
      "id": "27e43e6b",
      "metadata": {},
      "source": [
        "### 1. Complexity of Insertion in a Dynamic Array 📊\n"
      ]
    },
    {
      "cell_type": "markdown",
      "id": "3431b63f",
      "metadata": {},
      "source": [
        "Sometimes it's impossible to say exactly what array length might be needed. That's why it's so important to be able to add elements to an array right during program execution. Let's look at a couple of examples. 💡\n",
        "\n",
        "George has compiled a list of movies he has already watched and suddenly remembered that he wanted to add one more:  \n",
        "```python\n",
        "films_wish_list = [\"John Wick 3\", \"Avatar 2\", \"Fast and Furious 9\", \"Indiana Jones 5\", \"Batman\"]`  \n",
        "films_wish_list.append('Black Widow')\n",
        "```  \n",
        "To do this, it is enough to find out the number of the last used cell of the array and write the element to the cell following it. It will take George $O(1)$ time. ⏱️\n",
        "\n",
        "But Rita has a more complicated situation. She wrote down things to do for the day, so as not to forget anything, in the order in which she is going to do them. Here are the plans for today:  \n",
        "```python\n",
        "list_of_tasks = [\"Water the flowers\", \"Make breakfast\", \"Go to work\", \"Go to the store\", \"Call grandma\"]\n",
        "```  \n",
        "\n",
        "But then Alla called her and asked for urgent help in dealing with a bug in the code. Rita, of course, decided not to leave her friend in trouble. 🥺\n",
        "\n",
        "Now Rita has a new thing to do - to help Alla. And it should be at the beginning of the list of tasks. ✅\n"
      ]
    },
    {
      "cell_type": "markdown",
      "id": "fe6aa06d",
      "metadata": {},
      "source": [
        "> **Question**: What is the complexity of inserting a new element at the beginning of an array?\n",
        "> \n",
        "> - $O(1)$\n",
        "> - $O(N)$\n",
        "> - $O(N^2)$\n",
        "> - $O(\\log N)$"
      ]
    },
    {
      "cell_type": "markdown",
      "id": "b9d8e132",
      "metadata": {},
      "source": [
        "The **correct answer** is $O(N)$. To insert an element at the beginning of an array, you need to shift all the elements to the right by one position. This operation takes $O(N)$ time."
      ]
    },
    {
      "cell_type": "markdown",
      "id": "89de06fb",
      "metadata": {},
      "source": [
        "Why does adding an element to the beginning of an array require more operations? 🤔\n",
        "\n",
        "Imagine Rita writing tasks on a piece of paper. It's easy to add a new item to the end, but there's no space at the beginning. So, to create a list with a new first item, she would have to rewrite everything. Similarly, the computer needs to shift each of the existing elements one cell to the right. Therefore, the complexity of inserting an element at the beginning of an array is $O(n)$, where $n$ is the number of elements in the array. 📝\n",
        "\n",
        "What if you need to insert an element into an arbitrary position in the array? Of course, inserting at the beginning and at the end are special cases of this task. Inserting an element at the beginning is the worst-case scenario. The complexity of this operation is $O(n)$. Adding an element to the end is the best-case scenario, and its complexity is $O(1)$. 🚀\n"
      ]
    },
    {
      "cell_type": "markdown",
      "id": "8fa15b28",
      "metadata": {},
      "source": [
        "> **Question**: What will be the complexity of the insertion operation on average if we add an element to a random place (with an equal chance of choosing any place)?\n",
        "> \n",
        "> - $O(1)$\n",
        "> - $O(N)$\n",
        "> - Impossible to define complexity"
      ]
    },
    {
      "cell_type": "markdown",
      "id": "94ebbd21",
      "metadata": {},
      "source": [
        "The **correct answer** is $O(N)$. The average complexity of inserting an element into an array is $O(N)$. This is because, on average, you will need to shift half of the elements. "
      ]
    },
    {
      "cell_type": "markdown",
      "id": "b53d9f75",
      "metadata": {},
      "source": [
        "<div style=\"width: 90%; border: 2px solid #4CAF50; border-radius: 10px; padding: 20px; background-color: #f0f8ff; font-family: 'Courier New', Courier, monospace;\">\n",
        "  <p style=\"font-size: 16px; line-height: 1.6;\">\n",
        "    When assessing the efficiency of an algorithm, you should not rely on the best-case complexity. Average and worst-case complexities will more accurately show how long your program will run in a typical situation or in the worst-case scenario.\n",
        "  </p>\n",
        "</div>\n",
        "\n",
        "\n",
        "\n",
        "\n"
      ]
    },
    {
      "cell_type": "markdown",
      "id": "11efac8e",
      "metadata": {},
      "source": [
        "### 2. Complexity of Removing an Element from a Dynamic Array 📊"
      ]
    },
    {
      "cell_type": "markdown",
      "id": "0447c8e4",
      "metadata": {},
      "source": [
        "When deleting an element from an array, similar to inserting, you need to shift all elements to the right of the cell where the operation occurs. When adding to an array, elements shift one position to the right. When deleting, they shift one position to the left. 🔄"
      ]
    },
    {
      "cell_type": "markdown",
      "id": "3111ae1a",
      "metadata": {},
      "source": [
        "> **Question**: Какая сложность удаления элемента из массива?\n",
        "> **Question**: What is the complexity of removing an element from an array?\n",
        "> \n",
        "> - $O(1)$\n",
        "> - $O(N)$\n",
        "> - $O(N^2)$\n",
        "> - $O(\\log N)$"
      ]
    },
    {
      "cell_type": "markdown",
      "id": "0e60ae85",
      "metadata": {},
      "source": [
        "The **correct answer** is $O(N)$. The complexity of removing an element from an array is $O(N)$. This is because, on average, you will need to shift half of the elements."
      ]
    },
    {
      "cell_type": "markdown",
      "id": "reflection-questions",
      "metadata": {},
      "source": [
        "## Reflection Questions\n"
      ]
    },
    {
      "cell_type": "markdown",
      "id": "88857a45",
      "metadata": {},
      "source": [
        "To be continue..."
      ]
    },
    {
      "cell_type": "markdown",
      "id": "additional-resources",
      "metadata": {},
      "source": [
        "## Additional Resources"
      ]
    },
    {
      "cell_type": "markdown",
      "id": "0410e0cf",
      "metadata": {},
      "source": [
        "- [Introduction to Algorithms (CLRS)](https://mitpress.mit.edu/books/introduction-to-algorithms) 📘\n",
        "- [MIT OpenCourseWare - Introduction to Algorithms](https://ocw.mit.edu/courses/electrical-engineering-and-computer-science/6-006-introduction-to-algorithms-fall-2011/) 🎓\n",
        "- [GeeksforGeeks - Analysis of Algorithms](https://www.geeksforgeeks.org/analysis-of-algorithms-set-1-asymptotic-analysis/) 💻\n",
        "- [Python `timeit` Documentation](https://docs.python.org/3/library/timeit.html) 📄\n",
        "- [Understanding Spatial Complexity](https://www.geeksforgeeks.org/spatial-complexity-of-algorithms/) 🌟\n",
        "- [cProfile and Profiling Techniques](https://docs.python.org/3/library/profile.html) 🔍"
      ]
    }
  ],
  "metadata": {
    "kernelspec": {
      "display_name": "Python 3",
      "name": "python3"
    },
    "language_info": {
      "codemirror_mode": {
        "name": "ipython",
        "version": 3
      },
      "file_extension": ".py",
      "mimetype": "text/x-python",
      "name": "python",
      "nbconvert_exporter": "python",
      "pygments_lexer": "ipython3",
      "version": "3.13.0"
    }
  },
  "nbformat": 4,
  "nbformat_minor": 5
}
